{
 "cells": [
  {
   "cell_type": "code",
   "execution_count": 29,
   "id": "538c2cc3-9078-4086-a1fd-0bd09060b916",
   "metadata": {},
   "outputs": [],
   "source": [
    "import numpy as np \n",
    "import pandas as pd\n",
    "import matplotlib.pyplot as plt\n",
    "import seaborn as sns\n",
    "\n",
    "\n",
    "pd.set_option('display.max_rows', None)\n",
    "pd.set_option('display.max_columns', 500)"
   ]
  },
  {
   "cell_type": "markdown",
   "id": "1d58ed7f-3e1f-48d1-a542-32b3aa24d967",
   "metadata": {},
   "source": [
    "# import data"
   ]
  },
  {
   "cell_type": "code",
   "execution_count": 30,
   "id": "b62e5f4a-e6bc-4e34-b7e7-226dd7746afe",
   "metadata": {
    "tags": []
   },
   "outputs": [],
   "source": [
    "data = 'Downloads/car_evaluation.csv'\n",
    "\n",
    "df = pd.read_csv(data, header=None)\n",
    "\n"
   ]
  },
  {
   "cell_type": "markdown",
   "id": "0cef7d76-e180-4364-8eae-ac002173ed5d",
   "metadata": {},
   "source": [
    "# Exploratory data analysis"
   ]
  },
  {
   "cell_type": "code",
   "execution_count": 31,
   "id": "d1ee5543-048c-42bc-b9c1-3124f4ccb110",
   "metadata": {},
   "outputs": [
    {
     "data": {
      "text/plain": [
       "(1728, 7)"
      ]
     },
     "execution_count": 31,
     "metadata": {},
     "output_type": "execute_result"
    }
   ],
   "source": [
    "df.shape\n"
   ]
  },
  {
   "cell_type": "markdown",
   "id": "84deb270-8668-40f7-9609-48dafab4d0c2",
   "metadata": {},
   "source": [
    "# formatting"
   ]
  },
  {
   "cell_type": "code",
   "execution_count": 32,
   "id": "2e5b6f41-c34e-429a-88de-a8e866e8087c",
   "metadata": {},
   "outputs": [
    {
     "name": "stdout",
     "output_type": "stream",
     "text": [
      "<class 'pandas.core.frame.DataFrame'>\n",
      "RangeIndex: 1728 entries, 0 to 1727\n",
      "Data columns (total 7 columns):\n",
      " #   Column    Non-Null Count  Dtype \n",
      "---  ------    --------------  ----- \n",
      " 0   buying    1728 non-null   object\n",
      " 1   maint     1728 non-null   object\n",
      " 2   doors     1728 non-null   object\n",
      " 3   persons   1728 non-null   object\n",
      " 4   lug_boot  1728 non-null   object\n",
      " 5   safety    1728 non-null   object\n",
      " 6   class     1728 non-null   object\n",
      "dtypes: object(7)\n",
      "memory usage: 94.6+ KB\n"
     ]
    }
   ],
   "source": [
    "df.columns = ['buying', 'maint', 'doors', 'persons', 'lug_boot', 'safety', 'class']\n",
    "df.info()"
   ]
  },
  {
   "cell_type": "markdown",
   "id": "acb6f236-c8c0-4849-bd3e-dfe0ad781f5d",
   "metadata": {},
   "source": [
    "# calc"
   ]
  },
  {
   "cell_type": "code",
   "execution_count": 33,
   "id": "37849be4-8f20-4cde-93b5-0c34c32e43ba",
   "metadata": {},
   "outputs": [
    {
     "name": "stdout",
     "output_type": "stream",
     "text": [
      "med      432\n",
      "low      432\n",
      "vhigh    432\n",
      "high     432\n",
      "Name: buying, dtype: int64\n",
      "med      432\n",
      "low      432\n",
      "vhigh    432\n",
      "high     432\n",
      "Name: maint, dtype: int64\n",
      "5more    432\n",
      "2        432\n",
      "3        432\n",
      "4        432\n",
      "Name: doors, dtype: int64\n",
      "2       576\n",
      "4       576\n",
      "more    576\n",
      "Name: persons, dtype: int64\n",
      "med      576\n",
      "small    576\n",
      "big      576\n",
      "Name: lug_boot, dtype: int64\n",
      "med     576\n",
      "low     576\n",
      "high    576\n",
      "Name: safety, dtype: int64\n",
      "unacc    1210\n",
      "acc       384\n",
      "good       69\n",
      "vgood      65\n",
      "Name: class, dtype: int64\n"
     ]
    }
   ],
   "source": [
    "for i in df.columns:\n",
    "    print(df[i].value_counts())"
   ]
  },
  {
   "cell_type": "markdown",
   "id": "986a0a1c-183b-4845-a64e-0c3460e8cdee",
   "metadata": {},
   "source": [
    "# explore obj. variable"
   ]
  },
  {
   "cell_type": "code",
   "execution_count": 34,
   "id": "dbcaa19b-0f72-40de-9b3e-b0a73414e5c5",
   "metadata": {},
   "outputs": [
    {
     "data": {
      "text/plain": [
       "buying      0\n",
       "maint       0\n",
       "doors       0\n",
       "persons     0\n",
       "lug_boot    0\n",
       "safety      0\n",
       "class       0\n",
       "dtype: int64"
      ]
     },
     "execution_count": 34,
     "metadata": {},
     "output_type": "execute_result"
    }
   ],
   "source": [
    "# Single column count\n",
    "df['class'].value_counts()\n",
    "\n",
    "# Null values count\n",
    "df.isnull().sum()"
   ]
  },
  {
   "cell_type": "markdown",
   "id": "ddf39317-67fd-4894-b790-30c59720cd9e",
   "metadata": {},
   "source": [
    "# X Y variable declare"
   ]
  },
  {
   "cell_type": "code",
   "execution_count": 35,
   "id": "32c66124-4e07-46e8-9d19-d6015365f230",
   "metadata": {},
   "outputs": [],
   "source": [
    "x = df.drop((['class']), axis=1)\n",
    "y = df['class']"
   ]
  },
  {
   "cell_type": "markdown",
   "id": "7de484e7-e105-447b-8f41-2c8e33cf76ce",
   "metadata": {},
   "source": [
    "# split data into training & test"
   ]
  },
  {
   "cell_type": "code",
   "execution_count": 36,
   "id": "46cc48de-9b0a-4eea-b474-43c163c73a8b",
   "metadata": {},
   "outputs": [],
   "source": [
    "from sklearn.model_selection import train_test_split\n",
    "\n",
    "X_train, X_test, y_train, y_test = train_test_split(x, y, test_size = 0.33, random_state = 42) # if no random state, will lost info "
   ]
  },
  {
   "cell_type": "code",
   "execution_count": 37,
   "id": "a8a47b28-ed05-447a-a73b-0e8291a94f84",
   "metadata": {},
   "outputs": [
    {
     "data": {
      "text/plain": [
       "((1157, 6), (571, 6))"
      ]
     },
     "execution_count": 37,
     "metadata": {},
     "output_type": "execute_result"
    }
   ],
   "source": [
    "X_train.shape, X_test.shape"
   ]
  },
  {
   "cell_type": "markdown",
   "id": "1bf9ea04-367b-4f71-9848-b762f611c35f",
   "metadata": {},
   "source": [
    "# feature engineering"
   ]
  },
  {
   "cell_type": "code",
   "execution_count": 38,
   "id": "668457ef-9808-4664-8693-18aa3a4df017",
   "metadata": {},
   "outputs": [
    {
     "data": {
      "text/plain": [
       "buying      object\n",
       "maint       object\n",
       "doors       object\n",
       "persons     object\n",
       "lug_boot    object\n",
       "safety      object\n",
       "dtype: object"
      ]
     },
     "execution_count": 38,
     "metadata": {},
     "output_type": "execute_result"
    }
   ],
   "source": [
    "# check data types\n",
    "X_train.dtypes"
   ]
  },
  {
   "cell_type": "code",
   "execution_count": 39,
   "id": "c656eef6-7129-4bed-bc92-a91dd7f465d7",
   "metadata": {},
   "outputs": [],
   "source": [
    "from sklearn.preprocessing import OrdinalEncoder #non-numeric but have order (assign 1, 2, 3, 4 labels to each)\n",
    "\n",
    "ords = OrdinalEncoder()#categories=[df.columns[:-1]])\n",
    "\n",
    "X_train = ords.fit_transform(X_train)\n",
    "X_test = ords.transform(X_test)\n",
    "\n"
   ]
  },
  {
   "cell_type": "code",
   "execution_count": 18,
   "id": "26973a03-5665-43b8-b3b7-8588657593ad",
   "metadata": {},
   "outputs": [
    {
     "name": "stdout",
     "output_type": "stream",
     "text": [
      "Requirement already satisfied: category_encoders in c:\\users\\chengkf\\anaconda3\\lib\\site-packages (2.5.0)\n",
      "Requirement already satisfied: scipy>=1.0.0 in c:\\users\\chengkf\\anaconda3\\lib\\site-packages (from category_encoders) (1.6.2)\n",
      "Requirement already satisfied: pandas>=1.0.5 in c:\\users\\chengkf\\anaconda3\\lib\\site-packages (from category_encoders) (1.2.4)\n",
      "Requirement already satisfied: scikit-learn>=0.20.0 in c:\\users\\chengkf\\anaconda3\\lib\\site-packages (from category_encoders) (0.24.1)\n",
      "Requirement already satisfied: patsy>=0.5.1 in c:\\users\\chengkf\\anaconda3\\lib\\site-packages (from category_encoders) (0.5.1)\n",
      "Requirement already satisfied: statsmodels>=0.9.0 in c:\\users\\chengkf\\anaconda3\\lib\\site-packages (from category_encoders) (0.12.2)\n",
      "Requirement already satisfied: numpy>=1.14.0 in c:\\users\\chengkf\\anaconda3\\lib\\site-packages (from category_encoders) (1.20.1)\n",
      "Requirement already satisfied: pytz>=2017.3 in c:\\users\\chengkf\\anaconda3\\lib\\site-packages (from pandas>=1.0.5->category_encoders) (2021.1)\n",
      "Requirement already satisfied: python-dateutil>=2.7.3 in c:\\users\\chengkf\\anaconda3\\lib\\site-packages (from pandas>=1.0.5->category_encoders) (2.8.1)\n",
      "Requirement already satisfied: six in c:\\users\\chengkf\\anaconda3\\lib\\site-packages (from patsy>=0.5.1->category_encoders) (1.15.0)\n",
      "Requirement already satisfied: joblib>=0.11 in c:\\users\\chengkf\\anaconda3\\lib\\site-packages (from scikit-learn>=0.20.0->category_encoders) (1.0.1)\n",
      "Requirement already satisfied: threadpoolctl>=2.0.0 in c:\\users\\chengkf\\anaconda3\\lib\\site-packages (from scikit-learn>=0.20.0->category_encoders) (2.1.0)\n",
      "Warning: No categorical columns found. Calling 'transform' will only return input data.\n"
     ]
    }
   ],
   "source": [
    "! pip install --upgrade category_encoders \n",
    "#屌, 佢9 fill ge, 咁洗咩用ordinal \n",
    "import category_encoders as ce\n",
    "#from sklearn.preprocessing import CategoricalEncoder #as ce\n",
    "\n",
    "encoder = ce.OrdinalEncoder(df.columns[:-1])\n",
    "\n",
    "X_train = encoder.fit_transform(X_train)\n",
    "\n",
    "X_test = encoder.transform(X_test)\n"
   ]
  },
  {
   "cell_type": "code",
   "execution_count": 40,
   "id": "d7c98252-8026-40bf-b5f8-ee2eb256be76",
   "metadata": {},
   "outputs": [
    {
     "ename": "AttributeError",
     "evalue": "'numpy.ndarray' object has no attribute 'head'",
     "output_type": "error",
     "traceback": [
      "\u001b[1;31m---------------------------------------------------------------------------\u001b[0m",
      "\u001b[1;31mAttributeError\u001b[0m                            Traceback (most recent call last)",
      "\u001b[1;32m<ipython-input-40-b54b5d788345>\u001b[0m in \u001b[0;36m<module>\u001b[1;34m\u001b[0m\n\u001b[1;32m----> 1\u001b[1;33m \u001b[0mX_test\u001b[0m\u001b[1;33m.\u001b[0m\u001b[0mhead\u001b[0m\u001b[1;33m(\u001b[0m\u001b[1;33m)\u001b[0m\u001b[1;33m\u001b[0m\u001b[1;33m\u001b[0m\u001b[0m\n\u001b[0m\u001b[0;32m      2\u001b[0m \u001b[1;33m\u001b[0m\u001b[0m\n\u001b[0;32m      3\u001b[0m \u001b[1;31m#https://blog.csdn.net/JT_WPC/article/details/103827084\u001b[0m\u001b[1;33m\u001b[0m\u001b[1;33m\u001b[0m\u001b[1;33m\u001b[0m\u001b[0m\n",
      "\u001b[1;31mAttributeError\u001b[0m: 'numpy.ndarray' object has no attribute 'head'"
     ]
    }
   ],
   "source": [
    "X_test.head()\n",
    "\n",
    "#https://blog.csdn.net/JT_WPC/article/details/103827084"
   ]
  },
  {
   "cell_type": "markdown",
   "id": "0aa60d27-3a39-47a6-a042-87d3ef1dc0a0",
   "metadata": {},
   "source": [
    "# Decision tree (gini)"
   ]
  },
  {
   "cell_type": "code",
   "execution_count": null,
   "id": "7b547c02-977a-495c-a29a-fa6269eb37b2",
   "metadata": {},
   "outputs": [],
   "source": [
    "from sklearn.tree import DecisionTreeClassifier\n",
    "\n",
    "\n",
    "\n",
    "output = DecisionTreeClassifier(criterion='gini', max_depth=3, random_state=0)\n",
    "\n",
    "output.fit(X_train, y_train)\n",
    "\n",
    "#DecisionTreeClassifier(class_weight=None, criterion='gini', max_depth=3,\n",
    "                       #max_features=None, max_leaf_nodes=None,\n",
    "                       #min_impurity_decrease=0.0, min_impurity_split=None,\n",
    "                       #min_samples_leaf=1, min_samples_split=2,\n",
    "                       #min_weight_fraction_leaf=0.0, presort=False,\n",
    "                       #random_state=0, splitter='best')"
   ]
  },
  {
   "cell_type": "code",
   "execution_count": null,
   "id": "82085092-32c4-42b6-941e-4e8c7182195e",
   "metadata": {},
   "outputs": [],
   "source": [
    "predict = output.predict(X_test)\n",
    "\n",
    "from sklearn.metrics import accuracy_score\n",
    "\n",
    "print('Model accuracy: {0:0.4f}'.format(accuracy_score(y_test, predict)))"
   ]
  },
  {
   "cell_type": "markdown",
   "id": "06df1e92-4ec3-4659-b594-12f97f87b49f",
   "metadata": {},
   "source": [
    "# check for overfitting"
   ]
  },
  {
   "cell_type": "code",
   "execution_count": null,
   "id": "7b380ba2-c083-4cb9-8d77-bea41c0bdd9a",
   "metadata": {},
   "outputs": [],
   "source": [
    "predict = output.predict(X_train)\n",
    "print('Model accuracy: {0:0.4f}'.format(accuracy_score(y_train, predict)))\n",
    "\n",
    "\n",
    "#similar : no overfit / underfit"
   ]
  },
  {
   "cell_type": "markdown",
   "id": "9c6cd768-44c3-497d-8c20-a71ed0a9494f",
   "metadata": {},
   "source": [
    "# data visualization "
   ]
  },
  {
   "cell_type": "code",
   "execution_count": null,
   "id": "4f684a05-c2a2-4270-a4ae-432e245fd13f",
   "metadata": {},
   "outputs": [],
   "source": [
    "plt.figure(figsize = (12, 8))\n",
    "\n",
    "from sklearn import tree\n",
    "\n",
    "tree.plot_tree(output.fit(X_train, y_train))"
   ]
  },
  {
   "cell_type": "code",
   "execution_count": null,
   "id": "8baa3a74-2474-4b60-9367-84507b939770",
   "metadata": {},
   "outputs": [],
   "source": [
    "# anaconda prompt: conda install -c conda-forge python-graphviz\n",
    "\n",
    "\n",
    "import graphviz \n",
    "\n",
    "dot_data = tree.export_graphviz(output, out_file=None, feature_names=X_train.columns, class_names = y_train, filled=True, rounded=True, special_characters=True)\n",
    "\n",
    "\n",
    "graph = graphviz.Source(dot_data)\n",
    "\n",
    "graph\n",
    "\n",
    "#mglearn"
   ]
  },
  {
   "cell_type": "markdown",
   "id": "a6d63982-6b5b-4766-98f6-59d7f9ec9414",
   "metadata": {},
   "source": [
    "# decision tree (entropy)"
   ]
  },
  {
   "cell_type": "code",
   "execution_count": null,
   "id": "a3e1091a-be41-483f-b810-a670453f0a0f",
   "metadata": {},
   "outputs": [],
   "source": [
    "output = DecisionTreeClassifier(criterion='entropy', max_depth=3, random_state=0)\n",
    "\n",
    "output.fit(X_train, y_train)\n",
    "\n",
    "predict = output.predict(X_test)\n",
    "print('Model accuracy score with criterion entropy: {0:0.4f}'.format(accuracy_score(y_test, predict)))"
   ]
  },
  {
   "cell_type": "code",
   "execution_count": null,
   "id": "a1be5102-0d46-4b3d-918c-2ec0b392a84f",
   "metadata": {},
   "outputs": [],
   "source": [
    "predict = output.predict(X_train)\n",
    "print('Model accuracy score with criterion entropy: {0:0.4f}'.format(accuracy_score(y_train, predict)))"
   ]
  },
  {
   "cell_type": "code",
   "execution_count": null,
   "id": "f290ab68-c3a8-4cab-86c7-a5a404baf3e2",
   "metadata": {},
   "outputs": [],
   "source": [
    "dot_data = tree.export_graphviz(output, out_file=None, \n",
    "                              feature_names=X_train.columns,  \n",
    "                              class_names=y_train,  \n",
    "                              filled=True, rounded=True,  \n",
    "                              special_characters=True)\n",
    "\n",
    "graph = graphviz.Source(dot_data) \n",
    "\n",
    "graph "
   ]
  },
  {
   "cell_type": "markdown",
   "id": "e516584b-f7c2-4b35-9200-ddafe766e3c7",
   "metadata": {},
   "source": [
    "# confusion matrix"
   ]
  },
  {
   "cell_type": "code",
   "execution_count": null,
   "id": "d50292bf-3d6a-4223-b943-def69c023ec0",
   "metadata": {},
   "outputs": [],
   "source": [
    "from sklearn.metrics import confusion_matrix\n",
    "\n",
    "cm = confusion_matrix(y_test, predict)\n",
    "\n",
    "print('confusion matrix\\n\\n', cm)"
   ]
  },
  {
   "cell_type": "markdown",
   "id": "b887a9ac-aee5-4ab6-8e6a-6b7173ca18c7",
   "metadata": {},
   "source": [
    "# classification report"
   ]
  },
  {
   "cell_type": "code",
   "execution_count": null,
   "id": "0a38d718-650e-4bb6-a997-278f49bfe255",
   "metadata": {},
   "outputs": [],
   "source": [
    "from sklearn.metrics import classification_report\n",
    "print(classification_report(y_test, predict))"
   ]
  }
 ],
 "metadata": {
  "kernelspec": {
   "display_name": "Python 3",
   "language": "python",
   "name": "python3"
  },
  "language_info": {
   "codemirror_mode": {
    "name": "ipython",
    "version": 3
   },
   "file_extension": ".py",
   "mimetype": "text/x-python",
   "name": "python",
   "nbconvert_exporter": "python",
   "pygments_lexer": "ipython3",
   "version": "3.8.8"
  }
 },
 "nbformat": 4,
 "nbformat_minor": 5
}
