{
 "cells": [
  {
   "cell_type": "markdown",
   "id": "697d2a6a-3c59-4d92-80cd-6b1c70a66865",
   "metadata": {},
   "source": [
    "# Trading bot code"
   ]
  },
  {
   "cell_type": "markdown",
   "id": "b9829510-e0d2-4e66-b72a-2d4d7e21b777",
   "metadata": {},
   "source": [
    "# Import packages.\n",
    "from tradingview_ta import TA_Handler, Interval, Exchange\n",
    "import time\n",
    "\n",
    "# Store the last order.\n",
    "last_order = \"sell\"\n",
    "\n",
    "# Instantiate TA_Handler.\n",
    "handler = TA_Handler(\n",
    "    symbol=\"SYMBOL\",\n",
    "    exchange=\"EXCHANGE\",\n",
    "    screener=\"SCREENER\",\n",
    "    interval=\"INTERVAL\",\n",
    ")\n",
    "\n",
    "# Repeat forever.\n",
    "while True:\n",
    "    # Retrieve recommendation.\n",
    "    rec = handler.get_analysis()[\"RECOMMENDATION\"]\n",
    "\n",
    "    # Create a buy order if the recommendation is \"BUY\" or \"STRONG_BUY\" and the last order is \"sell\".\n",
    "    # Create a sell order if the recommendation is \"SELL\" or \"STRONG_SELL\" and the last order is \"buy\".\n",
    "    if \"BUY\" in rec and last_order == \"sell\":\n",
    "        # REPLACE COMMENT: Create a buy order using your exchange's API.\n",
    "\n",
    "        last_order = \"buy\"\n",
    "    elif \"SELL\" in rec and last_order == \"buy\":\n",
    "        # REPLACE COMMENT: Create a sell order using your exchange's API.\n",
    "\n",
    "        last_order = \"sell\"\n",
    "\n",
    "    # Wait for x seconds before retrieving new analysis.\n",
    "    # The time should be the same as the interval.\n",
    "    time.sleep(x)"
   ]
  }
 ],
 "metadata": {
  "kernelspec": {
   "display_name": "Python 3",
   "language": "python",
   "name": "python3"
  },
  "language_info": {
   "codemirror_mode": {
    "name": "ipython",
    "version": 3
   },
   "file_extension": ".py",
   "mimetype": "text/x-python",
   "name": "python",
   "nbconvert_exporter": "python",
   "pygments_lexer": "ipython3",
   "version": "3.8.8"
  }
 },
 "nbformat": 4,
 "nbformat_minor": 5
}
