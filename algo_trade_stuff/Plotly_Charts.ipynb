{
 "cells": [
  {
   "cell_type": "code",
   "execution_count": 40,
   "id": "35386a7b-fdaa-4a3c-b903-6ff1e9394a2a",
   "metadata": {},
   "outputs": [
    {
     "name": "stdout",
     "output_type": "stream",
     "text": [
      "3.3.0\n"
     ]
    }
   ],
   "source": [
    "#!pip install tradingview-ta\n",
    "#!pip install tradingview_ta --upgrade\n",
    "import pandas as pd\n",
    "import tradingview_ta \n",
    "from tradingview_ta import *\n",
    "\n",
    "print(tradingview_ta.__version__)"
   ]
  },
  {
   "cell_type": "markdown",
   "id": "3dc156da-b2fb-49ea-9244-f56fa2fb1a13",
   "metadata": {},
   "source": [
    "- Guide: https://python-tradingview-ta.readthedocs.io/en/latest/overview.html\n",
    "- Asset search: https://tvdb.brianthe.dev/\n",
    "- Additional indictors: https://pastebin.com/1DjWv2Hd"
   ]
  },
  {
   "cell_type": "markdown",
   "id": "96d048fe-cd5c-4c01-859f-7079edfde06a",
   "metadata": {},
   "source": [
    "# Sample"
   ]
  },
  {
   "cell_type": "code",
   "execution_count": 15,
   "id": "6b60e156-30ce-4108-a9ea-fea71a1bfa16",
   "metadata": {
    "collapsed": true,
    "jupyter": {
     "outputs_hidden": true,
     "source_hidden": true
    },
    "tags": []
   },
   "outputs": [
    {
     "name": "stdout",
     "output_type": "stream",
     "text": [
      "{'RECOMMENDATION': 'STRONG_SELL', 'BUY': 0, 'SELL': 17, 'NEUTRAL': 9}\n"
     ]
    },
    {
     "data": {
      "text/plain": [
       "{'Recommend.Other': -0.27272727,\n",
       " 'Recommend.All': -0.6030303,\n",
       " 'Recommend.MA': -0.93333333,\n",
       " 'RSI': 26.99815823,\n",
       " 'RSI[1]': 31.12975778,\n",
       " 'Stoch.K': 5.51400947,\n",
       " 'Stoch.D': 7.37501248,\n",
       " 'Stoch.K[1]': 8.99308316,\n",
       " 'Stoch.D[1]': 7.63776491,\n",
       " 'CCI20': -163.40576161,\n",
       " 'CCI20[1]': -151.63888923,\n",
       " 'ADX': 25.15284797,\n",
       " 'ADX+DI': 12.38982435,\n",
       " 'ADX-DI': 39.31986998,\n",
       " 'ADX+DI[1]': 13.52839063,\n",
       " 'ADX-DI[1]': 35.32943105,\n",
       " 'AO': -40.52503932,\n",
       " 'AO[1]': -34.38412915,\n",
       " 'Mom': -52.26,\n",
       " 'Mom[1]': -50.46,\n",
       " 'MACD.macd': -14.03993542,\n",
       " 'MACD.signal': -7.21755957,\n",
       " 'Rec.Stoch.RSI': 0,\n",
       " 'Stoch.RSI.K': 2.87542391,\n",
       " 'Rec.WR': 0,\n",
       " 'W.R': -98.8559599,\n",
       " 'Rec.BBPower': 0,\n",
       " 'BBPower': -60.84321306,\n",
       " 'Rec.UO': -1,\n",
       " 'UO': 26.56755302,\n",
       " 'close': 223.07,\n",
       " 'EMA5': 239.77076105,\n",
       " 'SMA5': 238.77,\n",
       " 'EMA10': 253.14335196,\n",
       " 'SMA10': 257.407,\n",
       " 'EMA20': 267.08687527,\n",
       " 'SMA20': 278.1425,\n",
       " 'EMA30': 272.71600449,\n",
       " 'SMA30': 279.45,\n",
       " 'EMA50': 275.4657658,\n",
       " 'SMA50': 286.7286202,\n",
       " 'EMA100': 276.88279804,\n",
       " 'SMA100': 263.25779024,\n",
       " 'EMA200': 278.29131058,\n",
       " 'SMA200': 288.96057113,\n",
       " 'Rec.Ichimoku': 0,\n",
       " 'Ichimoku.BLine': 267.91,\n",
       " 'Rec.VWMA': -1,\n",
       " 'VWMA': 274.88255292,\n",
       " 'Rec.HullMA9': -1,\n",
       " 'HullMA9': 227.04881481,\n",
       " 'Pivot.M.Classic.S3': 177.84666667,\n",
       " 'Pivot.M.Classic.S2': 229.17666667,\n",
       " 'Pivot.M.Classic.S1': 247.21333333,\n",
       " 'Pivot.M.Classic.Middle': 280.50666667,\n",
       " 'Pivot.M.Classic.R1': 298.54333333,\n",
       " 'Pivot.M.Classic.R2': 331.83666667,\n",
       " 'Pivot.M.Classic.R3': 383.16666667,\n",
       " 'Pivot.M.Fibonacci.S3': 229.17666667,\n",
       " 'Pivot.M.Fibonacci.S2': 248.78472667,\n",
       " 'Pivot.M.Fibonacci.S1': 260.89860667,\n",
       " 'Pivot.M.Fibonacci.Middle': 280.50666667,\n",
       " 'Pivot.M.Fibonacci.R1': 300.11472667,\n",
       " 'Pivot.M.Fibonacci.R2': 312.22860667,\n",
       " 'Pivot.M.Fibonacci.R3': 331.83666667,\n",
       " 'Pivot.M.Camarilla.S3': 251.13425,\n",
       " 'Pivot.M.Camarilla.S2': 255.8395,\n",
       " 'Pivot.M.Camarilla.S1': 260.54475,\n",
       " 'Pivot.M.Camarilla.Middle': 280.50666667,\n",
       " 'Pivot.M.Camarilla.R1': 269.95525,\n",
       " 'Pivot.M.Camarilla.R2': 274.6605,\n",
       " 'Pivot.M.Camarilla.R3': 279.36575,\n",
       " 'Pivot.M.Woodie.S3': 177.505,\n",
       " 'Pivot.M.Woodie.S2': 219.9875,\n",
       " 'Pivot.M.Woodie.S1': 228.835,\n",
       " 'Pivot.M.Woodie.Middle': 271.3175,\n",
       " 'Pivot.M.Woodie.R1': 280.165,\n",
       " 'Pivot.M.Woodie.R2': 322.6475,\n",
       " 'Pivot.M.Woodie.R3': 331.495,\n",
       " 'Pivot.M.Demark.S1': 238.195,\n",
       " 'Pivot.M.Demark.Middle': 275.9975,\n",
       " 'Pivot.M.Demark.R1': 289.525,\n",
       " 'open': 233.935,\n",
       " 'P.SAR': 271.62478562,\n",
       " 'BB.lower': 225.58118918,\n",
       " 'BB.upper': 330.70381082,\n",
       " 'AO[2]': -29.32269863,\n",
       " 'volume': 83916198,\n",
       " 'change': -6.32427666,\n",
       " 'low': 222.02,\n",
       " 'high': 234.5715}"
      ]
     },
     "execution_count": 15,
     "metadata": {},
     "output_type": "execute_result"
    }
   ],
   "source": [
    "tesla = TA_Handler(\n",
    "    symbol=\"TSLA\",\n",
    "    screener=\"america\",\n",
    "    exchange=\"NASDAQ\",\n",
    "    interval=Interval.INTERVAL_1_DAY\n",
    ")\n",
    "print(tesla.get_analysis().summary)\n",
    "# Example output: {\"RECOMMENDATION\": \"BUY\", \"BUY\": 8, \"NEUTRAL\": 6, \"SELL\": 3}\n",
    "\n",
    "tesla.get_analysis().indicators"
   ]
  },
  {
   "cell_type": "markdown",
   "id": "41483891-1701-4b69-9824-200f011344de",
   "metadata": {},
   "source": [
    "## Search "
   ]
  },
  {
   "cell_type": "code",
   "execution_count": 37,
   "id": "0363f54e-afd8-40d8-9393-3e38e0bf780b",
   "metadata": {
    "collapsed": true,
    "jupyter": {
     "outputs_hidden": true,
     "source_hidden": true
    },
    "tags": []
   },
   "outputs": [
    {
     "name": "stdout",
     "output_type": "stream",
     "text": [
      "{'symbol': 'TSLA', 'exchange': 'NASDAQ', 'type': 'stock', 'description': 'Tesla, Inc.', 'logo': 'https://s3-symbol-logo.tradingview.com/tesla.svg'}\n"
     ]
    }
   ],
   "source": [
    "print(TradingView.search('TESLA', 'stock')[0])"
   ]
  },
  {
   "cell_type": "code",
   "execution_count": null,
   "id": "a80eca0b-b74c-4329-8d2f-c22509927c36",
   "metadata": {},
   "outputs": [],
   "source": [
    "handler = TA_Handler(\n",
    "    symbol=\"\",\n",
    "    exchange=\"\",\n",
    "    screener=\"\",\n",
    "    interval=\"\",\n",
    "    timeout=None\n",
    ")"
   ]
  },
  {
   "cell_type": "code",
   "execution_count": null,
   "id": "9515cc1b-d247-46e9-84e8-b4ac46b7151b",
   "metadata": {},
   "outputs": [],
   "source": [
    "analysis = handler.get_analysis()"
   ]
  },
  {
   "cell_type": "code",
   "execution_count": 50,
   "id": "51ed6885-8b8d-4f58-9a93-b556b3b0b3b2",
   "metadata": {},
   "outputs": [
    {
     "name": "stdout",
     "output_type": "stream",
     "text": [
      "{'NYSE:DOCN': <tradingview_ta.main.Analysis object at 0x0000017D9E099CA0>, 'NASDAQ:AAPL': <tradingview_ta.main.Analysis object at 0x0000017D9E099580>, 'NASDAQ:TSLA': <tradingview_ta.main.Analysis object at 0x0000017D9E099A60>}\n"
     ]
    },
    {
     "ename": "TypeError",
     "evalue": "'Analysis' object is not iterable",
     "output_type": "error",
     "traceback": [
      "\u001b[1;31m---------------------------------------------------------------------------\u001b[0m",
      "\u001b[1;31mTypeError\u001b[0m                                 Traceback (most recent call last)",
      "\u001b[1;32m<ipython-input-50-1621a7a7fcd5>\u001b[0m in \u001b[0;36m<module>\u001b[1;34m\u001b[0m\n\u001b[0;32m      5\u001b[0m \u001b[1;33m\u001b[0m\u001b[0m\n\u001b[0;32m      6\u001b[0m \u001b[1;32mfor\u001b[0m \u001b[0mi\u001b[0m \u001b[1;32min\u001b[0m \u001b[0manalysis\u001b[0m\u001b[1;33m.\u001b[0m\u001b[0mvalues\u001b[0m\u001b[1;33m(\u001b[0m\u001b[1;33m)\u001b[0m\u001b[1;33m:\u001b[0m\u001b[1;33m\u001b[0m\u001b[1;33m\u001b[0m\u001b[0m\n\u001b[1;32m----> 7\u001b[1;33m     \u001b[1;32mfor\u001b[0m \u001b[0mj\u001b[0m \u001b[1;32min\u001b[0m \u001b[0mi\u001b[0m\u001b[1;33m:\u001b[0m\u001b[1;33m\u001b[0m\u001b[1;33m\u001b[0m\u001b[0m\n\u001b[0m\u001b[0;32m      8\u001b[0m         \u001b[0mprint\u001b[0m\u001b[1;33m(\u001b[0m\u001b[0mj\u001b[0m\u001b[1;33m)\u001b[0m\u001b[1;33m\u001b[0m\u001b[1;33m\u001b[0m\u001b[0m\n\u001b[0;32m      9\u001b[0m     \u001b[1;31m#pd.DataFrame(i)\u001b[0m\u001b[1;33m\u001b[0m\u001b[1;33m\u001b[0m\u001b[1;33m\u001b[0m\u001b[0m\n",
      "\u001b[1;31mTypeError\u001b[0m: 'Analysis' object is not iterable"
     ]
    }
   ],
   "source": [
    "analysis = get_multiple_analysis(screener=\"america\", interval='1d', symbols=[\"nasdaq:tsla\", \"nyse:docn\", \"nasdaq:aapl\"], additional_indicators=['close'])\n",
    "\n",
    "#pd.DataFrame(analysis, index=[1, 2, 3])\n",
    "print(analysis)\n",
    "\n",
    "for i in analysis.values():\n",
    "    for j in i:\n",
    "        print(j)\n",
    "    #pd.DataFrame(i)\n",
    "    "
   ]
  }
 ],
 "metadata": {
  "kernelspec": {
   "display_name": "Python 3 (ipykernel)",
   "language": "python",
   "name": "python3"
  },
  "language_info": {
   "codemirror_mode": {
    "name": "ipython",
    "version": 3
   },
   "file_extension": ".py",
   "mimetype": "text/x-python",
   "name": "python",
   "nbconvert_exporter": "python",
   "pygments_lexer": "ipython3",
   "version": "3.9.13"
  }
 },
 "nbformat": 4,
 "nbformat_minor": 5
}
