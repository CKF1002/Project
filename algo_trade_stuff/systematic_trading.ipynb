{
 "cells": [
  {
   "cell_type": "markdown",
   "id": "6be15985-c59a-45ad-a9b6-c56637629db7",
   "metadata": {},
   "source": [
    "# systematic trading \n",
    "quant strategy \n",
    "- risk parity \n",
    "\n",
    "#### risk arbitrage\n",
    "- statistical arbitrage\n",
    "- mean reverting\n",
    "- paris trading (<mkt risk)\n",
    "#### directional trading\n",
    "#### the intrinsic reason of investing\n",
    "1. risk premium\n",
    "2. liquidity premium (mkt makers)(distressed investing)\n",
    "\n",
    "\n",
    "alternative data\n",
    "transformers, BERT\n",
    "backtesting (package)\n",
    "\n",
    "ETF Nav premium (hv momentum, high demand, buy)"
   ]
  },
  {
   "cell_type": "code",
   "execution_count": null,
   "id": "dbf36791-4fdf-4980-a2de-aae6969a1f22",
   "metadata": {},
   "outputs": [],
   "source": [
    "data cleansing\n",
    "DB merging\n",
    "BT \n",
    "evaluate\n",
    "optimize"
   ]
  },
  {
   "cell_type": "code",
   "execution_count": null,
   "id": "bcb9c774-20f8-4329-a3f6-28232a88c37d",
   "metadata": {},
   "outputs": [],
   "source": [
    "max drawdown \n",
    "sharpe ratio"
   ]
  },
  {
   "cell_type": "code",
   "execution_count": null,
   "id": "410c18ad-c99a-4f32-84a5-5a4b9c6cb05d",
   "metadata": {},
   "outputs": [],
   "source": [
    "set: for (set notation)\n",
    "union diff intersect"
   ]
  },
  {
   "cell_type": "code",
   "execution_count": 10,
   "id": "36698f3d-29e7-4e20-9ef8-c853d5a38530",
   "metadata": {},
   "outputs": [
    {
     "data": {
      "text/html": [
       "<div>\n",
       "<style scoped>\n",
       "    .dataframe tbody tr th:only-of-type {\n",
       "        vertical-align: middle;\n",
       "    }\n",
       "\n",
       "    .dataframe tbody tr th {\n",
       "        vertical-align: top;\n",
       "    }\n",
       "\n",
       "    .dataframe thead th {\n",
       "        text-align: right;\n",
       "    }\n",
       "</style>\n",
       "<table border=\"1\" class=\"dataframe\">\n",
       "  <thead>\n",
       "    <tr style=\"text-align: right;\">\n",
       "      <th></th>\n",
       "      <th>0</th>\n",
       "      <th>return</th>\n",
       "    </tr>\n",
       "  </thead>\n",
       "  <tbody>\n",
       "    <tr>\n",
       "      <th>0</th>\n",
       "      <td>1</td>\n",
       "      <td>NaN</td>\n",
       "    </tr>\n",
       "    <tr>\n",
       "      <th>1</th>\n",
       "      <td>2</td>\n",
       "      <td>1.000000</td>\n",
       "    </tr>\n",
       "    <tr>\n",
       "      <th>2</th>\n",
       "      <td>3</td>\n",
       "      <td>0.500000</td>\n",
       "    </tr>\n",
       "    <tr>\n",
       "      <th>3</th>\n",
       "      <td>4</td>\n",
       "      <td>0.333333</td>\n",
       "    </tr>\n",
       "    <tr>\n",
       "      <th>4</th>\n",
       "      <td>5</td>\n",
       "      <td>0.250000</td>\n",
       "    </tr>\n",
       "    <tr>\n",
       "      <th>5</th>\n",
       "      <td>4</td>\n",
       "      <td>-0.200000</td>\n",
       "    </tr>\n",
       "    <tr>\n",
       "      <th>6</th>\n",
       "      <td>3</td>\n",
       "      <td>-0.250000</td>\n",
       "    </tr>\n",
       "    <tr>\n",
       "      <th>7</th>\n",
       "      <td>2</td>\n",
       "      <td>-0.333333</td>\n",
       "    </tr>\n",
       "    <tr>\n",
       "      <th>8</th>\n",
       "      <td>1</td>\n",
       "      <td>-0.500000</td>\n",
       "    </tr>\n",
       "  </tbody>\n",
       "</table>\n",
       "</div>"
      ],
      "text/plain": [
       "   0    return\n",
       "0  1       NaN\n",
       "1  2  1.000000\n",
       "2  3  0.500000\n",
       "3  4  0.333333\n",
       "4  5  0.250000\n",
       "5  4 -0.200000\n",
       "6  3 -0.250000\n",
       "7  2 -0.333333\n",
       "8  1 -0.500000"
      ]
     },
     "execution_count": 10,
     "metadata": {},
     "output_type": "execute_result"
    }
   ],
   "source": [
    "import pandas as pd\n",
    "import numpy as np\n",
    "\n",
    "df = pd.DataFrame([1,2,3,4,5,4,3,2,1])#.plot()\n",
    "\n",
    "df['return'] = df[0].pct_change()\n",
    "\n",
    "df"
   ]
  },
  {
   "cell_type": "code",
   "execution_count": null,
   "id": "b8889b47-898a-4176-98e9-fe089cccef8f",
   "metadata": {},
   "outputs": [],
   "source": [
    "EDA \n",
    "df.info()\n",
    "plot\n",
    "head/ tail"
   ]
  },
  {
   "cell_type": "code",
   "execution_count": null,
   "id": "9b173fbd-d6af-4a7e-9b38-bf3c72e4d1c9",
   "metadata": {},
   "outputs": [],
   "source": [
    "descriptive stats\n",
    "df.describe() \n",
    "#mean reverting for return NOT PRICE!\n",
    "\n",
    "lower partial standard deviation\n",
    "\n",
    "\n",
    "pearson product moment correlation coeff.\n",
    "\n",
    "\n"
   ]
  },
  {
   "cell_type": "code",
   "execution_count": 11,
   "id": "f603343b-07b4-4bf0-b2c4-c527c47f898d",
   "metadata": {},
   "outputs": [
    {
     "data": {
      "text/html": [
       "<div>\n",
       "<style scoped>\n",
       "    .dataframe tbody tr th:only-of-type {\n",
       "        vertical-align: middle;\n",
       "    }\n",
       "\n",
       "    .dataframe tbody tr th {\n",
       "        vertical-align: top;\n",
       "    }\n",
       "\n",
       "    .dataframe thead th {\n",
       "        text-align: right;\n",
       "    }\n",
       "</style>\n",
       "<table border=\"1\" class=\"dataframe\">\n",
       "  <thead>\n",
       "    <tr style=\"text-align: right;\">\n",
       "      <th></th>\n",
       "      <th>0</th>\n",
       "      <th>return</th>\n",
       "    </tr>\n",
       "  </thead>\n",
       "  <tbody>\n",
       "    <tr>\n",
       "      <th>0</th>\n",
       "      <td>1.000000</td>\n",
       "      <td>0.207578</td>\n",
       "    </tr>\n",
       "    <tr>\n",
       "      <th>return</th>\n",
       "      <td>0.207578</td>\n",
       "      <td>1.000000</td>\n",
       "    </tr>\n",
       "  </tbody>\n",
       "</table>\n",
       "</div>"
      ],
      "text/plain": [
       "               0    return\n",
       "0       1.000000  0.207578\n",
       "return  0.207578  1.000000"
      ]
     },
     "execution_count": 11,
     "metadata": {},
     "output_type": "execute_result"
    }
   ],
   "source": [
    "df[[0,'return']].corr()  #[[]] matrix\n",
    "\n",
    "ceteris paribus"
   ]
  },
  {
   "cell_type": "code",
   "execution_count": null,
   "id": "3e967905-7261-4339-a7f9-c1ac985e24d0",
   "metadata": {},
   "outputs": [],
   "source": [
    "backtesting\n",
    "zipline\n"
   ]
  },
  {
   "cell_type": "markdown",
   "id": "c8eebc53-1b3b-4535-810f-2c41d08ddc24",
   "metadata": {},
   "source": [
    "\n",
    "fortune insight prime \n",
    "\n",
    "calmar ratio >2 \n",
    "\n",
    "systematic trading\n",
    "\n",
    "trading is risk reduction\n",
    "\n",
    "dont spend too much time optimizing, strategy more complex, stability low\n",
    "\n",
    "quantopian\n",
    "\n",
    "long short us equity strategy rebalancing\n",
    "\n",
    "5 trading strategy over sharpe 0.5 (0 correlation), then allocate 20% each, lower total portfolio risk\n",
    "\n",
    "FED swap line\n",
    "\n",
    "\n",
    "risk adj. return\n",
    "\n",
    "breakeven pt."
   ]
  }
 ],
 "metadata": {
  "kernelspec": {
   "display_name": "Python 3 (ipykernel)",
   "language": "python",
   "name": "python3"
  },
  "language_info": {
   "codemirror_mode": {
    "name": "ipython",
    "version": 3
   },
   "file_extension": ".py",
   "mimetype": "text/x-python",
   "name": "python",
   "nbconvert_exporter": "python",
   "pygments_lexer": "ipython3",
   "version": "3.9.13"
  }
 },
 "nbformat": 4,
 "nbformat_minor": 5
}
