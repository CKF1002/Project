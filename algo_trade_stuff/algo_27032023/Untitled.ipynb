{
 "cells": [
  {
   "cell_type": "code",
   "execution_count": 1,
   "id": "edce6b6d-4784-4740-a228-be4abff4c2ee",
   "metadata": {},
   "outputs": [],
   "source": [
    "#!pip install nb_black\n",
    "%load_ext lab_black"
   ]
  },
  {
   "cell_type": "code",
   "execution_count": 2,
   "id": "a500673f-731d-4ef2-87ca-aa3e3476eac1",
   "metadata": {},
   "outputs": [
    {
     "ename": "NameError",
     "evalue": "name 'QCAlgorithm' is not defined",
     "output_type": "error",
     "traceback": [
      "\u001b[1;31m---------------------------------------------------------------------------\u001b[0m",
      "\u001b[1;31mNameError\u001b[0m                                 Traceback (most recent call last)",
      "\u001b[1;32m~\\AppData\\Local\\Temp\\ipykernel_10544\\1059208988.py\u001b[0m in \u001b[0;36m<module>\u001b[1;34m\u001b[0m\n\u001b[1;32m----> 1\u001b[1;33m \u001b[1;32mclass\u001b[0m \u001b[0mSectorMomentumAlgorithm\u001b[0m\u001b[1;33m(\u001b[0m\u001b[0mQCAlgorithm\u001b[0m\u001b[1;33m)\u001b[0m\u001b[1;33m:\u001b[0m\u001b[1;33m\u001b[0m\u001b[1;33m\u001b[0m\u001b[0m\n\u001b[0m\u001b[0;32m      2\u001b[0m     \u001b[1;32mdef\u001b[0m \u001b[0mInitialize\u001b[0m\u001b[1;33m(\u001b[0m\u001b[0mself\u001b[0m\u001b[1;33m)\u001b[0m\u001b[1;33m:\u001b[0m\u001b[1;33m\u001b[0m\u001b[1;33m\u001b[0m\u001b[0m\n\u001b[0;32m      3\u001b[0m         \u001b[0mself\u001b[0m\u001b[1;33m.\u001b[0m\u001b[0mSetStartDate\u001b[0m\u001b[1;33m(\u001b[0m\u001b[1;36m2000\u001b[0m\u001b[1;33m,\u001b[0m \u001b[1;36m1\u001b[0m\u001b[1;33m,\u001b[0m \u001b[1;36m1\u001b[0m\u001b[1;33m)\u001b[0m\u001b[1;33m\u001b[0m\u001b[1;33m\u001b[0m\u001b[0m\n\u001b[0;32m      4\u001b[0m         \u001b[0mself\u001b[0m\u001b[1;33m.\u001b[0m\u001b[0mSetCash\u001b[0m\u001b[1;33m(\u001b[0m\u001b[1;36m100000\u001b[0m\u001b[1;33m)\u001b[0m\u001b[1;33m\u001b[0m\u001b[1;33m\u001b[0m\u001b[0m\n\u001b[0;32m      5\u001b[0m         \u001b[1;31m# Daily ROC data.\u001b[0m\u001b[1;33m\u001b[0m\u001b[1;33m\u001b[0m\u001b[0m\n",
      "\u001b[1;31mNameError\u001b[0m: name 'QCAlgorithm' is not defined"
     ]
    }
   ],
   "source": [
    "class SectorMomentumAlgorithm(QCAlgorithm):      \n",
    "    def Initialize(self):         \n",
    "        self.SetStartDate(2000, 1, 1)           \n",
    "        self.SetCash(100000)                   \n",
    "        # Daily ROC data.         \n",
    "        self.data = {}                  \n",
    "        self.period = 12 * 21         \n",
    "        self.SetWarmUp(self.period)                  \n",
    "        self.symbols = [                         \n",
    "            \"VNQ\",  # Vanguard Real Estate Index Fund                         \n",
    "            \"XLK\",  # Technology Select Sector SPDR Fund                         \n",
    "            \"XLE\",  # Energy Select Sector SPDR Fund                         \n",
    "            \"XLV\",  # Health Care Select Sector SPDR Fund                         \n",
    "            \"XLF\",  # Financial Select Sector SPDR Fund                         \n",
    "            \"XLI\",  # Industrials Select Sector SPDR Fund                         \n",
    "            \"XLB\",  # Materials Select Sector SPDR Fund                         \n",
    "            \"XLY\",  # Consumer Discretionary Select Sector SPDR Fund                         \n",
    "            \"XLP\",  # Consumer Staples Select Sector SPDR Fund\n",
    "            \"XLU\"   # Utilities Select Sector SPDR Fund\n",
    "        ]   \n",
    "        \n",
    "        "
   ]
  },
  {
   "cell_type": "code",
   "execution_count": null,
   "id": "8b794802-2af9-40b2-bf00-7711ec525b3c",
   "metadata": {},
   "outputs": [],
   "source": [
    "        for symbol in self.symbols:             \n",
    "        data = self.AddEquity(symbol, Resolution.Daily)             \n",
    "        data.SetFeeModel(CustomFeeModel())             \n",
    "        data.SetLeverage(5)                          \n",
    "        self.data[symbol] = self.ROC(symbol, self.period, Resolution.Daily)               \n",
    "        ## daily rate of changes and extend to the entire period                  \n",
    "        self.data[self.symbols[0]].Updated += self.OnROCUpdated           \n",
    "        ## update each of the 10 symbols with the output of the OnROCUpdated function           \n",
    "        self.recent_month = -1         \n",
    "        self.rebalance_flag = False      \n",
    "        def OnROCUpdated(self, sender, updated):         \n",
    "            # set rebalance flag         \n",
    "            if self.recent_month != self.Time.month:             \n",
    "                self.recent_month = self.Time.month             \n",
    "                self.rebalance_flag = True              \n",
    "                def OnData(self, data):         \n",
    "                    if self.IsWarmingUp: return            \n",
    "                ## .IsWarmingUp is an attribute under self object > no need to specify the indicator that has been warmed up          \n",
    "                # rebalance once a month         \n",
    "                if self.rebalance_flag:             \n",
    "                    self.rebalance_flag = False                          \n",
    "                    sorted_by_momentum = sorted([x for x in self.data.items() if x[1].IsReady and x[0] in data and data[x[0]]], key = lambda x: x[1].Current.Value, reverse = True)             \n",
    "                    long = [x[0] for x in sorted_by_momentum[:3]]  \n",
    "                    ## only buy in the top 3                           \n",
    "                    # Trade execution.             \n",
    "                    invested = [x.Key for x in self.Portfolio if x.Value.Invested]             \n",
    "                    for symbol in invested:                 \n",
    "                        if symbol not in long:                     \n",
    "                            self.Liquidate(symbol)                          \n",
    "                            for symbol in long:                 \n",
    "                                self.SetHoldings(symbol, 1 / len(long))                  \n",
    "                                # Custom fee model class CustomFeeModel(FeeModel):     \n",
    "                                def GetOrderFee(self, parameters):         \n",
    "    fee = parameters.Security.Price * parameters.Order.AbsoluteQuantity * 0.00005         \n",
    "    return OrderFee(CashAmount(fee, \"USD\"))"
   ]
  }
 ],
 "metadata": {
  "kernelspec": {
   "display_name": "Python 3 (ipykernel)",
   "language": "python",
   "name": "python3"
  },
  "language_info": {
   "codemirror_mode": {
    "name": "ipython",
    "version": 3
   },
   "file_extension": ".py",
   "mimetype": "text/x-python",
   "name": "python",
   "nbconvert_exporter": "python",
   "pygments_lexer": "ipython3",
   "version": "3.9.13"
  }
 },
 "nbformat": 4,
 "nbformat_minor": 5
}
