{
 "cells": [
  {
   "cell_type": "markdown",
   "id": "984ae059-433f-420c-89c5-a0503910d466",
   "metadata": {
    "tags": []
   },
   "source": [
    "## Option pricing with Black Scholes"
   ]
  },
  {
   "cell_type": "code",
   "execution_count": 6,
   "id": "47d84f5c-41ed-4999-a5b6-8f14af435a49",
   "metadata": {},
   "outputs": [],
   "source": [
    "import numpy as np\n",
    "import matplotlib.pyplot as plt\n",
    "from scipy.stats import norm\n",
    "from scipy.optimize import minimize"
   ]
  },
  {
   "cell_type": "code",
   "execution_count": 32,
   "id": "bcefde9a-04f3-4295-a392-02bef6ee6a72",
   "metadata": {},
   "outputs": [],
   "source": [
    "class BlackScholes:\n",
    "    \"\"\"\n",
    "    Class to calculate (European) call and put option prices through the Black Scholes formula\n",
    "    without dividends\n",
    "    \n",
    "    :param S: spot price of the underlying asset\n",
    "    :param K: strike price \n",
    "    :param T: Time to maturity (in yrs)\n",
    "    :param r: risk-free rate \n",
    "    :param sigma: volatility (standard deviation) of the underlying\n",
    "    \"\"\"\n",
    "    @staticmethod\n",
    "    def _d1(S, K, T, r, sigma):\n",
    "        #return (np.log(S/K) + (r + sigma**2 / 2) * T) / (sigma * np.sqrt(T))\n",
    "        return (1/(sigma*np.sqrt(T))) * (np.log(S/K) + (r+sigma**2/2)*T)\n",
    "    \n",
    "    def _d2(self, S, K, T, r, sigma):\n",
    "        return self._d1(S, K, T, r, sigma) - sigma * np.sqrt(T)\n",
    "\n",
    "    def call_price(self, S, K, T, r, sigma):\n",
    "        \"\"\"\n",
    "        Main method for calculating price of a call option\n",
    "        \"\"\"\n",
    "        d1 = self._d1(S, K, T, r, sigma)\n",
    "        d2 = self._d2(S, K, T, r, sigma)\n",
    "        return S * norm.cdf(d1) - K * np.exp(-r*T) * norm.cdf(d2)\n",
    "    \n",
    "    def put_price(self, S, K, T, r, sigma):\n",
    "        \"\"\"\n",
    "        Main method for calculating price of a put option\n",
    "        \"\"\"\n",
    "        d1 = self._d1(S, K, T, r, sigma)\n",
    "        d2 = self._d2(S, K, T, r, sigma)\n",
    "        #return K * np.exp(-r*T) * norm.cdf(-d2) - S * norm.cdf(-d1)\n",
    "        return norm.cdf(-d2) * np.exp(-r*T) * K - norm.cdf(-d1) * S\n",
    "    \n",
    "    def call_ITM(self, S, K, T, r, sigma):\n",
    "        \"\"\"\n",
    "        Calculate probability that call option will be in the money at maturity\n",
    "        according to Black-Scholes\n",
    "        \"\"\"\n",
    "        d2 = self._d2(S, K, T, r, sigma)\n",
    "        return norm.cdf(d2)\n",
    "    \n",
    "    def put_ITM(self, S, K, T, r, sigma):\n",
    "        \"\"\"\n",
    "        Calculate probability that put option will be in the money at maturity\n",
    "        according to Black-Scholes\n",
    "        \"\"\"\n",
    "        d2 = self._d2(S, K, T, r, sigma)\n",
    "        return 1 - norm.cdf(d2)\n",
    "    "
   ]
  },
  {
   "cell_type": "code",
   "execution_count": 35,
   "id": "fead9edd-a849-4f22-931b-b85014ceaaef",
   "metadata": {},
   "outputs": [
    {
     "name": "stdout",
     "output_type": "stream",
     "text": [
      "977.3726988255294\n",
      "877.1660955891839\n"
     ]
    }
   ],
   "source": [
    "BSM = BlackScholes()\n",
    "\n",
    "S = 18050\n",
    "K = 18100\n",
    "T = 1/12\n",
    "r = 0.1\n",
    "sigma = np.sqrt(0.2)\n",
    "\n",
    "print(BSM.call_price(S, K, T, r, sigma))\n",
    "print(BSM.put_price(S, K, T, r, sigma))"
   ]
  }
 ],
 "metadata": {
  "kernelspec": {
   "display_name": "Python 3 (ipykernel)",
   "language": "python",
   "name": "python3"
  },
  "language_info": {
   "codemirror_mode": {
    "name": "ipython",
    "version": 3
   },
   "file_extension": ".py",
   "mimetype": "text/x-python",
   "name": "python",
   "nbconvert_exporter": "python",
   "pygments_lexer": "ipython3",
   "version": "3.9.13"
  }
 },
 "nbformat": 4,
 "nbformat_minor": 5
}
