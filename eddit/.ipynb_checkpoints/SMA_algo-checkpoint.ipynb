{
 "cells": [
  {
   "cell_type": "markdown",
   "id": "8ae6d7a0-4416-4560-ac5f-98b8e2b0dc30",
   "metadata": {},
   "source": [
    "# Algo trading simluation with SMA\n",
    "\n",
    "1. Define a SMA period.\n",
    "2. If the adjusted close price is above the SMA(SMA period), enter a long position.\n",
    "3. If a long position is in place, and the adjusted close price drops below the SMA(15), exit the long position."
   ]
  },
  {
   "cell_type": "code",
   "execution_count": null,
   "id": "64c54838-a276-4cfd-a6fc-fcd66a956731",
   "metadata": {},
   "outputs": [],
   "source": [
    "!pip install pyalgotrade\n",
    "#!pip install --upgrade pandas\n",
    "!pip install --upgrade pandas==1.5.3\n",
    "!pip install --upgrade pandas-datareader\n",
    "!pip install yfinance\n"
   ]
  },
  {
   "cell_type": "code",
   "execution_count": null,
   "id": "2301471f-13ab-401b-b9ee-e0402d36a0ca",
   "metadata": {},
   "outputs": [],
   "source": [
    "from __future__ import print_function\n",
    "\n",
    "from pyalgotrade import strategy\n",
    "from pyalgotrade.barfeed import yahoofeed\n",
    "from pyalgotrade.technical import ma\n",
    "\n",
    "import datetime as dt\n",
    "import pandas as pd\n",
    "import pandas_datareader.data as web\n",
    "import yfinance as yf\n",
    "import matplotlib.pyplot as plt\n",
    "\n",
    "print(\n",
    "    f\"Pandas {pd.__version__}\"\n",
    ")"
   ]
  },
  {
   "cell_type": "code",
   "execution_count": null,
   "id": "360f532a-f01e-43b1-af90-85beafb85ea4",
   "metadata": {},
   "outputs": [],
   "source": [
    "# Data collection\n",
    "\n",
    "yf.pdr_override()\n",
    "start = dt.datetime(2020,1,1)\n",
    "end = dt.datetime(2022,4,21)\n",
    "query_str = \"AAPL\"\n",
    "df = web.get_data_yahoo(query_str, start, end)\n",
    "\n",
    "filename = f'{query_str}.csv'\n",
    "df.to_csv(filename)"
   ]
  },
  {
   "cell_type": "code",
   "execution_count": null,
   "id": "404a5d61-2d27-42a8-845c-0ce064fbe145",
   "metadata": {},
   "outputs": [],
   "source": [
    "# Create strategy test\n",
    "\n",
    "class StrategyTemplate(strategy.BacktestingStrategy):\n",
    "    \"\"\"\n",
    "    Class to create a strategy template with the SMA strategy\n",
    "    \n",
    "    :param feed: historical price data to be fed for backtesting\n",
    "    :param instrument: the asset/ the security\n",
    "    :param smaPeriod: period of the SMA you would like use\n",
    "    \"\"\"\n",
    "    def __init__(self, feed, instrument, smaPeriod):   \n",
    "        \"\"\"\n",
    "        Initialization for the strategy\n",
    "        \"\"\"\n",
    "        super(StrategyTemplate, self).__init__(feed, 1000)\n",
    "        self.__position = None\n",
    "        self.__instrument = instrument\n",
    "        self.setUseAdjustedValues(True)\n",
    "        self.__sma = ma.SMA(feed[instrument].getPriceDataSeries(), smaPeriod)\n",
    "\n",
    "    def onEnterOk(self, position):    \n",
    "        \"\"\"\n",
    "        Method for actions if the program enters a position\n",
    "        \"\"\"\n",
    "        execInfo = position.getEntryOrder().getExecutionInfo()\n",
    "        self.info(\"BUY at ${}\".format(execInfo.getPrice()))\n",
    "  \n",
    "    def onEnterCanceled(self, position):        \n",
    "        \"\"\"\n",
    "        Method for actions if the program cancels entering the position\n",
    "        \"\"\"\n",
    "        self.__position = None\n",
    "  \n",
    "    def onExitOk(self, position):                           \n",
    "        \"\"\"\n",
    "        Method for actions if the program exits a position\n",
    "        \"\"\"\n",
    "        execInfo = position.getExitOrder().getExecutionInfo()\n",
    "        self.info(\"SELL at ${}\".format(execInfo.getPrice()))\n",
    "        self.__position  = None\n",
    "\n",
    "    def onExitCancelled(self, position):            \n",
    "        \"\"\"\n",
    "        Method for actions if the program cancels exiting a position\n",
    "        \"\"\"\n",
    "        self.__position.exitMarket()\n",
    "  \n",
    "    def onBars(self, bars):            \n",
    "        \"\"\"\n",
    "        Method for actions after reading each row\n",
    "        \"\"\"\n",
    "        if self.__sma[-1] is None:\n",
    "            return\n",
    "\n",
    "        bar = bars[self.__instrument]\n",
    "\n",
    "        if self.__position is None:\n",
    "            if bar.getPrice() > self.__sma[-1]:\n",
    "                self.__position = self.enterLong(self.__instrument, 10, True)\n",
    "    \n",
    "        elif bar.getPrice() < self.__sma[-1] and not self.__position.exitActive():\n",
    "            self.__position.exitMarket()"
   ]
  },
  {
   "cell_type": "code",
   "execution_count": null,
   "id": "dde25f9c-326a-49d0-92ab-4010c5ffd3c0",
   "metadata": {},
   "outputs": [],
   "source": [
    "# Run strategy\n",
    "\n",
    "def run_strategy(smaPeriod):\n",
    "    feed = yahoofeed.Feed()\n",
    "    feed.addBarsFromCSV(query_str, filename)\n",
    "\n",
    "    myStrategy = StrategyTemplate(feed, query_str, smaPeriod)\n",
    "    myStrategy.run()\n",
    "    print(\"Final portfolio value: ${}\".format(myStrategy.getBroker().getEquity()))\n",
    "    return myStrategy.getResult()\n",
    "\n",
    "strategy_results = []\n",
    "labels = []\n",
    "for i in range(10,30):\n",
    "    strategy_results.append(run_strategy(i))\n",
    "    labels.append(i)"
   ]
  },
  {
   "cell_type": "code",
   "execution_count": null,
   "id": "08fcd365-2436-4dc9-9c1e-12ae4e2f16a7",
   "metadata": {},
   "outputs": [],
   "source": [
    "# Visualisation\n",
    "\n",
    "plt.figure(figsize=(20,7))\n",
    "plt.bar(labels, strategy_results)\n",
    "plt.xticks(labels)"
   ]
  }
 ],
 "metadata": {
  "kernelspec": {
   "display_name": "Python 3 (ipykernel)",
   "language": "python",
   "name": "python3"
  },
  "language_info": {
   "codemirror_mode": {
    "name": "ipython",
    "version": 3
   },
   "file_extension": ".py",
   "mimetype": "text/x-python",
   "name": "python",
   "nbconvert_exporter": "python",
   "pygments_lexer": "ipython3",
   "version": "3.9.13"
  }
 },
 "nbformat": 4,
 "nbformat_minor": 5
}
