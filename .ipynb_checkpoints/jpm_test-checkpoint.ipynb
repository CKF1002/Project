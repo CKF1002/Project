{
 "cells": [
  {
   "cell_type": "code",
   "execution_count": null,
   "id": "c2760e13-a195-49f2-b921-968c40e7b8e7",
   "metadata": {},
   "outputs": [],
   "source": [
    "def breakPalindrome(palindromeStr):\n",
    "    if:\n",
    "        return result\n",
    "    \n",
    "    else:\n",
    "        return print('IMPOSSIBLE')\n",
    "    "
   ]
  },
  {
   "cell_type": "code",
   "execution_count": 21,
   "id": "663640a3-a68c-4ac7-83de-c2b4fd966ae8",
   "metadata": {},
   "outputs": [],
   "source": [
    "def minmin(target):\n",
    "    # Write your code here\n",
    "    assert (1<=len(target)<=5), 'len is wrong'\n",
    "    assert (type(target)==str), 'hi'\n",
    "    assert '1' in target or '0'\n",
    "    nth_digit = '0'\n",
    "    min_count = 0\n",
    "    for i in target:\n",
    "        if i==nth_digit:\n",
    "            continue\n",
    "        else: \n",
    "            nth_digit = i \n",
    "            min_count +=1\n",
    "    return min_count"
   ]
  },
  {
   "cell_type": "code",
   "execution_count": 62,
   "id": "165c9313-630e-4329-acb4-2820d8bbee03",
   "metadata": {},
   "outputs": [],
   "source": [
    "def mins(a,b):\n",
    "    zipped_list = zip(a, b)\n",
    "    result_list = []\n",
    "    for i in zipped_list:\n",
    "        if sorted(i[0]) == sorted(i[1]):\n",
    "            result_list.append(0)\n",
    "        elif len(i[0]) == len(i[1]):\n",
    "            result_list.append(len(list(set(i[0])-set(i[1]))))\n",
    "        else:\n",
    "            result_list.append(-1)\n",
    "    return result_list"
   ]
  },
  {
   "cell_type": "code",
   "execution_count": 63,
   "id": "c0e2ce98-f9a2-48ed-b79c-460009884196",
   "metadata": {},
   "outputs": [
    {
     "data": {
      "text/plain": [
       "[1, -1]"
      ]
     },
     "execution_count": 63,
     "metadata": {},
     "output_type": "execute_result"
    }
   ],
   "source": [
    "mins(, ['toe', 'acts'])"
   ]
  },
  {
   "cell_type": "code",
   "execution_count": 66,
   "id": "d22d82ad-e98b-42f9-a54c-33ccfc17381f",
   "metadata": {},
   "outputs": [
    {
     "data": {
      "text/plain": [
       "1"
      ]
     },
     "execution_count": 66,
     "metadata": {},
     "output_type": "execute_result"
    }
   ],
   "source": [
    "#.contains('abc')\n",
    "\n",
    "len(list(set('tea')-set('act')))-1\n",
    "\n",
    "list('tea').count('e')"
   ]
  }
 ],
 "metadata": {
  "kernelspec": {
   "display_name": "Python 3",
   "language": "python",
   "name": "python3"
  },
  "language_info": {
   "codemirror_mode": {
    "name": "ipython",
    "version": 3
   },
   "file_extension": ".py",
   "mimetype": "text/x-python",
   "name": "python",
   "nbconvert_exporter": "python",
   "pygments_lexer": "ipython3",
   "version": "3.8.8"
  }
 },
 "nbformat": 4,
 "nbformat_minor": 5
}
