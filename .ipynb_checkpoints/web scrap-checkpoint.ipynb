{
 "cells": [
  {
   "cell_type": "code",
   "execution_count": 9,
   "id": "f75870c9",
   "metadata": {},
   "outputs": [],
   "source": [
    "from selenium.webdriver import Chrome\n",
    "driver = Chrome(\"C:/Users/Chengkf/Desktop/chromedriver.exe\")"
   ]
  },
  {
   "cell_type": "code",
   "execution_count": null,
   "id": "657ec145",
   "metadata": {},
   "outputs": [],
   "source": [
    "driver.get(\"link\")"
   ]
  },
  {
   "cell_type": "code",
   "execution_count": null,
   "id": "5c22d1dd",
   "metadata": {},
   "outputs": [],
   "source": [
    "##close all pop-up before you use html inspect"
   ]
  },
  {
   "cell_type": "code",
   "execution_count": null,
   "id": "bffa4b5e",
   "metadata": {},
   "outputs": [],
   "source": [
    "how to scrap website that change id occasionally \n",
    "when to use id, name or sth\n",
    "when to use link text, partial link text\n",
    "\"see more\" have a lot wo, use wht search\n",
    "xpath 最好\n",
    "for private acc, would that cause problem"
   ]
  }
 ],
 "metadata": {
  "kernelspec": {
   "display_name": "Python 3 (ipykernel)",
   "language": "python",
   "name": "python3"
  },
  "language_info": {
   "codemirror_mode": {
    "name": "ipython",
    "version": 3
   },
   "file_extension": ".py",
   "mimetype": "text/x-python",
   "name": "python",
   "nbconvert_exporter": "python",
   "pygments_lexer": "ipython3",
   "version": "3.9.13"
  }
 },
 "nbformat": 4,
 "nbformat_minor": 5
}
