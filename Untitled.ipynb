{
 "cells": [
  {
   "cell_type": "code",
   "execution_count": null,
   "id": "fd246f0b-0c6d-4149-ab1f-971026abec04",
   "metadata": {},
   "outputs": [],
   "source": [
    "from itertools import product\n",
    "\n",
    "list_a = [1,2]\n",
    "list_b = [2,34]\n",
    "list_c = [365,6]\n",
    "\n",
    "for a,b,c in product(list_a, list_b, list_c):\n",
    "    if a + b + c == 2077:\n",
    "        print(a,b,c)\n",
    "        \n",
    "        "
   ]
  },
  {
   "cell_type": "code",
   "execution_count": null,
   "id": "f777b1b7-deff-4d15-9811-98624a1c9890",
   "metadata": {},
   "outputs": [],
   "source": []
  },
  {
   "cell_type": "code",
   "execution_count": null,
   "id": "f9ba60d2-bd95-4e2d-b7e9-417cad28abf2",
   "metadata": {},
   "outputs": [],
   "source": [
    "# x def\n",
    "\n",
    "fib = lambda x: x if <=1 else fib(x-1) + fib(x-2)\n",
    "\n",
    "\n",
    "from functools import reduce\n",
    "\n",
    "city = ['L', 'o', 'n', 'd', 'o', 'n', 2, 0, 2, 0]\n",
    "city_to_str = reduce(lambda x, y: str(x) + str(y), city)\n",
    "print(city_to_str)\n",
    "# London2020"
   ]
  },
  {
   "cell_type": "code",
   "execution_count": null,
   "id": "40b9c190-4acf-4dd4-b3b9-4a7d771e3f70",
   "metadata": {},
   "outputs": [],
   "source": [
    "a, *mid, b = [1, 2, 3, 4, 5, 6]\n",
    "print(a, mid, b)\n",
    "# 1 [2, 3, 4, 5] 6"
   ]
  }
 ],
 "metadata": {
  "kernelspec": {
   "display_name": "Python 3 (ipykernel)",
   "language": "python",
   "name": "python3"
  },
  "language_info": {
   "codemirror_mode": {
    "name": "ipython",
    "version": 3
   },
   "file_extension": ".py",
   "mimetype": "text/x-python",
   "name": "python",
   "nbconvert_exporter": "python",
   "pygments_lexer": "ipython3",
   "version": "3.9.13"
  }
 },
 "nbformat": 4,
 "nbformat_minor": 5
}
