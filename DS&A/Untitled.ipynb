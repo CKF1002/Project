{
 "cells": [
  {
   "cell_type": "code",
   "execution_count": null,
   "id": "3c6e4896-647a-4fb3-9933-4b23716d3132",
   "metadata": {},
   "outputs": [],
   "source": [
    "indexing & slicing [start:end+1:step]\n",
    "\n",
    "('this is tuple',)"
   ]
  },
  {
   "cell_type": "code",
   "execution_count": 4,
   "id": "65f57d05-af47-4bd0-a63e-2eb3bb5296e3",
   "metadata": {},
   "outputs": [
    {
     "name": "stdout",
     "output_type": "stream",
     "text": [
      "0 1\n",
      "1 ['a', 's']\n",
      "2 34\n",
      "3 4\n"
     ]
    },
    {
     "data": {
      "text/plain": [
       "[1, ['a', 's'], 34, 4]"
      ]
     },
     "execution_count": 4,
     "metadata": {},
     "output_type": "execute_result"
    }
   ],
   "source": [
    "\n",
    "a = [1,34,4]\n",
    "a.insert(1, ['a','s'])\n",
    "a\n",
    "\n",
    "for index, item in enumerate(a):\n",
    "    print(index, item)\n",
    "    \n",
    "#sort by 2nd letters\n",
    "sorted(a, key=lambda x: x[1])\n",
    "\n",
    "a = [1,34,4]\n",
    "a.insert(1, ['a','s'])\n",
    "a"
   ]
  },
  {
   "cell_type": "markdown",
   "id": "689d9e15-fc99-4e9b-af7d-a4320be7e834",
   "metadata": {
    "tags": []
   },
   "source": [
    "## reverse a list"
   ]
  },
  {
   "cell_type": "code",
   "execution_count": 26,
   "id": "a3d2dbdc-5efb-4f2d-8f4d-f390ca38a02e",
   "metadata": {},
   "outputs": [
    {
     "data": {
      "text/plain": [
       "[5, 4, 4, 3, 3, 2, 2, 2, 1]"
      ]
     },
     "execution_count": 26,
     "metadata": {},
     "output_type": "execute_result"
    }
   ],
   "source": [
    "a = [1,2,3,4,3,5,2,2,4]\n",
    "final = []\n",
    "\n",
    "\n",
    "for i in a: \n",
    "    counter = 0\n",
    "    if not final:\n",
    "        final.append(i)\n",
    "    else: \n",
    "        for j in final:\n",
    "            if i < j:\n",
    "                counter +=1\n",
    "                continue\n",
    "            else:\n",
    "                final.insert(counter, i)\n",
    "                break\n",
    "                \n",
    "                \n",
    "final"
   ]
  },
  {
   "cell_type": "markdown",
   "id": "cbca4556-1e8f-4be2-a737-8fcdbf762643",
   "metadata": {},
   "source": [
    "## continue"
   ]
  },
  {
   "cell_type": "code",
   "execution_count": 5,
   "id": "bab1d90c-7382-44d2-bb47-e273b3dc91b9",
   "metadata": {},
   "outputs": [
    {
     "data": {
      "text/plain": [
       "(1, 2, 4, 5)"
      ]
     },
     "execution_count": 5,
     "metadata": {},
     "output_type": "execute_result"
    }
   ],
   "source": [
    "x = 2, # comma tells tuple\n",
    "y = 1, 2, 4 #tuple \n",
    "\n",
    "#cant remove or append\n",
    "#add\n",
    "\n",
    "y += 5,\n",
    "y"
   ]
  },
  {
   "cell_type": "code",
   "execution_count": null,
   "id": "b6f32b24-dc2f-47d5-94fa-1c1b72fdac61",
   "metadata": {},
   "outputs": [],
   "source": [
    "sets (unique items)(fast)(not ordered)"
   ]
  },
  {
   "cell_type": "code",
   "execution_count": null,
   "id": "84d36b4a-e731-4abd-8ff7-097b890621c2",
   "metadata": {},
   "outputs": [],
   "source": [
    "# set operations\n",
    "\n",
    "s1&s2\n",
    "s1|s2\n",
    "s1^s2\n",
    "s1-s2\n",
    "s1<=s2"
   ]
  },
  {
   "cell_type": "code",
   "execution_count": null,
   "id": "b9b45750-3fd8-447f-85f3-229d0bd51d30",
   "metadata": {},
   "outputs": [],
   "source": [
    "dict\n",
    "\n",
    "d = {key:values}\n",
    "d = dict(a=23,b=23)\n",
    "d = dict([(key, values), (key,values)]\n",
    "         \n",
    "d.keys\n",
    "d.values\n",
    "d.items         \n",
    "         \n",
    "         NO order when iterating a dict\n",
    "         \n",
    "for key in dict:\n",
    "    print(key, dict[key])"
   ]
  },
  {
   "cell_type": "code",
   "execution_count": null,
   "id": "ac0da80d-9c26-4e8b-bf86-58edb26b5057",
   "metadata": {},
   "outputs": [],
   "source": [
    "a = [[1,2][3,4]]\n",
    "\n",
    "[x for b in a for x in b]\n",
    "print(new_list)"
   ]
  },
  {
   "cell_type": "code",
   "execution_count": null,
   "id": "ce3ddac1-9316-44f7-98de-5535cd66ba11",
   "metadata": {},
   "outputs": [],
   "source": [
    "push \n",
    "pop \n",
    "\n",
    "stack LIFO\n",
    "\n",
    "peek copy top item \n",
    "clear\n",
    "\n",
    "undo (stack)"
   ]
  },
  {
   "cell_type": "code",
   "execution_count": 17,
   "id": "96595f39-f52e-4535-a259-bf24065a3b1a",
   "metadata": {},
   "outputs": [
    {
     "data": {
      "text/plain": [
       "3"
      ]
     },
     "execution_count": 17,
     "metadata": {},
     "output_type": "execute_result"
    }
   ],
   "source": [
    "#stack with a list\n",
    "class stack():\n",
    "    def __init__(self):\n",
    "        self.stack = []\n",
    "    \n",
    "    def push(self, item):\n",
    "        return self.stack.append(item)\n",
    "    \n",
    "    def pop(self):\n",
    "        if not self.stack():\n",
    "            return self.stack().pop(item)\n",
    "        else:\n",
    "            return None\n",
    "    \n",
    "    def peek(self):\n",
    "        if len(self.stack)>0:\n",
    "            return self.stack[-1]\n",
    "        else:\n",
    "            return print('s')\n",
    "    def prints(self):\n",
    "        return print(self.stack())\n",
    "# peek\n",
    "\n",
    "# clear\n",
    "\n",
    "# see all func\n",
    "\n",
    "my = stack()\n",
    "my.push(1)\n",
    "my.push(3)\n",
    "my.peek()"
   ]
  },
  {
   "cell_type": "code",
   "execution_count": null,
   "id": "f5c7186a-bc6a-43ff-8ea5-f69b3eabd51a",
   "metadata": {},
   "outputs": [],
   "source": [
    "fifo\n",
    "\n",
    "enqueue\n",
    "dequeue"
   ]
  },
  {
   "cell_type": "code",
   "execution_count": 18,
   "id": "2991cf1b-666a-4696-b453-79c1132c535e",
   "metadata": {},
   "outputs": [
    {
     "name": "stdout",
     "output_type": "stream",
     "text": [
      "deque([5, 10])\n",
      "5\n"
     ]
    }
   ],
   "source": [
    "from collections import deque\n",
    "my = deque()\n",
    "my.append(5)\n",
    "my.append(10)\n",
    "print(my)\n",
    "print(my.popleft())"
   ]
  },
  {
   "cell_type": "code",
   "execution_count": 29,
   "id": "6b1ad2c2-cbc8-4f53-bf2a-989e6b7a9a17",
   "metadata": {},
   "outputs": [
    {
     "name": "stdout",
     "output_type": "stream",
     "text": [
      "[10]\n"
     ]
    }
   ],
   "source": [
    "class Queue():\n",
    "    def __init__(self):\n",
    "        self.queue = list()\n",
    "    def dequeue(self, item):\n",
    "        del(self.queue[0])\n",
    "    def enqueue(self, item):\n",
    "        self.queue.append(item)\n",
    "    def __str__(self):\n",
    "        return str(self.queue)\n",
    "        \n",
    "my = Queue()\n",
    "my.enqueue(5)\n",
    "my.enqueue(10)\n",
    "my.dequeue(10)\n",
    "print(my)\n",
    "#print(my.popleft())\n"
   ]
  }
 ],
 "metadata": {
  "kernelspec": {
   "display_name": "Python 3 (ipykernel)",
   "language": "python",
   "name": "python3"
  },
  "language_info": {
   "codemirror_mode": {
    "name": "ipython",
    "version": 3
   },
   "file_extension": ".py",
   "mimetype": "text/x-python",
   "name": "python",
   "nbconvert_exporter": "python",
   "pygments_lexer": "ipython3",
   "version": "3.9.13"
  }
 },
 "nbformat": 4,
 "nbformat_minor": 5
}
