{
 "cells": [
  {
   "cell_type": "code",
   "execution_count": 39,
   "id": "c7fa6748-7401-4c0e-942b-be385c44c268",
   "metadata": {},
   "outputs": [
    {
     "data": {
      "text/plain": [
       "4"
      ]
     },
     "execution_count": 39,
     "metadata": {},
     "output_type": "execute_result"
    }
   ],
   "source": [
    "\n",
    "def removeDuplicates(nums: list[int]) -> int:\n",
    "    \"\"\"\n",
    "    :type nums: List[int]\n",
    "    :rtype: int\n",
    "    \"\"\"\n",
    "    k = 1 # index position counter (starts at 1 as index 0 value is always unique)\n",
    "    for i in range(len(nums)-1):\n",
    "        if nums[i] < nums[i+1]:\n",
    "            nums[k] = nums[i+1]\n",
    "            k += 1\n",
    "    return k # nums[:k] to get expected nums list\n",
    "\n",
    "nums = [1,1,1,2,2,3,3,4]\n",
    "removeDuplicates(nums)\n"
   ]
  },
  {
   "cell_type": "code",
   "execution_count": 17,
   "id": "b768d0b2-3d99-454d-86af-d95ecc341ad2",
   "metadata": {},
   "outputs": [
    {
     "data": {
      "text/plain": [
       "(0, [])"
      ]
     },
     "execution_count": 17,
     "metadata": {},
     "output_type": "execute_result"
    }
   ],
   "source": [
    "def removeDuplicates(nums):\n",
    "    nums[:] = sorted(set(nums))\n",
    "    return len(nums), nums\n",
    "\n",
    "nums = []\n",
    "removeDuplicates(nums)"
   ]
  },
  {
   "cell_type": "code",
   "execution_count": 27,
   "id": "55c93d4c-73c3-4e66-9674-3a2c0c35c86c",
   "metadata": {},
   "outputs": [
    {
     "ename": "SyntaxError",
     "evalue": "invalid syntax (3735460743.py, line 2)",
     "output_type": "error",
     "traceback": [
      "\u001b[1;36m  File \u001b[1;32m\"C:\\Users\\Chengkf\\AppData\\Local\\Temp\\ipykernel_8816\\3735460743.py\"\u001b[1;36m, line \u001b[1;32m2\u001b[0m\n\u001b[1;33m    Output: 2, nums = [1,2]\u001b[0m\n\u001b[1;37m             ^\u001b[0m\n\u001b[1;31mSyntaxError\u001b[0m\u001b[1;31m:\u001b[0m invalid syntax\n"
     ]
    }
   ],
   "source": [
    "Input: nums = [1,1,2]\n",
    "Output: 2, nums = [1,2] \n",
    "\n",
    "Input: nums = [0,0,1,1,1,2,2,3,3,4]\n",
    "Output: 5, nums = [0,1,2,3,4] \n"
   ]
  },
  {
   "cell_type": "code",
   "execution_count": 13,
   "id": "538db419-faac-4949-be9b-fd217fab863f",
   "metadata": {},
   "outputs": [
    {
     "name": "stderr",
     "output_type": "stream",
     "text": [
      "ERROR: unknown command \" install\" - maybe you meant \"install\"\n",
      "\n"
     ]
    }
   ],
   "source": [
    "!pip install pipdeptree#==2.2.1\n",
    "\n",
    "# list the dependencies of input packages`\n",
    "\n",
    "# multiple packages can be input separated by commas (i.e. --packages, package1,package2,....)`\n",
    "\n",
    "#!pipdeptree --packages "
   ]
  },
  {
   "cell_type": "code",
   "execution_count": null,
   "id": "034e0f07-9219-43b3-8afe-ef5888bbaf88",
   "metadata": {},
   "outputs": [],
   "source": [
    "l = 1\n",
    "\n",
    "for r in range(1, len(nums)):\n",
    "    if nums[r] != nums[r-1]:\n",
    "        nums[l] = nums[r]\n",
    "        l += 1\n",
    "return l "
   ]
  },
  {
   "cell_type": "code",
   "execution_count": 52,
   "id": "745ecb52-e891-4900-81fa-a6b00b4f9a63",
   "metadata": {},
   "outputs": [
    {
     "data": {
      "text/plain": [
       "(5, [1, 2, 3, 4, 5])"
      ]
     },
     "execution_count": 52,
     "metadata": {},
     "output_type": "execute_result"
    }
   ],
   "source": [
    "\n",
    "def removeDuplicates(nums: list[int]) -> int:\n",
    "    \"\"\"\n",
    "    :type nums: List[int]\n",
    "    :rtype: int\n",
    "    \"\"\"\n",
    "\n",
    "    k = 1 # index position counter (starts at 1 as index 0 value is always unique)\n",
    "    for i in range(len(nums)-1):\n",
    "        if nums[i] < nums[i+1]:\n",
    "            nums[k] = nums[i+1]\n",
    "            k += 1\n",
    "    return k,nums[:k]# to get expected nums list\n",
    "\n",
    "nums =  [1,2,3,4,5,5,5]\n",
    "removeDuplicates(nums)\n",
    "\n",
    "\n",
    "\n"
   ]
  }
 ],
 "metadata": {
  "kernelspec": {
   "display_name": "Python 3 (ipykernel)",
   "language": "python",
   "name": "python3"
  },
  "language_info": {
   "codemirror_mode": {
    "name": "ipython",
    "version": 3
   },
   "file_extension": ".py",
   "mimetype": "text/x-python",
   "name": "python",
   "nbconvert_exporter": "python",
   "pygments_lexer": "ipython3",
   "version": "3.9.13"
  }
 },
 "nbformat": 4,
 "nbformat_minor": 5
}
