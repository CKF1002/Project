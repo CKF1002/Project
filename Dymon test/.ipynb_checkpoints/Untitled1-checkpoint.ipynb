{
 "cells": [
  {
   "cell_type": "code",
   "execution_count": null,
   "id": "4274de43-2802-4778-adfe-9d7348929acf",
   "metadata": {},
   "outputs": [],
   "source": [
    "fig,ax=plt.subplots(figsize=(12,6))\n",
    "    ax.spines[['top','right','left','bottom']].set_visible(False)\n",
    "    plt.plot(daily_return['Meituan'], label = 'Daily Returns')\n",
    "    plt.legend(loc='best')\n",
    "    plt.title('Pfizer Stock Daily Returns Over Time')\n",
    "    plt.show()"
   ]
  },
  {
   "cell_type": "markdown",
   "id": "513d0682-ba71-40ec-85ee-78363d424998",
   "metadata": {},
   "source": [
    "http://techflare.blog/how-to-get-cumulative-return-for-your-asset-and-portfolio-in-python/\n",
    "https://www.allthesnippets.com/notes/finance/calculating_cumulative_returns_of_stocks_with_python_and_pandas.html\n",
    "\n",
    "http://techflare.blog/how-to-get-a-distribution-of-returns-and-draw-a-probability-plot-for-the-distribution-in-python/\n"
   ]
  },
  {
   "cell_type": "code",
   "execution_count": null,
   "id": "b9d8add4-b43a-4c69-9ca9-39fe16843a08",
   "metadata": {},
   "outputs": [],
   "source": [
    "fig,ax=plt.subplots(figsize=(12,6))\n",
    "ax.spines[['top','right','left','bottom']].set_visible(False)\n",
    "for i in df.columns:\n",
    "    plt.plot(df_priceData[i], label = i)\n",
    "plt.legend(loc='best')\n",
    "plt.title('Price of Stock Over Time')\n",
    "plt.show()"
   ]
  }
 ],
 "metadata": {
  "kernelspec": {
   "display_name": "Python 3 (ipykernel)",
   "language": "python",
   "name": "python3"
  },
  "language_info": {
   "codemirror_mode": {
    "name": "ipython",
    "version": 3
   },
   "file_extension": ".py",
   "mimetype": "text/x-python",
   "name": "python",
   "nbconvert_exporter": "python",
   "pygments_lexer": "ipython3",
   "version": "3.9.13"
  }
 },
 "nbformat": 4,
 "nbformat_minor": 5
}
