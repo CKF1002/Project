{
 "cells": [
  {
   "cell_type": "markdown",
   "id": "28eb3857",
   "metadata": {},
   "source": [
    "# Create \n",
    "### Series/ DataFrame\n",
    "#### 1. list\n",
    "    pd.Series(list_1, index= ['a','b','c']) ## index = list('abc') \n",
    "    pd.DataFrame(list('python'))\n",
    "    \n",
    "#### 2. Dict\n",
    "   <span style='color:yellow'>for multiple list</span>\n",
    "   \n",
    "    pd.Series({'jan':1, 'feb':2, 'mar':3}) \n",
    "    pd.DataFrame([{'a':i, 'b':i**2} for i in range(3)])\n",
    "#### 3. Numpy array\n",
    "\n",
    "    pd.Series(np.array1)\n",
    "    pd.DataFrame(np.ones(6).reshape(1,-1), columns=list('python')\n",
    "\n",
    "#### 4. Pd series\n",
    "\n",
    "    pd.DataFrame({'col1':pd.Ser1, 'col2':pd.Ser2})\n",
    "    \n",
    "<span style='color:red'>make use of list comprehension for sequence</span>"
   ]
  },
  {
   "cell_type": "markdown",
   "id": "54120fed",
   "metadata": {},
   "source": [
    "# Import/ Export \n",
    "\n",
    "### Import\n",
    "\n",
    "#### 1. From web\n",
    "    ! curl -L -s -o Stock.csv \"https://www.abc.com/abc.csv/\"\n",
    "#### 2. Read file (csv/xls)\n",
    "    df = pd.read_csv('stock.csv')\n",
    "    df = pd.read_excel('abc.xls')\n",
    "\n",
    "### Export\n",
    "\n",
    "#### 1. To CSV\n",
    "    df.to_csv('sample.csv')\n",
    "    \n",
    "   <span style='color:yellow'>#drop index, utf_8_sig</span>\n",
    "    \n",
    "    listed_df.to_csv('HK_listed_report.csv',index=False, encoding='utf_8_sig')\n",
    "\n",
    "#### 2. To Excel \n",
    "    df.to_xls('sample.xls')\n",
    "#### 3. ExcelWriter\n",
    "   #1. Export to an Excel file\n",
    "   NB: If you don't include a file path like 'C:\\Users\\Ron\\Desktop\\File_Name.xlsx'\n",
    "   It will save to your default folder, that is where the file you're reading from is located.\n",
    "    \n",
    "    xlwriter = pd.ExcelWriter('CCT_forecast_filter.xlsx')\n",
    "    \n",
    "   #2. Write each dataframe to a worksheet with a name\n",
    "    \n",
    "    six_month.to_excel(xlwriter, sheet_name = '6months_forecast_filter', index = False)\n",
    "    one_yr.to_excel(xlwriter, sheet_name = '1year_forecast_filter', index = False)\n",
    "    other_df.to_excel(xlwriter, sheet_name = 'Others', index = False)\n",
    "    Pivot_table.to_excel(xlwriter, sheet_name = 'Pivot_table')\n",
    "\n",
    "   #3. Close the instance\n",
    "    \n",
    "    xlwriter.close()"
   ]
  },
  {
   "cell_type": "markdown",
   "id": "bf68fc41",
   "metadata": {},
   "source": [
    "# Formatting\n",
    "#### 1. Rename column/index\n",
    "<span style='color:yellow'>in order</span>\n",
    "\n",
    "    df.columns = ['b', 'c']\n",
    "    df.index = ['a', 'b', 'c']\n",
    "<span style='color:yellow'>specific</span>\n",
    "\n",
    "    df.rename(columns= {'a':'one', 'c':'three')\n",
    "    df.rename(index=\n",
    "    \n",
    "#### 2. "
   ]
  },
  {
   "cell_type": "code",
   "execution_count": 24,
   "id": "971c92d3",
   "metadata": {
    "scrolled": true
   },
   "outputs": [
    {
     "data": {
      "text/html": [
       "<div>\n",
       "<style scoped>\n",
       "    .dataframe tbody tr th:only-of-type {\n",
       "        vertical-align: middle;\n",
       "    }\n",
       "\n",
       "    .dataframe tbody tr th {\n",
       "        vertical-align: top;\n",
       "    }\n",
       "\n",
       "    .dataframe thead th {\n",
       "        text-align: right;\n",
       "    }\n",
       "</style>\n",
       "<table border=\"1\" class=\"dataframe\">\n",
       "  <thead>\n",
       "    <tr style=\"text-align: right;\">\n",
       "      <th></th>\n",
       "      <th>b</th>\n",
       "    </tr>\n",
       "  </thead>\n",
       "  <tbody>\n",
       "    <tr>\n",
       "      <th>a</th>\n",
       "      <td>1</td>\n",
       "    </tr>\n",
       "    <tr>\n",
       "      <th>b</th>\n",
       "      <td>3</td>\n",
       "    </tr>\n",
       "    <tr>\n",
       "      <th>c</th>\n",
       "      <td>4</td>\n",
       "    </tr>\n",
       "    <tr>\n",
       "      <th>d</th>\n",
       "      <td>5</td>\n",
       "    </tr>\n",
       "  </tbody>\n",
       "</table>\n",
       "</div>"
      ],
      "text/plain": [
       "   b\n",
       "a  1\n",
       "b  3\n",
       "c  4\n",
       "d  5"
      ]
     },
     "execution_count": 24,
     "metadata": {},
     "output_type": "execute_result"
    }
   ],
   "source": [
    "table.columns = ['b']\n",
    "table.index =['a', 'b', 'c', 'd']\n",
    "table #all change"
   ]
  },
  {
   "cell_type": "markdown",
   "id": "7dc9df16",
   "metadata": {},
   "source": [
    "# Edit \n",
    "\n",
    "#### 1. add rows\n",
    "<span style='color:yellow'>index = 1</span>\n",
    "\n",
    "    df1.append(['a'] ## rows\n",
    "    "
   ]
  },
  {
   "cell_type": "code",
   "execution_count": 48,
   "id": "645f3dda",
   "metadata": {},
   "outputs": [
    {
     "data": {
      "text/html": [
       "<div>\n",
       "<style scoped>\n",
       "    .dataframe tbody tr th:only-of-type {\n",
       "        vertical-align: middle;\n",
       "    }\n",
       "\n",
       "    .dataframe tbody tr th {\n",
       "        vertical-align: top;\n",
       "    }\n",
       "\n",
       "    .dataframe thead th {\n",
       "        text-align: right;\n",
       "    }\n",
       "</style>\n",
       "<table border=\"1\" class=\"dataframe\">\n",
       "  <thead>\n",
       "    <tr style=\"text-align: right;\">\n",
       "      <th></th>\n",
       "      <th>0</th>\n",
       "    </tr>\n",
       "  </thead>\n",
       "  <tbody>\n",
       "    <tr>\n",
       "      <th>0</th>\n",
       "      <td>s</td>\n",
       "    </tr>\n",
       "    <tr>\n",
       "      <th>1</th>\n",
       "      <td>s</td>\n",
       "    </tr>\n",
       "    <tr>\n",
       "      <th>2</th>\n",
       "      <td>d</td>\n",
       "    </tr>\n",
       "    <tr>\n",
       "      <th>0</th>\n",
       "      <td>a</td>\n",
       "    </tr>\n",
       "  </tbody>\n",
       "</table>\n",
       "</div>"
      ],
      "text/plain": [
       "   0\n",
       "0  s\n",
       "1  s\n",
       "2  d\n",
       "0  a"
      ]
     },
     "execution_count": 48,
     "metadata": {},
     "output_type": "execute_result"
    }
   ],
   "source": [
    "df = pd.DataFrame(['s', 's', 'd'])\n",
    "df.append(['a'])"
   ]
  },
  {
   "cell_type": "markdown",
   "id": "0ae108e1-c83e-4620-bc64-d4566258a345",
   "metadata": {},
   "source": [
    "#### 1. Apply to all values in a dataframe/ element-wise"
   ]
  },
  {
   "cell_type": "code",
   "execution_count": 1,
   "id": "38bf09e0-0bcc-4a5a-8fad-d21127be2b41",
   "metadata": {},
   "outputs": [
    {
     "ename": "NameError",
     "evalue": "name 'df_b' is not defined",
     "output_type": "error",
     "traceback": [
      "\u001b[1;31m---------------------------------------------------------------------------\u001b[0m",
      "\u001b[1;31mNameError\u001b[0m                                 Traceback (most recent call last)",
      "\u001b[1;32m<ipython-input-1-82f35389d824>\u001b[0m in \u001b[0;36m<module>\u001b[1;34m\u001b[0m\n\u001b[1;32m----> 1\u001b[1;33m \u001b[0mdf_b\u001b[0m\u001b[1;33m.\u001b[0m\u001b[0mapplymap\u001b[0m\u001b[1;33m(\u001b[0m\u001b[0mtype\u001b[0m\u001b[1;33m)\u001b[0m\u001b[1;33m\u001b[0m\u001b[1;33m\u001b[0m\u001b[0m\n\u001b[0m",
      "\u001b[1;31mNameError\u001b[0m: name 'df_b' is not defined"
     ]
    }
   ],
   "source": [
    "df_b.applymap(type)"
   ]
  }
 ],
 "metadata": {
  "kernelspec": {
   "display_name": "Python 3",
   "language": "python",
   "name": "python3"
  },
  "language_info": {
   "codemirror_mode": {
    "name": "ipython",
    "version": 3
   },
   "file_extension": ".py",
   "mimetype": "text/x-python",
   "name": "python",
   "nbconvert_exporter": "python",
   "pygments_lexer": "ipython3",
   "version": "3.8.8"
  }
 },
 "nbformat": 4,
 "nbformat_minor": 5
}
