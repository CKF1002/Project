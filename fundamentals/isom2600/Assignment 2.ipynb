{
 "cells": [
  {
   "cell_type": "markdown",
   "metadata": {},
   "source": [
    "# Assignment 2"
   ]
  },
  {
   "cell_type": "code",
   "execution_count": null,
   "metadata": {},
   "outputs": [],
   "source": [
    "# Pandas is for using data structures\n",
    "import pandas as pd\n",
    "# numpy is for numerical computing of array and matrix\n",
    "import numpy as np\n",
    "# Matplotlib is a plotting package\n",
    "import matplotlib.pyplot as plt\n",
    "# matplotlib Showing the plot right after the current code  \n",
    "%matplotlib inline\n",
    "import warnings\n",
    "warnings.filterwarnings('ignore')\n",
    "import statsmodels.api as sm"
   ]
  },
  {
   "cell_type": "code",
   "execution_count": null,
   "metadata": {},
   "outputs": [],
   "source": [
    "car = pd.read_csv('CarPrice.csv',sep=\",\")\n",
    "N_car = car.shape\n",
    "N_car"
   ]
  },
  {
   "cell_type": "code",
   "execution_count": null,
   "metadata": {},
   "outputs": [],
   "source": [
    "car.head()"
   ]
  },
  {
   "cell_type": "markdown",
   "metadata": {},
   "source": [
    "# Q1: Preparing indicator variables"
   ]
  },
  {
   "cell_type": "code",
   "execution_count": null,
   "metadata": {},
   "outputs": [],
   "source": [
    "############## Complete the code below ##############\n",
    "# Task: Create indicator variable for 'enginelocation', set front to be 1 and 0 otherwise\n",
    "# Replace $fill your code$ by the correct coding, 'fueltype' and 'doornumber' have been completed for your reference\n",
    "car['fuel-gas']=(car['fueltype']=='gas')*1\n",
    "car['door-two']=(car['doornumber']=='two')*1\n",
    "car['engine-front']= $fill your code$\n",
    "############## End of your code ##############\n",
    "\n",
    "# Drop the original variables of the dataframe\n",
    "car.drop(columns=['fueltype','doornumber','enginelocation'],inplace=True)"
   ]
  },
  {
   "cell_type": "markdown",
   "metadata": {},
   "source": [
    "# Q2: Log transformation"
   ]
  },
  {
   "cell_type": "code",
   "execution_count": null,
   "metadata": {},
   "outputs": [],
   "source": [
    "# Visualize the relationship between price and each variables; most of them have curve pattern\n",
    "# So it is suggested to apply log transformation on price\n",
    "import seaborn as sns \n",
    "sns.pairplot(car,y_vars=['price'],x_vars=car.columns)"
   ]
  },
  {
   "cell_type": "code",
   "execution_count": null,
   "metadata": {},
   "outputs": [],
   "source": [
    "############## Complete the code below ##############\n",
    "# Task: Apply log transformation on 'price' and store the transformed data to 'logPrice' in the dataframe; \n",
    "# 'logPrice' will be the response variable for the rest\n",
    "# Replace $fill your code$ by the correct coding\n",
    "# Hints: using log function in numpy package\n",
    "car['logPrice']=$fill your code$\n",
    "############## End of your code ##############"
   ]
  },
  {
   "cell_type": "code",
   "execution_count": null,
   "metadata": {},
   "outputs": [],
   "source": [
    "# Visualize the relationship between logPrice and each variables;\n",
    "sns.pairplot(car,y_vars=['logPrice'],x_vars=car.columns)"
   ]
  },
  {
   "cell_type": "markdown",
   "metadata": {},
   "source": [
    "# Split data into training and testing set\n",
    "- we will use training set for Q3-4\n",
    "- we will use test set for Q5"
   ]
  },
  {
   "cell_type": "code",
   "execution_count": null,
   "metadata": {},
   "outputs": [],
   "source": [
    "car_copy = car.copy()\n",
    "# Training set\n",
    "train_set = car_copy.sample(frac=0.70, random_state=2600)\n",
    "# Test set\n",
    "test_set = car_copy.drop(train_set.index)\n",
    "train_set.shape, test_set.shape"
   ]
  },
  {
   "cell_type": "code",
   "execution_count": null,
   "metadata": {},
   "outputs": [],
   "source": [
    "# X and Y in the trainig set\n",
    "Y=train_set['logPrice']\n",
    "X=train_set.drop(columns=['price','logPrice'])"
   ]
  },
  {
   "cell_type": "markdown",
   "metadata": {},
   "source": [
    "# Best Subset Selection\n"
   ]
  },
  {
   "cell_type": "code",
   "execution_count": null,
   "metadata": {},
   "outputs": [],
   "source": [
    "# Remember to put the 'model_selection.py' in the folder 'model_selection', \n",
    "# and put such folder in the same working directory of this jupyter notebook\n",
    "from model_selection import model_selection as MS"
   ]
  },
  {
   "cell_type": "markdown",
   "metadata": {},
   "source": [
    "# Q3a: Running best subset selection"
   ]
  },
  {
   "cell_type": "code",
   "execution_count": null,
   "metadata": {},
   "outputs": [],
   "source": [
    "############## Complete the code below ##############\n",
    "# Task: Apply best subset selection and put the result to 'best_result' \n",
    "# Replace $fill your code$ by the correct coding\n",
    "# Hints: 'best_subset()' in model_selection package\n",
    "best_result=$fill your code$\n",
    "############## End of your code ##############\n",
    "best_result"
   ]
  },
  {
   "cell_type": "markdown",
   "metadata": {},
   "source": [
    "# Model.1 - Best Subset by AIC"
   ]
  },
  {
   "cell_type": "code",
   "execution_count": null,
   "metadata": {},
   "outputs": [],
   "source": [
    "X_feature_AIC=best_result['AIC'].dropna()\n",
    "fit_AIC = sm.OLS(train_set['logPrice'], sm.add_constant(train_set[X_feature_AIC])).fit()\n",
    "print(fit_AIC.summary())"
   ]
  },
  {
   "cell_type": "markdown",
   "metadata": {},
   "source": [
    "# Q3b: Model.2 - Best Subset by BIC"
   ]
  },
  {
   "cell_type": "code",
   "execution_count": null,
   "metadata": {},
   "outputs": [],
   "source": [
    "############## Complete the code below ##############\n",
    "# Task: Fitting the best subset model according to BIC \n",
    "# Replace $fill your code$ by the correct coding, you may refernce to the previous block of Model.1\n",
    "X_feature_BIC = $fill your code$\n",
    "fit_BIC = $fill your code$\n",
    "############## End of your code ##############\n",
    "print(fit_BIC.summary())"
   ]
  },
  {
   "cell_type": "markdown",
   "metadata": {},
   "source": [
    "# Forward selection"
   ]
  },
  {
   "cell_type": "markdown",
   "metadata": {},
   "source": [
    "# Q4a: Running forward selection"
   ]
  },
  {
   "cell_type": "code",
   "execution_count": null,
   "metadata": {},
   "outputs": [],
   "source": [
    "############## Complete the code below ##############\n",
    "# Task: Apply forward selection and put the result to 'forward_result' \n",
    "# Replace $fill your code$ by the correct coding\n",
    "# Hints: 'forward_selection()' in model_selection package\n",
    "forward_result=$fill your code$\n",
    "############## End of your code ##############\n",
    "forward_result"
   ]
  },
  {
   "cell_type": "markdown",
   "metadata": {},
   "source": [
    "# Model.3 - Forward selection (AIC)"
   ]
  },
  {
   "cell_type": "code",
   "execution_count": null,
   "metadata": {},
   "outputs": [],
   "source": [
    "X_feature_AIC_FD = forward_result['AIC'].dropna()\n",
    "fit_forward_AIC = sm.OLS(train_set['logPrice'], sm.add_constant(train_set[X_feature_AIC_FD])).fit()\n",
    "print(fit_forward_AIC.summary())"
   ]
  },
  {
   "cell_type": "markdown",
   "metadata": {},
   "source": [
    "# Q4b: Model.4 - Forward selection (BIC)"
   ]
  },
  {
   "cell_type": "code",
   "execution_count": null,
   "metadata": {},
   "outputs": [],
   "source": [
    "############## Complete the code below ##############\n",
    "# Task: Fitting the forward selection model accoding to BIC \n",
    "# Replace $fill your code$ by the correct coding, you may refernce to the previous block of Model.3\n",
    "X_feature_BIC_FD = $fill your code$\n",
    "fit_forward_BIC = $fill your code$\n",
    "############## End of your code ##############\n",
    "print(fit_forward_BIC.summary())"
   ]
  },
  {
   "cell_type": "markdown",
   "metadata": {},
   "source": [
    "# Q5: Predictive measure by MSE\n",
    "- Calculate the MSE using test set data"
   ]
  },
  {
   "cell_type": "code",
   "execution_count": null,
   "metadata": {},
   "outputs": [],
   "source": [
    "# X and Y for test set\n",
    "Y_test=test_set['logPrice']\n",
    "X_test=test_set.drop(columns=['price','logPrice'])"
   ]
  },
  {
   "cell_type": "code",
   "execution_count": null,
   "metadata": {},
   "outputs": [],
   "source": [
    "############## Complete the code below ##############\n",
    "# Task: Calculate the MSE using test set data for forward selection model by AIC and BIC respectively\n",
    "# Replace $fill your code$ by the correct coding, you may refernce to code below for best subset selection by AIC/BIC\n",
    "\n",
    "from sklearn.metrics import mean_squared_error\n",
    "import statsmodels.api as sm\n",
    "\n",
    "# MSE for best subset selection by AIC/BIC\n",
    "mse_best_AIC = mean_squared_error(Y_test, fit_AIC.predict(sm.add_constant(X_test[X_feature_AIC])))\n",
    "mse_best_BIC = mean_squared_error(Y_test, fit_BIC.predict(sm.add_constant(X_test[X_feature_BIC])))\n",
    "\n",
    "# MSE for forward selection by AIC/BIC\n",
    "mse_forward_AIC = $fill your code$\n",
    "mse_forward_BIC = $fill your code$\n",
    "\n",
    "############## End of your code ##############\n",
    "\n",
    "print ('MSE.best.AIC:          %.5f'% mse_best_AIC)\n",
    "print ('MSE.best.BIC:          %.5f'% mse_best_BIC)\n",
    "print ('MSE.forward.AIC:        %.5f'% mse_forward_AIC)\n",
    "print ('MSE.forward.BIC:        %.5f'% mse_forward_BIC)\n"
   ]
  },
  {
   "cell_type": "markdown",
   "metadata": {},
   "source": [
    "* Model1/Model3 has the lowest MSE"
   ]
  },
  {
   "cell_type": "markdown",
   "metadata": {},
   "source": [
    "# Q6: Final model\n",
    "- Refit the minimum MSE model of above using full dataset"
   ]
  },
  {
   "cell_type": "code",
   "execution_count": null,
   "metadata": {},
   "outputs": [],
   "source": [
    "############## Complete the code below ##############\n",
    "# Task: Identify the mimimum MSE model in Q5, then using the full dataset (i.e. 'car') to fit the final model\n",
    "# Replace $fill your code$ by the correct coding\n",
    "\n",
    "final_model = $fill your code$\n",
    "\n",
    "############## End of your code ##############\n",
    "\n",
    "print(final_model.summary())"
   ]
  },
  {
   "cell_type": "markdown",
   "metadata": {},
   "source": [
    "# Q7: Understanding the model"
   ]
  },
  {
   "cell_type": "markdown",
   "metadata": {},
   "source": [
    "### a. Which predictors in the final model are not useful at 5% significant level?\n",
    "\n",
    "### b. Interpret the coefficient of 'carwidth' for log(price) in the final model.\n",
    "\n",
    "###  c. Interpret the coefficient of 'carwidth' for price in the final model.\n",
    "\n",
    "\n",
    "### d. There are two car models with the same setup but the engine location (front/rear), which one has a higher price under the final model?\n"
   ]
  },
  {
   "cell_type": "markdown",
   "metadata": {},
   "source": [
    "### Answer (Double-click  ℎ𝑒𝑟𝑒  to type your answer below):"
   ]
  }
 ],
 "metadata": {
  "kernelspec": {
   "display_name": "Python 3",
   "language": "python",
   "name": "python3"
  },
  "language_info": {
   "codemirror_mode": {
    "name": "ipython",
    "version": 3
   },
   "file_extension": ".py",
   "mimetype": "text/x-python",
   "name": "python",
   "nbconvert_exporter": "python",
   "pygments_lexer": "ipython3",
   "version": "3.7.4"
  }
 },
 "nbformat": 4,
 "nbformat_minor": 4
}
