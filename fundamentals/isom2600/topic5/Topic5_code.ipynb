{
 "cells": [
  {
   "cell_type": "markdown",
   "metadata": {
    "slideshow": {
     "slide_type": "slide"
    }
   },
   "source": [
    "# Lecture 6: Clustering Analysis"
   ]
  },
  {
   "cell_type": "markdown",
   "metadata": {
    "slideshow": {
     "slide_type": "slide"
    }
   },
   "source": [
    "### A financial data example"
   ]
  },
  {
   "cell_type": "markdown",
   "metadata": {
    "slideshow": {
     "slide_type": "fragment"
    }
   },
   "source": [
    "1. The financial performance data from January 1981 issue of *Forbes*."
   ]
  },
  {
   "cell_type": "markdown",
   "metadata": {
    "slideshow": {
     "slide_type": "fragment"
    }
   },
   "source": [
    "2. Table shows the data for 25 companies from three industries:\n",
    "    - chemical companies (the first 14)\n",
    "    - health care companies (15-19)\n",
    "    - supermakert companies (20-25)"
   ]
  },
  {
   "cell_type": "markdown",
   "metadata": {
    "slideshow": {
     "slide_type": "fragment"
    }
   },
   "source": [
    "3. Background of these companies\n",
    "    - Among the chemical companies, all of the large diversified firms were selected.\n",
    "    - From the major supermarket chains, the top six rated for return on equity were included.\n",
    "    - In the health care industry, four of the five companies included were those connected with hospital management; the remaining company involves hospital supplies and equipment (company 19)."
   ]
  },
  {
   "cell_type": "code",
   "execution_count": 6,
   "metadata": {
    "slideshow": {
     "slide_type": "skip"
    }
   },
   "outputs": [],
   "source": [
    "# Import the data\n",
    "import pandas as pd\n",
    "# Graph plotting\n",
    "import matplotlib.pyplot as plt\n",
    "# Disable warnings\n",
    "import warnings\n",
    "warnings.filterwarnings('ignore')"
   ]
  },
  {
   "cell_type": "code",
   "execution_count": 8,
   "metadata": {
    "slideshow": {
     "slide_type": "slide"
    }
   },
   "outputs": [
    {
     "data": {
      "text/html": [
       "<div>\n",
       "<style scoped>\n",
       "    .dataframe tbody tr th:only-of-type {\n",
       "        vertical-align: middle;\n",
       "    }\n",
       "\n",
       "    .dataframe tbody tr th {\n",
       "        vertical-align: top;\n",
       "    }\n",
       "\n",
       "    .dataframe thead th {\n",
       "        text-align: right;\n",
       "    }\n",
       "</style>\n",
       "<table border=\"1\" class=\"dataframe\">\n",
       "  <thead>\n",
       "    <tr style=\"text-align: right;\">\n",
       "      <th></th>\n",
       "      <th>TYPE</th>\n",
       "      <th>SYMBOL</th>\n",
       "      <th>OBSNO</th>\n",
       "      <th>ROR5</th>\n",
       "      <th>DE</th>\n",
       "      <th>SALESGR5</th>\n",
       "      <th>EPS5</th>\n",
       "      <th>NPM1</th>\n",
       "      <th>PE</th>\n",
       "      <th>PAYOUTR1</th>\n",
       "    </tr>\n",
       "  </thead>\n",
       "  <tbody>\n",
       "    <tr>\n",
       "      <td>1</td>\n",
       "      <td>Chem</td>\n",
       "      <td>dia</td>\n",
       "      <td>1</td>\n",
       "      <td>13.0</td>\n",
       "      <td>0.7</td>\n",
       "      <td>20.2</td>\n",
       "      <td>15.5</td>\n",
       "      <td>7.2</td>\n",
       "      <td>9</td>\n",
       "      <td>0.426398</td>\n",
       "    </tr>\n",
       "    <tr>\n",
       "      <td>2</td>\n",
       "      <td>Chem</td>\n",
       "      <td>dow</td>\n",
       "      <td>2</td>\n",
       "      <td>13.0</td>\n",
       "      <td>0.7</td>\n",
       "      <td>17.2</td>\n",
       "      <td>12.7</td>\n",
       "      <td>7.3</td>\n",
       "      <td>8</td>\n",
       "      <td>0.380693</td>\n",
       "    </tr>\n",
       "    <tr>\n",
       "      <td>3</td>\n",
       "      <td>Chem</td>\n",
       "      <td>stf</td>\n",
       "      <td>3</td>\n",
       "      <td>13.0</td>\n",
       "      <td>0.4</td>\n",
       "      <td>14.5</td>\n",
       "      <td>15.1</td>\n",
       "      <td>7.9</td>\n",
       "      <td>8</td>\n",
       "      <td>0.406780</td>\n",
       "    </tr>\n",
       "    <tr>\n",
       "      <td>4</td>\n",
       "      <td>Chem</td>\n",
       "      <td>dd</td>\n",
       "      <td>4</td>\n",
       "      <td>12.2</td>\n",
       "      <td>0.2</td>\n",
       "      <td>12.9</td>\n",
       "      <td>11.1</td>\n",
       "      <td>5.4</td>\n",
       "      <td>9</td>\n",
       "      <td>0.568182</td>\n",
       "    </tr>\n",
       "    <tr>\n",
       "      <td>5</td>\n",
       "      <td>Chem</td>\n",
       "      <td>uk</td>\n",
       "      <td>5</td>\n",
       "      <td>10.0</td>\n",
       "      <td>0.4</td>\n",
       "      <td>13.6</td>\n",
       "      <td>8.0</td>\n",
       "      <td>6.7</td>\n",
       "      <td>5</td>\n",
       "      <td>0.324544</td>\n",
       "    </tr>\n",
       "  </tbody>\n",
       "</table>\n",
       "</div>"
      ],
      "text/plain": [
       "   TYPE SYMBOL  OBSNO  ROR5   DE  SALESGR5  EPS5  NPM1  PE  PAYOUTR1\n",
       "1  Chem    dia      1  13.0  0.7      20.2  15.5   7.2   9  0.426398\n",
       "2  Chem    dow      2  13.0  0.7      17.2  12.7   7.3   8  0.380693\n",
       "3  Chem    stf      3  13.0  0.4      14.5  15.1   7.9   8  0.406780\n",
       "4  Chem     dd      4  12.2  0.2      12.9  11.1   5.4   9  0.568182\n",
       "5  Chem     uk      5  10.0  0.4      13.6   8.0   6.7   5  0.324544"
      ]
     },
     "execution_count": 8,
     "metadata": {},
     "output_type": "execute_result"
    }
   ],
   "source": [
    "Forbes = pd.read_csv('data/Cluster.csv')\n",
    "Forbes.index += 1\n",
    "Forbes.head()"
   ]
  },
  {
   "cell_type": "markdown",
   "metadata": {
    "slideshow": {
     "slide_type": "slide"
    }
   },
   "source": [
    "<font color='red' size=5>Details of the variables</font>\n",
    "\n",
    "- P/E: price-to-earnings ratio, which is the price of one share of common stock divided by the earnings per share for the last year. The ratio shows the dollar amount investors are willing to pay for the stock per dollar of current earnings of the company."
   ]
  },
  {
   "cell_type": "markdown",
   "metadata": {
    "slideshow": {
     "slide_type": "fragment"
    }
   },
   "source": [
    "- ROR5: percent rate of return on total capital (invested plus debt) averaged over the past five years."
   ]
  },
  {
   "cell_type": "markdown",
   "metadata": {
    "slideshow": {
     "slide_type": "fragment"
    }
   },
   "source": [
    "- D/E: debt-to-equity (invested capital) ratio for the last year. This ratio indicates the extent to which management is using borrowed funds to operate the company."
   ]
  },
  {
   "cell_type": "markdown",
   "metadata": {
    "slideshow": {
     "slide_type": "slide"
    }
   },
   "source": [
    "- SALESGR5: percent annual compound growth rate of sales, computed from the most recent five years compared with the previous five years."
   ]
  },
  {
   "cell_type": "markdown",
   "metadata": {
    "slideshow": {
     "slide_type": "fragment"
    }
   },
   "source": [
    "- EPS5: percent annual compound growth in earnings per share, computed from the most recent five years compared with the previous five years."
   ]
  },
  {
   "cell_type": "markdown",
   "metadata": {
    "slideshow": {
     "slide_type": "fragment"
    }
   },
   "source": [
    "- NPM1: percent net profit margin, which is the net profits divided by the net sales for the past year, expressed as a percentage."
   ]
  },
  {
   "cell_type": "markdown",
   "metadata": {
    "slideshow": {
     "slide_type": "fragment"
    }
   },
   "source": [
    "- PAYOUTR1: annual dividend divided by the lastest 12-month earnings per share. \n",
    "    This value represents the proportion of earnings paid out to shareholders rather than to operate and expand the company."
   ]
  },
  {
   "cell_type": "markdown",
   "metadata": {
    "slideshow": {
     "slide_type": "slide"
    }
   },
   "source": [
    "### Standardizing the variables"
   ]
  },
  {
   "cell_type": "code",
   "execution_count": 9,
   "metadata": {
    "slideshow": {
     "slide_type": "skip"
    }
   },
   "outputs": [],
   "source": [
    "# standardization of the continuous variables\n",
    "X = Forbes.iloc[:, 3:].values\n",
    "# import the function StandardScaler\n",
    "from sklearn.preprocessing import StandardScaler\n",
    "# fit_transform means to fit the model by the data and then transform the data by the fitted model\n",
    "X_scaled = StandardScaler().fit_transform(X) \n",
    "# make is as the dataframe\n",
    "X_d = pd.DataFrame(X_scaled, columns=['ROR5', 'DE', 'SALESGR5', 'EPS5', 'NPM1', 'PE', 'PAYOUTR1'], index= range(1, 26))"
   ]
  },
  {
   "cell_type": "code",
   "execution_count": 10,
   "metadata": {
    "slideshow": {
     "slide_type": "slide"
    }
   },
   "outputs": [
    {
     "data": {
      "text/html": [
       "<div>\n",
       "<style scoped>\n",
       "    .dataframe tbody tr th:only-of-type {\n",
       "        vertical-align: middle;\n",
       "    }\n",
       "\n",
       "    .dataframe tbody tr th {\n",
       "        vertical-align: top;\n",
       "    }\n",
       "\n",
       "    .dataframe thead th {\n",
       "        text-align: right;\n",
       "    }\n",
       "</style>\n",
       "<table border=\"1\" class=\"dataframe\">\n",
       "  <thead>\n",
       "    <tr style=\"text-align: right;\">\n",
       "      <th></th>\n",
       "      <th>ROR5</th>\n",
       "      <th>DE</th>\n",
       "      <th>SALESGR5</th>\n",
       "      <th>EPS5</th>\n",
       "      <th>NPM1</th>\n",
       "      <th>PE</th>\n",
       "      <th>PAYOUTR1</th>\n",
       "    </tr>\n",
       "  </thead>\n",
       "  <tbody>\n",
       "    <tr>\n",
       "      <td>1</td>\n",
       "      <td>0.982788</td>\n",
       "      <td>-0.007511</td>\n",
       "      <td>0.437915</td>\n",
       "      <td>0.283215</td>\n",
       "      <td>1.315877</td>\n",
       "      <td>-0.242222</td>\n",
       "      <td>0.153676</td>\n",
       "    </tr>\n",
       "    <tr>\n",
       "      <td>2</td>\n",
       "      <td>0.982788</td>\n",
       "      <td>-0.007511</td>\n",
       "      <td>0.051519</td>\n",
       "      <td>-0.058008</td>\n",
       "      <td>1.361314</td>\n",
       "      <td>-0.451035</td>\n",
       "      <td>-0.221020</td>\n",
       "    </tr>\n",
       "    <tr>\n",
       "      <td>3</td>\n",
       "      <td>0.982788</td>\n",
       "      <td>-0.570864</td>\n",
       "      <td>-0.296236</td>\n",
       "      <td>0.234469</td>\n",
       "      <td>1.633941</td>\n",
       "      <td>-0.451035</td>\n",
       "      <td>-0.007155</td>\n",
       "    </tr>\n",
       "    <tr>\n",
       "      <td>4</td>\n",
       "      <td>0.674221</td>\n",
       "      <td>-0.946433</td>\n",
       "      <td>-0.502314</td>\n",
       "      <td>-0.252993</td>\n",
       "      <td>0.497997</td>\n",
       "      <td>-0.242222</td>\n",
       "      <td>1.316042</td>\n",
       "    </tr>\n",
       "    <tr>\n",
       "      <td>5</td>\n",
       "      <td>-0.174341</td>\n",
       "      <td>-0.570864</td>\n",
       "      <td>-0.412155</td>\n",
       "      <td>-0.630776</td>\n",
       "      <td>1.088688</td>\n",
       "      <td>-1.077472</td>\n",
       "      <td>-0.681338</td>\n",
       "    </tr>\n",
       "  </tbody>\n",
       "</table>\n",
       "</div>"
      ],
      "text/plain": [
       "       ROR5        DE  SALESGR5      EPS5      NPM1        PE  PAYOUTR1\n",
       "1  0.982788 -0.007511  0.437915  0.283215  1.315877 -0.242222  0.153676\n",
       "2  0.982788 -0.007511  0.051519 -0.058008  1.361314 -0.451035 -0.221020\n",
       "3  0.982788 -0.570864 -0.296236  0.234469  1.633941 -0.451035 -0.007155\n",
       "4  0.674221 -0.946433 -0.502314 -0.252993  0.497997 -0.242222  1.316042\n",
       "5 -0.174341 -0.570864 -0.412155 -0.630776  1.088688 -1.077472 -0.681338"
      ]
     },
     "execution_count": 10,
     "metadata": {},
     "output_type": "execute_result"
    }
   ],
   "source": [
    "X_d.head()"
   ]
  },
  {
   "cell_type": "markdown",
   "metadata": {
    "slideshow": {
     "slide_type": "slide"
    }
   },
   "source": [
    "## Hierarchical clustering"
   ]
  },
  {
   "cell_type": "code",
   "execution_count": 11,
   "metadata": {},
   "outputs": [],
   "source": [
    "# hierarchical clustering\n",
    "from scipy.cluster.hierarchy import dendrogram, linkage"
   ]
  },
  {
   "cell_type": "code",
   "execution_count": 12,
   "metadata": {
    "slideshow": {
     "slide_type": "skip"
    }
   },
   "outputs": [
    {
     "data": {
      "image/png": "[encoded data removed]",
      "text/plain": [
       "<Figure size 720x504 with 1 Axes>"
      ]
     },
     "metadata": {
      "needs_background": "light"
     },
     "output_type": "display_data"
    }
   ],
   "source": [
    "plt.figure(figsize=(10, 7))  \n",
    "plt.title(\"Dendogram\") \n",
    "Z = linkage(X_scaled, method='centroid', metric='euclidean')\n",
    "dendrogram(Z, labels = range(1, len(X_scaled) + 1))\n",
    "plt.xlabel('Company ID')\n",
    "plt.ylabel('distiance')\n",
    "plt.show()"
   ]
  },
  {
   "cell_type": "markdown",
   "metadata": {
    "slideshow": {
     "slide_type": "slide"
    }
   },
   "source": [
    "### Analysis of the results"
   ]
  },
  {
   "cell_type": "markdown",
   "metadata": {
    "slideshow": {
     "slide_type": "fragment"
    }
   },
   "source": [
    "- Companies 1, 2, and 3 form a single cluster, where there are 22 clusters."
   ]
  },
  {
   "cell_type": "markdown",
   "metadata": {
    "slideshow": {
     "slide_type": "fragment"
    }
   },
   "source": [
    "- At the opposite end, 15, 16, 17, and 18 form a single cluster at the step in which there are two clusters."
   ]
  },
  {
   "cell_type": "markdown",
   "metadata": {
    "slideshow": {
     "slide_type": "fragment"
    }
   },
   "source": [
    "- Company 22 stays by itself until there are only four clusters."
   ]
  },
  {
   "cell_type": "markdown",
   "metadata": {
    "slideshow": {
     "slide_type": "slide"
    }
   },
   "source": [
    "#### Chemical companies"
   ]
  },
  {
   "cell_type": "markdown",
   "metadata": {
    "slideshow": {
     "slide_type": "fragment"
    }
   },
   "source": [
    "- 13 of the chemical companies, all except no. 14 (rci), are clustered together with only one non-chemical firm, company 19 (ahs), when the number of clusters is eight."
   ]
  },
  {
   "cell_type": "markdown",
   "metadata": {
    "slideshow": {
     "slide_type": "fragment"
    }
   },
   "source": [
    "- The results are impressive when one considers that these are large diversified companies with varied emphasis, ranging from industrial chemicals to textiles to oil and gas production."
   ]
  },
  {
   "cell_type": "markdown",
   "metadata": {
    "slideshow": {
     "slide_type": "slide"
    }
   },
   "source": [
    "#### Hospitical management firms"
   ]
  },
  {
   "cell_type": "markdown",
   "metadata": {
    "slideshow": {
     "slide_type": "fragment"
    }
   },
   "source": [
    "- At the level of nine clusters, three of the four hospital management firms, companies 16, 17, and 18 (hca, nme, and ami) have been clustered together, and the other, company 15(hum), is added to that cluster before it is aggregated with any non-hospital management firms."
   ]
  },
  {
   "cell_type": "code",
   "execution_count": 13,
   "metadata": {
    "slideshow": {
     "slide_type": "fragment"
    }
   },
   "outputs": [
    {
     "data": {
      "text/html": [
       "<div>\n",
       "<style scoped>\n",
       "    .dataframe tbody tr th:only-of-type {\n",
       "        vertical-align: middle;\n",
       "    }\n",
       "\n",
       "    .dataframe tbody tr th {\n",
       "        vertical-align: top;\n",
       "    }\n",
       "\n",
       "    .dataframe thead th {\n",
       "        text-align: right;\n",
       "    }\n",
       "</style>\n",
       "<table border=\"1\" class=\"dataframe\">\n",
       "  <thead>\n",
       "    <tr style=\"text-align: right;\">\n",
       "      <th></th>\n",
       "      <th>ROR5</th>\n",
       "      <th>DE</th>\n",
       "      <th>SALESGR5</th>\n",
       "      <th>EPS5</th>\n",
       "      <th>NPM1</th>\n",
       "      <th>PE</th>\n",
       "      <th>PAYOUTR1</th>\n",
       "    </tr>\n",
       "  </thead>\n",
       "  <tbody>\n",
       "    <tr>\n",
       "      <td>15</td>\n",
       "      <td>-0.482909</td>\n",
       "      <td>3.748173</td>\n",
       "      <td>2.962363</td>\n",
       "      <td>2.586473</td>\n",
       "      <td>0.679748</td>\n",
       "      <td>2.263527</td>\n",
       "      <td>-0.137514</td>\n",
       "    </tr>\n",
       "    <tr>\n",
       "      <td>16</td>\n",
       "      <td>-0.598621</td>\n",
       "      <td>0.368057</td>\n",
       "      <td>1.416782</td>\n",
       "      <td>1.258139</td>\n",
       "      <td>1.088688</td>\n",
       "      <td>2.472339</td>\n",
       "      <td>-2.019718</td>\n",
       "    </tr>\n",
       "    <tr>\n",
       "      <td>17</td>\n",
       "      <td>-0.791476</td>\n",
       "      <td>0.931410</td>\n",
       "      <td>2.820685</td>\n",
       "      <td>1.392191</td>\n",
       "      <td>0.270809</td>\n",
       "      <td>1.845902</td>\n",
       "      <td>-0.857712</td>\n",
       "    </tr>\n",
       "    <tr>\n",
       "      <td>18</td>\n",
       "      <td>-0.560050</td>\n",
       "      <td>0.743626</td>\n",
       "      <td>0.682632</td>\n",
       "      <td>1.063155</td>\n",
       "      <td>0.770624</td>\n",
       "      <td>1.845902</td>\n",
       "      <td>-0.855351</td>\n",
       "    </tr>\n",
       "    <tr>\n",
       "      <td>19</td>\n",
       "      <td>0.944217</td>\n",
       "      <td>-0.758648</td>\n",
       "      <td>-0.103039</td>\n",
       "      <td>0.368521</td>\n",
       "      <td>0.634311</td>\n",
       "      <td>0.801840</td>\n",
       "      <td>-0.985030</td>\n",
       "    </tr>\n",
       "  </tbody>\n",
       "</table>\n",
       "</div>"
      ],
      "text/plain": [
       "        ROR5        DE  SALESGR5      EPS5      NPM1        PE  PAYOUTR1\n",
       "15 -0.482909  3.748173  2.962363  2.586473  0.679748  2.263527 -0.137514\n",
       "16 -0.598621  0.368057  1.416782  1.258139  1.088688  2.472339 -2.019718\n",
       "17 -0.791476  0.931410  2.820685  1.392191  0.270809  1.845902 -0.857712\n",
       "18 -0.560050  0.743626  0.682632  1.063155  0.770624  1.845902 -0.855351\n",
       "19  0.944217 -0.758648 -0.103039  0.368521  0.634311  0.801840 -0.985030"
      ]
     },
     "metadata": {},
     "output_type": "display_data"
    }
   ],
   "source": [
    "display(X_d.loc[15:19, :])"
   ]
  },
  {
   "cell_type": "markdown",
   "metadata": {
    "slideshow": {
     "slide_type": "fragment"
    }
   },
   "source": [
    "- From the data table, company 15 has clearly a different D/E value from others."
   ]
  },
  {
   "cell_type": "markdown",
   "metadata": {
    "slideshow": {
     "slide_type": "fragment"
    }
   },
   "source": [
    "- The misfit in this health group is company 19, clustered with chemerical firms."
   ]
  },
  {
   "cell_type": "markdown",
   "metadata": {
    "slideshow": {
     "slide_type": "fragment"
    }
   },
   "source": [
    "- In fact, company 19 is a large, established supplies and equipment firm."
   ]
  },
  {
   "cell_type": "markdown",
   "metadata": {
    "slideshow": {
     "slide_type": "slide"
    }
   },
   "source": [
    "#### Grocery firms"
   ]
  },
  {
   "cell_type": "markdown",
   "metadata": {
    "slideshow": {
     "slide_type": "fragment"
    }
   },
   "source": [
    "- The grocery firms does not cluster tightly."
   ]
  },
  {
   "cell_type": "code",
   "execution_count": 14,
   "metadata": {
    "slideshow": {
     "slide_type": "fragment"
    }
   },
   "outputs": [
    {
     "data": {
      "text/html": [
       "<div>\n",
       "<style scoped>\n",
       "    .dataframe tbody tr th:only-of-type {\n",
       "        vertical-align: middle;\n",
       "    }\n",
       "\n",
       "    .dataframe tbody tr th {\n",
       "        vertical-align: top;\n",
       "    }\n",
       "\n",
       "    .dataframe thead th {\n",
       "        text-align: right;\n",
       "    }\n",
       "</style>\n",
       "<table border=\"1\" class=\"dataframe\">\n",
       "  <thead>\n",
       "    <tr style=\"text-align: right;\">\n",
       "      <th></th>\n",
       "      <th>ROR5</th>\n",
       "      <th>DE</th>\n",
       "      <th>SALESGR5</th>\n",
       "      <th>EPS5</th>\n",
       "      <th>NPM1</th>\n",
       "      <th>PE</th>\n",
       "      <th>PAYOUTR1</th>\n",
       "    </tr>\n",
       "  </thead>\n",
       "  <tbody>\n",
       "    <tr>\n",
       "      <td>20</td>\n",
       "      <td>1.831350</td>\n",
       "      <td>-0.007511</td>\n",
       "      <td>-0.193198</td>\n",
       "      <td>-0.192060</td>\n",
       "      <td>-1.274074</td>\n",
       "      <td>-0.451035</td>\n",
       "      <td>1.568119</td>\n",
       "    </tr>\n",
       "    <tr>\n",
       "      <td>21</td>\n",
       "      <td>3.065621</td>\n",
       "      <td>-0.946433</td>\n",
       "      <td>-0.231837</td>\n",
       "      <td>-0.192060</td>\n",
       "      <td>-1.228636</td>\n",
       "      <td>-0.242222</td>\n",
       "      <td>1.399098</td>\n",
       "    </tr>\n",
       "    <tr>\n",
       "      <td>22</td>\n",
       "      <td>-0.212912</td>\n",
       "      <td>1.682547</td>\n",
       "      <td>-0.927349</td>\n",
       "      <td>1.355632</td>\n",
       "      <td>-1.501262</td>\n",
       "      <td>-0.868660</td>\n",
       "      <td>-1.743801</td>\n",
       "    </tr>\n",
       "    <tr>\n",
       "      <td>23</td>\n",
       "      <td>-0.212912</td>\n",
       "      <td>0.743626</td>\n",
       "      <td>0.141678</td>\n",
       "      <td>0.258842</td>\n",
       "      <td>-1.228636</td>\n",
       "      <td>-0.451035</td>\n",
       "      <td>-0.709818</td>\n",
       "    </tr>\n",
       "    <tr>\n",
       "      <td>24</td>\n",
       "      <td>-0.097199</td>\n",
       "      <td>-0.383080</td>\n",
       "      <td>-0.540953</td>\n",
       "      <td>0.587879</td>\n",
       "      <td>-1.546700</td>\n",
       "      <td>-0.868660</td>\n",
       "      <td>0.377756</td>\n",
       "    </tr>\n",
       "    <tr>\n",
       "      <td>25</td>\n",
       "      <td>-0.482909</td>\n",
       "      <td>0.555841</td>\n",
       "      <td>-0.669752</td>\n",
       "      <td>-1.057305</td>\n",
       "      <td>-1.592138</td>\n",
       "      <td>-0.659847</td>\n",
       "      <td>1.535622</td>\n",
       "    </tr>\n",
       "  </tbody>\n",
       "</table>\n",
       "</div>"
      ],
      "text/plain": [
       "        ROR5        DE  SALESGR5      EPS5      NPM1        PE  PAYOUTR1\n",
       "20  1.831350 -0.007511 -0.193198 -0.192060 -1.274074 -0.451035  1.568119\n",
       "21  3.065621 -0.946433 -0.231837 -0.192060 -1.228636 -0.242222  1.399098\n",
       "22 -0.212912  1.682547 -0.927349  1.355632 -1.501262 -0.868660 -1.743801\n",
       "23 -0.212912  0.743626  0.141678  0.258842 -1.228636 -0.451035 -0.709818\n",
       "24 -0.097199 -0.383080 -0.540953  0.587879 -1.546700 -0.868660  0.377756\n",
       "25 -0.482909  0.555841 -0.669752 -1.057305 -1.592138 -0.659847  1.535622"
      ]
     },
     "metadata": {},
     "output_type": "display_data"
    }
   ],
   "source": [
    "display(X_d.loc[20:, :])"
   ]
  },
  {
   "cell_type": "markdown",
   "metadata": {
    "slideshow": {
     "slide_type": "slide"
    }
   },
   "source": [
    "- From the table, they vary substantially on most variables. Company 22 is highly leveraged (high DE) and company 21 has low leverage (low DE) relative to others."
   ]
  },
  {
   "cell_type": "markdown",
   "metadata": {
    "slideshow": {
     "slide_type": "slide"
    }
   },
   "source": [
    "- Import disparities:"
   ]
  },
  {
   "cell_type": "markdown",
   "metadata": {
    "slideshow": {
     "slide_type": "fragment"
    }
   },
   "source": [
    "1. Three of them, companies 21, 24, and 25 (win, ka, sa), are three of the four largest United States grocery supermarket chains."
   ]
  },
  {
   "cell_type": "markdown",
   "metadata": {
    "slideshow": {
     "slide_type": "fragment"
    }
   },
   "source": [
    "2. Tow others, companies 20 and 22 (kls, sgl), have a diversified mix of grocery, drug, department, and other stores."
   ]
  },
  {
   "cell_type": "markdown",
   "metadata": {
    "slideshow": {
     "slide_type": "fragment"
    }
   },
   "source": [
    "3. The remainin firm, company 23 (slc) concentrates on convenient stores (7-Eleven) and has a substantial franchising operation."
   ]
  },
  {
   "cell_type": "markdown",
   "metadata": {
    "slideshow": {
     "slide_type": "fragment"
    }
   },
   "source": [
    "4. Thus, the six are quite different from each other."
   ]
  },
  {
   "cell_type": "markdown",
   "metadata": {
    "slideshow": {
     "slide_type": "slide"
    }
   },
   "source": [
    "Let us pick $K=3$ and run the hierarchical clustering model."
   ]
  },
  {
   "cell_type": "markdown",
   "metadata": {},
   "source": [
    "In sklearn, AgglomerativeClustering does not provide centroid linkage. We will try to use average linkage instead."
   ]
  },
  {
   "cell_type": "code",
   "execution_count": 15,
   "metadata": {},
   "outputs": [],
   "source": [
    "from sklearn.cluster import AgglomerativeClustering"
   ]
  },
  {
   "cell_type": "code",
   "execution_count": 16,
   "metadata": {},
   "outputs": [
    {
     "data": {
      "image/png": "[encoded data removed]",
      "text/plain": [
       "<Figure size 720x504 with 1 Axes>"
      ]
     },
     "metadata": {
      "needs_background": "light"
     },
     "output_type": "display_data"
    }
   ],
   "source": [
    "plt.figure(figsize=(10, 7))  \n",
    "plt.title(\"Dendogram\") \n",
    "Z = linkage(X_scaled, method='average', metric='euclidean')\n",
    "dendrogram(Z, labels = range(1, len(X_scaled) + 1))\n",
    "plt.xlabel('Company ID')\n",
    "plt.ylabel('distiance')\n",
    "plt.show()"
   ]
  },
  {
   "cell_type": "code",
   "execution_count": 17,
   "metadata": {},
   "outputs": [],
   "source": [
    "hier = AgglomerativeClustering(n_clusters = 3, linkage = 'average', affinity = 'euclidean').fit(X_d)\n",
    "hier_labels = hier.labels_\n",
    "# sklearn does not provide centroid linkage."
   ]
  },
  {
   "cell_type": "code",
   "execution_count": 18,
   "metadata": {},
   "outputs": [
    {
     "name": "stdout",
     "output_type": "stream",
     "text": [
      "[0 0 0 0 0 0 0 0 0 0 0 0 0 0 2 1 1 1 0 0 0 0 0 0 0]\n"
     ]
    }
   ],
   "source": [
    "print(hier_labels)"
   ]
  },
  {
   "cell_type": "markdown",
   "metadata": {},
   "source": [
    "### Analysis of the results"
   ]
  },
  {
   "cell_type": "markdown",
   "metadata": {},
   "source": [
    "- In AgglomerativeClustering, linkage corresponds to method and affinity corresponds to metric in linkage function provided by scipy."
   ]
  },
  {
   "cell_type": "markdown",
   "metadata": {},
   "source": [
    "- The result is different from that using centroid linkage. It is because the distance between clusters is different for different linkage. Therefore, the model merges different clusters together when using different linkage."
   ]
  },
  {
   "cell_type": "markdown",
   "metadata": {},
   "source": [
    "- However, the variation of the results is not too large. Most of the previous interpretation is coherent with the dendrogram when using average linkage."
   ]
  },
  {
   "cell_type": "markdown",
   "metadata": {
    "slideshow": {
     "slide_type": "slide"
    }
   },
   "source": [
    "## K-means"
   ]
  },
  {
   "cell_type": "markdown",
   "metadata": {
    "slideshow": {
     "slide_type": "slide"
    }
   },
   "source": [
    "How to choose $k$? Use Elbow rule."
   ]
  },
  {
   "cell_type": "code",
   "execution_count": 19,
   "metadata": {},
   "outputs": [],
   "source": [
    "from sklearn.cluster import KMeans"
   ]
  },
  {
   "cell_type": "code",
   "execution_count": 20,
   "metadata": {
    "slideshow": {
     "slide_type": "notes"
    }
   },
   "outputs": [],
   "source": [
    "wss = [ ]\n",
    "for i in range(1, 11):\n",
    "    kmeans = KMeans(n_clusters = i)\n",
    "    kmeans.fit(X_d)\n",
    "    wss.append(kmeans.inertia_)"
   ]
  },
  {
   "cell_type": "code",
   "execution_count": 21,
   "metadata": {
    "slideshow": {
     "slide_type": "fragment"
    }
   },
   "outputs": [
    {
     "data": {
      "image/png": "[encoded data removed]",
      "text/plain": [
       "<Figure size 720x720 with 1 Axes>"
      ]
     },
     "metadata": {
      "needs_background": "light"
     },
     "output_type": "display_data"
    }
   ],
   "source": [
    "plt.figure(figsize=(10,10))\n",
    "plt.plot(range(1, 11), wss, '-o')\n",
    "plt.title('Elbow Plot')\n",
    "plt.xlabel('Number of cluster k')\n",
    "plt.ylabel('Within group Sum of Square')\n",
    "plt.show()"
   ]
  },
  {
   "cell_type": "markdown",
   "metadata": {
    "slideshow": {
     "slide_type": "slide"
    }
   },
   "source": [
    "Let us pick $K=3$ and run the $K$-means algorithm."
   ]
  },
  {
   "cell_type": "code",
   "execution_count": 22,
   "metadata": {
    "slideshow": {
     "slide_type": "skip"
    }
   },
   "outputs": [],
   "source": [
    "kmeans = KMeans(n_clusters=3, random_state=100)\n",
    "kmeans.fit(X_scaled)\n",
    "#print('Cluster membership:\\n{}'.format(kmeans.labels_))\n",
    "# or use the predict function\n",
    "kmeans_labels = kmeans.predict(X_scaled)"
   ]
  },
  {
   "cell_type": "code",
   "execution_count": 23,
   "metadata": {
    "slideshow": {
     "slide_type": "fragment"
    }
   },
   "outputs": [
    {
     "name": "stdout",
     "output_type": "stream",
     "text": [
      "[1 1 1 1 2 2 2 2 2 2 2 2 2 2 0 0 0 0 1 1 1 2 2 2 2]\n"
     ]
    }
   ],
   "source": [
    "print(kmeans_labels)"
   ]
  },
  {
   "cell_type": "code",
   "execution_count": 24,
   "metadata": {
    "slideshow": {
     "slide_type": "fragment"
    }
   },
   "outputs": [
    {
     "data": {
      "text/html": [
       "<div>\n",
       "<style scoped>\n",
       "    .dataframe tbody tr th:only-of-type {\n",
       "        vertical-align: middle;\n",
       "    }\n",
       "\n",
       "    .dataframe tbody tr th {\n",
       "        vertical-align: top;\n",
       "    }\n",
       "\n",
       "    .dataframe thead th {\n",
       "        text-align: right;\n",
       "    }\n",
       "</style>\n",
       "<table border=\"1\" class=\"dataframe\">\n",
       "  <thead>\n",
       "    <tr style=\"text-align: right;\">\n",
       "      <th></th>\n",
       "      <th>TYPE</th>\n",
       "      <th>kmeans_label</th>\n",
       "      <th>hierarchical_label</th>\n",
       "    </tr>\n",
       "  </thead>\n",
       "  <tbody>\n",
       "    <tr>\n",
       "      <td>1</td>\n",
       "      <td>Chem</td>\n",
       "      <td>1</td>\n",
       "      <td>0</td>\n",
       "    </tr>\n",
       "    <tr>\n",
       "      <td>2</td>\n",
       "      <td>Chem</td>\n",
       "      <td>1</td>\n",
       "      <td>0</td>\n",
       "    </tr>\n",
       "    <tr>\n",
       "      <td>3</td>\n",
       "      <td>Chem</td>\n",
       "      <td>1</td>\n",
       "      <td>0</td>\n",
       "    </tr>\n",
       "    <tr>\n",
       "      <td>4</td>\n",
       "      <td>Chem</td>\n",
       "      <td>1</td>\n",
       "      <td>0</td>\n",
       "    </tr>\n",
       "    <tr>\n",
       "      <td>5</td>\n",
       "      <td>Chem</td>\n",
       "      <td>2</td>\n",
       "      <td>0</td>\n",
       "    </tr>\n",
       "    <tr>\n",
       "      <td>6</td>\n",
       "      <td>Chem</td>\n",
       "      <td>2</td>\n",
       "      <td>0</td>\n",
       "    </tr>\n",
       "    <tr>\n",
       "      <td>7</td>\n",
       "      <td>Chem</td>\n",
       "      <td>2</td>\n",
       "      <td>0</td>\n",
       "    </tr>\n",
       "    <tr>\n",
       "      <td>8</td>\n",
       "      <td>Chem</td>\n",
       "      <td>2</td>\n",
       "      <td>0</td>\n",
       "    </tr>\n",
       "    <tr>\n",
       "      <td>9</td>\n",
       "      <td>Chem</td>\n",
       "      <td>2</td>\n",
       "      <td>0</td>\n",
       "    </tr>\n",
       "    <tr>\n",
       "      <td>10</td>\n",
       "      <td>Chem</td>\n",
       "      <td>2</td>\n",
       "      <td>0</td>\n",
       "    </tr>\n",
       "    <tr>\n",
       "      <td>11</td>\n",
       "      <td>Chem</td>\n",
       "      <td>2</td>\n",
       "      <td>0</td>\n",
       "    </tr>\n",
       "    <tr>\n",
       "      <td>12</td>\n",
       "      <td>Chem</td>\n",
       "      <td>2</td>\n",
       "      <td>0</td>\n",
       "    </tr>\n",
       "    <tr>\n",
       "      <td>13</td>\n",
       "      <td>Chem</td>\n",
       "      <td>2</td>\n",
       "      <td>0</td>\n",
       "    </tr>\n",
       "    <tr>\n",
       "      <td>14</td>\n",
       "      <td>Chem</td>\n",
       "      <td>2</td>\n",
       "      <td>0</td>\n",
       "    </tr>\n",
       "    <tr>\n",
       "      <td>15</td>\n",
       "      <td>Heal</td>\n",
       "      <td>0</td>\n",
       "      <td>2</td>\n",
       "    </tr>\n",
       "    <tr>\n",
       "      <td>16</td>\n",
       "      <td>Heal</td>\n",
       "      <td>0</td>\n",
       "      <td>1</td>\n",
       "    </tr>\n",
       "    <tr>\n",
       "      <td>17</td>\n",
       "      <td>Heal</td>\n",
       "      <td>0</td>\n",
       "      <td>1</td>\n",
       "    </tr>\n",
       "    <tr>\n",
       "      <td>18</td>\n",
       "      <td>Heal</td>\n",
       "      <td>0</td>\n",
       "      <td>1</td>\n",
       "    </tr>\n",
       "    <tr>\n",
       "      <td>19</td>\n",
       "      <td>Heal</td>\n",
       "      <td>1</td>\n",
       "      <td>0</td>\n",
       "    </tr>\n",
       "    <tr>\n",
       "      <td>20</td>\n",
       "      <td>Groc</td>\n",
       "      <td>1</td>\n",
       "      <td>0</td>\n",
       "    </tr>\n",
       "    <tr>\n",
       "      <td>21</td>\n",
       "      <td>Groc</td>\n",
       "      <td>1</td>\n",
       "      <td>0</td>\n",
       "    </tr>\n",
       "    <tr>\n",
       "      <td>22</td>\n",
       "      <td>Groc</td>\n",
       "      <td>2</td>\n",
       "      <td>0</td>\n",
       "    </tr>\n",
       "    <tr>\n",
       "      <td>23</td>\n",
       "      <td>Groc</td>\n",
       "      <td>2</td>\n",
       "      <td>0</td>\n",
       "    </tr>\n",
       "    <tr>\n",
       "      <td>24</td>\n",
       "      <td>Groc</td>\n",
       "      <td>2</td>\n",
       "      <td>0</td>\n",
       "    </tr>\n",
       "    <tr>\n",
       "      <td>25</td>\n",
       "      <td>Groc</td>\n",
       "      <td>2</td>\n",
       "      <td>0</td>\n",
       "    </tr>\n",
       "  </tbody>\n",
       "</table>\n",
       "</div>"
      ],
      "text/plain": [
       "    TYPE  kmeans_label  hierarchical_label\n",
       "1   Chem             1                   0\n",
       "2   Chem             1                   0\n",
       "3   Chem             1                   0\n",
       "4   Chem             1                   0\n",
       "5   Chem             2                   0\n",
       "6   Chem             2                   0\n",
       "7   Chem             2                   0\n",
       "8   Chem             2                   0\n",
       "9   Chem             2                   0\n",
       "10  Chem             2                   0\n",
       "11  Chem             2                   0\n",
       "12  Chem             2                   0\n",
       "13  Chem             2                   0\n",
       "14  Chem             2                   0\n",
       "15  Heal             0                   2\n",
       "16  Heal             0                   1\n",
       "17  Heal             0                   1\n",
       "18  Heal             0                   1\n",
       "19  Heal             1                   0\n",
       "20  Groc             1                   0\n",
       "21  Groc             1                   0\n",
       "22  Groc             2                   0\n",
       "23  Groc             2                   0\n",
       "24  Groc             2                   0\n",
       "25  Groc             2                   0"
      ]
     },
     "execution_count": 24,
     "metadata": {},
     "output_type": "execute_result"
    }
   ],
   "source": [
    "Forbes['kmeans_label'] = kmeans_labels\n",
    "Forbes['hierarchical_label'] = hier_labels\n",
    "Forbes[['TYPE', 'kmeans_label', 'hierarchical_label']]"
   ]
  },
  {
   "cell_type": "code",
   "execution_count": null,
   "metadata": {},
   "outputs": [],
   "source": []
  },
  {
   "cell_type": "code",
   "execution_count": null,
   "metadata": {},
   "outputs": [],
   "source": []
  },
  {
   "cell_type": "code",
   "execution_count": null,
   "metadata": {},
   "outputs": [],
   "source": []
  },
  {
   "cell_type": "code",
   "execution_count": null,
   "metadata": {},
   "outputs": [],
   "source": []
  }
 ],
 "metadata": {
  "celltoolbar": "Slideshow",
  "kernelspec": {
   "display_name": "Python 3",
   "language": "python",
   "name": "python3"
  },
  "language_info": {
   "codemirror_mode": {
    "name": "ipython",
    "version": 3
   },
   "file_extension": ".py",
   "mimetype": "text/x-python",
   "name": "python",
   "nbconvert_exporter": "python",
   "pygments_lexer": "ipython3",
   "version": "3.7.4"
  }
 },
 "nbformat": 4,
 "nbformat_minor": 4
}
