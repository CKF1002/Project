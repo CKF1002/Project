{
 "cells": [
  {
   "cell_type": "markdown",
   "metadata": {
    "toc": true
   },
   "source": [
    "<h1>Table of Contents<span class=\"tocSkip\"></span></h1>\n",
    "<div class=\"toc\"><ul class=\"toc-item\"><li><span><a href=\"#Preloading-Modules-and-Functions\" data-toc-modified-id=\"Preloading-Modules-and-Functions-1\">Preloading Modules and Functions</a></span></li><li><span><a href=\"#Main-Problem\" data-toc-modified-id=\"Main-Problem-2\">Main Problem</a></span></li><li><span><a href=\"#Feature-Selection\" data-toc-modified-id=\"Feature-Selection-3\">Feature Selection</a></span></li><li><span><a href=\"#Classification-with--Logistic-Regression-Model\" data-toc-modified-id=\"Classification-with--Logistic-Regression-Model-4\">Classification with  Logistic Regression Model</a></span></li><li><span><a href=\"#Model-Evaluation\" data-toc-modified-id=\"Model-Evaluation-5\">Model Evaluation</a></span><ul class=\"toc-item\"><li><span><a href=\"#Confusion-table\" data-toc-modified-id=\"Confusion-table-5.1\">Confusion table</a></span></li><li><span><a href=\"#K-S-Chart\" data-toc-modified-id=\"K-S-Chart-5.2\">K-S Chart</a></span></li><li><span><a href=\"#ROC-Chart\" data-toc-modified-id=\"ROC-Chart-5.3\">ROC Chart</a></span></li></ul></li></ul></div>"
   ]
  },
  {
   "cell_type": "markdown",
   "metadata": {},
   "source": [
    "## Preloading Modules and Functions"
   ]
  },
  {
   "cell_type": "code",
   "execution_count": 139,
   "metadata": {
    "slideshow": {
     "slide_type": "skip"
    }
   },
   "outputs": [],
   "source": [
    "# For using data structures\n",
    "import pandas as pd\n",
    "# Ploting the graphs\n",
    "import matplotlib.pyplot as plt\n",
    "# Numerical computing of array and matrix\n",
    "import numpy as np\n",
    "# Split Data into Train and test datasets\n",
    "from sklearn.model_selection import train_test_split\n",
    "# smf.logit for logistic regression\n",
    "import statsmodels.api as smf \n",
    "# add intercept term for logistic regression model.\n",
    "from statsmodels.tools.tools import add_constant "
   ]
  },
  {
   "cell_type": "markdown",
   "metadata": {},
   "source": [
    "**confusionTable(X_Train,Y_Train,Prob_Train, cutoff=0.5)**  is the function to calculate the confusion table \n",
    "\n",
    "- input:\n",
    "    - X_Train: Predictors\n",
    "    - Y_Train: real Y value\n",
    "    - Prob_Train: Probability of success (Y=1) computed from logistic regression model\n",
    "    - cutoff: the threshold of probaility, above which, the individual is predicted to be y=1\n",
    "- output:\n",
    "    - The confusion table "
   ]
  },
  {
   "cell_type": "code",
   "execution_count": 140,
   "metadata": {},
   "outputs": [],
   "source": [
    "def confusionTable(X_Train,Y_Train,Prob_Train, cutoff=0.5):\n",
    "    # Assign '1' to 'Pred_Train' if the associated prob of success > cutoff\n",
    "    # Assign '0' to 'Pred_Train' if the associated prob of success <= cutoff\n",
    "    Pred_Train=[1 if x>cutoff else 0 for x in Prob_Train]\n",
    "    \n",
    "    # Assign the True Negative(TN), False Negative(FN), False Positive(FP), True Positive(TP) to the table\n",
    "    confusion_train=pd.crosstab(np.array(Pred_Train),Y_Train)\n",
    "    \n",
    "    # Compute the Positive Predictive Value(PPV) = TP/(FP+TP)\n",
    "    PPV=confusion_train.iloc[1,1]/(confusion_train.iloc[1,1]+confusion_train.iloc[1,0])\n",
    "    # Compute the Negative Predictive Value(NPV) = TN/(FN+TN)\n",
    "    NPV=confusion_train.iloc[0,0]/(confusion_train.iloc[0,0]+confusion_train.iloc[0,1])\n",
    "    # Compute the Accuracy = (TP+TN)/(TP+FP+FN+TN)\n",
    "    accuracy=(confusion_train.iloc[1,1]+confusion_train.iloc[0,0])/(confusion_train.iloc[0,0]+confusion_train.iloc[0,1]+confusion_train.iloc[1,1]+confusion_train.iloc[1,0])\n",
    "    # Add a new column 'PV' with two values: NPV, PPV\n",
    "    confusion_train['PV']=[NPV,PPV]\n",
    "    \n",
    "    # Compute the Specificity = TN/(FP+TN)\n",
    "    FPR=confusion_train.iloc[1,0]/(confusion_train.iloc[1,0]+confusion_train.iloc[0,0])\n",
    "    # Compute the Sensitivity = TP/(TP+FN)\n",
    "    TPR=confusion_train.iloc[1,1]/(confusion_train.iloc[1,1]+confusion_train.iloc[0,1])\n",
    "    # Add a new row 'SS' with three values: Specificity, Sensitivity, Accuracy\n",
    "    confusion_train.loc['PR']=[FPR, TPR,accuracy]\n",
    "    \n",
    "    return confusion_train"
   ]
  },
  {
   "cell_type": "markdown",
   "metadata": {},
   "source": [
    "**KS_chart(Y_Train,Prob_Train,fgsize=6)**  is the function to plot KS chart.\n",
    "\n",
    "- input:\n",
    "    - Y_Train: real Y value\n",
    "    - Prob_Train: Probability of success (Y=1) computed from logistic regression model\n",
    "    - fgsize: The size of the figure\n",
    "- output:\n",
    "    - The KS chart, The KS Measure, The Cutoff Probability"
   ]
  },
  {
   "cell_type": "code",
   "execution_count": 141,
   "metadata": {},
   "outputs": [],
   "source": [
    "def KS_chart(Y_Train,Prob_Train,fgsize=6):\n",
    "    # Build a DataFrame 'df' storing 'Prob_Train' and 'Y_Train' for further usage.\n",
    "    df=pd.DataFrame()\n",
    "    df[\"Prob\"]=Prob_Train\n",
    "    df[\"realY\"]=Y_Train\n",
    "    \n",
    "    # Reorder the rows of DataFrame 'df' in descending order according to the values in 'Prob'\n",
    "    sortPro=df.sort_values(['Prob'],ascending=False)\n",
    "   \n",
    "    \n",
    "    sortPro['TPR']=[sortPro.loc[:i,'realY'].sum()/(sortPro['realY']).sum() for i in sortPro.index]\n",
    "    # Percentage of Negative Case(PNC)\n",
    "    sortPro['FPR']=[(sortPro.loc[:i,'realY'].shape[0]-sortPro.loc[:i,'realY'].sum())/((sortPro['realY']).shape[0]-sortPro['realY'].sum() )  for i in sortPro.index]\n",
    "    # PNC-PPC\n",
    "    sortPro['K-S']=(1-sortPro['FPR'])-(1- sortPro['TPR'])\n",
    "    \n",
    "    # The largest absolute value in 'K-S'\n",
    "    KS_measure=np.abs(sortPro['K-S'][:]).max()\n",
    "    # The Cutoff probability that achieve KS Measure\n",
    "    cutoff=sortPro.loc[sortPro[\"K-S\"].idxmax(),\"Prob\"]\n",
    "    # KS Measure: The largest value in 'K-S'\n",
    "    ks_measure=sortPro[\"K-S\"].max()\n",
    "    \n",
    "    ###################################### Plot the KS Chart ################################################\n",
    "    # The size of the chart\n",
    "    plt.figure(figsize=(fgsize,fgsize))\n",
    "    # Plot the Percentage of Positive Case(PPC) with Red colour\n",
    "    plt.plot(sortPro[\"Prob\"], 1-sortPro['TPR'][:],'.-',color=\"red\", label=\"1-TPR\")\n",
    "    # Plot the Percentage of Negative Case(PNC) with Green colour\n",
    "    plt.plot(sortPro[\"Prob\"],  1-sortPro['FPR'][:],'.-',color=\"green\",label=\"1-FPR\")\n",
    "    \n",
    "    #plt.plot([0,1],[0,1],color='red')\n",
    "    \n",
    "    # The x-axis label\n",
    "    plt.xlabel('Cutoff Prob',size=20)\n",
    "    # The title of the KS Chart with KS Measure \n",
    "    plt.title('KS_chart with ks_measure  '+str(ks_measure),size=30)\n",
    "    # Set the x-axis limits\n",
    "    plt.xlim(0,1)\n",
    "    # Set the y-axis limits\n",
    "    plt.ylim(0,1)\n",
    "    plt.legend()\n",
    "    #section = np.arange(-1, 1, 1/20.)\n",
    "    #plt.fill_between(sortPro['Negative'][:], sortPro['Positive'][:], color=color )\n",
    "    \n",
    "    # Display the KS Chart\n",
    "    plt.show()\n",
    "    # Print the cutoff probability that achieve KS Measure\n",
    "    print(\"KS_measure is achieved when the cutoff probability is \",cutoff )\n",
    "   \n",
    "    \n",
    "    return ks_measure,cutoff"
   ]
  },
  {
   "cell_type": "markdown",
   "metadata": {},
   "source": [
    "**RocCurve(Y_Train,Prob_Train,size=6,color='pink')**  is the function to plot RoC with Area Under Curve(AUC).\n",
    "\n",
    "- input:\n",
    "    - Y_Train: real Y value\n",
    "    - Prob_Train: Probability of success (Y=1) computed from logistic regression model\n",
    "    - size: The size of the figure\n",
    "    - color: The color of the Area Under Curve(AUC)\n",
    "- output:\n",
    "    - The RoC with Area Under Curve(AUC)\n",
    "    - Value of Area Under Curve(AUC)"
   ]
  },
  {
   "cell_type": "code",
   "execution_count": 142,
   "metadata": {
    "slideshow": {
     "slide_type": "skip"
    }
   },
   "outputs": [],
   "source": [
    "def RocCurve(Y_Train,Prob_Train,size=6,color='pink'):\n",
    "    # Build a DataFrame 'df' storing 'Prob_Train' and 'Y_Train' for further usage.\n",
    "    df=pd.DataFrame()\n",
    "    df[\"Prob\"]=Prob_Train\n",
    "    df[\"realY\"]=Y_Train\n",
    "    \n",
    "    # Reorder the rows of DataFrame 'df' in ascending order according to the value in 'Prob'\n",
    "    sortData=df.sort_values(['Prob'])\n",
    "    \n",
    "    # True Positive Rate(TPR) = Sensitivity = TP/(TP+FN)\n",
    "    sortData['TP']=[sortData.loc[i:,'realY'].sum()/sortData['realY'].sum() for i in sortData.index]\n",
    "    # False Positive Rate(FPR) = 1-Specificity = FP/(FP+TN)\n",
    "    sortData['FP']=[(sortData.loc[i:,'realY'].shape[0]-sortData.loc[i:,'realY'].sum())/(sortData.shape[0]-sortData['realY'].sum()) for i in sortData.index]\n",
    "    # For calculating the Area Under Curve(AUC)\n",
    "    sortData['trapzoid']=0.5*(sortData['TP'].shift(-1)+sortData['TP'])*(sortData['FP']-sortData['FP'].shift(-1))\n",
    "    # Area Under Curve(AUC) = The sum of values of 'trapzoid'\n",
    "    AUC=sortData['trapzoid'].dropna().sum() \n",
    "    \n",
    "    ###################################### Plot the RoC with AUC Chart ###########################################\n",
    "    # Size of the chart\n",
    "    plt.figure(figsize=(size,size))\n",
    "    # x-axis: FPR, y-axis: TPR\n",
    "    plt.plot(sortData['FP'][:], sortData['TP'][:],'.-')\n",
    "    # Draw a reference line from (0,0) to (1,1)\n",
    "    plt.plot([0,1],[0,1],color='red')\n",
    "    # The x-axis label\n",
    "    plt.xlabel('False Positive Rate',size=20)\n",
    "    # The y-axis label\n",
    "    plt.ylabel('True Positive Rate',size=20)\n",
    "    # The title of the RoC with AUC Chart with the value of AUC \n",
    "    plt.title('ROC curve with AUC  '+str(AUC),size=30)\n",
    "    # Set the x-axis limits\n",
    "    plt.xlim(0,1)\n",
    "    # Set the y-axis limits\n",
    "    plt.ylim(0,1)\n",
    "    \n",
    "    #section = np.arange(-1, 1, 1/20.)\n",
    "    \n",
    "    # Fill the area\n",
    "    plt.fill_between(sortData['FP'][:], sortData['TP'][:], color=color )\n",
    "    # Display the RoC with AUC Chart\n",
    "    plt.show()\n",
    "    \n",
    "    return AUC"
   ]
  },
  {
   "cell_type": "markdown",
   "metadata": {},
   "source": [
    "**ReadData(Path,Yname)**  is the function to read the data set.\n",
    "\n",
    "- input:\n",
    "    - Path: The path of the data set\n",
    "    - Yname: The column's name of the response\n",
    "- output:\n",
    "    - Data of predictors\n",
    "    - Data of response"
   ]
  },
  {
   "cell_type": "code",
   "execution_count": 143,
   "metadata": {},
   "outputs": [],
   "source": [
    "def ReadData(Path,Yname):\n",
    "    # Read the data set\n",
    "    Data = pd.read_csv(Path)\n",
    "    # Assign the data of response to 'Y_Data'\n",
    "    Y_Data=Data[Yname]\n",
    "    # Assign the data of predictors to 'X_Data'\n",
    "    X_Data=Data.drop(columns=Yname)\n",
    "    \n",
    "    return X_Data,Y_Data\n",
    "    "
   ]
  },
  {
   "cell_type": "markdown",
   "metadata": {},
   "source": [
    "**FeatureSelection(X_Train,Y_Train,X_Test,Y_Test, Top=20, corr_cut=95)**  is the function to select the predictors.\n",
    "- input:\n",
    "    - X_Train: Predictors (Training Set)\n",
    "    - Y_Train: Response (Training Set)\n",
    "    - X_Test: Predictors (Test Set)\n",
    "    - Y_Test: Response (Test Set)\n",
    "    - Top: Number of predictors to consider\n",
    "    - corr_cut: The cutoff correlation\n",
    "- output:\n",
    "    - Training Set of Predictors after selection\n",
    "    - Training Set of Response\n",
    "    - Test Set of Predictors after selection\n",
    "    - Test Set of Response"
   ]
  },
  {
   "cell_type": "code",
   "execution_count": 144,
   "metadata": {},
   "outputs": [],
   "source": [
    "def FeatureSelection(X_Train,Y_Train,X_Test,Y_Test, Top=20, corr_cut=0.95):\n",
    "    # Build a DataFrame 'data' storing 'Y_Train' and 'X_Train' for further usage.\n",
    "    data=pd.DataFrame()\n",
    "    data[\"realY\"]=Y_Train\n",
    "    data[X_Train.columns]=X_Train\n",
    "    \n",
    "    # The absolute value of the correlation between the predictors and response\n",
    "    # Select the predictors that the values of correlation are the toppest 20\n",
    "    # Assign the associated index to 'topfeature'\n",
    "    topfeature=np.abs(data.corr()[\"realY\"]).sort_values(ascending=False).iloc[1:Top+1].index \n",
    "    \n",
    "    # The correlation of the 20 predictors in 'topfeature'\n",
    "    M=X_Train[topfeature].corr()\n",
    "    # Empty list for storage the column's name of the dropped predictors \n",
    "    droplist=[]\n",
    "    \n",
    "    for i in range(M.shape[0]):\n",
    "        for j in range(i):\n",
    "            # if the abs. correlation of a particular pair of predictors > 0.95, assign one of them to 'droplist'\n",
    "            if M.iloc[i,j]>corr_cut or M.iloc[i,j]<-corr_cut:\n",
    "                if topfeature[i] not in droplist and topfeature[j] not in droplist:\n",
    "                    droplist.append(topfeature[i])\n",
    "\n",
    "    return X_Train[topfeature].drop(columns=droplist),Y_Train,X_Test[topfeature].drop(columns=droplist),Y_Test\n",
    "\n",
    "    \n",
    "    "
   ]
  },
  {
   "cell_type": "markdown",
   "metadata": {
    "slideshow": {
     "slide_type": "slide"
    }
   },
   "source": [
    "## Main Problem\n",
    "In this topic, ee will use [Census Income Dataset](https://archive.ics.uci.edu/ml/datasets/adult) to predict whether an individual's income exceeds $50K/yr based on census data."
   ]
  },
  {
   "cell_type": "code",
   "execution_count": 145,
   "metadata": {},
   "outputs": [
    {
     "name": "stdout",
     "output_type": "stream",
     "text": [
      "(29792, 83) (29792,)\n"
     ]
    }
   ],
   "source": [
    "# Assign the data of predictors to 'X_Data'\n",
    "# Assign the data of response to 'Y_Data'\n",
    "X_Data,Y_Data =ReadData(\"classification_data/encoded_data.csv\", \"realY\")\n",
    "\n",
    "# Print the shape of 'X_Data' and 'Y_Data'\n",
    "print(X_Data.shape,Y_Data.shape)"
   ]
  },
  {
   "cell_type": "markdown",
   "metadata": {},
   "source": [
    "\"realY\"is the variable name  we try to predict: \n",
    "\n",
    "- realY=0 : the income is below $50K/yr\n",
    "\n",
    "- realY=1 : the income is above $50K/yr\n",
    "\n",
    "\n",
    "\n"
   ]
  },
  {
   "cell_type": "markdown",
   "metadata": {},
   "source": [
    "We have 29792 individual records (data size) and 83 predictors.  We will separate (X_Data, Y_Data) into (X_Train,Y_Train)and (X_Test, Y_Test) for the purpose of evaluation. "
   ]
  },
  {
   "cell_type": "code",
   "execution_count": 146,
   "metadata": {},
   "outputs": [
    {
     "name": "stdout",
     "output_type": "stream",
     "text": [
      "For Train:  (23833, 83) (23833,)\n",
      "For Test:  (5959, 83) (5959,)\n"
     ]
    }
   ],
   "source": [
    "# Imported train_test_slit from sklearn module. \n",
    "# test_size: the proportion of the dataset to include in the test split.\n",
    "# random_state: random seed = 42\n",
    "X_Train, X_Test, Y_Train, Y_Test = train_test_split(X_Data, Y_Data, test_size=0.2, random_state=42)\n",
    "print(\"For Train: \", X_Train.shape, Y_Train.shape)\n",
    "print(\"For Test: \", X_Test.shape,Y_Test.shape)"
   ]
  },
  {
   "cell_type": "markdown",
   "metadata": {
    "slideshow": {
     "slide_type": "subslide"
    }
   },
   "source": [
    "## Feature Selection\n",
    "\n",
    "\n",
    "There is a final step we need to complete before we build prediction model, **feature selection**:\n",
    "\n",
    "- We first selection predictors who have high correlation with outcome variable \"realY\"\n",
    "\n",
    "- If any pair of selected predictors are highly correlated, i.e. correlation>0.95 or <-0.95, we need to delete one of them. \n",
    "\n",
    "We save all steps in the Function: **FeatureSelection(X_Train,Y_Train,X_Test,Y_Test, Top=20, corr_cut=0.95)**. Check the details of codes if you are interested. \n"
   ]
  },
  {
   "cell_type": "code",
   "execution_count": 147,
   "metadata": {
    "slideshow": {
     "slide_type": "skip"
    }
   },
   "outputs": [],
   "source": [
    "X_Train,Y_Train,X_Test,Y_Test=FeatureSelection(X_Train,Y_Train,X_Test,Y_Test, Top=20, corr_cut=0.95)"
   ]
  },
  {
   "cell_type": "code",
   "execution_count": 148,
   "metadata": {
    "slideshow": {
     "slide_type": "subslide"
    }
   },
   "outputs": [
    {
     "name": "stdout",
     "output_type": "stream",
     "text": [
      "Index(['marital-status_Married', 'relationship_ Husband',\n",
      "       'marital-status_Never-Married', 'age_(16.927, 24.3]',\n",
      "       'relationship_ Own-child', 'sex_ Female', 'education-num_(14.5, 16.0]',\n",
      "       'capital-loss_(1742.4, 2613.6]', 'relationship_ Not-in-family',\n",
      "       'occupation_Office Labour', 'occupation_Professional',\n",
      "       'education-num_(8.5, 10.0]', 'education_Bachelors',\n",
      "       'education-num_(13.0, 14.5]', 'occupation_Service',\n",
      "       'hours-per-week_(40.2, 50.0]', 'education-num_(11.5, 13.0]',\n",
      "       'education_Dropout'],\n",
      "      dtype='object') (23833, 18)\n"
     ]
    }
   ],
   "source": [
    "# Print the names of the selected predictors\n",
    "print(X_Train.columns,X_Train.shape)"
   ]
  },
  {
   "cell_type": "markdown",
   "metadata": {
    "slideshow": {
     "slide_type": "subslide"
    }
   },
   "source": [
    "We first select 20 predictor who have the highest correlation with Outcome variable in **Train set**. With  corr_cut=0.95, we can cut two more predictors who have more absolute correlation=0.95 with other predictors.   "
   ]
  },
  {
   "cell_type": "code",
   "execution_count": null,
   "metadata": {},
   "outputs": [],
   "source": []
  },
  {
   "cell_type": "markdown",
   "metadata": {
    "slideshow": {
     "slide_type": "slide"
    }
   },
   "source": [
    "## Classification with  Logistic Regression Model\n",
    "\n",
    "- Logistic regression is designed as a binary classifier (output say {0,1}) but actually outputs the probability that the input instance is in the “1” class. \n"
   ]
  },
  {
   "cell_type": "markdown",
   "metadata": {
    "slideshow": {
     "slide_type": "fragment"
    }
   },
   "source": [
    "$$\n",
    "P(Y=1|x_1,x_2,\\ldots x_k)=\\frac{1}{1+exp(-(\\beta_0+\\beta_1x_1\\ldots+\\beta_kx_k))}\n",
    "$$\n",
    "Predictors of Logistic regression can be discrete or continuous, or categorical.  \n",
    "$$\n",
    "\\frac{p}{1-p}\n",
    "$$\n",
    "is the \"odds ratio\"\n",
    "$$log(\\frac{p}{1-p})=\\beta_0+\\beta_1x_1\\ldots+\\beta_kx_k$$\n",
    "is called log odds ratio or logit."
   ]
  },
  {
   "cell_type": "markdown",
   "metadata": {},
   "source": [
    "**Important:** by default, logistic  regression of statsmodels will **NOT include intercept**. if you want to add intercept in the regression, you need to use **statsmodels.tools.add_constant to add constant** in the X_Train"
   ]
  },
  {
   "cell_type": "code",
   "execution_count": 149,
   "metadata": {},
   "outputs": [],
   "source": [
    "X_Train=add_constant(X_Train)\n",
    "X_Test=add_constant(X_Test)"
   ]
  },
  {
   "cell_type": "code",
   "execution_count": 150,
   "metadata": {},
   "outputs": [
    {
     "data": {
      "text/plain": [
       "(23833, 19)"
      ]
     },
     "execution_count": 150,
     "metadata": {},
     "output_type": "execute_result"
    }
   ],
   "source": [
    "X_Train.shape"
   ]
  },
  {
   "cell_type": "code",
   "execution_count": 151,
   "metadata": {},
   "outputs": [
    {
     "data": {
      "text/html": [
       "<div>\n",
       "<style scoped>\n",
       "    .dataframe tbody tr th:only-of-type {\n",
       "        vertical-align: middle;\n",
       "    }\n",
       "\n",
       "    .dataframe tbody tr th {\n",
       "        vertical-align: top;\n",
       "    }\n",
       "\n",
       "    .dataframe thead th {\n",
       "        text-align: right;\n",
       "    }\n",
       "</style>\n",
       "<table border=\"1\" class=\"dataframe\">\n",
       "  <thead>\n",
       "    <tr style=\"text-align: right;\">\n",
       "      <th></th>\n",
       "      <th>const</th>\n",
       "      <th>marital-status_Married</th>\n",
       "      <th>relationship_ Husband</th>\n",
       "      <th>marital-status_Never-Married</th>\n",
       "      <th>age_(16.927, 24.3]</th>\n",
       "      <th>relationship_ Own-child</th>\n",
       "      <th>sex_ Female</th>\n",
       "      <th>education-num_(14.5, 16.0]</th>\n",
       "      <th>capital-loss_(1742.4, 2613.6]</th>\n",
       "      <th>relationship_ Not-in-family</th>\n",
       "      <th>occupation_Office Labour</th>\n",
       "      <th>occupation_Professional</th>\n",
       "      <th>education-num_(8.5, 10.0]</th>\n",
       "      <th>education_Bachelors</th>\n",
       "      <th>education-num_(13.0, 14.5]</th>\n",
       "      <th>occupation_Service</th>\n",
       "      <th>hours-per-week_(40.2, 50.0]</th>\n",
       "      <th>education-num_(11.5, 13.0]</th>\n",
       "      <th>education_Dropout</th>\n",
       "    </tr>\n",
       "  </thead>\n",
       "  <tbody>\n",
       "    <tr>\n",
       "      <td>15866</td>\n",
       "      <td>1.0</td>\n",
       "      <td>1</td>\n",
       "      <td>1</td>\n",
       "      <td>0</td>\n",
       "      <td>0</td>\n",
       "      <td>0</td>\n",
       "      <td>0</td>\n",
       "      <td>0</td>\n",
       "      <td>0</td>\n",
       "      <td>0</td>\n",
       "      <td>0</td>\n",
       "      <td>0</td>\n",
       "      <td>1</td>\n",
       "      <td>0</td>\n",
       "      <td>0</td>\n",
       "      <td>0</td>\n",
       "      <td>0</td>\n",
       "      <td>0</td>\n",
       "      <td>0</td>\n",
       "    </tr>\n",
       "    <tr>\n",
       "      <td>12036</td>\n",
       "      <td>1.0</td>\n",
       "      <td>1</td>\n",
       "      <td>1</td>\n",
       "      <td>0</td>\n",
       "      <td>0</td>\n",
       "      <td>0</td>\n",
       "      <td>0</td>\n",
       "      <td>0</td>\n",
       "      <td>0</td>\n",
       "      <td>0</td>\n",
       "      <td>1</td>\n",
       "      <td>0</td>\n",
       "      <td>1</td>\n",
       "      <td>0</td>\n",
       "      <td>0</td>\n",
       "      <td>0</td>\n",
       "      <td>0</td>\n",
       "      <td>0</td>\n",
       "      <td>0</td>\n",
       "    </tr>\n",
       "    <tr>\n",
       "      <td>5474</td>\n",
       "      <td>1.0</td>\n",
       "      <td>1</td>\n",
       "      <td>1</td>\n",
       "      <td>0</td>\n",
       "      <td>0</td>\n",
       "      <td>0</td>\n",
       "      <td>0</td>\n",
       "      <td>0</td>\n",
       "      <td>0</td>\n",
       "      <td>0</td>\n",
       "      <td>0</td>\n",
       "      <td>0</td>\n",
       "      <td>1</td>\n",
       "      <td>0</td>\n",
       "      <td>0</td>\n",
       "      <td>1</td>\n",
       "      <td>0</td>\n",
       "      <td>0</td>\n",
       "      <td>0</td>\n",
       "    </tr>\n",
       "    <tr>\n",
       "      <td>12471</td>\n",
       "      <td>1.0</td>\n",
       "      <td>1</td>\n",
       "      <td>1</td>\n",
       "      <td>0</td>\n",
       "      <td>0</td>\n",
       "      <td>0</td>\n",
       "      <td>0</td>\n",
       "      <td>0</td>\n",
       "      <td>0</td>\n",
       "      <td>0</td>\n",
       "      <td>1</td>\n",
       "      <td>0</td>\n",
       "      <td>0</td>\n",
       "      <td>1</td>\n",
       "      <td>0</td>\n",
       "      <td>0</td>\n",
       "      <td>0</td>\n",
       "      <td>1</td>\n",
       "      <td>0</td>\n",
       "    </tr>\n",
       "    <tr>\n",
       "      <td>16992</td>\n",
       "      <td>1.0</td>\n",
       "      <td>0</td>\n",
       "      <td>0</td>\n",
       "      <td>1</td>\n",
       "      <td>0</td>\n",
       "      <td>0</td>\n",
       "      <td>0</td>\n",
       "      <td>0</td>\n",
       "      <td>0</td>\n",
       "      <td>1</td>\n",
       "      <td>0</td>\n",
       "      <td>1</td>\n",
       "      <td>0</td>\n",
       "      <td>1</td>\n",
       "      <td>0</td>\n",
       "      <td>0</td>\n",
       "      <td>0</td>\n",
       "      <td>1</td>\n",
       "      <td>0</td>\n",
       "    </tr>\n",
       "  </tbody>\n",
       "</table>\n",
       "</div>"
      ],
      "text/plain": [
       "       const  marital-status_Married  relationship_ Husband  \\\n",
       "15866    1.0                       1                      1   \n",
       "12036    1.0                       1                      1   \n",
       "5474     1.0                       1                      1   \n",
       "12471    1.0                       1                      1   \n",
       "16992    1.0                       0                      0   \n",
       "\n",
       "       marital-status_Never-Married  age_(16.927, 24.3]  \\\n",
       "15866                             0                   0   \n",
       "12036                             0                   0   \n",
       "5474                              0                   0   \n",
       "12471                             0                   0   \n",
       "16992                             1                   0   \n",
       "\n",
       "       relationship_ Own-child  sex_ Female  education-num_(14.5, 16.0]  \\\n",
       "15866                        0            0                           0   \n",
       "12036                        0            0                           0   \n",
       "5474                         0            0                           0   \n",
       "12471                        0            0                           0   \n",
       "16992                        0            0                           0   \n",
       "\n",
       "       capital-loss_(1742.4, 2613.6]  relationship_ Not-in-family  \\\n",
       "15866                              0                            0   \n",
       "12036                              0                            0   \n",
       "5474                               0                            0   \n",
       "12471                              0                            0   \n",
       "16992                              0                            1   \n",
       "\n",
       "       occupation_Office Labour  occupation_Professional  \\\n",
       "15866                         0                        0   \n",
       "12036                         1                        0   \n",
       "5474                          0                        0   \n",
       "12471                         1                        0   \n",
       "16992                         0                        1   \n",
       "\n",
       "       education-num_(8.5, 10.0]  education_Bachelors  \\\n",
       "15866                          1                    0   \n",
       "12036                          1                    0   \n",
       "5474                           1                    0   \n",
       "12471                          0                    1   \n",
       "16992                          0                    1   \n",
       "\n",
       "       education-num_(13.0, 14.5]  occupation_Service  \\\n",
       "15866                           0                   0   \n",
       "12036                           0                   0   \n",
       "5474                            0                   1   \n",
       "12471                           0                   0   \n",
       "16992                           0                   0   \n",
       "\n",
       "       hours-per-week_(40.2, 50.0]  education-num_(11.5, 13.0]  \\\n",
       "15866                            0                           0   \n",
       "12036                            0                           0   \n",
       "5474                             0                           0   \n",
       "12471                            0                           1   \n",
       "16992                            0                           1   \n",
       "\n",
       "       education_Dropout  \n",
       "15866                  0  \n",
       "12036                  0  \n",
       "5474                   0  \n",
       "12471                  0  \n",
       "16992                  0  "
      ]
     },
     "execution_count": 151,
     "metadata": {},
     "output_type": "execute_result"
    }
   ],
   "source": [
    "# Display the first five rows\n",
    "X_Train.head()"
   ]
  },
  {
   "cell_type": "code",
   "execution_count": 152,
   "metadata": {
    "ExecuteTime": {
     "end_time": "2019-10-03T01:46:25.007849Z",
     "start_time": "2019-10-03T01:46:24.965895Z"
    },
    "slideshow": {
     "slide_type": "slide"
    }
   },
   "outputs": [
    {
     "name": "stdout",
     "output_type": "stream",
     "text": [
      "Optimization terminated successfully.\n",
      "         Current function value: 0.364712\n",
      "         Iterations 9\n"
     ]
    }
   ],
   "source": [
    "# Build a logistic regression model\n",
    "incomeLg=smf.Logit(Y_Train,X_Train).fit()"
   ]
  },
  {
   "cell_type": "code",
   "execution_count": 154,
   "metadata": {
    "ExecuteTime": {
     "end_time": "2019-10-03T01:46:33.214966Z",
     "start_time": "2019-10-03T01:46:33.155912Z"
    },
    "slideshow": {
     "slide_type": "subslide"
    }
   },
   "outputs": [
    {
     "data": {
      "text/html": [
       "<table class=\"simpletable\">\n",
       "<caption>Logit Regression Results</caption>\n",
       "<tr>\n",
       "  <th>Dep. Variable:</th>         <td>realY</td>      <th>  No. Observations:  </th>  <td> 23833</td> \n",
       "</tr>\n",
       "<tr>\n",
       "  <th>Model:</th>                 <td>Logit</td>      <th>  Df Residuals:      </th>  <td> 23814</td> \n",
       "</tr>\n",
       "<tr>\n",
       "  <th>Method:</th>                 <td>MLE</td>       <th>  Df Model:          </th>  <td>    18</td> \n",
       "</tr>\n",
       "<tr>\n",
       "  <th>Date:</th>            <td>Thu, 24 Sep 2020</td> <th>  Pseudo R-squ.:     </th>  <td>0.3520</td> \n",
       "</tr>\n",
       "<tr>\n",
       "  <th>Time:</th>                <td>21:42:30</td>     <th>  Log-Likelihood:    </th> <td> -8692.2</td>\n",
       "</tr>\n",
       "<tr>\n",
       "  <th>converged:</th>             <td>True</td>       <th>  LL-Null:           </th> <td> -13414.</td>\n",
       "</tr>\n",
       "<tr>\n",
       "  <th>Covariance Type:</th>     <td>nonrobust</td>    <th>  LLR p-value:       </th>  <td> 0.000</td> \n",
       "</tr>\n",
       "</table>\n",
       "<table class=\"simpletable\">\n",
       "<tr>\n",
       "                <td></td>                   <th>coef</th>     <th>std err</th>      <th>z</th>      <th>P>|z|</th>  <th>[0.025</th>    <th>0.975]</th>  \n",
       "</tr>\n",
       "<tr>\n",
       "  <th>const</th>                         <td>   -2.3886</td> <td>    0.128</td> <td>  -18.657</td> <td> 0.000</td> <td>   -2.639</td> <td>   -2.138</td>\n",
       "</tr>\n",
       "<tr>\n",
       "  <th>marital-status_Married</th>        <td>    2.6149</td> <td>    0.104</td> <td>   25.115</td> <td> 0.000</td> <td>    2.411</td> <td>    2.819</td>\n",
       "</tr>\n",
       "<tr>\n",
       "  <th>relationship_ Husband</th>         <td>   -0.8015</td> <td>    0.101</td> <td>   -7.967</td> <td> 0.000</td> <td>   -0.999</td> <td>   -0.604</td>\n",
       "</tr>\n",
       "<tr>\n",
       "  <th>marital-status_Never-Married</th>  <td>   -0.6029</td> <td>    0.082</td> <td>   -7.365</td> <td> 0.000</td> <td>   -0.763</td> <td>   -0.442</td>\n",
       "</tr>\n",
       "<tr>\n",
       "  <th>age_(16.927, 24.3]</th>            <td>   -1.9112</td> <td>    0.158</td> <td>  -12.116</td> <td> 0.000</td> <td>   -2.220</td> <td>   -1.602</td>\n",
       "</tr>\n",
       "<tr>\n",
       "  <th>relationship_ Own-child</th>       <td>   -0.9455</td> <td>    0.167</td> <td>   -5.658</td> <td> 0.000</td> <td>   -1.273</td> <td>   -0.618</td>\n",
       "</tr>\n",
       "<tr>\n",
       "  <th>sex_ Female</th>                   <td>   -0.6512</td> <td>    0.078</td> <td>   -8.379</td> <td> 0.000</td> <td>   -0.803</td> <td>   -0.499</td>\n",
       "</tr>\n",
       "<tr>\n",
       "  <th>education-num_(14.5, 16.0]</th>    <td>    1.8643</td> <td>    0.137</td> <td>   13.558</td> <td> 0.000</td> <td>    1.595</td> <td>    2.134</td>\n",
       "</tr>\n",
       "<tr>\n",
       "  <th>capital-loss_(1742.4, 2613.6]</th> <td>    1.6237</td> <td>    0.105</td> <td>   15.486</td> <td> 0.000</td> <td>    1.418</td> <td>    1.829</td>\n",
       "</tr>\n",
       "<tr>\n",
       "  <th>relationship_ Not-in-family</th>   <td>    0.3097</td> <td>    0.097</td> <td>    3.206</td> <td> 0.001</td> <td>    0.120</td> <td>    0.499</td>\n",
       "</tr>\n",
       "<tr>\n",
       "  <th>occupation_Office Labour</th>      <td>    0.7954</td> <td>    0.045</td> <td>   17.680</td> <td> 0.000</td> <td>    0.707</td> <td>    0.884</td>\n",
       "</tr>\n",
       "<tr>\n",
       "  <th>occupation_Professional</th>       <td>    0.5669</td> <td>    0.065</td> <td>    8.690</td> <td> 0.000</td> <td>    0.439</td> <td>    0.695</td>\n",
       "</tr>\n",
       "<tr>\n",
       "  <th>education-num_(8.5, 10.0]</th>     <td>   -0.3627</td> <td>    0.087</td> <td>   -4.191</td> <td> 0.000</td> <td>   -0.532</td> <td>   -0.193</td>\n",
       "</tr>\n",
       "<tr>\n",
       "  <th>education_Bachelors</th>           <td>    0.6854</td> <td>    0.106</td> <td>    6.473</td> <td> 0.000</td> <td>    0.478</td> <td>    0.893</td>\n",
       "</tr>\n",
       "<tr>\n",
       "  <th>education-num_(13.0, 14.5]</th>    <td>    1.0795</td> <td>    0.111</td> <td>    9.715</td> <td> 0.000</td> <td>    0.862</td> <td>    1.297</td>\n",
       "</tr>\n",
       "<tr>\n",
       "  <th>occupation_Service</th>            <td>   -0.8168</td> <td>    0.109</td> <td>   -7.467</td> <td> 0.000</td> <td>   -1.031</td> <td>   -0.602</td>\n",
       "</tr>\n",
       "<tr>\n",
       "  <th>hours-per-week_(40.2, 50.0]</th>   <td>    0.4331</td> <td>    0.044</td> <td>    9.853</td> <td> 0.000</td> <td>    0.347</td> <td>    0.519</td>\n",
       "</tr>\n",
       "<tr>\n",
       "  <th>education-num_(11.5, 13.0]</th>    <td>   -0.0853</td> <td>    0.128</td> <td>   -0.669</td> <td> 0.504</td> <td>   -0.335</td> <td>    0.165</td>\n",
       "</tr>\n",
       "<tr>\n",
       "  <th>education_Dropout</th>             <td>   -1.4593</td> <td>    0.117</td> <td>  -12.487</td> <td> 0.000</td> <td>   -1.688</td> <td>   -1.230</td>\n",
       "</tr>\n",
       "</table>"
      ],
      "text/plain": [
       "<class 'statsmodels.iolib.summary.Summary'>\n",
       "\"\"\"\n",
       "                           Logit Regression Results                           \n",
       "==============================================================================\n",
       "Dep. Variable:                  realY   No. Observations:                23833\n",
       "Model:                          Logit   Df Residuals:                    23814\n",
       "Method:                           MLE   Df Model:                           18\n",
       "Date:                Thu, 24 Sep 2020   Pseudo R-squ.:                  0.3520\n",
       "Time:                        21:42:30   Log-Likelihood:                -8692.2\n",
       "converged:                       True   LL-Null:                       -13414.\n",
       "Covariance Type:            nonrobust   LLR p-value:                     0.000\n",
       "=================================================================================================\n",
       "                                    coef    std err          z      P>|z|      [0.025      0.975]\n",
       "-------------------------------------------------------------------------------------------------\n",
       "const                            -2.3886      0.128    -18.657      0.000      -2.639      -2.138\n",
       "marital-status_Married            2.6149      0.104     25.115      0.000       2.411       2.819\n",
       "relationship_ Husband            -0.8015      0.101     -7.967      0.000      -0.999      -0.604\n",
       "marital-status_Never-Married     -0.6029      0.082     -7.365      0.000      -0.763      -0.442\n",
       "age_(16.927, 24.3]               -1.9112      0.158    -12.116      0.000      -2.220      -1.602\n",
       "relationship_ Own-child          -0.9455      0.167     -5.658      0.000      -1.273      -0.618\n",
       "sex_ Female                      -0.6512      0.078     -8.379      0.000      -0.803      -0.499\n",
       "education-num_(14.5, 16.0]        1.8643      0.137     13.558      0.000       1.595       2.134\n",
       "capital-loss_(1742.4, 2613.6]     1.6237      0.105     15.486      0.000       1.418       1.829\n",
       "relationship_ Not-in-family       0.3097      0.097      3.206      0.001       0.120       0.499\n",
       "occupation_Office Labour          0.7954      0.045     17.680      0.000       0.707       0.884\n",
       "occupation_Professional           0.5669      0.065      8.690      0.000       0.439       0.695\n",
       "education-num_(8.5, 10.0]        -0.3627      0.087     -4.191      0.000      -0.532      -0.193\n",
       "education_Bachelors               0.6854      0.106      6.473      0.000       0.478       0.893\n",
       "education-num_(13.0, 14.5]        1.0795      0.111      9.715      0.000       0.862       1.297\n",
       "occupation_Service               -0.8168      0.109     -7.467      0.000      -1.031      -0.602\n",
       "hours-per-week_(40.2, 50.0]       0.4331      0.044      9.853      0.000       0.347       0.519\n",
       "education-num_(11.5, 13.0]       -0.0853      0.128     -0.669      0.504      -0.335       0.165\n",
       "education_Dropout                -1.4593      0.117    -12.487      0.000      -1.688      -1.230\n",
       "=================================================================================================\n",
       "\"\"\""
      ]
     },
     "execution_count": 154,
     "metadata": {},
     "output_type": "execute_result"
    }
   ],
   "source": [
    "# Display the summary of the logistic regression model 'incomeLg'\n",
    "# alpha: significance level\n",
    "incomeLg.summary(alpha=0.05)"
   ]
  },
  {
   "cell_type": "markdown",
   "metadata": {},
   "source": [
    "Next we will calculate the probability for realY=1 in Train and Test datasets. The values we predict and output from the model is the **probability**. "
   ]
  },
  {
   "cell_type": "code",
   "execution_count": 172,
   "metadata": {},
   "outputs": [
    {
     "data": {
      "text/plain": [
       "((23833, 19), (5959, 19))"
      ]
     },
     "execution_count": 172,
     "metadata": {},
     "output_type": "execute_result"
    }
   ],
   "source": [
    "X_Train.shape, X_Test.shape"
   ]
  },
  {
   "cell_type": "code",
   "execution_count": 132,
   "metadata": {
    "ExecuteTime": {
     "end_time": "2019-10-03T01:47:54.610090Z",
     "start_time": "2019-10-03T01:47:54.598428Z"
    },
    "slideshow": {
     "slide_type": "subslide"
    }
   },
   "outputs": [],
   "source": [
    "Prob_Train=incomeLg.predict(X_Train)\n",
    "Prob_Test=incomeLg.predict(X_Test)"
   ]
  },
  {
   "cell_type": "code",
   "execution_count": 156,
   "metadata": {},
   "outputs": [],
   "source": [
    "logodds=np.log(Prob_Train/(1-Prob_Train))"
   ]
  },
  {
   "cell_type": "markdown",
   "metadata": {},
   "source": [
    "## Model Evaluation"
   ]
  },
  {
   "cell_type": "markdown",
   "metadata": {},
   "source": [
    "### Confusion table"
   ]
  },
  {
   "cell_type": "code",
   "execution_count": 166,
   "metadata": {
    "cell_style": "split",
    "slideshow": {
     "slide_type": "slide"
    }
   },
   "outputs": [
    {
     "name": "stdout",
     "output_type": "stream",
     "text": [
      "Train:\n"
     ]
    },
    {
     "data": {
      "text/html": [
       "<div>\n",
       "<style scoped>\n",
       "    .dataframe tbody tr th:only-of-type {\n",
       "        vertical-align: middle;\n",
       "    }\n",
       "\n",
       "    .dataframe tbody tr th {\n",
       "        vertical-align: top;\n",
       "    }\n",
       "\n",
       "    .dataframe thead th {\n",
       "        text-align: right;\n",
       "    }\n",
       "</style>\n",
       "<table border=\"1\" class=\"dataframe\">\n",
       "  <thead>\n",
       "    <tr style=\"text-align: right;\">\n",
       "      <th>realY</th>\n",
       "      <th>0</th>\n",
       "      <th>1</th>\n",
       "      <th>PV</th>\n",
       "    </tr>\n",
       "    <tr>\n",
       "      <th>row_0</th>\n",
       "      <th></th>\n",
       "      <th></th>\n",
       "      <th></th>\n",
       "    </tr>\n",
       "  </thead>\n",
       "  <tbody>\n",
       "    <tr>\n",
       "      <td>0</td>\n",
       "      <td>16453.000000</td>\n",
       "      <td>2797.000000</td>\n",
       "      <td>0.854701</td>\n",
       "    </tr>\n",
       "    <tr>\n",
       "      <td>1</td>\n",
       "      <td>1411.000000</td>\n",
       "      <td>3172.000000</td>\n",
       "      <td>0.692123</td>\n",
       "    </tr>\n",
       "    <tr>\n",
       "      <td>PR</td>\n",
       "      <td>0.078986</td>\n",
       "      <td>0.531412</td>\n",
       "      <td>0.823438</td>\n",
       "    </tr>\n",
       "  </tbody>\n",
       "</table>\n",
       "</div>"
      ],
      "text/plain": [
       "realY             0            1        PV\n",
       "row_0                                     \n",
       "0      16453.000000  2797.000000  0.854701\n",
       "1       1411.000000  3172.000000  0.692123\n",
       "PR         0.078986     0.531412  0.823438"
      ]
     },
     "execution_count": 166,
     "metadata": {},
     "output_type": "execute_result"
    }
   ],
   "source": [
    "confusion_Train=confusionTable(X_Train,Y_Train,Prob_Train, cutoff=0.5)\n",
    "print(\"Train:\")\n",
    "confusion_Train"
   ]
  },
  {
   "cell_type": "code",
   "execution_count": 167,
   "metadata": {
    "cell_style": "split",
    "slideshow": {
     "slide_type": "fragment"
    }
   },
   "outputs": [
    {
     "name": "stdout",
     "output_type": "stream",
     "text": [
      "Test:\n"
     ]
    },
    {
     "data": {
      "text/html": [
       "<div>\n",
       "<style scoped>\n",
       "    .dataframe tbody tr th:only-of-type {\n",
       "        vertical-align: middle;\n",
       "    }\n",
       "\n",
       "    .dataframe tbody tr th {\n",
       "        vertical-align: top;\n",
       "    }\n",
       "\n",
       "    .dataframe thead th {\n",
       "        text-align: right;\n",
       "    }\n",
       "</style>\n",
       "<table border=\"1\" class=\"dataframe\">\n",
       "  <thead>\n",
       "    <tr style=\"text-align: right;\">\n",
       "      <th>realY</th>\n",
       "      <th>0</th>\n",
       "      <th>1</th>\n",
       "      <th>PV</th>\n",
       "    </tr>\n",
       "    <tr>\n",
       "      <th>row_0</th>\n",
       "      <th></th>\n",
       "      <th></th>\n",
       "      <th></th>\n",
       "    </tr>\n",
       "  </thead>\n",
       "  <tbody>\n",
       "    <tr>\n",
       "      <td>0</td>\n",
       "      <td>4105.000000</td>\n",
       "      <td>705.000000</td>\n",
       "      <td>0.853430</td>\n",
       "    </tr>\n",
       "    <tr>\n",
       "      <td>1</td>\n",
       "      <td>346.000000</td>\n",
       "      <td>803.000000</td>\n",
       "      <td>0.698869</td>\n",
       "    </tr>\n",
       "    <tr>\n",
       "      <td>PR</td>\n",
       "      <td>0.077735</td>\n",
       "      <td>0.532493</td>\n",
       "      <td>0.823628</td>\n",
       "    </tr>\n",
       "  </tbody>\n",
       "</table>\n",
       "</div>"
      ],
      "text/plain": [
       "realY            0           1        PV\n",
       "row_0                                   \n",
       "0      4105.000000  705.000000  0.853430\n",
       "1       346.000000  803.000000  0.698869\n",
       "PR        0.077735    0.532493  0.823628"
      ]
     },
     "execution_count": 167,
     "metadata": {},
     "output_type": "execute_result"
    }
   ],
   "source": [
    "confusion_Test=confusionTable(X_Test,Y_Test,Prob_Test, cutoff=0.5)\n",
    "print(\"Test:\")\n",
    "confusion_Test"
   ]
  },
  {
   "cell_type": "markdown",
   "metadata": {},
   "source": [
    "### K-S Chart"
   ]
  },
  {
   "cell_type": "code",
   "execution_count": 175,
   "metadata": {
    "cell_style": "split",
    "slideshow": {
     "slide_type": "slide"
    }
   },
   "outputs": [
    {
     "name": "stdout",
     "output_type": "stream",
     "text": [
      "KS chart of Train (23833,)\n"
     ]
    },
    {
     "data": {
      "image/png": "[encoded data removed]",
      "text/plain": [
       "<Figure size 432x432 with 1 Axes>"
      ]
     },
     "metadata": {
      "needs_background": "light"
     },
     "output_type": "display_data"
    },
    {
     "name": "stdout",
     "output_type": "stream",
     "text": [
      "KS_measure is achieved when the cutoff probability is  0.25318480402318067\n"
     ]
    },
    {
     "data": {
      "text/plain": [
       "(0.5958001623104655, 0.25318480402318067)"
      ]
     },
     "execution_count": 175,
     "metadata": {},
     "output_type": "execute_result"
    }
   ],
   "source": [
    "print(\"KS chart of Train\", Y_Train.shape)\n",
    "KS_chart(Y_Train,Prob_Train)"
   ]
  },
  {
   "cell_type": "code",
   "execution_count": 173,
   "metadata": {
    "cell_style": "split",
    "slideshow": {
     "slide_type": "fragment"
    }
   },
   "outputs": [
    {
     "name": "stdout",
     "output_type": "stream",
     "text": [
      "KS chart of Test (5959,)\n"
     ]
    },
    {
     "data": {
      "image/png": "[encoded data removed]",
      "text/plain": [
       "<Figure size 432x432 with 1 Axes>"
      ]
     },
     "metadata": {
      "needs_background": "light"
     },
     "output_type": "display_data"
    },
    {
     "name": "stdout",
     "output_type": "stream",
     "text": [
      "KS_measure is achieved when the cutoff probability is  0.25318480402318067\n"
     ]
    },
    {
     "data": {
      "text/plain": [
       "(0.5966337252022762, 0.25318480402318067)"
      ]
     },
     "execution_count": 173,
     "metadata": {},
     "output_type": "execute_result"
    }
   ],
   "source": [
    "print(\"KS chart of Test\", Y_Test.shape)\n",
    "KS_chart(Y_Test,Prob_Test)"
   ]
  },
  {
   "cell_type": "markdown",
   "metadata": {},
   "source": [
    "### ROC Chart "
   ]
  },
  {
   "cell_type": "code",
   "execution_count": 170,
   "metadata": {
    "cell_style": "split",
    "slideshow": {
     "slide_type": "slide"
    }
   },
   "outputs": [
    {
     "name": "stdout",
     "output_type": "stream",
     "text": [
      "ROC curve of Train\n"
     ]
    },
    {
     "data": {
      "image/png": "[encoded data removed]",
      "text/plain": [
       "<Figure size 432x432 with 1 Axes>"
      ]
     },
     "metadata": {
      "needs_background": "light"
     },
     "output_type": "display_data"
    },
    {
     "data": {
      "text/plain": [
       "0.8782575569386449"
      ]
     },
     "execution_count": 170,
     "metadata": {},
     "output_type": "execute_result"
    }
   ],
   "source": [
    "print(\"ROC curve of Train\")\n",
    "RocCurve(Y_Train,Prob_Train)"
   ]
  },
  {
   "cell_type": "code",
   "execution_count": 171,
   "metadata": {
    "cell_style": "split",
    "slideshow": {
     "slide_type": "fragment"
    }
   },
   "outputs": [
    {
     "name": "stdout",
     "output_type": "stream",
     "text": [
      "ROC curve of Test\n"
     ]
    },
    {
     "data": {
      "image/png": "[encoded data removed]",
      "text/plain": [
       "<Figure size 432x432 with 1 Axes>"
      ]
     },
     "metadata": {
      "needs_background": "light"
     },
     "output_type": "display_data"
    },
    {
     "data": {
      "text/plain": [
       "0.8778982698132985"
      ]
     },
     "execution_count": 171,
     "metadata": {},
     "output_type": "execute_result"
    }
   ],
   "source": [
    "print(\"ROC curve of Test\")\n",
    "RocCurve(Y_Test,Prob_Test)"
   ]
  },
  {
   "cell_type": "markdown",
   "metadata": {},
   "source": [
    "$$\n",
    "\\beta_0,\\beta_1,\\ldots,\\beta_k \\mbox{ are parameters of logit model}\n",
    "$$"
   ]
  }
 ],
 "metadata": {
  "kernelspec": {
   "display_name": "Python 3",
   "language": "python",
   "name": "python3"
  },
  "language_info": {
   "codemirror_mode": {
    "name": "ipython",
    "version": 3
   },
   "file_extension": ".py",
   "mimetype": "text/x-python",
   "name": "python",
   "nbconvert_exporter": "python",
   "pygments_lexer": "ipython3",
   "version": "3.7.4"
  },
  "latex_envs": {
   "LaTeX_envs_menu_present": true,
   "autoclose": false,
   "autocomplete": true,
   "bibliofile": "biblio.bib",
   "cite_by": "apalike",
   "current_citInitial": 1,
   "eqLabelWithNumbers": true,
   "eqNumInitial": 1,
   "hotkeys": {
    "equation": "Ctrl-E",
    "itemize": "Ctrl-I"
   },
   "labels_anchors": false,
   "latex_user_defs": false,
   "report_style_numbering": false,
   "user_envs_cfg": false
  },
  "rise": {
   "enable_chalkboard": true,
   "scroll": true,
   "start_slideshow_at": "selected",
   "theme": "white",
   "transition": "slide"
  },
  "toc": {
   "base_numbering": 1,
   "nav_menu": {
    "height": "324px",
    "width": "254px"
   },
   "number_sections": false,
   "sideBar": false,
   "skip_h1_title": true,
   "title_cell": "Table of Contents",
   "title_sidebar": "Contents",
   "toc_cell": true,
   "toc_position": {
    "height": "843.177px",
    "left": "1868px",
    "top": "288.993px",
    "width": "337.986px"
   },
   "toc_section_display": true,
   "toc_window_display": false
  },
  "varInspector": {
   "cols": {
    "lenName": 16,
    "lenType": 16,
    "lenVar": 40
   },
   "kernels_config": {
    "python": {
     "delete_cmd_postfix": "",
     "delete_cmd_prefix": "del ",
     "library": "var_list.py",
     "varRefreshCmd": "print(var_dic_list())"
    },
    "r": {
     "delete_cmd_postfix": ") ",
     "delete_cmd_prefix": "rm(",
     "library": "var_list.r",
     "varRefreshCmd": "cat(var_dic_list()) "
    }
   },
   "types_to_exclude": [
    "module",
    "function",
    "builtin_function_or_method",
    "instance",
    "_Feature"
   ],
   "window_display": false
  }
 },
 "nbformat": 4,
 "nbformat_minor": 4
}
