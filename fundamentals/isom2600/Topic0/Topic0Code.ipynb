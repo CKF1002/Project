{
 "cells": [
  {
   "cell_type": "markdown",
   "metadata": {},
   "source": [
    "# ISOM 2600 Topic 0: Data Preprocessing"
   ]
  },
  {
   "cell_type": "markdown",
   "metadata": {},
   "source": [
    "### 1. Data Visualization\n",
    "### 2. Handling Missing Values\n",
    "### 3. Standardization\n",
    "### 4. Transforming Features\n",
    "### 5. Data slicing and selection"
   ]
  },
  {
   "cell_type": "markdown",
   "metadata": {},
   "source": [
    "<font size=4>We need to import three libraries: Pandas, NumPy, Matplotlib to do data preprocessing.</font>"
   ]
  },
  {
   "cell_type": "code",
   "execution_count": 1,
   "metadata": {},
   "outputs": [],
   "source": [
    "# Pandas\n",
    "import pandas as pd\n",
    "\n",
    "# NumPy\n",
    "import numpy as np\n",
    "\n",
    "# matplotlib\n",
    "import matplotlib.pyplot as plt"
   ]
  },
  {
   "cell_type": "markdown",
   "metadata": {},
   "source": [
    "## 1. Data Visualization"
   ]
  },
  {
   "cell_type": "code",
   "execution_count": 2,
   "metadata": {},
   "outputs": [],
   "source": [
    "# Import data set 'stocks.csv'\n",
    "# Change the default row to the column 'date'\n",
    "stocks=pd.read_csv(\"data/stocks.csv\", index_col=0)"
   ]
  },
  {
   "cell_type": "code",
   "execution_count": 3,
   "metadata": {},
   "outputs": [
    {
     "data": {
      "text/html": [
       "<div>\n",
       "<style scoped>\n",
       "    .dataframe tbody tr th:only-of-type {\n",
       "        vertical-align: middle;\n",
       "    }\n",
       "\n",
       "    .dataframe tbody tr th {\n",
       "        vertical-align: top;\n",
       "    }\n",
       "\n",
       "    .dataframe thead th {\n",
       "        text-align: right;\n",
       "    }\n",
       "</style>\n",
       "<table border=\"1\" class=\"dataframe\">\n",
       "  <thead>\n",
       "    <tr style=\"text-align: right;\">\n",
       "      <th></th>\n",
       "      <th>nikkei</th>\n",
       "      <th>aord</th>\n",
       "      <th>nyse</th>\n",
       "      <th>dax</th>\n",
       "      <th>ftse</th>\n",
       "      <th>hangseng</th>\n",
       "      <th>sp500</th>\n",
       "      <th>djia</th>\n",
       "    </tr>\n",
       "  </thead>\n",
       "  <tbody>\n",
       "    <tr>\n",
       "      <td>2013-09-06</td>\n",
       "      <td>13860.81</td>\n",
       "      <td>5144.0</td>\n",
       "      <td>9420.3480</td>\n",
       "      <td>8234.98</td>\n",
       "      <td>6547.33</td>\n",
       "      <td>22621.22</td>\n",
       "      <td>1655.08</td>\n",
       "      <td>14937.48</td>\n",
       "    </tr>\n",
       "    <tr>\n",
       "      <td>2013-09-09</td>\n",
       "      <td>14205.23</td>\n",
       "      <td>5179.4</td>\n",
       "      <td>9420.3480</td>\n",
       "      <td>8234.98</td>\n",
       "      <td>6530.74</td>\n",
       "      <td>22750.65</td>\n",
       "      <td>1655.08</td>\n",
       "      <td>14937.48</td>\n",
       "    </tr>\n",
       "    <tr>\n",
       "      <td>2013-09-10</td>\n",
       "      <td>14423.36</td>\n",
       "      <td>5198.9</td>\n",
       "      <td>9539.9320</td>\n",
       "      <td>8276.32</td>\n",
       "      <td>6583.99</td>\n",
       "      <td>22976.65</td>\n",
       "      <td>1671.71</td>\n",
       "      <td>15063.12</td>\n",
       "    </tr>\n",
       "    <tr>\n",
       "      <td>2013-09-11</td>\n",
       "      <td>14425.07</td>\n",
       "      <td>5230.6</td>\n",
       "      <td>9620.7100</td>\n",
       "      <td>8446.54</td>\n",
       "      <td>6588.43</td>\n",
       "      <td>22937.14</td>\n",
       "      <td>1683.99</td>\n",
       "      <td>15191.06</td>\n",
       "    </tr>\n",
       "    <tr>\n",
       "      <td>2013-09-12</td>\n",
       "      <td>14387.27</td>\n",
       "      <td>5238.2</td>\n",
       "      <td>9655.3774</td>\n",
       "      <td>8495.73</td>\n",
       "      <td>6588.98</td>\n",
       "      <td>22953.72</td>\n",
       "      <td>1689.13</td>\n",
       "      <td>15326.60</td>\n",
       "    </tr>\n",
       "  </tbody>\n",
       "</table>\n",
       "</div>"
      ],
      "text/plain": [
       "              nikkei    aord       nyse      dax     ftse  hangseng    sp500  \\\n",
       "2013-09-06  13860.81  5144.0  9420.3480  8234.98  6547.33  22621.22  1655.08   \n",
       "2013-09-09  14205.23  5179.4  9420.3480  8234.98  6530.74  22750.65  1655.08   \n",
       "2013-09-10  14423.36  5198.9  9539.9320  8276.32  6583.99  22976.65  1671.71   \n",
       "2013-09-11  14425.07  5230.6  9620.7100  8446.54  6588.43  22937.14  1683.99   \n",
       "2013-09-12  14387.27  5238.2  9655.3774  8495.73  6588.98  22953.72  1689.13   \n",
       "\n",
       "                djia  \n",
       "2013-09-06  14937.48  \n",
       "2013-09-09  14937.48  \n",
       "2013-09-10  15063.12  \n",
       "2013-09-11  15191.06  \n",
       "2013-09-12  15326.60  "
      ]
     },
     "execution_count": 3,
     "metadata": {},
     "output_type": "execute_result"
    }
   ],
   "source": [
    "# First five rows\n",
    "stocks.head()"
   ]
  },
  {
   "cell_type": "markdown",
   "metadata": {},
   "source": [
    "### 1a. Histogram"
   ]
  },
  {
   "cell_type": "markdown",
   "metadata": {},
   "source": [
    "<font size=4>First, we learn drawing a histogram of the <font color=red>simple rate of return of hangseng</font>. You can get the simple rate by following code.</font>"
   ]
  },
  {
   "cell_type": "code",
   "execution_count": 4,
   "metadata": {},
   "outputs": [
    {
     "data": {
      "text/html": [
       "<div>\n",
       "<style scoped>\n",
       "    .dataframe tbody tr th:only-of-type {\n",
       "        vertical-align: middle;\n",
       "    }\n",
       "\n",
       "    .dataframe tbody tr th {\n",
       "        vertical-align: top;\n",
       "    }\n",
       "\n",
       "    .dataframe thead th {\n",
       "        text-align: right;\n",
       "    }\n",
       "</style>\n",
       "<table border=\"1\" class=\"dataframe\">\n",
       "  <thead>\n",
       "    <tr style=\"text-align: right;\">\n",
       "      <th></th>\n",
       "      <th>nikkei</th>\n",
       "      <th>aord</th>\n",
       "      <th>nyse</th>\n",
       "      <th>dax</th>\n",
       "      <th>ftse</th>\n",
       "      <th>hangseng</th>\n",
       "      <th>sp500</th>\n",
       "      <th>djia</th>\n",
       "      <th>hangseng_return</th>\n",
       "    </tr>\n",
       "  </thead>\n",
       "  <tbody>\n",
       "    <tr>\n",
       "      <td>2013-09-06</td>\n",
       "      <td>13860.81</td>\n",
       "      <td>5144.0</td>\n",
       "      <td>9420.3480</td>\n",
       "      <td>8234.98</td>\n",
       "      <td>6547.33</td>\n",
       "      <td>22621.22</td>\n",
       "      <td>1655.08</td>\n",
       "      <td>14937.48</td>\n",
       "      <td>NaN</td>\n",
       "    </tr>\n",
       "    <tr>\n",
       "      <td>2013-09-09</td>\n",
       "      <td>14205.23</td>\n",
       "      <td>5179.4</td>\n",
       "      <td>9420.3480</td>\n",
       "      <td>8234.98</td>\n",
       "      <td>6530.74</td>\n",
       "      <td>22750.65</td>\n",
       "      <td>1655.08</td>\n",
       "      <td>14937.48</td>\n",
       "      <td>0.005722</td>\n",
       "    </tr>\n",
       "    <tr>\n",
       "      <td>2013-09-10</td>\n",
       "      <td>14423.36</td>\n",
       "      <td>5198.9</td>\n",
       "      <td>9539.9320</td>\n",
       "      <td>8276.32</td>\n",
       "      <td>6583.99</td>\n",
       "      <td>22976.65</td>\n",
       "      <td>1671.71</td>\n",
       "      <td>15063.12</td>\n",
       "      <td>0.009934</td>\n",
       "    </tr>\n",
       "    <tr>\n",
       "      <td>2013-09-11</td>\n",
       "      <td>14425.07</td>\n",
       "      <td>5230.6</td>\n",
       "      <td>9620.7100</td>\n",
       "      <td>8446.54</td>\n",
       "      <td>6588.43</td>\n",
       "      <td>22937.14</td>\n",
       "      <td>1683.99</td>\n",
       "      <td>15191.06</td>\n",
       "      <td>-0.001720</td>\n",
       "    </tr>\n",
       "    <tr>\n",
       "      <td>2013-09-12</td>\n",
       "      <td>14387.27</td>\n",
       "      <td>5238.2</td>\n",
       "      <td>9655.3774</td>\n",
       "      <td>8495.73</td>\n",
       "      <td>6588.98</td>\n",
       "      <td>22953.72</td>\n",
       "      <td>1689.13</td>\n",
       "      <td>15326.60</td>\n",
       "      <td>0.000723</td>\n",
       "    </tr>\n",
       "  </tbody>\n",
       "</table>\n",
       "</div>"
      ],
      "text/plain": [
       "              nikkei    aord       nyse      dax     ftse  hangseng    sp500  \\\n",
       "2013-09-06  13860.81  5144.0  9420.3480  8234.98  6547.33  22621.22  1655.08   \n",
       "2013-09-09  14205.23  5179.4  9420.3480  8234.98  6530.74  22750.65  1655.08   \n",
       "2013-09-10  14423.36  5198.9  9539.9320  8276.32  6583.99  22976.65  1671.71   \n",
       "2013-09-11  14425.07  5230.6  9620.7100  8446.54  6588.43  22937.14  1683.99   \n",
       "2013-09-12  14387.27  5238.2  9655.3774  8495.73  6588.98  22953.72  1689.13   \n",
       "\n",
       "                djia  hangseng_return  \n",
       "2013-09-06  14937.48              NaN  \n",
       "2013-09-09  14937.48         0.005722  \n",
       "2013-09-10  15063.12         0.009934  \n",
       "2013-09-11  15191.06        -0.001720  \n",
       "2013-09-12  15326.60         0.000723  "
      ]
     },
     "execution_count": 4,
     "metadata": {},
     "output_type": "execute_result"
    }
   ],
   "source": [
    "# Compute the simple rate of return of hangseng\n",
    "stocks[\"hangseng_return\"]=stocks[\"hangseng\"].pct_change()\n",
    "\n",
    "# Display first five rows\n",
    "stocks.head()"
   ]
  },
  {
   "cell_type": "code",
   "execution_count": 5,
   "metadata": {},
   "outputs": [
    {
     "name": "stderr",
     "output_type": "stream",
     "text": [
      "/Users/ccmakad/.local/lib/python3.7/site-packages/numpy/lib/histograms.py:829: RuntimeWarning: invalid value encountered in greater_equal\n",
      "  keep = (tmp_a >= first_edge)\n",
      "/Users/ccmakad/.local/lib/python3.7/site-packages/numpy/lib/histograms.py:830: RuntimeWarning: invalid value encountered in less_equal\n",
      "  keep &= (tmp_a <= last_edge)\n"
     ]
    },
    {
     "data": {
      "text/plain": [
       "Text(0.5, 1.0, 'Simple Rate of Daily Return of Hengseng Index')"
      ]
     },
     "execution_count": 5,
     "metadata": {},
     "output_type": "execute_result"
    },
    {
     "data": {
      "image/png": "[encoded data removed]",
      "text/plain": [
       "<Figure size 432x288 with 1 Axes>"
      ]
     },
     "metadata": {
      "needs_background": "light"
     },
     "output_type": "display_data"
    }
   ],
   "source": [
    "# Plot histogram\n",
    "# no. of bins: 20\n",
    "# edgecolor: yellow\n",
    "plt.hist(stocks[\"hangseng_return\"], bins=20, edgecolor='yellow')\n",
    "\n",
    "# Title\n",
    "plt.title(\"Simple Rate of Daily Return of Hengseng Index\")"
   ]
  },
  {
   "cell_type": "markdown",
   "metadata": {},
   "source": [
    "### 1b. Scatter Plot"
   ]
  },
  {
   "cell_type": "markdown",
   "metadata": {},
   "source": [
    "<font size=4>We may have a scatter plot to see the pattern between the returns of S&P 500 Indexs and Hangseng Indexs.</font>"
   ]
  },
  {
   "cell_type": "code",
   "execution_count": 6,
   "metadata": {},
   "outputs": [
    {
     "data": {
      "text/html": [
       "<div>\n",
       "<style scoped>\n",
       "    .dataframe tbody tr th:only-of-type {\n",
       "        vertical-align: middle;\n",
       "    }\n",
       "\n",
       "    .dataframe tbody tr th {\n",
       "        vertical-align: top;\n",
       "    }\n",
       "\n",
       "    .dataframe thead th {\n",
       "        text-align: right;\n",
       "    }\n",
       "</style>\n",
       "<table border=\"1\" class=\"dataframe\">\n",
       "  <thead>\n",
       "    <tr style=\"text-align: right;\">\n",
       "      <th></th>\n",
       "      <th>nikkei</th>\n",
       "      <th>aord</th>\n",
       "      <th>nyse</th>\n",
       "      <th>dax</th>\n",
       "      <th>ftse</th>\n",
       "      <th>hangseng</th>\n",
       "      <th>sp500</th>\n",
       "      <th>djia</th>\n",
       "      <th>hangseng_return</th>\n",
       "      <th>sp500_return</th>\n",
       "    </tr>\n",
       "  </thead>\n",
       "  <tbody>\n",
       "    <tr>\n",
       "      <td>2013-09-06</td>\n",
       "      <td>13860.81</td>\n",
       "      <td>5144.0</td>\n",
       "      <td>9420.3480</td>\n",
       "      <td>8234.98</td>\n",
       "      <td>6547.33</td>\n",
       "      <td>22621.22</td>\n",
       "      <td>1655.08</td>\n",
       "      <td>14937.48</td>\n",
       "      <td>NaN</td>\n",
       "      <td>NaN</td>\n",
       "    </tr>\n",
       "    <tr>\n",
       "      <td>2013-09-09</td>\n",
       "      <td>14205.23</td>\n",
       "      <td>5179.4</td>\n",
       "      <td>9420.3480</td>\n",
       "      <td>8234.98</td>\n",
       "      <td>6530.74</td>\n",
       "      <td>22750.65</td>\n",
       "      <td>1655.08</td>\n",
       "      <td>14937.48</td>\n",
       "      <td>0.005722</td>\n",
       "      <td>0.000000</td>\n",
       "    </tr>\n",
       "    <tr>\n",
       "      <td>2013-09-10</td>\n",
       "      <td>14423.36</td>\n",
       "      <td>5198.9</td>\n",
       "      <td>9539.9320</td>\n",
       "      <td>8276.32</td>\n",
       "      <td>6583.99</td>\n",
       "      <td>22976.65</td>\n",
       "      <td>1671.71</td>\n",
       "      <td>15063.12</td>\n",
       "      <td>0.009934</td>\n",
       "      <td>0.010048</td>\n",
       "    </tr>\n",
       "    <tr>\n",
       "      <td>2013-09-11</td>\n",
       "      <td>14425.07</td>\n",
       "      <td>5230.6</td>\n",
       "      <td>9620.7100</td>\n",
       "      <td>8446.54</td>\n",
       "      <td>6588.43</td>\n",
       "      <td>22937.14</td>\n",
       "      <td>1683.99</td>\n",
       "      <td>15191.06</td>\n",
       "      <td>-0.001720</td>\n",
       "      <td>0.007346</td>\n",
       "    </tr>\n",
       "    <tr>\n",
       "      <td>2013-09-12</td>\n",
       "      <td>14387.27</td>\n",
       "      <td>5238.2</td>\n",
       "      <td>9655.3774</td>\n",
       "      <td>8495.73</td>\n",
       "      <td>6588.98</td>\n",
       "      <td>22953.72</td>\n",
       "      <td>1689.13</td>\n",
       "      <td>15326.60</td>\n",
       "      <td>0.000723</td>\n",
       "      <td>0.003052</td>\n",
       "    </tr>\n",
       "  </tbody>\n",
       "</table>\n",
       "</div>"
      ],
      "text/plain": [
       "              nikkei    aord       nyse      dax     ftse  hangseng    sp500  \\\n",
       "2013-09-06  13860.81  5144.0  9420.3480  8234.98  6547.33  22621.22  1655.08   \n",
       "2013-09-09  14205.23  5179.4  9420.3480  8234.98  6530.74  22750.65  1655.08   \n",
       "2013-09-10  14423.36  5198.9  9539.9320  8276.32  6583.99  22976.65  1671.71   \n",
       "2013-09-11  14425.07  5230.6  9620.7100  8446.54  6588.43  22937.14  1683.99   \n",
       "2013-09-12  14387.27  5238.2  9655.3774  8495.73  6588.98  22953.72  1689.13   \n",
       "\n",
       "                djia  hangseng_return  sp500_return  \n",
       "2013-09-06  14937.48              NaN           NaN  \n",
       "2013-09-09  14937.48         0.005722      0.000000  \n",
       "2013-09-10  15063.12         0.009934      0.010048  \n",
       "2013-09-11  15191.06        -0.001720      0.007346  \n",
       "2013-09-12  15326.60         0.000723      0.003052  "
      ]
     },
     "execution_count": 6,
     "metadata": {},
     "output_type": "execute_result"
    }
   ],
   "source": [
    "# Compute the simple rate of return of hangseng\n",
    "stocks[\"sp500_return\"]=stocks[\"sp500\"].pct_change()\n",
    "\n",
    "# Display first five rows\n",
    "stocks.head()"
   ]
  },
  {
   "cell_type": "code",
   "execution_count": 7,
   "metadata": {},
   "outputs": [
    {
     "data": {
      "text/plain": [
       "Text(0.5, 1.0, 'Scatter Plot between returns of S&P500 and Hangseng indices ')"
      ]
     },
     "execution_count": 7,
     "metadata": {},
     "output_type": "execute_result"
    },
    {
     "data": {
      "image/png": "[encoded data removed]",
      "text/plain": [
       "<Figure size 432x288 with 1 Axes>"
      ]
     },
     "metadata": {
      "needs_background": "light"
     },
     "output_type": "display_data"
    }
   ],
   "source": [
    "# Plot the scatter plot\n",
    "# x-axis: Return of S&P 500 Index \n",
    "# y-axis: Return of Hangseng Index\n",
    "plt.scatter(stocks[\"hangseng_return\"], stocks[\"sp500_return\"])\n",
    "\n",
    "# ylabel\n",
    "plt.ylabel(\"Return of S&P 500 Index\")\n",
    "\n",
    "# xlabel\n",
    "plt.xlabel(\"Return of Hangseng Index\")\n",
    "\n",
    "# Title\n",
    "plt.title(\"Scatter Plot between returns of S&P500 and Hangseng indices \")"
   ]
  },
  {
   "cell_type": "markdown",
   "metadata": {},
   "source": [
    "### 1c. Scatter Matrix"
   ]
  },
  {
   "cell_type": "markdown",
   "metadata": {},
   "source": [
    "<font size=4>We may have a overlook to the pattern between selected variables by scatter matrix. <br>This time, we want to investigate 'sp500_return','nikkei_return','hangseng_return'.</font>"
   ]
  },
  {
   "cell_type": "code",
   "execution_count": 8,
   "metadata": {},
   "outputs": [
    {
     "data": {
      "text/html": [
       "<div>\n",
       "<style scoped>\n",
       "    .dataframe tbody tr th:only-of-type {\n",
       "        vertical-align: middle;\n",
       "    }\n",
       "\n",
       "    .dataframe tbody tr th {\n",
       "        vertical-align: top;\n",
       "    }\n",
       "\n",
       "    .dataframe thead th {\n",
       "        text-align: right;\n",
       "    }\n",
       "</style>\n",
       "<table border=\"1\" class=\"dataframe\">\n",
       "  <thead>\n",
       "    <tr style=\"text-align: right;\">\n",
       "      <th></th>\n",
       "      <th>nikkei</th>\n",
       "      <th>aord</th>\n",
       "      <th>nyse</th>\n",
       "      <th>dax</th>\n",
       "      <th>ftse</th>\n",
       "      <th>hangseng</th>\n",
       "      <th>sp500</th>\n",
       "      <th>djia</th>\n",
       "      <th>hangseng_return</th>\n",
       "      <th>sp500_return</th>\n",
       "      <th>nikkei_return</th>\n",
       "    </tr>\n",
       "  </thead>\n",
       "  <tbody>\n",
       "    <tr>\n",
       "      <td>2013-09-06</td>\n",
       "      <td>13860.81</td>\n",
       "      <td>5144.0</td>\n",
       "      <td>9420.3480</td>\n",
       "      <td>8234.98</td>\n",
       "      <td>6547.33</td>\n",
       "      <td>22621.22</td>\n",
       "      <td>1655.08</td>\n",
       "      <td>14937.48</td>\n",
       "      <td>NaN</td>\n",
       "      <td>NaN</td>\n",
       "      <td>NaN</td>\n",
       "    </tr>\n",
       "    <tr>\n",
       "      <td>2013-09-09</td>\n",
       "      <td>14205.23</td>\n",
       "      <td>5179.4</td>\n",
       "      <td>9420.3480</td>\n",
       "      <td>8234.98</td>\n",
       "      <td>6530.74</td>\n",
       "      <td>22750.65</td>\n",
       "      <td>1655.08</td>\n",
       "      <td>14937.48</td>\n",
       "      <td>0.005722</td>\n",
       "      <td>0.000000</td>\n",
       "      <td>0.024848</td>\n",
       "    </tr>\n",
       "    <tr>\n",
       "      <td>2013-09-10</td>\n",
       "      <td>14423.36</td>\n",
       "      <td>5198.9</td>\n",
       "      <td>9539.9320</td>\n",
       "      <td>8276.32</td>\n",
       "      <td>6583.99</td>\n",
       "      <td>22976.65</td>\n",
       "      <td>1671.71</td>\n",
       "      <td>15063.12</td>\n",
       "      <td>0.009934</td>\n",
       "      <td>0.010048</td>\n",
       "      <td>0.015356</td>\n",
       "    </tr>\n",
       "    <tr>\n",
       "      <td>2013-09-11</td>\n",
       "      <td>14425.07</td>\n",
       "      <td>5230.6</td>\n",
       "      <td>9620.7100</td>\n",
       "      <td>8446.54</td>\n",
       "      <td>6588.43</td>\n",
       "      <td>22937.14</td>\n",
       "      <td>1683.99</td>\n",
       "      <td>15191.06</td>\n",
       "      <td>-0.001720</td>\n",
       "      <td>0.007346</td>\n",
       "      <td>0.000119</td>\n",
       "    </tr>\n",
       "    <tr>\n",
       "      <td>2013-09-12</td>\n",
       "      <td>14387.27</td>\n",
       "      <td>5238.2</td>\n",
       "      <td>9655.3774</td>\n",
       "      <td>8495.73</td>\n",
       "      <td>6588.98</td>\n",
       "      <td>22953.72</td>\n",
       "      <td>1689.13</td>\n",
       "      <td>15326.60</td>\n",
       "      <td>0.000723</td>\n",
       "      <td>0.003052</td>\n",
       "      <td>-0.002620</td>\n",
       "    </tr>\n",
       "  </tbody>\n",
       "</table>\n",
       "</div>"
      ],
      "text/plain": [
       "              nikkei    aord       nyse      dax     ftse  hangseng    sp500  \\\n",
       "2013-09-06  13860.81  5144.0  9420.3480  8234.98  6547.33  22621.22  1655.08   \n",
       "2013-09-09  14205.23  5179.4  9420.3480  8234.98  6530.74  22750.65  1655.08   \n",
       "2013-09-10  14423.36  5198.9  9539.9320  8276.32  6583.99  22976.65  1671.71   \n",
       "2013-09-11  14425.07  5230.6  9620.7100  8446.54  6588.43  22937.14  1683.99   \n",
       "2013-09-12  14387.27  5238.2  9655.3774  8495.73  6588.98  22953.72  1689.13   \n",
       "\n",
       "                djia  hangseng_return  sp500_return  nikkei_return  \n",
       "2013-09-06  14937.48              NaN           NaN            NaN  \n",
       "2013-09-09  14937.48         0.005722      0.000000       0.024848  \n",
       "2013-09-10  15063.12         0.009934      0.010048       0.015356  \n",
       "2013-09-11  15191.06        -0.001720      0.007346       0.000119  \n",
       "2013-09-12  15326.60         0.000723      0.003052      -0.002620  "
      ]
     },
     "execution_count": 8,
     "metadata": {},
     "output_type": "execute_result"
    }
   ],
   "source": [
    "# Compute the simple rate of return of nikkei\n",
    "stocks[\"nikkei_return\"]=stocks[\"nikkei\"].pct_change()\n",
    "\n",
    "# Display first five rows\n",
    "stocks.head()"
   ]
  },
  {
   "cell_type": "code",
   "execution_count": 9,
   "metadata": {},
   "outputs": [
    {
     "data": {
      "image/png": "[encoded data removed]",
      "text/plain": [
       "<Figure size 576x576 with 9 Axes>"
      ]
     },
     "metadata": {
      "needs_background": "light"
     },
     "output_type": "display_data"
    }
   ],
   "source": [
    "# Scatter matrix\n",
    "# Variables: \"sp500_return\",\"nikkei_return\",\"hangseng_return\"\n",
    "# Figure size: (8, 8)\n",
    "pd.plotting.scatter_matrix(stocks[[\"sp500_return\",\"nikkei_return\",\"hangseng_return\"]],\n",
    "                           figsize=(8,8))\n",
    "plt.show()"
   ]
  },
  {
   "cell_type": "markdown",
   "metadata": {},
   "source": [
    "### 1d. Time Series Plot"
   ]
  },
  {
   "cell_type": "markdown",
   "metadata": {},
   "source": [
    "<font size=4>Finally, we want to see the trend of the S&P Index across several years.</font>"
   ]
  },
  {
   "cell_type": "code",
   "execution_count": 10,
   "metadata": {},
   "outputs": [
    {
     "data": {
      "text/plain": [
       "<matplotlib.axes._subplots.AxesSubplot at 0x1256c3e10>"
      ]
     },
     "execution_count": 10,
     "metadata": {},
     "output_type": "execute_result"
    },
    {
     "data": {
      "image/png": "[encoded data removed]",
      "text/plain": [
       "<Figure size 432x288 with 1 Axes>"
      ]
     },
     "metadata": {
      "needs_background": "light"
     },
     "output_type": "display_data"
    }
   ],
   "source": [
    "# Title\n",
    "plt.title(\"S&P Index\")\n",
    "\n",
    "# Time series plot of S&P 500 index\n",
    "stocks[\"sp500\"].plot()"
   ]
  },
  {
   "cell_type": "markdown",
   "metadata": {},
   "source": [
    "## 2. Handling Missing Values"
   ]
  },
  {
   "cell_type": "markdown",
   "metadata": {},
   "source": [
    "### Fill missing values in time series "
   ]
  },
  {
   "cell_type": "code",
   "execution_count": 11,
   "metadata": {},
   "outputs": [],
   "source": [
    "# Assign column 'sp500' to a new DataFrame\n",
    "sp500=stocks[\"sp500\"]"
   ]
  },
  {
   "cell_type": "code",
   "execution_count": 12,
   "metadata": {},
   "outputs": [
    {
     "data": {
      "text/plain": [
       "2013-09-06    1655.08\n",
       "2013-09-09    1655.08\n",
       "2013-09-10    1671.71\n",
       "2013-09-11    1683.99\n",
       "2013-09-12    1689.13\n",
       "Name: sp500, dtype: float64"
      ]
     },
     "execution_count": 12,
     "metadata": {},
     "output_type": "execute_result"
    }
   ],
   "source": [
    "# Display first five rows\n",
    "sp500.head()"
   ]
  },
  {
   "cell_type": "code",
   "execution_count": 13,
   "metadata": {},
   "outputs": [],
   "source": [
    "# Make two missing values\n",
    "sp500.loc[\"2013-09-09\":\"2013-09-10\"]=np.nan"
   ]
  },
  {
   "cell_type": "code",
   "execution_count": 14,
   "metadata": {},
   "outputs": [
    {
     "data": {
      "text/plain": [
       "2013-09-06    1655.08\n",
       "2013-09-09        NaN\n",
       "2013-09-10        NaN\n",
       "2013-09-11    1683.99\n",
       "2013-09-12    1689.13\n",
       "Name: sp500, dtype: float64"
      ]
     },
     "execution_count": 14,
     "metadata": {},
     "output_type": "execute_result"
    }
   ],
   "source": [
    "# Display first five rows\n",
    "sp500.head()"
   ]
  },
  {
   "cell_type": "code",
   "execution_count": 15,
   "metadata": {},
   "outputs": [
    {
     "data": {
      "text/plain": [
       "2013-09-06    1655.08\n",
       "2013-09-09    1655.08\n",
       "2013-09-10    1655.08\n",
       "2013-09-11    1683.99\n",
       "2013-09-12    1689.13\n",
       "Name: sp500, dtype: float64"
      ]
     },
     "execution_count": 15,
     "metadata": {},
     "output_type": "execute_result"
    }
   ],
   "source": [
    "# Forward fill\n",
    "sp500.fillna(method=\"ffill\").head()"
   ]
  },
  {
   "cell_type": "markdown",
   "metadata": {},
   "source": [
    "## 3. Standardization"
   ]
  },
  {
   "cell_type": "markdown",
   "metadata": {},
   "source": [
    "### 3a. Max-min Standardization"
   ]
  },
  {
   "cell_type": "markdown",
   "metadata": {},
   "source": [
    "$$\n",
    "\\frac{x-min}{max-min}\n",
    "$$"
   ]
  },
  {
   "cell_type": "code",
   "execution_count": 16,
   "metadata": {},
   "outputs": [
    {
     "data": {
      "text/plain": [
       "2013-09-06         NaN\n",
       "2013-09-09    0.000000\n",
       "2013-09-10    0.010048\n",
       "2013-09-11    0.007346\n",
       "2013-09-12    0.003052\n",
       "                ...   \n",
       "2017-08-29    0.002161\n",
       "2017-08-30    0.000843\n",
       "2017-08-31    0.004615\n",
       "2017-09-01    0.005721\n",
       "2017-09-04    0.000000\n",
       "Name: sp500_return, Length: 976, dtype: float64"
      ]
     },
     "execution_count": 16,
     "metadata": {},
     "output_type": "execute_result"
    }
   ],
   "source": [
    "# Return of S&P 500\n",
    "stocks[\"sp500_return\"]"
   ]
  },
  {
   "cell_type": "code",
   "execution_count": 17,
   "metadata": {},
   "outputs": [
    {
     "data": {
      "text/html": [
       "<div>\n",
       "<style scoped>\n",
       "    .dataframe tbody tr th:only-of-type {\n",
       "        vertical-align: middle;\n",
       "    }\n",
       "\n",
       "    .dataframe tbody tr th {\n",
       "        vertical-align: top;\n",
       "    }\n",
       "\n",
       "    .dataframe thead th {\n",
       "        text-align: right;\n",
       "    }\n",
       "</style>\n",
       "<table border=\"1\" class=\"dataframe\">\n",
       "  <thead>\n",
       "    <tr style=\"text-align: right;\">\n",
       "      <th></th>\n",
       "      <th>nikkei</th>\n",
       "      <th>aord</th>\n",
       "      <th>nyse</th>\n",
       "      <th>dax</th>\n",
       "      <th>ftse</th>\n",
       "      <th>hangseng</th>\n",
       "      <th>sp500</th>\n",
       "      <th>djia</th>\n",
       "      <th>hangseng_return</th>\n",
       "      <th>sp500_return</th>\n",
       "      <th>nikkei_return</th>\n",
       "    </tr>\n",
       "  </thead>\n",
       "  <tbody>\n",
       "    <tr>\n",
       "      <td>2013-09-11</td>\n",
       "      <td>14425.07</td>\n",
       "      <td>5230.6</td>\n",
       "      <td>9620.7100</td>\n",
       "      <td>8446.54</td>\n",
       "      <td>6588.43</td>\n",
       "      <td>22937.14</td>\n",
       "      <td>1683.99</td>\n",
       "      <td>15191.06</td>\n",
       "      <td>-0.001720</td>\n",
       "      <td>0.007346</td>\n",
       "      <td>0.000119</td>\n",
       "    </tr>\n",
       "    <tr>\n",
       "      <td>2013-09-12</td>\n",
       "      <td>14387.27</td>\n",
       "      <td>5238.2</td>\n",
       "      <td>9655.3774</td>\n",
       "      <td>8495.73</td>\n",
       "      <td>6588.98</td>\n",
       "      <td>22953.72</td>\n",
       "      <td>1689.13</td>\n",
       "      <td>15326.60</td>\n",
       "      <td>0.000723</td>\n",
       "      <td>0.003052</td>\n",
       "      <td>-0.002620</td>\n",
       "    </tr>\n",
       "    <tr>\n",
       "      <td>2013-09-13</td>\n",
       "      <td>14404.67</td>\n",
       "      <td>5214.7</td>\n",
       "      <td>9607.3168</td>\n",
       "      <td>8494.00</td>\n",
       "      <td>6583.80</td>\n",
       "      <td>22915.28</td>\n",
       "      <td>1683.42</td>\n",
       "      <td>15300.64</td>\n",
       "      <td>-0.001675</td>\n",
       "      <td>-0.003380</td>\n",
       "      <td>0.001209</td>\n",
       "    </tr>\n",
       "    <tr>\n",
       "      <td>2013-09-17</td>\n",
       "      <td>14311.67</td>\n",
       "      <td>5245.2</td>\n",
       "      <td>9704.4700</td>\n",
       "      <td>8613.00</td>\n",
       "      <td>6570.17</td>\n",
       "      <td>23180.52</td>\n",
       "      <td>1697.60</td>\n",
       "      <td>15494.78</td>\n",
       "      <td>0.011575</td>\n",
       "      <td>0.008423</td>\n",
       "      <td>-0.006456</td>\n",
       "    </tr>\n",
       "    <tr>\n",
       "      <td>2013-09-18</td>\n",
       "      <td>14505.36</td>\n",
       "      <td>5230.4</td>\n",
       "      <td>9738.9262</td>\n",
       "      <td>8596.95</td>\n",
       "      <td>6558.82</td>\n",
       "      <td>23117.45</td>\n",
       "      <td>1704.76</td>\n",
       "      <td>15529.73</td>\n",
       "      <td>-0.002721</td>\n",
       "      <td>0.004218</td>\n",
       "      <td>0.013534</td>\n",
       "    </tr>\n",
       "    <tr>\n",
       "      <td>...</td>\n",
       "      <td>...</td>\n",
       "      <td>...</td>\n",
       "      <td>...</td>\n",
       "      <td>...</td>\n",
       "      <td>...</td>\n",
       "      <td>...</td>\n",
       "      <td>...</td>\n",
       "      <td>...</td>\n",
       "      <td>...</td>\n",
       "      <td>...</td>\n",
       "      <td>...</td>\n",
       "    </tr>\n",
       "    <tr>\n",
       "      <td>2017-08-29</td>\n",
       "      <td>19362.55</td>\n",
       "      <td>5733.6</td>\n",
       "      <td>11800.2193</td>\n",
       "      <td>12123.47</td>\n",
       "      <td>7337.43</td>\n",
       "      <td>27765.01</td>\n",
       "      <td>2444.24</td>\n",
       "      <td>21808.40</td>\n",
       "      <td>-0.003527</td>\n",
       "      <td>0.002161</td>\n",
       "      <td>-0.004491</td>\n",
       "    </tr>\n",
       "    <tr>\n",
       "      <td>2017-08-30</td>\n",
       "      <td>19506.54</td>\n",
       "      <td>5733.8</td>\n",
       "      <td>11791.8786</td>\n",
       "      <td>11945.88</td>\n",
       "      <td>7365.26</td>\n",
       "      <td>28094.61</td>\n",
       "      <td>2446.30</td>\n",
       "      <td>21865.37</td>\n",
       "      <td>0.011871</td>\n",
       "      <td>0.000843</td>\n",
       "      <td>0.007437</td>\n",
       "    </tr>\n",
       "    <tr>\n",
       "      <td>2017-08-31</td>\n",
       "      <td>19646.24</td>\n",
       "      <td>5776.3</td>\n",
       "      <td>11805.0710</td>\n",
       "      <td>12002.47</td>\n",
       "      <td>7430.62</td>\n",
       "      <td>27970.30</td>\n",
       "      <td>2457.59</td>\n",
       "      <td>21892.43</td>\n",
       "      <td>-0.004425</td>\n",
       "      <td>0.004615</td>\n",
       "      <td>0.007162</td>\n",
       "    </tr>\n",
       "    <tr>\n",
       "      <td>2017-09-01</td>\n",
       "      <td>19691.47</td>\n",
       "      <td>5786.1</td>\n",
       "      <td>11875.6930</td>\n",
       "      <td>12055.84</td>\n",
       "      <td>7438.50</td>\n",
       "      <td>27953.16</td>\n",
       "      <td>2471.65</td>\n",
       "      <td>21948.10</td>\n",
       "      <td>-0.000613</td>\n",
       "      <td>0.005721</td>\n",
       "      <td>0.002302</td>\n",
       "    </tr>\n",
       "    <tr>\n",
       "      <td>2017-09-04</td>\n",
       "      <td>19508.25</td>\n",
       "      <td>5763.8</td>\n",
       "      <td>11875.6930</td>\n",
       "      <td>12055.84</td>\n",
       "      <td>7411.47</td>\n",
       "      <td>27740.26</td>\n",
       "      <td>2471.65</td>\n",
       "      <td>21948.10</td>\n",
       "      <td>-0.007616</td>\n",
       "      <td>0.000000</td>\n",
       "      <td>-0.009305</td>\n",
       "    </tr>\n",
       "  </tbody>\n",
       "</table>\n",
       "<p>973 rows × 11 columns</p>\n",
       "</div>"
      ],
      "text/plain": [
       "              nikkei    aord        nyse       dax     ftse  hangseng  \\\n",
       "2013-09-11  14425.07  5230.6   9620.7100   8446.54  6588.43  22937.14   \n",
       "2013-09-12  14387.27  5238.2   9655.3774   8495.73  6588.98  22953.72   \n",
       "2013-09-13  14404.67  5214.7   9607.3168   8494.00  6583.80  22915.28   \n",
       "2013-09-17  14311.67  5245.2   9704.4700   8613.00  6570.17  23180.52   \n",
       "2013-09-18  14505.36  5230.4   9738.9262   8596.95  6558.82  23117.45   \n",
       "...              ...     ...         ...       ...      ...       ...   \n",
       "2017-08-29  19362.55  5733.6  11800.2193  12123.47  7337.43  27765.01   \n",
       "2017-08-30  19506.54  5733.8  11791.8786  11945.88  7365.26  28094.61   \n",
       "2017-08-31  19646.24  5776.3  11805.0710  12002.47  7430.62  27970.30   \n",
       "2017-09-01  19691.47  5786.1  11875.6930  12055.84  7438.50  27953.16   \n",
       "2017-09-04  19508.25  5763.8  11875.6930  12055.84  7411.47  27740.26   \n",
       "\n",
       "              sp500      djia  hangseng_return  sp500_return  nikkei_return  \n",
       "2013-09-11  1683.99  15191.06        -0.001720      0.007346       0.000119  \n",
       "2013-09-12  1689.13  15326.60         0.000723      0.003052      -0.002620  \n",
       "2013-09-13  1683.42  15300.64        -0.001675     -0.003380       0.001209  \n",
       "2013-09-17  1697.60  15494.78         0.011575      0.008423      -0.006456  \n",
       "2013-09-18  1704.76  15529.73        -0.002721      0.004218       0.013534  \n",
       "...             ...       ...              ...           ...            ...  \n",
       "2017-08-29  2444.24  21808.40        -0.003527      0.002161      -0.004491  \n",
       "2017-08-30  2446.30  21865.37         0.011871      0.000843       0.007437  \n",
       "2017-08-31  2457.59  21892.43        -0.004425      0.004615       0.007162  \n",
       "2017-09-01  2471.65  21948.10        -0.000613      0.005721       0.002302  \n",
       "2017-09-04  2471.65  21948.10        -0.007616      0.000000      -0.009305  \n",
       "\n",
       "[973 rows x 11 columns]"
      ]
     },
     "execution_count": 17,
     "metadata": {},
     "output_type": "execute_result"
    }
   ],
   "source": [
    "# Drop the rows with NaN\n",
    "stocks=stocks.dropna(axis=0)\n",
    "\n",
    "stocks"
   ]
  },
  {
   "cell_type": "code",
   "execution_count": 18,
   "metadata": {},
   "outputs": [],
   "source": [
    "# Compute the Return of S&P 500 after max-min Standardization\n",
    "stocks[\"max-min\"]=(stocks[\"sp500_return\"]-stocks[\"sp500_return\"].min())/(stocks[\"sp500_return\"].max()-stocks[\"sp500_return\"].min())\n"
   ]
  },
  {
   "cell_type": "code",
   "execution_count": 19,
   "metadata": {},
   "outputs": [
    {
     "name": "stdout",
     "output_type": "stream",
     "text": [
      "Max= 0.03902828198455799\n",
      "Min= -0.07000928413885932\n"
     ]
    }
   ],
   "source": [
    "# Max. of the Return of S&P 500\n",
    "print(\"Max=\",stocks[\"sp500_return\"].max())\n",
    "\n",
    "# Min. of the Return of S&P 500\n",
    "print(\"Min=\",stocks[\"sp500_return\"].min())"
   ]
  },
  {
   "cell_type": "code",
   "execution_count": 20,
   "metadata": {},
   "outputs": [
    {
     "data": {
      "text/html": [
       "<div>\n",
       "<style scoped>\n",
       "    .dataframe tbody tr th:only-of-type {\n",
       "        vertical-align: middle;\n",
       "    }\n",
       "\n",
       "    .dataframe tbody tr th {\n",
       "        vertical-align: top;\n",
       "    }\n",
       "\n",
       "    .dataframe thead th {\n",
       "        text-align: right;\n",
       "    }\n",
       "</style>\n",
       "<table border=\"1\" class=\"dataframe\">\n",
       "  <thead>\n",
       "    <tr style=\"text-align: right;\">\n",
       "      <th></th>\n",
       "      <th>sp500_return</th>\n",
       "      <th>max-min</th>\n",
       "    </tr>\n",
       "  </thead>\n",
       "  <tbody>\n",
       "    <tr>\n",
       "      <td>2013-09-11</td>\n",
       "      <td>0.007346</td>\n",
       "      <td>0.709435</td>\n",
       "    </tr>\n",
       "    <tr>\n",
       "      <td>2013-09-12</td>\n",
       "      <td>0.003052</td>\n",
       "      <td>0.670059</td>\n",
       "    </tr>\n",
       "    <tr>\n",
       "      <td>2013-09-13</td>\n",
       "      <td>-0.003380</td>\n",
       "      <td>0.611063</td>\n",
       "    </tr>\n",
       "    <tr>\n",
       "      <td>2013-09-17</td>\n",
       "      <td>0.008423</td>\n",
       "      <td>0.719317</td>\n",
       "    </tr>\n",
       "    <tr>\n",
       "      <td>2013-09-18</td>\n",
       "      <td>0.004218</td>\n",
       "      <td>0.680747</td>\n",
       "    </tr>\n",
       "    <tr>\n",
       "      <td>...</td>\n",
       "      <td>...</td>\n",
       "      <td>...</td>\n",
       "    </tr>\n",
       "    <tr>\n",
       "      <td>2017-08-29</td>\n",
       "      <td>0.002161</td>\n",
       "      <td>0.661882</td>\n",
       "    </tr>\n",
       "    <tr>\n",
       "      <td>2017-08-30</td>\n",
       "      <td>0.000843</td>\n",
       "      <td>0.649795</td>\n",
       "    </tr>\n",
       "    <tr>\n",
       "      <td>2017-08-31</td>\n",
       "      <td>0.004615</td>\n",
       "      <td>0.684392</td>\n",
       "    </tr>\n",
       "    <tr>\n",
       "      <td>2017-09-01</td>\n",
       "      <td>0.005721</td>\n",
       "      <td>0.694534</td>\n",
       "    </tr>\n",
       "    <tr>\n",
       "      <td>2017-09-04</td>\n",
       "      <td>0.000000</td>\n",
       "      <td>0.642066</td>\n",
       "    </tr>\n",
       "  </tbody>\n",
       "</table>\n",
       "<p>973 rows × 2 columns</p>\n",
       "</div>"
      ],
      "text/plain": [
       "            sp500_return   max-min\n",
       "2013-09-11      0.007346  0.709435\n",
       "2013-09-12      0.003052  0.670059\n",
       "2013-09-13     -0.003380  0.611063\n",
       "2013-09-17      0.008423  0.719317\n",
       "2013-09-18      0.004218  0.680747\n",
       "...                  ...       ...\n",
       "2017-08-29      0.002161  0.661882\n",
       "2017-08-30      0.000843  0.649795\n",
       "2017-08-31      0.004615  0.684392\n",
       "2017-09-01      0.005721  0.694534\n",
       "2017-09-04      0.000000  0.642066\n",
       "\n",
       "[973 rows x 2 columns]"
      ]
     },
     "execution_count": 20,
     "metadata": {},
     "output_type": "execute_result"
    }
   ],
   "source": [
    "# Values of \"sp500_return\",\"max-min\"\n",
    "stocks[[\"sp500_return\",\"max-min\"]]"
   ]
  },
  {
   "cell_type": "code",
   "execution_count": 21,
   "metadata": {},
   "outputs": [
    {
     "data": {
      "text/plain": [
       "Text(0.5, 1.0, 'Histogream of standardized sp500 return with max-min method')"
      ]
     },
     "execution_count": 21,
     "metadata": {},
     "output_type": "execute_result"
    },
    {
     "data": {
      "image/png": "[encoded data removed]",
      "text/plain": [
       "<Figure size 432x288 with 1 Axes>"
      ]
     },
     "metadata": {
      "needs_background": "light"
     },
     "output_type": "display_data"
    }
   ],
   "source": [
    "# Histogram\n",
    "plt.hist(stocks[\"max-min\"],bins=20,edgecolor='yellow')\n",
    "\n",
    "# Title\n",
    "plt.title(\"Histogream of standardized sp500 return with max-min method\")"
   ]
  },
  {
   "cell_type": "markdown",
   "metadata": {},
   "source": [
    "### 3b. Mean-standard deviation"
   ]
  },
  {
   "cell_type": "markdown",
   "metadata": {},
   "source": [
    "$$\n",
    "\\frac{x-mean}{std}\n",
    "$$"
   ]
  },
  {
   "cell_type": "code",
   "execution_count": 22,
   "metadata": {},
   "outputs": [
    {
     "data": {
      "text/html": [
       "<div>\n",
       "<style scoped>\n",
       "    .dataframe tbody tr th:only-of-type {\n",
       "        vertical-align: middle;\n",
       "    }\n",
       "\n",
       "    .dataframe tbody tr th {\n",
       "        vertical-align: top;\n",
       "    }\n",
       "\n",
       "    .dataframe thead th {\n",
       "        text-align: right;\n",
       "    }\n",
       "</style>\n",
       "<table border=\"1\" class=\"dataframe\">\n",
       "  <thead>\n",
       "    <tr style=\"text-align: right;\">\n",
       "      <th></th>\n",
       "      <th>sp500_return</th>\n",
       "      <th>mean-std</th>\n",
       "    </tr>\n",
       "  </thead>\n",
       "  <tbody>\n",
       "    <tr>\n",
       "      <td>2013-09-11</td>\n",
       "      <td>0.007346</td>\n",
       "      <td>0.844070</td>\n",
       "    </tr>\n",
       "    <tr>\n",
       "      <td>2013-09-12</td>\n",
       "      <td>0.003052</td>\n",
       "      <td>0.319621</td>\n",
       "    </tr>\n",
       "    <tr>\n",
       "      <td>2013-09-13</td>\n",
       "      <td>-0.003380</td>\n",
       "      <td>-0.466133</td>\n",
       "    </tr>\n",
       "    <tr>\n",
       "      <td>2013-09-17</td>\n",
       "      <td>0.008423</td>\n",
       "      <td>0.975693</td>\n",
       "    </tr>\n",
       "    <tr>\n",
       "      <td>2013-09-18</td>\n",
       "      <td>0.004218</td>\n",
       "      <td>0.461980</td>\n",
       "    </tr>\n",
       "    <tr>\n",
       "      <td>...</td>\n",
       "      <td>...</td>\n",
       "      <td>...</td>\n",
       "    </tr>\n",
       "    <tr>\n",
       "      <td>2017-08-29</td>\n",
       "      <td>0.002161</td>\n",
       "      <td>0.210721</td>\n",
       "    </tr>\n",
       "    <tr>\n",
       "      <td>2017-08-30</td>\n",
       "      <td>0.000843</td>\n",
       "      <td>0.049734</td>\n",
       "    </tr>\n",
       "    <tr>\n",
       "      <td>2017-08-31</td>\n",
       "      <td>0.004615</td>\n",
       "      <td>0.510524</td>\n",
       "    </tr>\n",
       "    <tr>\n",
       "      <td>2017-09-01</td>\n",
       "      <td>0.005721</td>\n",
       "      <td>0.645611</td>\n",
       "    </tr>\n",
       "    <tr>\n",
       "      <td>2017-09-04</td>\n",
       "      <td>0.000000</td>\n",
       "      <td>-0.053213</td>\n",
       "    </tr>\n",
       "  </tbody>\n",
       "</table>\n",
       "<p>973 rows × 2 columns</p>\n",
       "</div>"
      ],
      "text/plain": [
       "            sp500_return  mean-std\n",
       "2013-09-11      0.007346  0.844070\n",
       "2013-09-12      0.003052  0.319621\n",
       "2013-09-13     -0.003380 -0.466133\n",
       "2013-09-17      0.008423  0.975693\n",
       "2013-09-18      0.004218  0.461980\n",
       "...                  ...       ...\n",
       "2017-08-29      0.002161  0.210721\n",
       "2017-08-30      0.000843  0.049734\n",
       "2017-08-31      0.004615  0.510524\n",
       "2017-09-01      0.005721  0.645611\n",
       "2017-09-04      0.000000 -0.053213\n",
       "\n",
       "[973 rows x 2 columns]"
      ]
     },
     "execution_count": 22,
     "metadata": {},
     "output_type": "execute_result"
    }
   ],
   "source": [
    "# Compute the Return of S&P 500 after Mean-standard deviation Standardization\n",
    "stocks[\"mean-std\"]=(stocks[\"sp500_return\"]-stocks[\"sp500_return\"].mean())/(stocks[\"sp500_return\"].std())\n",
    "\n",
    "# Values of \"sp500_return\",\"mean-std\"\n",
    "stocks[[\"sp500_return\",\"mean-std\"]]"
   ]
  },
  {
   "cell_type": "code",
   "execution_count": 23,
   "metadata": {},
   "outputs": [
    {
     "data": {
      "text/plain": [
       "Text(0.5, 1.0, 'Histogream of standardized sp500 return with mean-std method')"
      ]
     },
     "execution_count": 23,
     "metadata": {},
     "output_type": "execute_result"
    },
    {
     "data": {
      "image/png": "[encoded data removed]",
      "text/plain": [
       "<Figure size 432x288 with 1 Axes>"
      ]
     },
     "metadata": {
      "needs_background": "light"
     },
     "output_type": "display_data"
    }
   ],
   "source": [
    "# Histogram\n",
    "# no. of bins: 20\n",
    "# Edgecolor: yellow\n",
    "plt.hist(stocks[\"mean-std\"],bins=20,edgecolor='yellow')\n",
    "\n",
    "# Title\n",
    "plt.title(\"Histogream of standardized sp500 return with mean-std method\")"
   ]
  },
  {
   "cell_type": "markdown",
   "metadata": {},
   "source": [
    "## 4. Transforming Features"
   ]
  },
  {
   "cell_type": "markdown",
   "metadata": {},
   "source": [
    "###  Dummification"
   ]
  },
  {
   "cell_type": "markdown",
   "metadata": {},
   "source": [
    "<font size=4>You may use the <font color=red>list comprehension</font> to introduce dummy variables.</font>"
   ]
  },
  {
   "cell_type": "code",
   "execution_count": 24,
   "metadata": {},
   "outputs": [],
   "source": [
    "# 1: The return of SP500 is positive\n",
    "# 0: The return of SP500 is negative\n",
    "stocks[\"sp500_return_dummy\"]=[1 if x >0 else 0 for x in stocks[\"sp500_return\"]]"
   ]
  },
  {
   "cell_type": "code",
   "execution_count": 25,
   "metadata": {},
   "outputs": [
    {
     "data": {
      "text/html": [
       "<div>\n",
       "<style scoped>\n",
       "    .dataframe tbody tr th:only-of-type {\n",
       "        vertical-align: middle;\n",
       "    }\n",
       "\n",
       "    .dataframe tbody tr th {\n",
       "        vertical-align: top;\n",
       "    }\n",
       "\n",
       "    .dataframe thead th {\n",
       "        text-align: right;\n",
       "    }\n",
       "</style>\n",
       "<table border=\"1\" class=\"dataframe\">\n",
       "  <thead>\n",
       "    <tr style=\"text-align: right;\">\n",
       "      <th></th>\n",
       "      <th>sp500_return</th>\n",
       "      <th>sp500_return_dummy</th>\n",
       "    </tr>\n",
       "  </thead>\n",
       "  <tbody>\n",
       "    <tr>\n",
       "      <td>2013-09-11</td>\n",
       "      <td>0.007346</td>\n",
       "      <td>1</td>\n",
       "    </tr>\n",
       "    <tr>\n",
       "      <td>2013-09-12</td>\n",
       "      <td>0.003052</td>\n",
       "      <td>1</td>\n",
       "    </tr>\n",
       "    <tr>\n",
       "      <td>2013-09-13</td>\n",
       "      <td>-0.003380</td>\n",
       "      <td>0</td>\n",
       "    </tr>\n",
       "    <tr>\n",
       "      <td>2013-09-17</td>\n",
       "      <td>0.008423</td>\n",
       "      <td>1</td>\n",
       "    </tr>\n",
       "    <tr>\n",
       "      <td>2013-09-18</td>\n",
       "      <td>0.004218</td>\n",
       "      <td>1</td>\n",
       "    </tr>\n",
       "    <tr>\n",
       "      <td>...</td>\n",
       "      <td>...</td>\n",
       "      <td>...</td>\n",
       "    </tr>\n",
       "    <tr>\n",
       "      <td>2017-08-29</td>\n",
       "      <td>0.002161</td>\n",
       "      <td>1</td>\n",
       "    </tr>\n",
       "    <tr>\n",
       "      <td>2017-08-30</td>\n",
       "      <td>0.000843</td>\n",
       "      <td>1</td>\n",
       "    </tr>\n",
       "    <tr>\n",
       "      <td>2017-08-31</td>\n",
       "      <td>0.004615</td>\n",
       "      <td>1</td>\n",
       "    </tr>\n",
       "    <tr>\n",
       "      <td>2017-09-01</td>\n",
       "      <td>0.005721</td>\n",
       "      <td>1</td>\n",
       "    </tr>\n",
       "    <tr>\n",
       "      <td>2017-09-04</td>\n",
       "      <td>0.000000</td>\n",
       "      <td>0</td>\n",
       "    </tr>\n",
       "  </tbody>\n",
       "</table>\n",
       "<p>973 rows × 2 columns</p>\n",
       "</div>"
      ],
      "text/plain": [
       "            sp500_return  sp500_return_dummy\n",
       "2013-09-11      0.007346                   1\n",
       "2013-09-12      0.003052                   1\n",
       "2013-09-13     -0.003380                   0\n",
       "2013-09-17      0.008423                   1\n",
       "2013-09-18      0.004218                   1\n",
       "...                  ...                 ...\n",
       "2017-08-29      0.002161                   1\n",
       "2017-08-30      0.000843                   1\n",
       "2017-08-31      0.004615                   1\n",
       "2017-09-01      0.005721                   1\n",
       "2017-09-04      0.000000                   0\n",
       "\n",
       "[973 rows x 2 columns]"
      ]
     },
     "execution_count": 25,
     "metadata": {},
     "output_type": "execute_result"
    }
   ],
   "source": [
    "# Values of \"sp500_return\",\"sp500_return_dummy\"\n",
    "stocks[[\"sp500_return\",\"sp500_return_dummy\"]]"
   ]
  },
  {
   "cell_type": "code",
   "execution_count": 26,
   "metadata": {},
   "outputs": [],
   "source": [
    "# 1: The return of nikkei is positive\n",
    "# 0: The return of nikkei is negative\n",
    "stocks[\"nikkei_return_dummy\"]=[1 if x >0 else 0 for x in stocks[\"nikkei_return\"]]"
   ]
  },
  {
   "cell_type": "code",
   "execution_count": 27,
   "metadata": {},
   "outputs": [],
   "source": [
    "# Product of \"nikkei_return_dummy\" and \"sp500_return_dummy\"\n",
    "stocks[\"product\"]=stocks[\"nikkei_return_dummy\"]*stocks[\"sp500_return_dummy\"]"
   ]
  },
  {
   "cell_type": "code",
   "execution_count": 28,
   "metadata": {},
   "outputs": [
    {
     "data": {
      "text/html": [
       "<div>\n",
       "<style scoped>\n",
       "    .dataframe tbody tr th:only-of-type {\n",
       "        vertical-align: middle;\n",
       "    }\n",
       "\n",
       "    .dataframe tbody tr th {\n",
       "        vertical-align: top;\n",
       "    }\n",
       "\n",
       "    .dataframe thead th {\n",
       "        text-align: right;\n",
       "    }\n",
       "</style>\n",
       "<table border=\"1\" class=\"dataframe\">\n",
       "  <thead>\n",
       "    <tr style=\"text-align: right;\">\n",
       "      <th></th>\n",
       "      <th>nikkei_return_dummy</th>\n",
       "      <th>sp500_return_dummy</th>\n",
       "      <th>product</th>\n",
       "    </tr>\n",
       "  </thead>\n",
       "  <tbody>\n",
       "    <tr>\n",
       "      <td>2013-09-11</td>\n",
       "      <td>1</td>\n",
       "      <td>1</td>\n",
       "      <td>1</td>\n",
       "    </tr>\n",
       "    <tr>\n",
       "      <td>2013-09-12</td>\n",
       "      <td>0</td>\n",
       "      <td>1</td>\n",
       "      <td>0</td>\n",
       "    </tr>\n",
       "    <tr>\n",
       "      <td>2013-09-13</td>\n",
       "      <td>1</td>\n",
       "      <td>0</td>\n",
       "      <td>0</td>\n",
       "    </tr>\n",
       "    <tr>\n",
       "      <td>2013-09-17</td>\n",
       "      <td>0</td>\n",
       "      <td>1</td>\n",
       "      <td>0</td>\n",
       "    </tr>\n",
       "    <tr>\n",
       "      <td>2013-09-18</td>\n",
       "      <td>1</td>\n",
       "      <td>1</td>\n",
       "      <td>1</td>\n",
       "    </tr>\n",
       "    <tr>\n",
       "      <td>...</td>\n",
       "      <td>...</td>\n",
       "      <td>...</td>\n",
       "      <td>...</td>\n",
       "    </tr>\n",
       "    <tr>\n",
       "      <td>2017-08-29</td>\n",
       "      <td>0</td>\n",
       "      <td>1</td>\n",
       "      <td>0</td>\n",
       "    </tr>\n",
       "    <tr>\n",
       "      <td>2017-08-30</td>\n",
       "      <td>1</td>\n",
       "      <td>1</td>\n",
       "      <td>1</td>\n",
       "    </tr>\n",
       "    <tr>\n",
       "      <td>2017-08-31</td>\n",
       "      <td>1</td>\n",
       "      <td>1</td>\n",
       "      <td>1</td>\n",
       "    </tr>\n",
       "    <tr>\n",
       "      <td>2017-09-01</td>\n",
       "      <td>1</td>\n",
       "      <td>1</td>\n",
       "      <td>1</td>\n",
       "    </tr>\n",
       "    <tr>\n",
       "      <td>2017-09-04</td>\n",
       "      <td>0</td>\n",
       "      <td>0</td>\n",
       "      <td>0</td>\n",
       "    </tr>\n",
       "  </tbody>\n",
       "</table>\n",
       "<p>973 rows × 3 columns</p>\n",
       "</div>"
      ],
      "text/plain": [
       "            nikkei_return_dummy  sp500_return_dummy  product\n",
       "2013-09-11                    1                   1        1\n",
       "2013-09-12                    0                   1        0\n",
       "2013-09-13                    1                   0        0\n",
       "2013-09-17                    0                   1        0\n",
       "2013-09-18                    1                   1        1\n",
       "...                         ...                 ...      ...\n",
       "2017-08-29                    0                   1        0\n",
       "2017-08-30                    1                   1        1\n",
       "2017-08-31                    1                   1        1\n",
       "2017-09-01                    1                   1        1\n",
       "2017-09-04                    0                   0        0\n",
       "\n",
       "[973 rows x 3 columns]"
      ]
     },
     "execution_count": 28,
     "metadata": {},
     "output_type": "execute_result"
    }
   ],
   "source": [
    "# Values of \"nikkei_return_dummy\",\"sp500_return_dummy\",\"product\"\n",
    "stocks[[\"nikkei_return_dummy\",\"sp500_return_dummy\",\"product\"]]"
   ]
  },
  {
   "cell_type": "code",
   "execution_count": 29,
   "metadata": {},
   "outputs": [],
   "source": [
    "# Compute the square of return of nikkei\n",
    "stocks[\"nikkei_return_square\"]=stocks[\"nikkei_return\"]**2"
   ]
  },
  {
   "cell_type": "code",
   "execution_count": 30,
   "metadata": {},
   "outputs": [
    {
     "data": {
      "text/html": [
       "<div>\n",
       "<style scoped>\n",
       "    .dataframe tbody tr th:only-of-type {\n",
       "        vertical-align: middle;\n",
       "    }\n",
       "\n",
       "    .dataframe tbody tr th {\n",
       "        vertical-align: top;\n",
       "    }\n",
       "\n",
       "    .dataframe thead th {\n",
       "        text-align: right;\n",
       "    }\n",
       "</style>\n",
       "<table border=\"1\" class=\"dataframe\">\n",
       "  <thead>\n",
       "    <tr style=\"text-align: right;\">\n",
       "      <th></th>\n",
       "      <th>nikkei_return</th>\n",
       "      <th>nikkei_return_square</th>\n",
       "    </tr>\n",
       "  </thead>\n",
       "  <tbody>\n",
       "    <tr>\n",
       "      <td>2013-09-11</td>\n",
       "      <td>0.000119</td>\n",
       "      <td>1.405592e-08</td>\n",
       "    </tr>\n",
       "    <tr>\n",
       "      <td>2013-09-12</td>\n",
       "      <td>-0.002620</td>\n",
       "      <td>6.866695e-06</td>\n",
       "    </tr>\n",
       "    <tr>\n",
       "      <td>2013-09-13</td>\n",
       "      <td>0.001209</td>\n",
       "      <td>1.462654e-06</td>\n",
       "    </tr>\n",
       "    <tr>\n",
       "      <td>2013-09-17</td>\n",
       "      <td>-0.006456</td>\n",
       "      <td>4.168303e-05</td>\n",
       "    </tr>\n",
       "    <tr>\n",
       "      <td>2013-09-18</td>\n",
       "      <td>0.013534</td>\n",
       "      <td>1.831613e-04</td>\n",
       "    </tr>\n",
       "    <tr>\n",
       "      <td>...</td>\n",
       "      <td>...</td>\n",
       "      <td>...</td>\n",
       "    </tr>\n",
       "    <tr>\n",
       "      <td>2017-08-29</td>\n",
       "      <td>-0.004491</td>\n",
       "      <td>2.016931e-05</td>\n",
       "    </tr>\n",
       "    <tr>\n",
       "      <td>2017-08-30</td>\n",
       "      <td>0.007437</td>\n",
       "      <td>5.530184e-05</td>\n",
       "    </tr>\n",
       "    <tr>\n",
       "      <td>2017-08-31</td>\n",
       "      <td>0.007162</td>\n",
       "      <td>5.128996e-05</td>\n",
       "    </tr>\n",
       "    <tr>\n",
       "      <td>2017-09-01</td>\n",
       "      <td>0.002302</td>\n",
       "      <td>5.300225e-06</td>\n",
       "    </tr>\n",
       "    <tr>\n",
       "      <td>2017-09-04</td>\n",
       "      <td>-0.009305</td>\n",
       "      <td>8.657440e-05</td>\n",
       "    </tr>\n",
       "  </tbody>\n",
       "</table>\n",
       "<p>973 rows × 2 columns</p>\n",
       "</div>"
      ],
      "text/plain": [
       "            nikkei_return  nikkei_return_square\n",
       "2013-09-11       0.000119          1.405592e-08\n",
       "2013-09-12      -0.002620          6.866695e-06\n",
       "2013-09-13       0.001209          1.462654e-06\n",
       "2013-09-17      -0.006456          4.168303e-05\n",
       "2013-09-18       0.013534          1.831613e-04\n",
       "...                   ...                   ...\n",
       "2017-08-29      -0.004491          2.016931e-05\n",
       "2017-08-30       0.007437          5.530184e-05\n",
       "2017-08-31       0.007162          5.128996e-05\n",
       "2017-09-01       0.002302          5.300225e-06\n",
       "2017-09-04      -0.009305          8.657440e-05\n",
       "\n",
       "[973 rows x 2 columns]"
      ]
     },
     "execution_count": 30,
     "metadata": {},
     "output_type": "execute_result"
    }
   ],
   "source": [
    "# Values of \"nikkei_return\",\"nikkei_return_square\"\n",
    "stocks[[\"nikkei_return\",\"nikkei_return_square\"]]"
   ]
  },
  {
   "cell_type": "markdown",
   "metadata": {},
   "source": [
    "## 5. Data slicing and selection"
   ]
  },
  {
   "cell_type": "markdown",
   "metadata": {},
   "source": [
    "### 5a. Split into Training and Testing set"
   ]
  },
  {
   "cell_type": "markdown",
   "metadata": {},
   "source": [
    "<font size=4>We will split the first 80% data as training set and the remaining 20% as test set.</font>"
   ]
  },
  {
   "cell_type": "code",
   "execution_count": 31,
   "metadata": {},
   "outputs": [
    {
     "data": {
      "text/plain": [
       "(973, 17)"
      ]
     },
     "execution_count": 31,
     "metadata": {},
     "output_type": "execute_result"
    }
   ],
   "source": [
    "# Shape of the DataFrame 'stocks'\n",
    "stocks.shape"
   ]
  },
  {
   "cell_type": "code",
   "execution_count": 32,
   "metadata": {},
   "outputs": [],
   "source": [
    "# 80% as training set\n",
    "train_size=int(973*0.8)"
   ]
  },
  {
   "cell_type": "code",
   "execution_count": 33,
   "metadata": {},
   "outputs": [],
   "source": [
    "# 20% as testing set\n",
    "test_size=973-train_size"
   ]
  },
  {
   "cell_type": "code",
   "execution_count": 34,
   "metadata": {},
   "outputs": [],
   "source": [
    "# Training set\n",
    "train=stocks.iloc[:train_size,:]"
   ]
  },
  {
   "cell_type": "code",
   "execution_count": 35,
   "metadata": {},
   "outputs": [],
   "source": [
    "# Testing set\n",
    "test=stocks.iloc[train_size:,:]"
   ]
  },
  {
   "cell_type": "code",
   "execution_count": 36,
   "metadata": {},
   "outputs": [
    {
     "data": {
      "text/html": [
       "<div>\n",
       "<style scoped>\n",
       "    .dataframe tbody tr th:only-of-type {\n",
       "        vertical-align: middle;\n",
       "    }\n",
       "\n",
       "    .dataframe tbody tr th {\n",
       "        vertical-align: top;\n",
       "    }\n",
       "\n",
       "    .dataframe thead th {\n",
       "        text-align: right;\n",
       "    }\n",
       "</style>\n",
       "<table border=\"1\" class=\"dataframe\">\n",
       "  <thead>\n",
       "    <tr style=\"text-align: right;\">\n",
       "      <th></th>\n",
       "      <th>sp500_return</th>\n",
       "      <th>nikkei_return</th>\n",
       "      <th>hangseng_return</th>\n",
       "    </tr>\n",
       "  </thead>\n",
       "  <tbody>\n",
       "    <tr>\n",
       "      <td>2013-09-11</td>\n",
       "      <td>0.007346</td>\n",
       "      <td>0.000119</td>\n",
       "      <td>-0.001720</td>\n",
       "    </tr>\n",
       "    <tr>\n",
       "      <td>2013-09-12</td>\n",
       "      <td>0.003052</td>\n",
       "      <td>-0.002620</td>\n",
       "      <td>0.000723</td>\n",
       "    </tr>\n",
       "    <tr>\n",
       "      <td>2013-09-13</td>\n",
       "      <td>-0.003380</td>\n",
       "      <td>0.001209</td>\n",
       "      <td>-0.001675</td>\n",
       "    </tr>\n",
       "    <tr>\n",
       "      <td>2013-09-17</td>\n",
       "      <td>0.008423</td>\n",
       "      <td>-0.006456</td>\n",
       "      <td>0.011575</td>\n",
       "    </tr>\n",
       "    <tr>\n",
       "      <td>2013-09-18</td>\n",
       "      <td>0.004218</td>\n",
       "      <td>0.013534</td>\n",
       "      <td>-0.002721</td>\n",
       "    </tr>\n",
       "    <tr>\n",
       "      <td>...</td>\n",
       "      <td>...</td>\n",
       "      <td>...</td>\n",
       "      <td>...</td>\n",
       "    </tr>\n",
       "    <tr>\n",
       "      <td>2016-11-14</td>\n",
       "      <td>0.000000</td>\n",
       "      <td>0.017142</td>\n",
       "      <td>-0.013709</td>\n",
       "    </tr>\n",
       "    <tr>\n",
       "      <td>2016-11-15</td>\n",
       "      <td>-0.001513</td>\n",
       "      <td>-0.000253</td>\n",
       "      <td>0.004576</td>\n",
       "    </tr>\n",
       "    <tr>\n",
       "      <td>2016-11-16</td>\n",
       "      <td>0.007481</td>\n",
       "      <td>0.010984</td>\n",
       "      <td>-0.001943</td>\n",
       "    </tr>\n",
       "    <tr>\n",
       "      <td>2016-11-17</td>\n",
       "      <td>-0.001582</td>\n",
       "      <td>0.000024</td>\n",
       "      <td>-0.000792</td>\n",
       "    </tr>\n",
       "    <tr>\n",
       "      <td>2016-11-18</td>\n",
       "      <td>0.004676</td>\n",
       "      <td>0.005866</td>\n",
       "      <td>0.003653</td>\n",
       "    </tr>\n",
       "  </tbody>\n",
       "</table>\n",
       "<p>778 rows × 3 columns</p>\n",
       "</div>"
      ],
      "text/plain": [
       "            sp500_return  nikkei_return  hangseng_return\n",
       "2013-09-11      0.007346       0.000119        -0.001720\n",
       "2013-09-12      0.003052      -0.002620         0.000723\n",
       "2013-09-13     -0.003380       0.001209        -0.001675\n",
       "2013-09-17      0.008423      -0.006456         0.011575\n",
       "2013-09-18      0.004218       0.013534        -0.002721\n",
       "...                  ...            ...              ...\n",
       "2016-11-14      0.000000       0.017142        -0.013709\n",
       "2016-11-15     -0.001513      -0.000253         0.004576\n",
       "2016-11-16      0.007481       0.010984        -0.001943\n",
       "2016-11-17     -0.001582       0.000024        -0.000792\n",
       "2016-11-18      0.004676       0.005866         0.003653\n",
       "\n",
       "[778 rows x 3 columns]"
      ]
     },
     "execution_count": 36,
     "metadata": {},
     "output_type": "execute_result"
    }
   ],
   "source": [
    "# \"sp500_return\",\"nikkei_return\",\"hangseng_return\" of Training set\n",
    "train[[\"sp500_return\",\"nikkei_return\",\"hangseng_return\"]]"
   ]
  },
  {
   "cell_type": "code",
   "execution_count": 37,
   "metadata": {},
   "outputs": [
    {
     "data": {
      "text/html": [
       "<div>\n",
       "<style scoped>\n",
       "    .dataframe tbody tr th:only-of-type {\n",
       "        vertical-align: middle;\n",
       "    }\n",
       "\n",
       "    .dataframe tbody tr th {\n",
       "        vertical-align: top;\n",
       "    }\n",
       "\n",
       "    .dataframe thead th {\n",
       "        text-align: right;\n",
       "    }\n",
       "</style>\n",
       "<table border=\"1\" class=\"dataframe\">\n",
       "  <thead>\n",
       "    <tr style=\"text-align: right;\">\n",
       "      <th></th>\n",
       "      <th>sp500_return</th>\n",
       "      <th>nikkei_return</th>\n",
       "      <th>hangseng_return</th>\n",
       "    </tr>\n",
       "  </thead>\n",
       "  <tbody>\n",
       "    <tr>\n",
       "      <td>2016-11-21</td>\n",
       "      <td>0.000000</td>\n",
       "      <td>0.007715</td>\n",
       "      <td>0.000607</td>\n",
       "    </tr>\n",
       "    <tr>\n",
       "      <td>2016-11-22</td>\n",
       "      <td>0.005057</td>\n",
       "      <td>0.003144</td>\n",
       "      <td>0.014326</td>\n",
       "    </tr>\n",
       "    <tr>\n",
       "      <td>2016-11-24</td>\n",
       "      <td>0.002975</td>\n",
       "      <td>0.009386</td>\n",
       "      <td>-0.003068</td>\n",
       "    </tr>\n",
       "    <tr>\n",
       "      <td>2016-11-25</td>\n",
       "      <td>0.000000</td>\n",
       "      <td>0.002608</td>\n",
       "      <td>0.005085</td>\n",
       "    </tr>\n",
       "    <tr>\n",
       "      <td>2016-11-28</td>\n",
       "      <td>0.000000</td>\n",
       "      <td>-0.001324</td>\n",
       "      <td>0.004714</td>\n",
       "    </tr>\n",
       "    <tr>\n",
       "      <td>...</td>\n",
       "      <td>...</td>\n",
       "      <td>...</td>\n",
       "      <td>...</td>\n",
       "    </tr>\n",
       "    <tr>\n",
       "      <td>2017-08-29</td>\n",
       "      <td>0.002161</td>\n",
       "      <td>-0.004491</td>\n",
       "      <td>-0.003527</td>\n",
       "    </tr>\n",
       "    <tr>\n",
       "      <td>2017-08-30</td>\n",
       "      <td>0.000843</td>\n",
       "      <td>0.007437</td>\n",
       "      <td>0.011871</td>\n",
       "    </tr>\n",
       "    <tr>\n",
       "      <td>2017-08-31</td>\n",
       "      <td>0.004615</td>\n",
       "      <td>0.007162</td>\n",
       "      <td>-0.004425</td>\n",
       "    </tr>\n",
       "    <tr>\n",
       "      <td>2017-09-01</td>\n",
       "      <td>0.005721</td>\n",
       "      <td>0.002302</td>\n",
       "      <td>-0.000613</td>\n",
       "    </tr>\n",
       "    <tr>\n",
       "      <td>2017-09-04</td>\n",
       "      <td>0.000000</td>\n",
       "      <td>-0.009305</td>\n",
       "      <td>-0.007616</td>\n",
       "    </tr>\n",
       "  </tbody>\n",
       "</table>\n",
       "<p>195 rows × 3 columns</p>\n",
       "</div>"
      ],
      "text/plain": [
       "            sp500_return  nikkei_return  hangseng_return\n",
       "2016-11-21      0.000000       0.007715         0.000607\n",
       "2016-11-22      0.005057       0.003144         0.014326\n",
       "2016-11-24      0.002975       0.009386        -0.003068\n",
       "2016-11-25      0.000000       0.002608         0.005085\n",
       "2016-11-28      0.000000      -0.001324         0.004714\n",
       "...                  ...            ...              ...\n",
       "2017-08-29      0.002161      -0.004491        -0.003527\n",
       "2017-08-30      0.000843       0.007437         0.011871\n",
       "2017-08-31      0.004615       0.007162        -0.004425\n",
       "2017-09-01      0.005721       0.002302        -0.000613\n",
       "2017-09-04      0.000000      -0.009305        -0.007616\n",
       "\n",
       "[195 rows x 3 columns]"
      ]
     },
     "execution_count": 37,
     "metadata": {},
     "output_type": "execute_result"
    }
   ],
   "source": [
    "# \"sp500_return\",\"nikkei_return\",\"hangseng_return\" of test set\n",
    "test[[\"sp500_return\",\"nikkei_return\",\"hangseng_return\"]]"
   ]
  },
  {
   "cell_type": "markdown",
   "metadata": {},
   "source": [
    "### 5b. Select Rows"
   ]
  },
  {
   "cell_type": "code",
   "execution_count": 38,
   "metadata": {},
   "outputs": [
    {
     "data": {
      "text/html": [
       "<div>\n",
       "<style scoped>\n",
       "    .dataframe tbody tr th:only-of-type {\n",
       "        vertical-align: middle;\n",
       "    }\n",
       "\n",
       "    .dataframe tbody tr th {\n",
       "        vertical-align: top;\n",
       "    }\n",
       "\n",
       "    .dataframe thead th {\n",
       "        text-align: right;\n",
       "    }\n",
       "</style>\n",
       "<table border=\"1\" class=\"dataframe\">\n",
       "  <thead>\n",
       "    <tr style=\"text-align: right;\">\n",
       "      <th></th>\n",
       "      <th>sp500_return</th>\n",
       "      <th>nikkei_return</th>\n",
       "      <th>hangseng_return</th>\n",
       "    </tr>\n",
       "  </thead>\n",
       "  <tbody>\n",
       "    <tr>\n",
       "      <td>2015-01-05</td>\n",
       "      <td>0.000000</td>\n",
       "      <td>-0.002410</td>\n",
       "      <td>0.009371</td>\n",
       "    </tr>\n",
       "    <tr>\n",
       "      <td>2015-01-06</td>\n",
       "      <td>-0.033479</td>\n",
       "      <td>-0.030187</td>\n",
       "      <td>-0.009945</td>\n",
       "    </tr>\n",
       "    <tr>\n",
       "      <td>2015-01-07</td>\n",
       "      <td>-0.008893</td>\n",
       "      <td>0.000127</td>\n",
       "      <td>0.008339</td>\n",
       "    </tr>\n",
       "    <tr>\n",
       "      <td>2015-01-08</td>\n",
       "      <td>0.011630</td>\n",
       "      <td>0.016687</td>\n",
       "      <td>0.006514</td>\n",
       "    </tr>\n",
       "    <tr>\n",
       "      <td>2015-01-09</td>\n",
       "      <td>0.017888</td>\n",
       "      <td>0.001784</td>\n",
       "      <td>0.003542</td>\n",
       "    </tr>\n",
       "    <tr>\n",
       "      <td>...</td>\n",
       "      <td>...</td>\n",
       "      <td>...</td>\n",
       "      <td>...</td>\n",
       "    </tr>\n",
       "    <tr>\n",
       "      <td>2015-12-24</td>\n",
       "      <td>0.021344</td>\n",
       "      <td>-0.005136</td>\n",
       "      <td>0.014114</td>\n",
       "    </tr>\n",
       "    <tr>\n",
       "      <td>2015-12-25</td>\n",
       "      <td>-0.001599</td>\n",
       "      <td>-0.001098</td>\n",
       "      <td>0.000000</td>\n",
       "    </tr>\n",
       "    <tr>\n",
       "      <td>2015-12-28</td>\n",
       "      <td>0.000000</td>\n",
       "      <td>0.005556</td>\n",
       "      <td>-0.009870</td>\n",
       "    </tr>\n",
       "    <tr>\n",
       "      <td>2015-12-29</td>\n",
       "      <td>-0.002179</td>\n",
       "      <td>0.005769</td>\n",
       "      <td>0.003650</td>\n",
       "    </tr>\n",
       "    <tr>\n",
       "      <td>2015-12-30</td>\n",
       "      <td>0.010630</td>\n",
       "      <td>0.002712</td>\n",
       "      <td>-0.005340</td>\n",
       "    </tr>\n",
       "  </tbody>\n",
       "</table>\n",
       "<p>244 rows × 3 columns</p>\n",
       "</div>"
      ],
      "text/plain": [
       "            sp500_return  nikkei_return  hangseng_return\n",
       "2015-01-05      0.000000      -0.002410         0.009371\n",
       "2015-01-06     -0.033479      -0.030187        -0.009945\n",
       "2015-01-07     -0.008893       0.000127         0.008339\n",
       "2015-01-08      0.011630       0.016687         0.006514\n",
       "2015-01-09      0.017888       0.001784         0.003542\n",
       "...                  ...            ...              ...\n",
       "2015-12-24      0.021344      -0.005136         0.014114\n",
       "2015-12-25     -0.001599      -0.001098         0.000000\n",
       "2015-12-28      0.000000       0.005556        -0.009870\n",
       "2015-12-29     -0.002179       0.005769         0.003650\n",
       "2015-12-30      0.010630       0.002712        -0.005340\n",
       "\n",
       "[244 rows x 3 columns]"
      ]
     },
     "execution_count": 38,
     "metadata": {},
     "output_type": "execute_result"
    }
   ],
   "source": [
    "# Select the rows from \"2015-01-01\" to \"2015-12-31\"\n",
    "# Select the columns \"sp500_return\",\"nikkei_return\",\"hangseng_return\"\n",
    "stocks.loc[\"2015-01-01\":\"2015-12-31\",[\"sp500_return\",\"nikkei_return\",\"hangseng_return\"] ]"
   ]
  },
  {
   "cell_type": "markdown",
   "metadata": {},
   "source": [
    "### 5c. Select with Conditions"
   ]
  },
  {
   "cell_type": "code",
   "execution_count": 39,
   "metadata": {},
   "outputs": [
    {
     "data": {
      "text/html": [
       "<div>\n",
       "<style scoped>\n",
       "    .dataframe tbody tr th:only-of-type {\n",
       "        vertical-align: middle;\n",
       "    }\n",
       "\n",
       "    .dataframe tbody tr th {\n",
       "        vertical-align: top;\n",
       "    }\n",
       "\n",
       "    .dataframe thead th {\n",
       "        text-align: right;\n",
       "    }\n",
       "</style>\n",
       "<table border=\"1\" class=\"dataframe\">\n",
       "  <thead>\n",
       "    <tr style=\"text-align: right;\">\n",
       "      <th></th>\n",
       "      <th>sp500_return</th>\n",
       "      <th>nikkei_return</th>\n",
       "      <th>hangseng_return</th>\n",
       "    </tr>\n",
       "  </thead>\n",
       "  <tbody>\n",
       "    <tr>\n",
       "      <td>2013-09-11</td>\n",
       "      <td>0.007346</td>\n",
       "      <td>0.000119</td>\n",
       "      <td>-0.001720</td>\n",
       "    </tr>\n",
       "    <tr>\n",
       "      <td>2013-09-12</td>\n",
       "      <td>0.003052</td>\n",
       "      <td>-0.002620</td>\n",
       "      <td>0.000723</td>\n",
       "    </tr>\n",
       "    <tr>\n",
       "      <td>2013-09-17</td>\n",
       "      <td>0.008423</td>\n",
       "      <td>-0.006456</td>\n",
       "      <td>0.011575</td>\n",
       "    </tr>\n",
       "    <tr>\n",
       "      <td>2013-09-18</td>\n",
       "      <td>0.004218</td>\n",
       "      <td>0.013534</td>\n",
       "      <td>-0.002721</td>\n",
       "    </tr>\n",
       "    <tr>\n",
       "      <td>2013-09-19</td>\n",
       "      <td>0.012178</td>\n",
       "      <td>0.017981</td>\n",
       "      <td>0.016657</td>\n",
       "    </tr>\n",
       "    <tr>\n",
       "      <td>...</td>\n",
       "      <td>...</td>\n",
       "      <td>...</td>\n",
       "      <td>...</td>\n",
       "    </tr>\n",
       "    <tr>\n",
       "      <td>2017-08-23</td>\n",
       "      <td>0.009941</td>\n",
       "      <td>0.002621</td>\n",
       "      <td>0.000000</td>\n",
       "    </tr>\n",
       "    <tr>\n",
       "      <td>2017-08-29</td>\n",
       "      <td>0.002161</td>\n",
       "      <td>-0.004491</td>\n",
       "      <td>-0.003527</td>\n",
       "    </tr>\n",
       "    <tr>\n",
       "      <td>2017-08-30</td>\n",
       "      <td>0.000843</td>\n",
       "      <td>0.007437</td>\n",
       "      <td>0.011871</td>\n",
       "    </tr>\n",
       "    <tr>\n",
       "      <td>2017-08-31</td>\n",
       "      <td>0.004615</td>\n",
       "      <td>0.007162</td>\n",
       "      <td>-0.004425</td>\n",
       "    </tr>\n",
       "    <tr>\n",
       "      <td>2017-09-01</td>\n",
       "      <td>0.005721</td>\n",
       "      <td>0.002302</td>\n",
       "      <td>-0.000613</td>\n",
       "    </tr>\n",
       "  </tbody>\n",
       "</table>\n",
       "<p>421 rows × 3 columns</p>\n",
       "</div>"
      ],
      "text/plain": [
       "            sp500_return  nikkei_return  hangseng_return\n",
       "2013-09-11      0.007346       0.000119        -0.001720\n",
       "2013-09-12      0.003052      -0.002620         0.000723\n",
       "2013-09-17      0.008423      -0.006456         0.011575\n",
       "2013-09-18      0.004218       0.013534        -0.002721\n",
       "2013-09-19      0.012178       0.017981         0.016657\n",
       "...                  ...            ...              ...\n",
       "2017-08-23      0.009941       0.002621         0.000000\n",
       "2017-08-29      0.002161      -0.004491        -0.003527\n",
       "2017-08-30      0.000843       0.007437         0.011871\n",
       "2017-08-31      0.004615       0.007162        -0.004425\n",
       "2017-09-01      0.005721       0.002302        -0.000613\n",
       "\n",
       "[421 rows x 3 columns]"
      ]
     },
     "execution_count": 39,
     "metadata": {},
     "output_type": "execute_result"
    }
   ],
   "source": [
    "# Select the row with positive return of SP500\n",
    "# Select the columns \"sp500_return\",\"nikkei_return\",\"hangseng_return\"\n",
    "stocks[stocks[\"sp500_return\"]>0][[\"sp500_return\",\"nikkei_return\",\"hangseng_return\"] ]"
   ]
  }
 ],
 "metadata": {
  "kernelspec": {
   "display_name": "Python 3",
   "language": "python",
   "name": "python3"
  },
  "language_info": {
   "codemirror_mode": {
    "name": "ipython",
    "version": 3
   },
   "file_extension": ".py",
   "mimetype": "text/x-python",
   "name": "python",
   "nbconvert_exporter": "python",
   "pygments_lexer": "ipython3",
   "version": "3.7.4"
  }
 },
 "nbformat": 4,
 "nbformat_minor": 4
}
