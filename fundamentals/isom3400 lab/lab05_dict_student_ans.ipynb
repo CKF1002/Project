{
 "cells": [
  {
   "cell_type": "markdown",
   "metadata": {},
   "source": [
    "# Lab 5: Dictionaries"
   ]
  },
  {
   "cell_type": "markdown",
   "metadata": {},
   "source": [
    "# The `for` Statement\n",
    "\n",
    "\n",
    "A `for` statement allows for looping over sequences, processing them one item at a time.\n",
    "\n",
    "The simple form of a `for` loop is as follows:\n",
    "\n",
    "\n",
    " <br>\n",
    "\n",
    "<pre class=\"lang-python\">\n",
    "<span style=\"color:#2767C5\";>for</span> <span style=\"color:#BB2F29\";>&lt;variable&gt;</span> <span style=\"color:#2767C5\";>in</span> <span style=\"color:#BB2F29\";>&lt;iterable&gt;</span>:  \n",
    "\n",
    "    statement(s)                 <span style=\"font-style: italic; color:dark teal;\"># The break and continue statements also work the same here</span>\n",
    "\n",
    "following statements</pre>\n",
    "\n",
    "      \n",
    "<br>\n",
    "\n",
    "\n",
    "<img src=\"https://raw.githubusercontent.com/justinjiajia/img/master/python/forloop.png\" width=600/> \n"
   ]
  },
  {
   "cell_type": "markdown",
   "metadata": {},
   "source": [
    "# Parallel Traversals with **`zip()`**\n",
    "\n",
    "\n",
    "The built-in [`zip()`](https://docs.python.org/3/library/functions.html#zip) function allows us to use `for` loops to visit multiple sequences ***in parallel***.\n",
    "\n",
    "\n",
    "`zip()` takes one or more sequences as arguments and returns a series of tuples that pair up parallel items taken from those sequences:\n",
    "\n",
    "<img src=\"https://raw.githubusercontent.com/justinjiajia/img/master/python/zip1.svg\" width=500/>\n"
   ]
  },
  {
   "cell_type": "markdown",
   "metadata": {},
   "source": [
    "# How to implement logic into your code?\n",
    "\n",
    "\n",
    "In many cases, we want programs to have behaviors other than **sequential execution** of statements.\n",
    "\n",
    "For a bank to consider whether or not to offer someone a loan:"
   ]
  },
  {
   "cell_type": "markdown",
   "metadata": {},
   "source": [
    "\n",
    "| Name |  Income | Decision |\n",
    "|-----|-----|-----|\n",
    "| Amy | 27 | ? |\n",
    "\n",
    "<img src=\"https://raw.githubusercontent.com/justinjiajia/img/master/python/1dt.png\" width=500   style=\"float: left; \"  />\n",
    "\n",
    "Pseudo code:\n",
    "\n",
    "<pre>\n",
    "\n",
    "<span style=\"color:#2767C5\";>if</span> <span style=\"color:#BB2F29\";>income >= 30</span> <span style=\"color:#2767C5\";>=></span> approve\n",
    "\n",
    "<span style=\"color:#2767C5\";>else</span> <span style=\"color:#2767C5\";>=></span> reject\n",
    "\n",
    "</pre>"
   ]
  },
  {
   "cell_type": "markdown",
   "metadata": {},
   "source": [
    "# The `if` Statement\n",
    "\n",
    "\n",
    "The `if` statement tests a condition and acts on it depending on whether it's ***true*** or ***false***. \n",
    "\n",
    "The simplest form is as follows:"
   ]
  },
  {
   "cell_type": "markdown",
   "metadata": {},
   "source": [
    "\n",
    "<pre class=\"lang-python\">\n",
    "<span style=\"color:#2767C5\";>if</span> <span style=\"color:#BB2F29\";>&lt;condition&gt;</span>:             <span style=\"font-style: italic; color:dark teal;\"># The colon (:) is required</span>\n",
    "                            <span style=\"font-style: italic; color:dark teal;\"># Indentation is used to define a group of statements.</span>\n",
    "<div style=\" border-left: 6px solid red; background-color: #e8e9ea;\">  statement 1               \n",
    "  statement 2                  \n",
    "  ...\n",
    "  statement N</div>    \n",
    "following statement(s) \n",
    "</pre>"
   ]
  },
  {
   "cell_type": "markdown",
   "metadata": {},
   "source": [
    "# Task 1"
   ]
  },
  {
   "cell_type": "markdown",
   "metadata": {},
   "source": [
    "Print a dictionary \n",
    "\n",
    "(a) without using comprehension \n",
    "\n",
    "(b) with using comprehension\n",
    "\n",
    "where the keys are numbers between 1 and 50 (both included) and the values are cube of the keys.\n",
    "\n",
    "To stick with what you have learnt from class, you may want to utilise the following list:\n",
    "\n",
    ">listNum = [1,2,3,4,5,6,7,8,9,10,11,12,13,14,15,16,17,18,19,20,21,22,23,24,25,26,27,28,29,30,31,32,33,34,35,36,37,38,39,40,41,42,43,44,45,46,47,48,49,50]\n"
   ]
  },
  {
   "cell_type": "code",
   "execution_count": 1,
   "metadata": {},
   "outputs": [
    {
     "name": "stdout",
     "output_type": "stream",
     "text": [
      "{1: 1, 2: 8, 3: 27, 4: 64, 5: 125, 6: 216, 7: 343, 8: 512, 9: 729, 10: 1000, 11: 1331, 12: 1728, 13: 2197, 14: 2744, 15: 3375, 16: 4096, 17: 4913, 18: 5832, 19: 6859, 20: 8000, 21: 9261, 22: 10648, 23: 12167, 24: 13824, 25: 15625, 26: 17576, 27: 19683, 28: 21952, 29: 24389, 30: 27000, 31: 29791, 32: 32768, 33: 35937, 34: 39304, 35: 42875, 36: 46656, 37: 50653, 38: 54872, 39: 59319, 40: 64000, 41: 68921, 42: 74088, 43: 79507, 44: 85184, 45: 91125, 46: 97336, 47: 103823, 48: 110592, 49: 117649, 50: 125000}\n"
     ]
    }
   ],
   "source": [
    "listNum = [1,2,3,4,5,6,7,8,9,10,11,12,13,14,15,16,17,18,19,20,21,22,23,24,25,26,27,28,29,30,31,32,33,34,35,36,37,38,39,40,41,42,43,44,45,46,47,48,49,50]\n",
    "\n",
    "result_dict = {}\n",
    "\n",
    "for i in listNum:\n",
    "    result_dict[i] = i**3\n",
    "\n",
    "print(result_dict)"
   ]
  },
  {
   "cell_type": "code",
   "execution_count": 2,
   "metadata": {},
   "outputs": [
    {
     "name": "stdout",
     "output_type": "stream",
     "text": [
      "{1: 1, 2: 8, 3: 27, 4: 64, 5: 125, 6: 216, 7: 343, 8: 512, 9: 729, 10: 1000, 11: 1331, 12: 1728, 13: 2197, 14: 2744, 15: 3375, 16: 4096, 17: 4913, 18: 5832, 19: 6859, 20: 8000, 21: 9261, 22: 10648, 23: 12167, 24: 13824, 25: 15625, 26: 17576, 27: 19683, 28: 21952, 29: 24389, 30: 27000, 31: 29791, 32: 32768, 33: 35937, 34: 39304, 35: 42875, 36: 46656, 37: 50653, 38: 54872, 39: 59319, 40: 64000, 41: 68921, 42: 74088, 43: 79507, 44: 85184, 45: 91125, 46: 97336, 47: 103823, 48: 110592, 49: 117649, 50: 125000}\n"
     ]
    }
   ],
   "source": [
    "# Just change the way to initialize a dict\n",
    "result_dict2 = dict()\n",
    "\n",
    "for i in listNum:\n",
    "    result_dict2[i] = i**3\n",
    "\n",
    "print(result_dict2)"
   ]
  },
  {
   "cell_type": "code",
   "execution_count": 3,
   "metadata": {
    "scrolled": true
   },
   "outputs": [
    {
     "name": "stdout",
     "output_type": "stream",
     "text": [
      "{1: 1, 2: 8, 3: 27, 4: 64, 5: 125, 6: 216, 7: 343, 8: 512, 9: 729, 10: 1000, 11: 1331, 12: 1728, 13: 2197, 14: 2744, 15: 3375, 16: 4096, 17: 4913, 18: 5832, 19: 6859, 20: 8000, 21: 9261, 22: 10648, 23: 12167, 24: 13824, 25: 15625, 26: 17576, 27: 19683, 28: 21952, 29: 24389, 30: 27000, 31: 29791, 32: 32768, 33: 35937, 34: 39304, 35: 42875, 36: 46656, 37: 50653, 38: 54872, 39: 59319, 40: 64000, 41: 68921, 42: 74088, 43: 79507, 44: 85184, 45: 91125, 46: 97336, 47: 103823, 48: 110592, 49: 117649, 50: 125000}\n"
     ]
    }
   ],
   "source": [
    "print({i:i**3 for i in listNum})"
   ]
  },
  {
   "cell_type": "code",
   "execution_count": 4,
   "metadata": {},
   "outputs": [
    {
     "name": "stdout",
     "output_type": "stream",
     "text": [
      "{1: 1, 2: 8, 3: 27, 4: 64, 5: 125, 6: 216, 7: 343, 8: 512, 9: 729, 10: 1000, 11: 1331, 12: 1728, 13: 2197, 14: 2744, 15: 3375, 16: 4096, 17: 4913, 18: 5832, 19: 6859, 20: 8000, 21: 9261, 22: 10648, 23: 12167, 24: 13824, 25: 15625, 26: 17576, 27: 19683, 28: 21952, 29: 24389, 30: 27000, 31: 29791, 32: 32768, 33: 35937, 34: 39304, 35: 42875, 36: 46656, 37: 50653, 38: 54872, 39: 59319, 40: 64000, 41: 68921, 42: 74088, 43: 79507, 44: 85184, 45: 91125, 46: 97336, 47: 103823, 48: 110592, 49: 117649, 50: 125000}\n"
     ]
    }
   ],
   "source": [
    "# Another way, utilising range()\n",
    "print({i:i**3 for i in range(1,51)})"
   ]
  },
  {
   "cell_type": "markdown",
   "metadata": {},
   "source": [
    "# Task 2"
   ]
  },
  {
   "cell_type": "markdown",
   "metadata": {},
   "source": [
    "Consider the following two lists:\n",
    "\n",
    ">ustStu = ['intelligent','hard-working','passive','smart','selfish','brilliant','rude','boring']<br>\n",
    ">comment = ['ofcourse','nodoubt','disagree','agree','disagree','yup','disagree','disagree']\n",
    "\n",
    "(a) By using comprehension, combine useStu and comment (with ustStu as key and comment as value) into a dict named dictUstStu.\n",
    "\n",
    "Expected output:\n",
    ">{'intelligent': 'ofcourse', 'hard-working': 'nodoubt', 'passive': 'disagree', 'smart': 'agree', 'selfish': 'disagree', 'brilliant': 'yup', 'rude': 'disagree', 'boring': 'disagree'}\n",
    "\n",
    "(b) Use built-in function len() to check the length of dictUstStu\n",
    "\n",
    "(c) Apply **.clear()** to dictUstStu. What happens now? Can you print it out again? What is the length of the dict?\n",
    "\n",
    "(d) Run the following code, print the dict out and check it's length.\n",
    "\n",
    "> dictTest = {k:v for k,v in enumerate(ustStu)}\n",
    "\n",
    "(e) Apply **del** to dictTest. What happens now? Can you print it out again? What is the length of the dict?\n",
    "\n"
   ]
  },
  {
   "cell_type": "code",
   "execution_count": 5,
   "metadata": {},
   "outputs": [
    {
     "name": "stdout",
     "output_type": "stream",
     "text": [
      "{'intelligent': 'ofcourse', 'hard-working': 'nodoubt', 'passive': 'disagree', 'smart': 'agree', 'selfish': 'disagree', 'brilliant': 'yup', 'rude': 'disagree', 'boring': 'disagree'}\n"
     ]
    }
   ],
   "source": [
    "ustStu = ['intelligent','hard-working','passive','smart','selfish','brilliant','rude','boring']\n",
    "comment = ['ofcourse','nodoubt','disagree','agree','disagree','yup','disagree','disagree']\n",
    "\n",
    "dictUstStu = {k:v for k,v in zip(ustStu,comment)}\n",
    "\n",
    "print(dictUstStu)"
   ]
  },
  {
   "cell_type": "code",
   "execution_count": 6,
   "metadata": {},
   "outputs": [
    {
     "name": "stdout",
     "output_type": "stream",
     "text": [
      "The length of dictUstStu is 8\n"
     ]
    }
   ],
   "source": [
    "print(\"The length of dictUstStu is\", len(dictUstStu))"
   ]
  },
  {
   "cell_type": "code",
   "execution_count": 7,
   "metadata": {},
   "outputs": [
    {
     "name": "stdout",
     "output_type": "stream",
     "text": [
      "{}\n",
      "The length of dictUstStu is 0\n"
     ]
    }
   ],
   "source": [
    "dictUstStu.clear()\n",
    "\n",
    "print(dictUstStu)\n",
    "\n",
    "print(\"The length of dictUstStu is\", len(dictUstStu))"
   ]
  },
  {
   "cell_type": "code",
   "execution_count": 8,
   "metadata": {},
   "outputs": [
    {
     "name": "stdout",
     "output_type": "stream",
     "text": [
      "{0: 'intelligent', 1: 'hard-working', 2: 'passive', 3: 'smart', 4: 'selfish', 5: 'brilliant', 6: 'rude', 7: 'boring'}\n",
      "The length of dictTest is 8\n"
     ]
    }
   ],
   "source": [
    "dictTest = {k:v for k,v in enumerate(ustStu)}\n",
    "\n",
    "print(dictTest)\n",
    "\n",
    "print(\"The length of dictTest is\", len(dictTest))"
   ]
  },
  {
   "cell_type": "code",
   "execution_count": 9,
   "metadata": {},
   "outputs": [],
   "source": [
    "del dictTest"
   ]
  },
  {
   "cell_type": "code",
   "execution_count": 10,
   "metadata": {},
   "outputs": [
    {
     "ename": "NameError",
     "evalue": "name 'dictTest' is not defined",
     "output_type": "error",
     "traceback": [
      "\u001b[1;31m---------------------------------------------------------------------------\u001b[0m",
      "\u001b[1;31mNameError\u001b[0m                                 Traceback (most recent call last)",
      "\u001b[1;32m<ipython-input-10-46f63963cd31>\u001b[0m in \u001b[0;36m<module>\u001b[1;34m\u001b[0m\n\u001b[0;32m      1\u001b[0m \u001b[1;31m# Error because the dict is gone\u001b[0m\u001b[1;33m\u001b[0m\u001b[1;33m\u001b[0m\u001b[1;33m\u001b[0m\u001b[0m\n\u001b[1;32m----> 2\u001b[1;33m \u001b[0mprint\u001b[0m\u001b[1;33m(\u001b[0m\u001b[0mdictTest\u001b[0m\u001b[1;33m)\u001b[0m\u001b[1;33m\u001b[0m\u001b[1;33m\u001b[0m\u001b[0m\n\u001b[0m",
      "\u001b[1;31mNameError\u001b[0m: name 'dictTest' is not defined"
     ]
    }
   ],
   "source": [
    "# Error because the dict is gone\n",
    "print(dictTest)"
   ]
  },
  {
   "cell_type": "code",
   "execution_count": 11,
   "metadata": {},
   "outputs": [
    {
     "ename": "NameError",
     "evalue": "name 'dictTest' is not defined",
     "output_type": "error",
     "traceback": [
      "\u001b[1;31m---------------------------------------------------------------------------\u001b[0m",
      "\u001b[1;31mNameError\u001b[0m                                 Traceback (most recent call last)",
      "\u001b[1;32m<ipython-input-11-c84d138145e4>\u001b[0m in \u001b[0;36m<module>\u001b[1;34m\u001b[0m\n\u001b[0;32m      1\u001b[0m \u001b[1;31m# Error because the dict is gone\u001b[0m\u001b[1;33m\u001b[0m\u001b[1;33m\u001b[0m\u001b[1;33m\u001b[0m\u001b[0m\n\u001b[1;32m----> 2\u001b[1;33m \u001b[0mlen\u001b[0m\u001b[1;33m(\u001b[0m\u001b[0mdictTest\u001b[0m\u001b[1;33m)\u001b[0m\u001b[1;33m\u001b[0m\u001b[1;33m\u001b[0m\u001b[0m\n\u001b[0m",
      "\u001b[1;31mNameError\u001b[0m: name 'dictTest' is not defined"
     ]
    }
   ],
   "source": [
    "# Error because the dict is gone\n",
    "len(dictTest)"
   ]
  },
  {
   "cell_type": "markdown",
   "metadata": {},
   "source": [
    "# Task 3"
   ]
  },
  {
   "cell_type": "markdown",
   "metadata": {},
   "source": [
    "Consider the following dict:\n",
    "\n",
    ">ustPeople = {\n",
    "    \"Aries\":[\"Male\", 16, \"SBM\"],\n",
    "    \"Taurus\":[\"Female\", 20, \"SENG\"],\n",
    "    \"Gemini\":[\"Male\", 21, \"SHSS\"],\n",
    "    \"Cancer\":[\"Neutral\", 23, \"SSCI\"],\n",
    "    \"Virgo\":[\"Unknown\", 22, \"IPO\"]\n",
    "}\n",
    "\n",
    "From ustPeople, extract (i) Name (ii) Gender (iii) Age (iv) Program\n",
    "\n",
    "and store them into lists named **name**, **gender**, **age**, **program** respectively.\n"
   ]
  },
  {
   "cell_type": "code",
   "execution_count": 12,
   "metadata": {},
   "outputs": [],
   "source": [
    "ustPeople = {\n",
    "    \"Aries\":[\"Male\", 16, \"SBM\"],\n",
    "    \"Taurus\":[\"Female\", 20, \"SENG\"],\n",
    "    \"Gemini\":[\"Male\", 21, \"SHSS\"],\n",
    "    \"Cancer\":[\"Neutral\", 23, \"SSCI\"],\n",
    "    \"Virgo\":[\"Unknown\", 22, \"IPO\"]\n",
    "}\n"
   ]
  },
  {
   "cell_type": "code",
   "execution_count": 13,
   "metadata": {},
   "outputs": [
    {
     "name": "stdout",
     "output_type": "stream",
     "text": [
      "Name of the people: ['Aries', 'Taurus', 'Gemini', 'Cancer', 'Virgo']\n",
      "Gender of the people: ['Male', 'Female', 'Male', 'Neutral', 'Unknown']\n",
      "Age of the people: [16, 20, 21, 23, 22]\n",
      "Program of the people: ['SBM', 'SENG', 'SHSS', 'SSCI', 'IPO']\n"
     ]
    }
   ],
   "source": [
    "# use this solution \n",
    "\n",
    "name_3a1 = [name for name in ustPeople]  # or ustPeople.keys()\n",
    "print(\"Name of the people:\", name_3a1)\n",
    "\n",
    "\n",
    "gender_3a1 = [gender for gender, age, program in ustPeople.values()]\n",
    "print(\"Gender of the people:\", gender_3a1)\n",
    "\n",
    "\n",
    "age_3a1 = [age for gender, age, program in ustPeople.values()]\n",
    "print(\"Age of the people:\", age_3a1)\n",
    "\n",
    "program_3a1 = [program for gender, age, program in ustPeople.values()]\n",
    "print(\"Program of the people:\", program_3a1)"
   ]
  },
  {
   "cell_type": "code",
   "execution_count": 14,
   "metadata": {},
   "outputs": [
    {
     "name": "stdout",
     "output_type": "stream",
     "text": [
      "Name of the people: ['Aries', 'Taurus', 'Gemini', 'Cancer', 'Virgo']\n",
      "Sex of the people: ['Male', 'Female', 'Male', 'Neutral', 'Unknown']\n",
      "Age of the people: [16, 20, 21, 23, 22]\n",
      "Program of the people: ['SBM', 'SENG', 'SHSS', 'SSCI', 'IPO']\n"
     ]
    }
   ],
   "source": [
    "name_3b = [i for i in ustPeople]\n",
    "sex_3b = [i[0] for i in ustPeople.values()]\n",
    "age_3b = [i[1] for i in ustPeople.values()]\n",
    "program_3b = [i[2] for i in ustPeople.values()]\n",
    "\n",
    "print(\"Name of the people:\", name_3b)\n",
    "print(\"Sex of the people:\", sex_3b)\n",
    "print(\"Age of the people:\", age_3b)\n",
    "print(\"Program of the people:\", program_3b)"
   ]
  },
  {
   "cell_type": "code",
   "execution_count": 15,
   "metadata": {},
   "outputs": [
    {
     "name": "stdout",
     "output_type": "stream",
     "text": [
      "Sex of the people: ['Male', 'Female', 'Male', 'Neutral', 'Unknown']\n",
      "Age of the people: [16, 20, 21, 23, 22]\n",
      "Program of the people: ['SBM', 'SENG', 'SHSS', 'SSCI', 'IPO']\n"
     ]
    }
   ],
   "source": [
    "# Extract using .values()\n",
    "sex_3a2 = []\n",
    "age_3a2 = []\n",
    "program_3a2 = []\n",
    "\n",
    "for i in ustPeople.values():\n",
    "    sex_3a2.append(i[0])\n",
    "    age_3a2.append(i[1])\n",
    "    program_3a2.append(i[2])\n",
    "\n",
    "print(\"Sex of the people:\", sex_3a2)\n",
    "print(\"Age of the people:\", age_3a2)\n",
    "print(\"Program of the people:\", program_3a2)"
   ]
  },
  {
   "cell_type": "markdown",
   "metadata": {},
   "source": [
    "# Task 4"
   ]
  },
  {
   "cell_type": "markdown",
   "metadata": {},
   "source": [
    "Run the code in the next cell.\n",
    "\n",
    "**Note: Utilise if-statement, for-loop and/ or comprehension in this question, do not hard-code it.**\n",
    "\n",
    "(a) Check the length of the dict.\n",
    "\n",
    "(b) Extract name and first appearance of all movies.\n",
    "\n",
    "(c) For each movie, extract the abilities and store them into a separate list.\n",
    "\n",
    "Expected output:\n",
    ">[['Superhuman strength', 'Superhuman breath', 'Rapid healing'], ['Genius intellect', 'Superhuman strength', 'Precognitive spider-sense ability']]\n"
   ]
  },
  {
   "cell_type": "code",
   "execution_count": 16,
   "metadata": {},
   "outputs": [
    {
     "name": "stdout",
     "output_type": "stream",
     "text": [
      "[{'name': 'Superman', 'First appearance': 1938, 'Place of origin': 'Kryptonopolis (Krypton)', 'partnerships': ['Supergirl', 'Superboy', 'Batman', 'Wonder Woman'], 'Abilities': ['Superhuman strength', 'Superhuman breath', 'Rapid healing']}, {'name': 'Spider-Man', 'First appearance': 1962, 'Place of origin': 'Queens, New York City', 'partnerships': ['Spider-Woman', 'Black Cat', 'Deadpool', 'Iron Man'], 'Abilities': ['Genius intellect', 'Superhuman strength', 'Precognitive spider-sense ability']}]\n"
     ]
    }
   ],
   "source": [
    "data = {\n",
    "    \"Super-hero\": [\n",
    "        {\n",
    "            \"name\": \"Superman\",\n",
    "            \"First appearance\": 1938,\n",
    "            \"Place of origin\": \"Kryptonopolis (Krypton)\",\n",
    "            \"partnerships\": [\n",
    "                \"Supergirl\",\n",
    "                \"Superboy\",\n",
    "                \"Batman\",\n",
    "                \"Wonder Woman\"\n",
    "            ],\n",
    "            \"Abilities\": [\n",
    "                \"Superhuman strength\",\n",
    "                \"Superhuman breath\",\n",
    "                \"Rapid healing\"\n",
    "            ]\n",
    "        },\n",
    "        {\n",
    "            \"name\": \"Spider-Man\",\n",
    "            \"First appearance\": 1962,\n",
    "            \"Place of origin\": \"Queens, New York City\",\n",
    "            \"partnerships\": [\n",
    "                \"Spider-Woman\",\n",
    "                \"Black Cat\",\n",
    "                \"Deadpool\",\n",
    "                \"Iron Man\"\n",
    "            ],\n",
    "            \"Abilities\": [\n",
    "                \"Genius intellect\",\n",
    "                \"Superhuman strength\",\n",
    "                \"Precognitive spider-sense ability\"\n",
    "            ]\n",
    "        }\n",
    "    ]\n",
    "}\n",
    "\n",
    "\n",
    "data_list = data[\"Super-hero\"]\n",
    "\n",
    "print(data_list)"
   ]
  },
  {
   "cell_type": "code",
   "execution_count": 17,
   "metadata": {
    "scrolled": true
   },
   "outputs": [
    {
     "name": "stdout",
     "output_type": "stream",
     "text": [
      "The length of data is 1\n"
     ]
    }
   ],
   "source": [
    "print(\"The length of data is\", len(data))"
   ]
  },
  {
   "cell_type": "code",
   "execution_count": 18,
   "metadata": {},
   "outputs": [
    {
     "data": {
      "text/plain": [
       "[['Superman', 1938], ['Spider-Man', 1962]]"
      ]
     },
     "execution_count": 18,
     "metadata": {},
     "output_type": "execute_result"
    }
   ],
   "source": [
    "# try use this solution\n",
    "[[info['name'], info['First appearance']] for info in data_list]"
   ]
  },
  {
   "cell_type": "code",
   "execution_count": 19,
   "metadata": {},
   "outputs": [
    {
     "data": {
      "text/plain": [
       "[{'name': 'Superman', 'First appearance': 1938},\n",
       " {'name': 'Spider-Man', 'First appearance': 1962}]"
      ]
     },
     "execution_count": 19,
     "metadata": {},
     "output_type": "execute_result"
    }
   ],
   "source": [
    "# or this more complex one\n",
    "\n",
    "[{item[0]: item[1] for item in info.items() if item[0] in ['name', 'First appearance']} for info in data_list]"
   ]
  },
  {
   "cell_type": "code",
   "execution_count": 20,
   "metadata": {
    "scrolled": true
   },
   "outputs": [
    {
     "data": {
      "text/plain": [
       "[['Superhuman strength', 'Superhuman breath', 'Rapid healing'],\n",
       " ['Genius intellect',\n",
       "  'Superhuman strength',\n",
       "  'Precognitive spider-sense ability']]"
      ]
     },
     "execution_count": 20,
     "metadata": {},
     "output_type": "execute_result"
    }
   ],
   "source": [
    "[info[\"Abilities\"] for info in data_list]"
   ]
  }
 ],
 "metadata": {
  "kernelspec": {
   "display_name": "Python 3",
   "language": "python",
   "name": "python3"
  },
  "language_info": {
   "codemirror_mode": {
    "name": "ipython",
    "version": 3
   },
   "file_extension": ".py",
   "mimetype": "text/x-python",
   "name": "python",
   "nbconvert_exporter": "python",
   "pygments_lexer": "ipython3",
   "version": "3.8.8"
  }
 },
 "nbformat": 4,
 "nbformat_minor": 4
}
