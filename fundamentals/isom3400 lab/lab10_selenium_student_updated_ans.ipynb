{
 "cells": [
  {
   "cell_type": "markdown",
   "metadata": {},
   "source": [
    "# Lab 10: Selenium"
   ]
  },
  {
   "cell_type": "markdown",
   "metadata": {},
   "source": [
    "# Task 0"
   ]
  },
  {
   "cell_type": "markdown",
   "metadata": {},
   "source": [
    "Assume that you put the ChromeDriver together with this lab file in the same folder, run the codes in the following two code cells. Do you receive any error?"
   ]
  },
  {
   "cell_type": "code",
   "execution_count": 1,
   "metadata": {},
   "outputs": [],
   "source": [
    "from selenium import webdriver\n",
    "#Run this code if you put the chromedriver.exe file in working folder, make sure you find the correct path\n",
    "#PATH = \"C:/Users/Ray Pang/Desktop/3400/Lab10/chromedriver\"\n",
    "#driver = webdriver.chrome(PATH)\n",
    "\n",
    "#Run this code if you have put the chromedriver.exe in the folder \"condabin\" for Windows or \"/usr/bin\" for Mac\n",
    "driver = webdriver.Chrome()"
   ]
  },
  {
   "cell_type": "markdown",
   "metadata": {},
   "source": [
    "If so, **do not** move on to Task 1.\n",
    "\n",
    "Please download the manual from Canvas, properly install Selenium and the ChromeDriver into your computer before spending time on the tasks."
   ]
  },
  {
   "cell_type": "markdown",
   "metadata": {},
   "source": [
    "## DO NOT MOVE TO TASK 1 UNTIL YOU FIX THE PROBLEMS"
   ]
  },
  {
   "cell_type": "markdown",
   "metadata": {},
   "source": [
    "## DO NOT MOVE TO TASK 1 UNTIL YOU FIX THE PROBLEMS"
   ]
  },
  {
   "cell_type": "markdown",
   "metadata": {},
   "source": [
    "## DO NOT MOVE TO TASK 1 UNTIL YOU FIX THE PROBLEMS"
   ]
  },
  {
   "cell_type": "markdown",
   "metadata": {},
   "source": [
    "## READY?"
   ]
  },
  {
   "cell_type": "markdown",
   "metadata": {},
   "source": [
    "## REALLY READY?"
   ]
  },
  {
   "cell_type": "markdown",
   "metadata": {},
   "source": [
    "# Task 1"
   ]
  },
  {
   "cell_type": "markdown",
   "metadata": {},
   "source": [
    "Launch the ChromeDriver, drive the ChromeDriver to open amazon(i.e. `https://www.amazon.com/`) and read in the source code."
   ]
  },
  {
   "cell_type": "code",
   "execution_count": 2,
   "metadata": {},
   "outputs": [],
   "source": [
    "#Task 1 - import webdriver and open Amazon website\n",
    "from selenium import webdriver\n",
    "driver = webdriver.Chrome()\n",
    "driver.get(\"https://www.amazon.com/\")"
   ]
  },
  {
   "cell_type": "markdown",
   "metadata": {},
   "source": [
    "# Task 2"
   ]
  },
  {
   "cell_type": "markdown",
   "metadata": {},
   "source": [
    "(a) You should see a header `Sign in for the best experience` and there is a button `Sign in securely` under it. Utilise `find_element_by_link_text` to search for it and click on it. Then go back to the homepage.\n",
    "\n",
    "(b) Right below the search bar is a navigator bar that includes \"Today's Deals\", \"Customer Service\" etc. Utilise `find_element_by_partial_link_text` to search for `Today's Deals` and click on it to see what is selling on Amazon. Minimize the window and go back to the homepage afterwards.\n",
    "\n",
    "(c) Maximize the window and refresh it, is there anything different? Particularly the goods recommended to you.\n"
   ]
  },
  {
   "cell_type": "code",
   "execution_count": 3,
   "metadata": {},
   "outputs": [],
   "source": [
    "#2a Click \"Sign in securely\" -- find_element_by_link_text \n",
    "driver.find_element_by_partial_link_text(\"Sign in securely\").click()"
   ]
  },
  {
   "cell_type": "code",
   "execution_count": 6,
   "metadata": {},
   "outputs": [],
   "source": [
    "# Go back to the homepage\n",
    "driver.back()"
   ]
  },
  {
   "cell_type": "code",
   "execution_count": 7,
   "metadata": {},
   "outputs": [],
   "source": [
    "#2b Click \"Today's Deals\" -- find_element_by_partial_link_text\n",
    "driver.find_element_by_partial_link_text(\"Today's \").click()\n"
   ]
  },
  {
   "cell_type": "code",
   "execution_count": 8,
   "metadata": {},
   "outputs": [],
   "source": [
    "# Minimize the window\n",
    "driver.minimize_window()"
   ]
  },
  {
   "cell_type": "code",
   "execution_count": 9,
   "metadata": {},
   "outputs": [],
   "source": [
    "# Go back to the homepage\n",
    "driver.back()"
   ]
  },
  {
   "cell_type": "code",
   "execution_count": 10,
   "metadata": {},
   "outputs": [],
   "source": [
    "#2c Maximize the window\n",
    "driver.maximize_window()"
   ]
  },
  {
   "cell_type": "code",
   "execution_count": 11,
   "metadata": {},
   "outputs": [],
   "source": [
    "# Refresh\n",
    "driver.refresh()"
   ]
  },
  {
   "cell_type": "markdown",
   "metadata": {},
   "source": [
    "# Task 3"
   ]
  },
  {
   "cell_type": "markdown",
   "metadata": {},
   "source": [
    "(a) Use `find_element_by_name` and locate the search bar, input `hand sanitizer`.\n",
    "\n",
    "(b) Replace `hand sanitizer` with `Mask`. Utilise `send_keys` to load subsequent slide.\n",
    "\n",
    "(c) On the top-right corner you can show a dropdown menu of options to sort the products searched. Utilise `find_element_by_id` and `find_element_by_link_text` to load the page so the products are sorted by price from low to high.\n",
    "\n",
    "(d) Utilise `find_element_by_xpath` to filter by the brand \"3M\".\n"
   ]
  },
  {
   "cell_type": "code",
   "execution_count": 12,
   "metadata": {},
   "outputs": [],
   "source": [
    "#3a Locate the search bar and input -- find_element_by_name\n",
    "search_bar = driver.find_element_by_name(\"field-keywords\")\n",
    "search_bar.send_keys('hand sanitizer')"
   ]
  },
  {
   "cell_type": "code",
   "execution_count": 15,
   "metadata": {},
   "outputs": [],
   "source": [
    "#If you don't clear the search bar, each time you run the cell, the keyword \"hand\" will be sent to the search bar\n",
    "driver.find_element_by_name(\"field-keywords\").send_keys(\"hand\")"
   ]
  },
  {
   "cell_type": "code",
   "execution_count": 16,
   "metadata": {},
   "outputs": [],
   "source": [
    "#3b Replace \"hand sanitizer\" with \"Mask\"\n",
    "from selenium.webdriver.common.keys import Keys     # Import Keys if you haven't\n",
    "search_bar.clear()                                  #clear the search bar\n",
    "search_bar = driver.find_element_by_name(\"field-keywords\")\n",
    "search_bar.send_keys(\"Mask\")\n",
    "search_bar.send_keys(Keys.RETURN)"
   ]
  },
  {
   "cell_type": "code",
   "execution_count": 17,
   "metadata": {},
   "outputs": [],
   "source": [
    "#3d Sort Low to high\n",
    "# Locate the dropdown menu\n",
    "driver.find_element_by_id(\"a-autoid-0-announce\").click()\n",
    "\n",
    "# Click \"Low to High\"\n",
    "driver.find_element_by_link_text(\"Price: Low to High\").click()\n"
   ]
  },
  {
   "cell_type": "code",
   "execution_count": 19,
   "metadata": {},
   "outputs": [],
   "source": [
    "#3d Filter by \"3M\" -- find_element_by_xpath\n",
    "driver.find_element_by_link_text(\"See more\").click()\n",
    "driver.find_element_by_xpath('//*[@id=\"p_89/3M\"]/span/a/span').click()\n"
   ]
  }
 ],
 "metadata": {
  "interpreter": {
   "hash": "b740d220f5ad61de4a5537b0747096853a9a4d33fec50636740be1cabf866fb1"
  },
  "kernelspec": {
   "display_name": "Python 3.8.8 64-bit ('base': conda)",
   "name": "python3"
  },
  "language_info": {
   "codemirror_mode": {
    "name": "ipython",
    "version": 3
   },
   "file_extension": ".py",
   "mimetype": "text/x-python",
   "name": "python",
   "nbconvert_exporter": "python",
   "pygments_lexer": "ipython3",
   "version": "3.8.8"
  }
 },
 "nbformat": 4,
 "nbformat_minor": 4
}
