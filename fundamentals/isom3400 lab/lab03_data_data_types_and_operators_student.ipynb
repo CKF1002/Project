{
 "cells": [
  {
   "cell_type": "markdown",
   "metadata": {
    "colab_type": "text",
    "id": "IJXZu7lms8iG"
   },
   "source": [
    "# print() & Variables"
   ]
  },
  {
   "cell_type": "markdown",
   "metadata": {
    "colab_type": "text",
    "id": "bFnKmgOWUGaM"
   },
   "source": [
    "# Task 1"
   ]
  },
  {
   "cell_type": "markdown",
   "metadata": {},
   "source": [
    "(a) Create variables x and y, and assign the values 20, 25 respectively.\n",
    "\n",
    "\n",
    "(b) Use print() to print out the values of variables x and y.\n",
    "\n",
    "Topic(s) covered: variables, print()"
   ]
  },
  {
   "cell_type": "code",
   "execution_count": null,
   "metadata": {
    "colab": {},
    "colab_type": "code",
    "id": "-bpyQCNntnXp"
   },
   "outputs": [],
   "source": []
  },
  {
   "cell_type": "markdown",
   "metadata": {
    "colab_type": "text",
    "id": "hiqC2b582lJG"
   },
   "source": [
    "# Task 2"
   ]
  },
  {
   "cell_type": "markdown",
   "metadata": {
    "colab": {},
    "colab_type": "code",
    "id": "cYMJSgvzcots"
   },
   "source": [
    "Print the string as shown in the next cell using:\n",
    "\n",
    "String here:<p>\n",
    "Good grade courses<p>\n",
    "A lot of friends<p>\n",
    "A Lifelong partner<p>\n",
    "Having no regrets<p>\n",
    "You guess it right<p>\n",
    "I am from HKUST<p>\n",
    "and I love HKUST!<p>\n",
    "\n",
    "(a) Only one print function.\n",
    "\n",
    "(b) At least one print function, without using \"\\n\"\n",
    "\n",
    "(c) Only one print function, without using \"\\n\"\n",
    "\n",
    "Topic(s) covered: print()"
   ]
  },
  {
   "cell_type": "code",
   "execution_count": 1,
   "metadata": {
    "scrolled": true
   },
   "outputs": [
    {
     "name": "stdout",
     "output_type": "stream",
     "text": [
      "Good grade courses, \n",
      "\tA lot of friends, \n",
      "\t\tA Lifelong partner, \n",
      "\t\tHaving no regrets, \n",
      "\tYou guess it right, \n",
      "I am from HKUST\n",
      "\t\t\t and I love HKUST!\n"
     ]
    }
   ],
   "source": []
  },
  {
   "cell_type": "code",
   "execution_count": null,
   "metadata": {},
   "outputs": [],
   "source": []
  },
  {
   "cell_type": "markdown",
   "metadata": {},
   "source": [
    "# Task 3"
   ]
  },
  {
   "cell_type": "markdown",
   "metadata": {},
   "source": [
    "Print out the following string:\n",
    "\n",
    "Good morning, I am hungry.\n",
    "\n",
    "Topic(s) covered: print()"
   ]
  },
  {
   "cell_type": "code",
   "execution_count": null,
   "metadata": {},
   "outputs": [],
   "source": []
  },
  {
   "cell_type": "markdown",
   "metadata": {},
   "source": [
    "# Task 4"
   ]
  },
  {
   "cell_type": "markdown",
   "metadata": {},
   "source": [
    "Print out the following string:\n",
    "\n",
    "Where to grab a lunch? I am on a diet so I want a \"Chicken Salad\".\n",
    "\n",
    "Topic(s) covered: print()"
   ]
  },
  {
   "cell_type": "code",
   "execution_count": null,
   "metadata": {},
   "outputs": [],
   "source": []
  },
  {
   "cell_type": "markdown",
   "metadata": {},
   "source": [
    "# Task 5"
   ]
  },
  {
   "cell_type": "markdown",
   "metadata": {},
   "source": [
    "Print out the following string as shown in the next cell: (this is single quote)\n",
    "\n",
    "String here:<p>\n",
    "What...<p>\n",
    "You have class<p>\n",
    "What class is it?<p>\n",
    "'ISOM 3400'...I see!\n",
    "\n",
    "Hint: sep\n",
    "    \n",
    "Topic(s) covered: print()"
   ]
  },
  {
   "cell_type": "code",
   "execution_count": 1,
   "metadata": {},
   "outputs": [
    {
     "name": "stdout",
     "output_type": "stream",
     "text": [
      "What...!? You have class!? What class is it?\n",
      "'ISOM 3400'...I see!\n"
     ]
    }
   ],
   "source": []
  },
  {
   "cell_type": "code",
   "execution_count": null,
   "metadata": {},
   "outputs": [],
   "source": []
  },
  {
   "cell_type": "markdown",
   "metadata": {},
   "source": [
    "# Task 6"
   ]
  },
  {
   "cell_type": "markdown",
   "metadata": {},
   "source": [
    "Print out the following string: (mix of single and double quote)\n",
    "\n",
    "The semester just begins...relax! Listen, if you skip \"3400\", I will buy you a 'Mocha'. I am heading to the cafe now. Deal?\n",
    "\n",
    "Topic(s) covered: print()"
   ]
  },
  {
   "cell_type": "code",
   "execution_count": null,
   "metadata": {},
   "outputs": [],
   "source": []
  },
  {
   "cell_type": "markdown",
   "metadata": {},
   "source": [
    "# Variables"
   ]
  },
  {
   "cell_type": "markdown",
   "metadata": {},
   "source": [
    "# Task 7"
   ]
  },
  {
   "cell_type": "markdown",
   "metadata": {},
   "source": [
    "Declare two variables:\n",
    "\n",
    "(a) A variable **a** with value **10**\n",
    "\n",
    "(b) A variable **b** with value **10.0**\n",
    "\n",
    "Topic(s) covered: Variables"
   ]
  },
  {
   "cell_type": "code",
   "execution_count": null,
   "metadata": {},
   "outputs": [],
   "source": []
  },
  {
   "cell_type": "markdown",
   "metadata": {},
   "source": [
    "# Task 8"
   ]
  },
  {
   "cell_type": "markdown",
   "metadata": {},
   "source": [
    "After running the code in Task 7 on Google Colab, move the mouse cursor on the variable \"**a**\". What is the type of **a**?\n",
    "\n",
    "Topic(s) covered: Variables"
   ]
  },
  {
   "cell_type": "code",
   "execution_count": null,
   "metadata": {},
   "outputs": [],
   "source": []
  },
  {
   "cell_type": "markdown",
   "metadata": {},
   "source": [
    "# Task 9"
   ]
  },
  {
   "cell_type": "markdown",
   "metadata": {},
   "source": [
    "Similarly, what is the type of **b**?\n",
    "\n",
    "Topic(s) covered: Variables"
   ]
  },
  {
   "cell_type": "code",
   "execution_count": null,
   "metadata": {},
   "outputs": [],
   "source": []
  },
  {
   "cell_type": "markdown",
   "metadata": {},
   "source": [
    "# Task 10"
   ]
  },
  {
   "cell_type": "markdown",
   "metadata": {},
   "source": [
    "Run the code in the following cell. What is the type of **a** now?\n",
    "\n",
    "Topic(s) covered: Variables"
   ]
  },
  {
   "cell_type": "code",
   "execution_count": null,
   "metadata": {},
   "outputs": [],
   "source": [
    "# Just run it\n",
    "a = 15.0"
   ]
  },
  {
   "cell_type": "markdown",
   "metadata": {
    "colab_type": "text",
    "id": "xds0ht89UGao"
   },
   "source": [
    "# Arithmetic Operators\n",
    "\n",
    "| Symbol | Task Performed |\n",
    "|----|---|\n",
    "| +  | Addition |\n",
    "| -  | Subtraction |\n",
    "| /  | division |\n",
    "| %  | mod |\n",
    "| *  | multiplication |\n",
    "| //  | floor division |\n",
    "| **  | to the power of |"
   ]
  },
  {
   "cell_type": "markdown",
   "metadata": {},
   "source": [
    "# Task 11"
   ]
  },
  {
   "cell_type": "markdown",
   "metadata": {},
   "source": [
    "Given a sphere with radius 7, calculate the volume.You can search the equation online.<p>\n",
    "Treat pi as 3.14<p>\n",
    "Topic(s) covered: variables, data types, operators"
   ]
  },
  {
   "cell_type": "code",
   "execution_count": null,
   "metadata": {},
   "outputs": [],
   "source": []
  }
 ],
 "metadata": {
  "colab": {
   "collapsed_sections": [],
   "name": "lab2_data_data_types_and_operators_student.ipynb",
   "provenance": []
  },
  "kernelspec": {
   "display_name": "Python 3",
   "language": "python",
   "name": "python3"
  },
  "language_info": {
   "codemirror_mode": {
    "name": "ipython",
    "version": 3
   },
   "file_extension": ".py",
   "mimetype": "text/x-python",
   "name": "python",
   "nbconvert_exporter": "python",
   "pygments_lexer": "ipython3",
   "version": "3.8.8"
  }
 },
 "nbformat": 4,
 "nbformat_minor": 1
}
