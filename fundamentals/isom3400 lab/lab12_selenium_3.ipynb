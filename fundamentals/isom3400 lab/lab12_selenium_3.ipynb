{
 "cells": [
  {
   "cell_type": "markdown",
   "metadata": {},
   "source": [
    "# Lab 12: Selenium (Part 3)"
   ]
  },
  {
   "cell_type": "markdown",
   "metadata": {},
   "source": [
    "# Task 1"
   ]
  },
  {
   "cell_type": "markdown",
   "metadata": {},
   "source": [
    "Launch the ChromeDriver, drive the ChromeDriver to open the website of IMDb(i.e. 'https://www.imdb.com/title/tt1856010/reviews') and read in the source code."
   ]
  },
  {
   "cell_type": "code",
   "execution_count": 70,
   "metadata": {},
   "outputs": [],
   "source": [
    "from selenium import webdriver\n",
    "from selenium.webdriver.common.by import By\n",
    "from selenium.webdriver.support.ui import WebDriverWait\n",
    "from selenium.webdriver.support import expected_conditions as EC\n",
    "\n"
   ]
  },
  {
   "cell_type": "markdown",
   "metadata": {},
   "source": [
    "On the page of IMDb, you can find the reviews of the American TV series \"House of Cards\". At the bottom of the page, there is a button \"Load More\". Everytime you click on the button, the page will be expanded and 25 more reviews will be loaded and shown. Write code to loacate and click on the \"Load More\" button to load all the reviews. \n",
    "\n",
    "It takes loading time to show the reviews, so you are required to apply the method \"WebDriverWait\". "
   ]
  },
  {
   "cell_type": "code",
   "execution_count": 71,
   "metadata": {},
   "outputs": [],
   "source": [
    "#Hint: The total number of reviews is shown on the page. Each time the \"Show More\" button is clicked, 25 more reviews are loaded. \n",
    "# So how many times of clicking does it take to load all the reviews?  \n",
    "\n"
   ]
  },
  {
   "cell_type": "markdown",
   "metadata": {},
   "source": [
    "# Task 2"
   ]
  },
  {
   "cell_type": "markdown",
   "metadata": {},
   "source": [
    "a) Write code to extract and print out all the reviews headlines with full rating 10/10. \n",
    "E.g. the American take on a British classic\n",
    "\n",
    "b) How many full score ratings (i.e. 10/10) are given to this TV series?"
   ]
  },
  {
   "cell_type": "code",
   "execution_count": 72,
   "metadata": {},
   "outputs": [],
   "source": [
    "#Hint: The information of ratings and reviews are kept in the tag with class name \"lister-item-content\". Extract the text elements from this tag. "
   ]
  }
 ],
 "metadata": {
  "interpreter": {
   "hash": "b740d220f5ad61de4a5537b0747096853a9a4d33fec50636740be1cabf866fb1"
  },
  "kernelspec": {
   "display_name": "Python 3.8.8 64-bit ('base': conda)",
   "language": "python",
   "name": "python3"
  },
  "language_info": {
   "codemirror_mode": {
    "name": "ipython",
    "version": 3
   },
   "file_extension": ".py",
   "mimetype": "text/x-python",
   "name": "python",
   "nbconvert_exporter": "python",
   "pygments_lexer": "ipython3",
   "version": "3.8.8"
  },
  "orig_nbformat": 4
 },
 "nbformat": 4,
 "nbformat_minor": 2
}
