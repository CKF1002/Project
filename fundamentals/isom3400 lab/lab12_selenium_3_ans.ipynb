{
 "cells": [
  {
   "cell_type": "markdown",
   "metadata": {},
   "source": [
    "# Lab 12: Selenium (Part 3)"
   ]
  },
  {
   "cell_type": "markdown",
   "metadata": {},
   "source": [
    "# Task 1"
   ]
  },
  {
   "cell_type": "markdown",
   "metadata": {},
   "source": [
    "Launch the ChromeDriver, drive the ChromeDriver to open the website of IMDb(i.e. 'https://www.imdb.com/title/tt1856010/reviews') and read in the source code."
   ]
  },
  {
   "cell_type": "code",
   "execution_count": 1,
   "metadata": {},
   "outputs": [],
   "source": [
    "from selenium import webdriver\n",
    "from selenium.webdriver.common.by import By\n",
    "from selenium.webdriver.support.ui import WebDriverWait\n",
    "from selenium.webdriver.support import expected_conditions as EC\n",
    "\n",
    "driver = webdriver.Chrome()\n",
    "driver.get(\"https://www.imdb.com/title/tt1856010/reviews\")"
   ]
  },
  {
   "cell_type": "markdown",
   "metadata": {},
   "source": [
    "On the page of IMDb, you can find the reviews of the American TV series \"House of Cards\". At the bottom of the page, there is a button \"Load More\". Everytime you click on the button, the page will be expanded and 25 more reviews will be loaded and shown. Write code to loacate and click on the \"Load More\" button to load all the reviews. \n",
    "\n",
    "It takes loading time to show the reviews, so you are required to apply the method \"WebDriverWait\". "
   ]
  },
  {
   "cell_type": "code",
   "execution_count": 71,
   "metadata": {},
   "outputs": [],
   "source": [
    "#Hint: The total number of reviews is shown on the page. Each time the \"Show More\" button is clicked, 25 more reviews are loaded. \n",
    "# So how many times of clicking does it take to load all the reviews?  \n",
    "\n"
   ]
  },
  {
   "cell_type": "code",
   "execution_count": 22,
   "metadata": {},
   "outputs": [
    {
     "ename": "ElementNotInteractableException",
     "evalue": "Message: element not interactable\n  (Session info: chrome=95.0.4638.69)\n",
     "output_type": "error",
     "traceback": [
      "\u001b[1;31m---------------------------------------------------------------------------\u001b[0m",
      "\u001b[1;31mElementNotInteractableException\u001b[0m           Traceback (most recent call last)",
      "\u001b[1;32m<ipython-input-22-35481e98ab31>\u001b[0m in \u001b[0;36m<module>\u001b[1;34m\u001b[0m\n\u001b[0;32m      8\u001b[0m \u001b[1;32mfor\u001b[0m \u001b[0mi\u001b[0m \u001b[1;32min\u001b[0m \u001b[0mrange\u001b[0m\u001b[1;33m(\u001b[0m\u001b[0mint\u001b[0m\u001b[1;33m(\u001b[0m\u001b[0mno_of_reviews_str\u001b[0m\u001b[1;33m)\u001b[0m\u001b[1;33m//\u001b[0m\u001b[1;36m25\u001b[0m\u001b[1;33m)\u001b[0m\u001b[1;33m:\u001b[0m         \u001b[1;31m#total no. of reiews / 25 = no. of clicks needed\u001b[0m\u001b[1;33m\u001b[0m\u001b[1;33m\u001b[0m\u001b[0m\n\u001b[0;32m      9\u001b[0m     \u001b[0mloadmore_button\u001b[0m \u001b[1;33m=\u001b[0m \u001b[0mdriver\u001b[0m\u001b[1;33m.\u001b[0m\u001b[0mfind_element_by_class_name\u001b[0m\u001b[1;33m(\u001b[0m\u001b[1;34m\"ipl-load-more__button\"\u001b[0m\u001b[1;33m)\u001b[0m\u001b[1;33m\u001b[0m\u001b[1;33m\u001b[0m\u001b[0m\n\u001b[1;32m---> 10\u001b[1;33m     \u001b[0mloadmore_button\u001b[0m\u001b[1;33m.\u001b[0m\u001b[0mclick\u001b[0m\u001b[1;33m(\u001b[0m\u001b[1;33m)\u001b[0m\u001b[1;33m\u001b[0m\u001b[1;33m\u001b[0m\u001b[0m\n\u001b[0m\u001b[0;32m     11\u001b[0m \u001b[1;33m\u001b[0m\u001b[0m\n\u001b[0;32m     12\u001b[0m \u001b[1;31m#error will occur when the locator fails to locate the \"Load More\" button.\u001b[0m\u001b[1;33m\u001b[0m\u001b[1;33m\u001b[0m\u001b[1;33m\u001b[0m\u001b[0m\n",
      "\u001b[1;32m~\\anaconda3\\lib\\site-packages\\selenium\\webdriver\\remote\\webelement.py\u001b[0m in \u001b[0;36mclick\u001b[1;34m(self)\u001b[0m\n\u001b[0;32m     78\u001b[0m     \u001b[1;32mdef\u001b[0m \u001b[0mclick\u001b[0m\u001b[1;33m(\u001b[0m\u001b[0mself\u001b[0m\u001b[1;33m)\u001b[0m\u001b[1;33m:\u001b[0m\u001b[1;33m\u001b[0m\u001b[1;33m\u001b[0m\u001b[0m\n\u001b[0;32m     79\u001b[0m         \u001b[1;34m\"\"\"Clicks the element.\"\"\"\u001b[0m\u001b[1;33m\u001b[0m\u001b[1;33m\u001b[0m\u001b[0m\n\u001b[1;32m---> 80\u001b[1;33m         \u001b[0mself\u001b[0m\u001b[1;33m.\u001b[0m\u001b[0m_execute\u001b[0m\u001b[1;33m(\u001b[0m\u001b[0mCommand\u001b[0m\u001b[1;33m.\u001b[0m\u001b[0mCLICK_ELEMENT\u001b[0m\u001b[1;33m)\u001b[0m\u001b[1;33m\u001b[0m\u001b[1;33m\u001b[0m\u001b[0m\n\u001b[0m\u001b[0;32m     81\u001b[0m \u001b[1;33m\u001b[0m\u001b[0m\n\u001b[0;32m     82\u001b[0m     \u001b[1;32mdef\u001b[0m \u001b[0msubmit\u001b[0m\u001b[1;33m(\u001b[0m\u001b[0mself\u001b[0m\u001b[1;33m)\u001b[0m\u001b[1;33m:\u001b[0m\u001b[1;33m\u001b[0m\u001b[1;33m\u001b[0m\u001b[0m\n",
      "\u001b[1;32m~\\anaconda3\\lib\\site-packages\\selenium\\webdriver\\remote\\webelement.py\u001b[0m in \u001b[0;36m_execute\u001b[1;34m(self, command, params)\u001b[0m\n\u001b[0;32m    631\u001b[0m             \u001b[0mparams\u001b[0m \u001b[1;33m=\u001b[0m \u001b[1;33m{\u001b[0m\u001b[1;33m}\u001b[0m\u001b[1;33m\u001b[0m\u001b[1;33m\u001b[0m\u001b[0m\n\u001b[0;32m    632\u001b[0m         \u001b[0mparams\u001b[0m\u001b[1;33m[\u001b[0m\u001b[1;34m'id'\u001b[0m\u001b[1;33m]\u001b[0m \u001b[1;33m=\u001b[0m \u001b[0mself\u001b[0m\u001b[1;33m.\u001b[0m\u001b[0m_id\u001b[0m\u001b[1;33m\u001b[0m\u001b[1;33m\u001b[0m\u001b[0m\n\u001b[1;32m--> 633\u001b[1;33m         \u001b[1;32mreturn\u001b[0m \u001b[0mself\u001b[0m\u001b[1;33m.\u001b[0m\u001b[0m_parent\u001b[0m\u001b[1;33m.\u001b[0m\u001b[0mexecute\u001b[0m\u001b[1;33m(\u001b[0m\u001b[0mcommand\u001b[0m\u001b[1;33m,\u001b[0m \u001b[0mparams\u001b[0m\u001b[1;33m)\u001b[0m\u001b[1;33m\u001b[0m\u001b[1;33m\u001b[0m\u001b[0m\n\u001b[0m\u001b[0;32m    634\u001b[0m \u001b[1;33m\u001b[0m\u001b[0m\n\u001b[0;32m    635\u001b[0m     \u001b[1;32mdef\u001b[0m \u001b[0mfind_element\u001b[0m\u001b[1;33m(\u001b[0m\u001b[0mself\u001b[0m\u001b[1;33m,\u001b[0m \u001b[0mby\u001b[0m\u001b[1;33m=\u001b[0m\u001b[0mBy\u001b[0m\u001b[1;33m.\u001b[0m\u001b[0mID\u001b[0m\u001b[1;33m,\u001b[0m \u001b[0mvalue\u001b[0m\u001b[1;33m=\u001b[0m\u001b[1;32mNone\u001b[0m\u001b[1;33m)\u001b[0m\u001b[1;33m:\u001b[0m\u001b[1;33m\u001b[0m\u001b[1;33m\u001b[0m\u001b[0m\n",
      "\u001b[1;32m~\\anaconda3\\lib\\site-packages\\selenium\\webdriver\\remote\\webdriver.py\u001b[0m in \u001b[0;36mexecute\u001b[1;34m(self, driver_command, params)\u001b[0m\n\u001b[0;32m    319\u001b[0m         \u001b[0mresponse\u001b[0m \u001b[1;33m=\u001b[0m \u001b[0mself\u001b[0m\u001b[1;33m.\u001b[0m\u001b[0mcommand_executor\u001b[0m\u001b[1;33m.\u001b[0m\u001b[0mexecute\u001b[0m\u001b[1;33m(\u001b[0m\u001b[0mdriver_command\u001b[0m\u001b[1;33m,\u001b[0m \u001b[0mparams\u001b[0m\u001b[1;33m)\u001b[0m\u001b[1;33m\u001b[0m\u001b[1;33m\u001b[0m\u001b[0m\n\u001b[0;32m    320\u001b[0m         \u001b[1;32mif\u001b[0m \u001b[0mresponse\u001b[0m\u001b[1;33m:\u001b[0m\u001b[1;33m\u001b[0m\u001b[1;33m\u001b[0m\u001b[0m\n\u001b[1;32m--> 321\u001b[1;33m             \u001b[0mself\u001b[0m\u001b[1;33m.\u001b[0m\u001b[0merror_handler\u001b[0m\u001b[1;33m.\u001b[0m\u001b[0mcheck_response\u001b[0m\u001b[1;33m(\u001b[0m\u001b[0mresponse\u001b[0m\u001b[1;33m)\u001b[0m\u001b[1;33m\u001b[0m\u001b[1;33m\u001b[0m\u001b[0m\n\u001b[0m\u001b[0;32m    322\u001b[0m             response['value'] = self._unwrap_value(\n\u001b[0;32m    323\u001b[0m                 response.get('value', None))\n",
      "\u001b[1;32m~\\anaconda3\\lib\\site-packages\\selenium\\webdriver\\remote\\errorhandler.py\u001b[0m in \u001b[0;36mcheck_response\u001b[1;34m(self, response)\u001b[0m\n\u001b[0;32m    240\u001b[0m                 \u001b[0malert_text\u001b[0m \u001b[1;33m=\u001b[0m \u001b[0mvalue\u001b[0m\u001b[1;33m[\u001b[0m\u001b[1;34m'alert'\u001b[0m\u001b[1;33m]\u001b[0m\u001b[1;33m.\u001b[0m\u001b[0mget\u001b[0m\u001b[1;33m(\u001b[0m\u001b[1;34m'text'\u001b[0m\u001b[1;33m)\u001b[0m\u001b[1;33m\u001b[0m\u001b[1;33m\u001b[0m\u001b[0m\n\u001b[0;32m    241\u001b[0m             \u001b[1;32mraise\u001b[0m \u001b[0mexception_class\u001b[0m\u001b[1;33m(\u001b[0m\u001b[0mmessage\u001b[0m\u001b[1;33m,\u001b[0m \u001b[0mscreen\u001b[0m\u001b[1;33m,\u001b[0m \u001b[0mstacktrace\u001b[0m\u001b[1;33m,\u001b[0m \u001b[0malert_text\u001b[0m\u001b[1;33m)\u001b[0m\u001b[1;33m\u001b[0m\u001b[1;33m\u001b[0m\u001b[0m\n\u001b[1;32m--> 242\u001b[1;33m         \u001b[1;32mraise\u001b[0m \u001b[0mexception_class\u001b[0m\u001b[1;33m(\u001b[0m\u001b[0mmessage\u001b[0m\u001b[1;33m,\u001b[0m \u001b[0mscreen\u001b[0m\u001b[1;33m,\u001b[0m \u001b[0mstacktrace\u001b[0m\u001b[1;33m)\u001b[0m\u001b[1;33m\u001b[0m\u001b[1;33m\u001b[0m\u001b[0m\n\u001b[0m\u001b[0;32m    243\u001b[0m \u001b[1;33m\u001b[0m\u001b[0m\n\u001b[0;32m    244\u001b[0m     \u001b[1;32mdef\u001b[0m \u001b[0m_value_or_default\u001b[0m\u001b[1;33m(\u001b[0m\u001b[0mself\u001b[0m\u001b[1;33m,\u001b[0m \u001b[0mobj\u001b[0m\u001b[1;33m,\u001b[0m \u001b[0mkey\u001b[0m\u001b[1;33m,\u001b[0m \u001b[0mdefault\u001b[0m\u001b[1;33m)\u001b[0m\u001b[1;33m:\u001b[0m\u001b[1;33m\u001b[0m\u001b[1;33m\u001b[0m\u001b[0m\n",
      "\u001b[1;31mElementNotInteractableException\u001b[0m: Message: element not interactable\n  (Session info: chrome=95.0.4638.69)\n"
     ]
    }
   ],
   "source": [
    "#without WebDriverWait\n",
    "\n",
    "spoiler_checkbox = driver.find_element_by_class_name('lister-checkbox') #this is the box on the top-left corner. Each time the box is checked, the reviews page will be reset.\n",
    "spoiler_checkbox.click()                    \n",
    "\n",
    "no_of_reviews_str = driver.find_element_by_css_selector(\"div.header span\").text[:-8] #locate the no. of total review, get the number by index slicing\n",
    "\n",
    "for i in range(int(no_of_reviews_str)//25):         #total no. of reiews / 25 = no. of clicks needed\n",
    "    loadmore_button = driver.find_element_by_class_name(\"ipl-load-more__button\")\n",
    "    loadmore_button.click()\n",
    "\n",
    "#error will occur when the locator fails to locate the \"Load More\" button."
   ]
  },
  {
   "cell_type": "code",
   "execution_count": 4,
   "metadata": {},
   "outputs": [],
   "source": [
    "# with WebDriverWait\n",
    "\n",
    "spoiler_checkbox = driver.find_element_by_class_name('lister-checkbox')\n",
    "spoiler_checkbox.click()\n",
    "no_of_reviews_str = driver.find_element_by_css_selector(\"div.header span\").text[:-8]\n",
    "\n",
    "for i in range(int(no_of_reviews_str)//25):\n",
    "    loadmore_button = WebDriverWait(driver, 10).until(\n",
    "        EC.presence_of_element_located((By.CLASS_NAME, \"ipl-load-more__button\")))\n",
    "    loadmore_button.click()\n",
    "    \n"
   ]
  },
  {
   "cell_type": "code",
   "execution_count": null,
   "metadata": {},
   "outputs": [],
   "source": [
    "#with lambda\n",
    "\n",
    "spoiler_checkbox = driver.find_element_by_class_name('lister-checkbox')\n",
    "spoiler_checkbox.click()\n",
    "no_of_reviews_str = driver.find_element_by_css_selector(\"div.header span\").text[:-8]\n",
    "\n",
    "for i in range(int(no_of_reviews_str)//25):\n",
    "    loadmore_button = WebDriverWait(driver, 10).until(lambda x: x.find_element_by_class_name(\"ipl-load-more__button\"))\n",
    "    loadmore_button.click()"
   ]
  },
  {
   "cell_type": "code",
   "execution_count": 3,
   "metadata": {},
   "outputs": [
    {
     "name": "stdout",
     "output_type": "stream",
     "text": [
      "All reviews are loaded.\n"
     ]
    }
   ],
   "source": [
    "# while-loop with try-except\n",
    "try:\n",
    "    while True:\n",
    "        loadmore_button = WebDriverWait(driver, 10).until(EC.presence_of_element_located((By.CLASS_NAME, \"ipl-load-more__button\")))\n",
    "        loadmore_button.click()\n",
    "        #driver.implicitly_wait(20)\n",
    "except:\n",
    "    print(\"All reviews are loaded.\")"
   ]
  },
  {
   "cell_type": "markdown",
   "metadata": {},
   "source": [
    "# Task 2"
   ]
  },
  {
   "cell_type": "markdown",
   "metadata": {},
   "source": [
    "a) Write code to extract and print out all the reviews headlines with full rating 10/10. \n",
    "E.g. the American take on a British classic\n",
    "\n",
    "b) How many full score ratings (i.e. 10/10) are given to this TV series?"
   ]
  },
  {
   "cell_type": "code",
   "execution_count": 72,
   "metadata": {},
   "outputs": [],
   "source": [
    "#Hint: The information of ratings and reviews are kept in the tag with class name \"lister-item-content\". Extract the text elements from this tag. "
   ]
  },
  {
   "cell_type": "code",
   "execution_count": 2,
   "metadata": {},
   "outputs": [
    {
     "data": {
      "text/plain": [
       "'7/10\\nStood firm for four seasons, collapsed completely in Season 5\\nTheLittleSongbird15 November 2017\\n\\'House of Cards\\' much of the time was one of the most compelling shows. Sadly, it has also become one of the most frustrating. Not since \\'Once Upon a Time\\' and \\'The Walking Dead\\', and before that \\'Lost\\' has such a brilliant show of great promise declined so rapidly.\\n\\nLets start with the many great things first. For the first four seasons, \\'House of Cards\\' was seriously addictive, must-watch television and very quickly became one of my favourite shows. Throughout its run, it\\'s one of the most stylish and most atmospheric shows personally seen, with cinematic-quality photography and production design. The direction was smart and intelligent, especially the first two episodes with David Fincher\\'s, to me one of the better directors of the last twenty five or so years, involvement (the first episode earning Fincher a Primetime Emmy) and the music knew when to have presence and when to tone things down to let the dialogue and characters properly speak.\\n\\nAlso smart is the writing. Biting, thought-provoking and tightly structured, the writing in Seasons 1 to 4 was an example to all television. The political elements were intriguing and not heavy-handed, a problem so common in film but avoided in \\'House of Cards\\'. The stories didn\\'t go at a \"fast\" pace but it never dragged in the show\\'s prime days, and they were also very layered, had variety and were suitably complex without being convoluted.\\n\\nThe characters engaged and intrigued, Frank being another example of one of contemporary television\\'s most fascinating lead characters. \\'House of Cards\\' throughout has been so strongly acted, with Kevin Spacey on tour-De-force form and Robin Wright giving career-best work.\\n\\nSo it just feels incredibly frustrating that a show of such brilliance in its prime declined so rapidly in Season 5, to the extent that it feels like a completely different show altogether. The production values and acting have remained top notch, but even they can\\'t save the show being the complete anti-thesis of what it used to be.\\n\\nPace became incredibly draggy, thanks to flabby writing, simplistic characterisation that is suggestive of the writers not knowing what to do to progress the characters and stories that have become repetitive, both devoid of complexity and confused, ridiculous and like the writers have run out of ideas.\\n\\nIt to me was no surprise when it was announced that Season 6 would be \\'House of Cards\\' last season, but it is somewhat saddening that production has now been suspended/cancelled following the Kevin Spacey sexual assault allegations that have now cost Spacey his future on the show (and done serious damage to his career). Season 5 cried out for another season, so that the show has ended on an incomplete note because of the controversy is a real pity, despite Season 5 being such a disappointment \\'House of Cards\\' as an overall show deserves better than that.\\n\\nOverall, brilliant for the first four seasons but Season 5 was so disappointing, enough to bring down the rating considerably. 7/10 Bethany Cox'"
      ]
     },
     "execution_count": 2,
     "metadata": {},
     "output_type": "execute_result"
    }
   ],
   "source": [
    "# all the reviews are saved in the div with class name \"lister-item-content\"\n",
    "# apply find_elements_by_class_name to list out all the reviews contents\n",
    "\n",
    "driver.find_elements_by_class_name(\"lister-item-content\")[0].text"
   ]
  },
  {
   "cell_type": "code",
   "execution_count": 3,
   "metadata": {},
   "outputs": [
    {
     "data": {
      "text/plain": [
       "['7/10',\n",
       " 'Stood firm for four seasons, collapsed completely in Season 5',\n",
       " 'TheLittleSongbird15 November 2017',\n",
       " \"'House of Cards' much of the time was one of the most compelling shows. Sadly, it has also become one of the most frustrating. Not since 'Once Upon a Time' and 'The Walking Dead', and before that 'Lost' has such a brilliant show of great promise declined so rapidly.\",\n",
       " '',\n",
       " \"Lets start with the many great things first. For the first four seasons, 'House of Cards' was seriously addictive, must-watch television and very quickly became one of my favourite shows. Throughout its run, it's one of the most stylish and most atmospheric shows personally seen, with cinematic-quality photography and production design. The direction was smart and intelligent, especially the first two episodes with David Fincher's, to me one of the better directors of the last twenty five or so years, involvement (the first episode earning Fincher a Primetime Emmy) and the music knew when to have presence and when to tone things down to let the dialogue and characters properly speak.\",\n",
       " '',\n",
       " 'Also smart is the writing. Biting, thought-provoking and tightly structured, the writing in Seasons 1 to 4 was an example to all television. The political elements were intriguing and not heavy-handed, a problem so common in film but avoided in \\'House of Cards\\'. The stories didn\\'t go at a \"fast\" pace but it never dragged in the show\\'s prime days, and they were also very layered, had variety and were suitably complex without being convoluted.',\n",
       " '',\n",
       " \"The characters engaged and intrigued, Frank being another example of one of contemporary television's most fascinating lead characters. 'House of Cards' throughout has been so strongly acted, with Kevin Spacey on tour-De-force form and Robin Wright giving career-best work.\",\n",
       " '',\n",
       " \"So it just feels incredibly frustrating that a show of such brilliance in its prime declined so rapidly in Season 5, to the extent that it feels like a completely different show altogether. The production values and acting have remained top notch, but even they can't save the show being the complete anti-thesis of what it used to be.\",\n",
       " '',\n",
       " 'Pace became incredibly draggy, thanks to flabby writing, simplistic characterisation that is suggestive of the writers not knowing what to do to progress the characters and stories that have become repetitive, both devoid of complexity and confused, ridiculous and like the writers have run out of ideas.',\n",
       " '',\n",
       " \"It to me was no surprise when it was announced that Season 6 would be 'House of Cards' last season, but it is somewhat saddening that production has now been suspended/cancelled following the Kevin Spacey sexual assault allegations that have now cost Spacey his future on the show (and done serious damage to his career). Season 5 cried out for another season, so that the show has ended on an incomplete note because of the controversy is a real pity, despite Season 5 being such a disappointment 'House of Cards' as an overall show deserves better than that.\",\n",
       " '',\n",
       " 'Overall, brilliant for the first four seasons but Season 5 was so disappointing, enough to bring down the rating considerably. 7/10 Bethany Cox']"
      ]
     },
     "execution_count": 3,
     "metadata": {},
     "output_type": "execute_result"
    }
   ],
   "source": [
    "# When you observe the pattern that the data are seperated by \\n, you could apply .split method to form a list of data.\n",
    "\n",
    "driver.find_elements_by_class_name(\"lister-item-content\")[0].text.split(\"\\n\")"
   ]
  },
  {
   "cell_type": "code",
   "execution_count": 4,
   "metadata": {},
   "outputs": [
    {
     "data": {
      "text/plain": [
       "'7/10'"
      ]
     },
     "execution_count": 4,
     "metadata": {},
     "output_type": "execute_result"
    }
   ],
   "source": [
    "# apply list index to get the first item which is the rating\n",
    "\n",
    "driver.find_elements_by_class_name(\"lister-item-content\")[0].text.split(\"\\n\")[0]"
   ]
  },
  {
   "cell_type": "code",
   "execution_count": 5,
   "metadata": {},
   "outputs": [
    {
     "data": {
      "text/plain": [
       "'Stood firm for four seasons, collapsed completely in Season 5'"
      ]
     },
     "execution_count": 5,
     "metadata": {},
     "output_type": "execute_result"
    }
   ],
   "source": [
    "# The 2nd item is the headline of review\n",
    "\n",
    "driver.find_elements_by_class_name(\"lister-item-content\")[0].text.split(\"\\n\")[1]"
   ]
  },
  {
   "cell_type": "code",
   "execution_count": null,
   "metadata": {},
   "outputs": [],
   "source": [
    "count = 0\n",
    "for rate in driver.find_elements_by_class_name(\"lister-item-content\"):\n",
    "    if rate.text.split(\"\\n\")[0] == \"10/10\":         # check if the 1st item (rating) is \"10/10\"\n",
    "        print(rate.text.split(\"\\n\")[1])\n",
    "        count+=1\n",
    "print(f'There are {count} comments with rating 10/10')"
   ]
  }
 ],
 "metadata": {
  "interpreter": {
   "hash": "b740d220f5ad61de4a5537b0747096853a9a4d33fec50636740be1cabf866fb1"
  },
  "kernelspec": {
   "display_name": "Python 3.8.8 64-bit ('base': conda)",
   "language": "python",
   "name": "python3"
  },
  "language_info": {
   "codemirror_mode": {
    "name": "ipython",
    "version": 3
   },
   "file_extension": ".py",
   "mimetype": "text/x-python",
   "name": "python",
   "nbconvert_exporter": "python",
   "pygments_lexer": "ipython3",
   "version": "3.8.8"
  },
  "orig_nbformat": 4
 },
 "nbformat": 4,
 "nbformat_minor": 2
}
