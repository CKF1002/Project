{
 "cells": [
  {
   "cell_type": "markdown",
   "metadata": {},
   "source": [
    "# Lab 11: Selenium (Part 2)"
   ]
  },
  {
   "cell_type": "markdown",
   "metadata": {},
   "source": [
    "# Task 1"
   ]
  },
  {
   "cell_type": "markdown",
   "metadata": {},
   "source": [
    "(a) Launch the ChromeDriver, drive the ChromeDriver to open amazon(i.e. `https://www.amazon.com/`) and read in the source code.\n",
    "\n",
    "(b) Utilise methods of Selenium to search for `Today's Deals` (below the search bar) and click on it to see what is selling on Amazon.\n",
    "\n",
    "(c) Locate the search bar, input `Speaker`. Utilise `send_keys` to load subsequent slide.\n",
    "\n",
    "(d) On the top-right corner you can show a dropdown menu of options to sort the products searched. Utilise any methods to load the page so the products are sorted by Avg. Customer Review.\n",
    "\n",
    "(e) Utilise methods to filter the shown product by the brand \"Logitech\"."
   ]
  },
  {
   "cell_type": "code",
   "execution_count": 1,
   "metadata": {},
   "outputs": [],
   "source": [
    "#Task 1 \n",
    "#1a)  Import webdriver and open Amazon website\n",
    "from selenium import webdriver\n",
    "from selenium.webdriver.common.keys import Keys  \n",
    "\n",
    "driver = webdriver.Chrome()\n",
    "driver.get(\"https://www.amazon.com/\")"
   ]
  },
  {
   "cell_type": "code",
   "execution_count": 2,
   "metadata": {},
   "outputs": [],
   "source": [
    "#1b Click \"Today's Deals\" -- find_element_by_partial_link_text\n",
    "driver.find_element_by_partial_link_text(\"Today's \").click()\n"
   ]
  },
  {
   "cell_type": "code",
   "execution_count": 3,
   "metadata": {},
   "outputs": [],
   "source": [
    "#1c Locate the search bar and input -- find_element_by_name\n",
    "search_bar = driver.find_element_by_name(\"field-keywords\")\n",
    "search_bar.send_keys(\"Speaker\")\n",
    "search_bar.send_keys(Keys.RETURN)"
   ]
  },
  {
   "cell_type": "code",
   "execution_count": 4,
   "metadata": {},
   "outputs": [],
   "source": [
    "#1d sorted by Avg. Customer Review\n",
    "# Locate the dropdown menu\n",
    "driver.find_element_by_id(\"a-autoid-0-announce\").click()\n",
    "\n",
    "# Click \"Avg. Customer Review\"\n",
    "driver.find_element_by_link_text(\"Avg. Customer Review\").click()\n"
   ]
  },
  {
   "cell_type": "code",
   "execution_count": 5,
   "metadata": {},
   "outputs": [],
   "source": [
    "#1e Filter by \"Logitech\" -- find_element_by_xpath\n",
    "driver.find_element_by_link_text(\"See more\").click()\n",
    "driver.find_element_by_xpath('//*[@id=\"p_89/Logitech\"]/span/a/span').click()\n"
   ]
  },
  {
   "cell_type": "markdown",
   "metadata": {},
   "source": [
    "# Task 2"
   ]
  },
  {
   "cell_type": "markdown",
   "metadata": {},
   "source": [
    "(a) From the filtered result, click on the first product using `find_element_by_css_selector`.\n",
    "\n",
    "(b) Apply `find_element_by_tag_name(\"button\").click()` and run. What happens? (Note: It may not work)\n",
    "\n",
    "(c) Use whatever method except direct copy & paste, extract the product title and print it out."
   ]
  },
  {
   "cell_type": "code",
   "execution_count": 6,
   "metadata": {},
   "outputs": [],
   "source": [
    "css_selector = \"#search > div.s-desktop-width-max.s-desktop-content.s-opposite-dir.sg-row > div.s-matching-dir.sg-col-16-of-20.sg-col.sg-col-8-of-12.sg-col-12-of-16 > div > span:nth-child(4) > div.s-main-slot.s-result-list.s-search-results.sg-row > div:nth-child(1) > div > span > div > div > span > a > div > img\"\n",
    "driver.find_element_by_css_selector(css_selector).click()"
   ]
  },
  {
   "cell_type": "code",
   "execution_count": 92,
   "metadata": {},
   "outputs": [],
   "source": [
    "driver.find_element_by_tag_name(\"button\").click()"
   ]
  },
  {
   "cell_type": "code",
   "execution_count": 93,
   "metadata": {},
   "outputs": [
    {
     "name": "stdout",
     "output_type": "stream",
     "text": [
      "0 sb-carousel-arrow sb-prev\n",
      "1 sb-carousel-arrow sb-next\n",
      "2  a-button-close-a11y a-button-close a-declarative a-button-a11y-top-right\n",
      "3 vjs-big-play-button\n",
      "4 vjs-play-control vjs-control vjs-button vjs-paused\n",
      "5 vjs-mute-control vjs-control vjs-button vjs-vol-3\n",
      "6 vjs-seek-to-live-control vjs-control vjs-at-live-edge\n",
      "7 vjs-playback-rate vjs-menu-button vjs-menu-button-popup vjs-button\n",
      "8 vjs-chapters-button vjs-menu-button vjs-menu-button-popup vjs-button\n",
      "9 vjs-descriptions-button vjs-menu-button vjs-menu-button-popup vjs-button\n",
      "10 vjs-subs-caps-button vjs-menu-button vjs-menu-button-popup vjs-button\n",
      "11 vjs-audio-button vjs-menu-button vjs-menu-button-popup vjs-button\n",
      "12 vjs-fullscreen-control vjs-control vjs-button\n"
     ]
    }
   ],
   "source": [
    "for idx, e in enumerate(driver.find_elements_by_tag_name(\"button\")):\n",
    "    print(idx, e.get_attribute(\"class\"))"
   ]
  },
  {
   "cell_type": "code",
   "execution_count": 57,
   "metadata": {},
   "outputs": [],
   "source": [
    "driver.find_element_by_css_selector(\"#c0334f79-df85-4fa1-b9bb-b3d9f95353a0 > div > button.sb-carousel-arrow.sb-next\").click()"
   ]
  },
  {
   "cell_type": "code",
   "execution_count": 19,
   "metadata": {},
   "outputs": [
    {
     "name": "stdout",
     "output_type": "stream",
     "text": [
      "Logitech Ultimate Ears WONDERBOOM 2 Portable Waterproof Bluetooth Speaker - Wireless Boom Box - Non Retail Packaging (Bermuda Blue)\n"
     ]
    }
   ],
   "source": [
    "print(driver.find_element_by_id(\"productTitle\").text)"
   ]
  },
  {
   "cell_type": "markdown",
   "metadata": {},
   "source": [
    "# Task 3"
   ]
  },
  {
   "cell_type": "markdown",
   "metadata": {},
   "source": [
    "\n",
    "Run the following code, can you tell what is going on in the code?"
   ]
  },
  {
   "cell_type": "code",
   "execution_count": 94,
   "metadata": {},
   "outputs": [],
   "source": [
    "from selenium.webdriver.common.by import By\n",
    "from selenium.webdriver.support.ui import WebDriverWait\n",
    "from selenium.webdriver.support import expected_conditions as EC\n",
    "\n",
    "element = WebDriverWait(driver, 10).until(EC.presence_of_element_located((By.CLASS_NAME, \"nav-input\"))) #OK"
   ]
  },
  {
   "cell_type": "code",
   "execution_count": null,
   "metadata": {},
   "outputs": [],
   "source": [
    "#element = WebDriverWait(driver, 10).until(EC.presence_of_element_located((By.CLASS_NAME, \"search-button\"))) # Timeout"
   ]
  },
  {
   "cell_type": "code",
   "execution_count": 56,
   "metadata": {},
   "outputs": [],
   "source": [
    "#(Optional Task) Find the search box, input \"3M Mask\", press \"Enter\"\n",
    "\n",
    "element.click()\n",
    "element.clear()\n",
    "element.send_keys('3M Mask')\n",
    "element.send_keys(Keys.RETURN)"
   ]
  }
 ],
 "metadata": {
  "interpreter": {
   "hash": "b740d220f5ad61de4a5537b0747096853a9a4d33fec50636740be1cabf866fb1"
  },
  "kernelspec": {
   "display_name": "Python 3.8.8 64-bit ('base': conda)",
   "name": "python3"
  },
  "language_info": {
   "codemirror_mode": {
    "name": "ipython",
    "version": 3
   },
   "file_extension": ".py",
   "mimetype": "text/x-python",
   "name": "python",
   "nbconvert_exporter": "python",
   "pygments_lexer": "ipython3",
   "version": "3.8.8"
  }
 },
 "nbformat": 4,
 "nbformat_minor": 4
}
