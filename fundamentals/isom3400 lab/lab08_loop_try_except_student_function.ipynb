{
 "cells": [
  {
   "cell_type": "markdown",
   "metadata": {},
   "source": [
    "# Lab 8: for-loop, while-loop, try-except, function"
   ]
  },
  {
   "cell_type": "markdown",
   "metadata": {},
   "source": [
    "# Task 1 (Re-visit)"
   ]
  },
  {
   "cell_type": "markdown",
   "metadata": {},
   "source": [
    "Run the code in the next cell.\n",
    "\n",
    "**Note: Do not hard-code it, do not use comprehension. Write a nested for-loop to solve this task.**\n",
    "\n",
    "(a) Extract name and first appearance of all movies.\n",
    "\n",
    "(b) For each movie, extract the abilities and store them into a separate list.\n",
    "\n",
    "Expected output:\n",
    ">[['Superhuman strength', 'Superhuman breath', 'Rapid healing'], ['Genius intellect', 'Superhuman strength', 'Precognitive spider-sense ability']]\n",
    "\n",
    "(c) From (a) and (b), you can see the importance of knowing the right key when you want to get the corresponding value out. What will happen if a wrong key is input by accident, e.g.**<font color='red'>a</font>bilities** instead of **<font color='red'>A</font>bilities**? How about wrong loop variable, e.g. **<font color='red'>k</font>** instead of **<font color='red'>i</font>** when you execute `for i in data_list:`?\n",
    "\n",
    "(d) Incorporate try-except to the code in (c) and see what will happen."
   ]
  },
  {
   "cell_type": "code",
   "execution_count": null,
   "metadata": {},
   "outputs": [],
   "source": [
    "data = {\n",
    "    \"Super-hero\": [\n",
    "        {\n",
    "            \"name\": \"Superman\",\n",
    "            \"First appearance\": 1938,\n",
    "            \"Place of origin\": \"Kryptonopolis (Krypton)\",\n",
    "            \"partnerships\": [\n",
    "                \"Supergirl\",\n",
    "                \"Superboy\",\n",
    "                \"Batman\",\n",
    "                \"Wonder Woman\"\n",
    "            ],\n",
    "            \"Abilities\": [\n",
    "                \"Superhuman strength\",\n",
    "                \"Superhuman breath\",\n",
    "                \"Rapid healing\"\n",
    "            ]\n",
    "        },\n",
    "        {\n",
    "            \"name\": \"Spider-Man\",\n",
    "            \"First appearance\": 1962,\n",
    "            \"Place of origin\": \"Queens, New York City\",\n",
    "            \"partnerships\": [\n",
    "                \"Spider-Woman\",\n",
    "                \"Black Cat\",\n",
    "                \"Deadpool\",\n",
    "                \"Iron Man\"\n",
    "            ],\n",
    "            \"Abilities\": [\n",
    "                \"Genius intellect\",\n",
    "                \"Superhuman strength\",\n",
    "                \"Precognitive spider-sense ability\"\n",
    "            ]\n",
    "        }\n",
    "    ]\n",
    "}\n",
    "\n",
    "\n",
    "data_list = data[\"Super-hero\"]\n",
    "\n",
    "print(data_list)"
   ]
  },
  {
   "cell_type": "code",
   "execution_count": null,
   "metadata": {},
   "outputs": [],
   "source": []
  },
  {
   "cell_type": "code",
   "execution_count": null,
   "metadata": {},
   "outputs": [],
   "source": []
  },
  {
   "cell_type": "code",
   "execution_count": null,
   "metadata": {},
   "outputs": [],
   "source": []
  },
  {
   "cell_type": "code",
   "execution_count": null,
   "metadata": {},
   "outputs": [],
   "source": []
  },
  {
   "cell_type": "markdown",
   "metadata": {},
   "source": [
    "# Task 2"
   ]
  },
  {
   "cell_type": "markdown",
   "metadata": {},
   "source": [
    "For integers from 1 to 500,\n",
    "\n",
    "(a) Store all values that are divisible by 5 but do not include multiples of 10 into a list **list_2**, using at most 1 for-loop and 1 if-statement.\n",
    "\n",
    "(b) Verify that all elements in list_2 are smaller than 500 using a for-else statement. Print out `All elements are smaller than 500!` if all elements indeed are smaller than 500.\n"
   ]
  },
  {
   "cell_type": "code",
   "execution_count": null,
   "metadata": {},
   "outputs": [],
   "source": []
  },
  {
   "cell_type": "code",
   "execution_count": null,
   "metadata": {},
   "outputs": [],
   "source": []
  },
  {
   "cell_type": "markdown",
   "metadata": {},
   "source": [
    "# Task 3"
   ]
  },
  {
   "cell_type": "markdown",
   "metadata": {},
   "source": [
    "Consider a random integer, that you never know until you run the program. The value will be stored into a variable `n`, say `n = 10000`,\n",
    "\n",
    "(a) Write a while-loop and search for the first 20 numbers in descending order (i.e. start from 10,000) that are divisible by 3, 7 and 13, and store them into a list **list_3a**.\n",
    "\n",
    "(b) Print out the value of `n`, what does it tell you about while loop?\n",
    "\n",
    "(c) Starting from the value `n` you printed out in (b), search again for the first number in descending order that is divisible by 2, 17 and 23.\n",
    "\n"
   ]
  },
  {
   "cell_type": "code",
   "execution_count": null,
   "metadata": {},
   "outputs": [],
   "source": []
  },
  {
   "cell_type": "code",
   "execution_count": null,
   "metadata": {},
   "outputs": [],
   "source": []
  },
  {
   "cell_type": "code",
   "execution_count": null,
   "metadata": {},
   "outputs": [],
   "source": []
  },
  {
   "cell_type": "markdown",
   "metadata": {},
   "source": [
    "# Task 4 (Function)"
   ]
  },
  {
   "cell_type": "markdown",
   "metadata": {},
   "source": [
    "Define a function **sphone_info** that takes in following arguments:\n",
    "1. sphone_name: Smartphone's name, String\n",
    "2. sphone_brand: Smartphone's brand, String\n",
    "3. sphone_os: Operating system, String\n",
    "4. sphone_year: When the smartphone is released, int\n",
    "\n",
    "Such that when the fuction is called,e.g. `sphone_info(\"iPhone 12 Pro Max\", \"Apple\", \"iOS\", 2020)`, the smartphone's information will be printed out.\n"
   ]
  },
  {
   "cell_type": "code",
   "execution_count": null,
   "metadata": {},
   "outputs": [],
   "source": []
  }
 ],
 "metadata": {
  "kernelspec": {
   "display_name": "Python 3",
   "language": "python",
   "name": "python3"
  },
  "language_info": {
   "codemirror_mode": {
    "name": "ipython",
    "version": 3
   },
   "file_extension": ".py",
   "mimetype": "text/x-python",
   "name": "python",
   "nbconvert_exporter": "python",
   "pygments_lexer": "ipython3",
   "version": "3.8.8"
  }
 },
 "nbformat": 4,
 "nbformat_minor": 4
}
