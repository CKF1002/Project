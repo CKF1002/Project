{
 "cells": [
  {
   "cell_type": "markdown",
   "metadata": {},
   "source": [
    "# Lab 10: Selenium"
   ]
  },
  {
   "cell_type": "markdown",
   "metadata": {},
   "source": [
    "# Task 0"
   ]
  },
  {
   "cell_type": "markdown",
   "metadata": {},
   "source": [
    "Assume that you put the ChromeDriver together with this lab file in the same folder, run the codes in the following two code cells. Do you receive any error?"
   ]
  },
  {
   "cell_type": "code",
   "execution_count": 148,
   "metadata": {},
   "outputs": [],
   "source": [
    "from selenium import webdriver\n",
    "#driver = webdriver.Chrome('./chromedriver')\n",
    "\n",
    "#Run this code if you had put the ChromeDriver.exe in the folder \"condabin\"\n",
    "driver = webdriver.Chrome()"
   ]
  },
  {
   "cell_type": "markdown",
   "metadata": {},
   "source": [
    "If so, **do not** move on to Task 1.\n",
    "\n",
    "Please download the manual from Canvas, properly install Selenium and the ChromeDriver into your computer before spending time on the tasks."
   ]
  },
  {
   "cell_type": "markdown",
   "metadata": {},
   "source": [
    "## DO NOT MOVE TO TASK 1 UNTIL YOU FIX THE PROBLEMS"
   ]
  },
  {
   "cell_type": "markdown",
   "metadata": {},
   "source": [
    "## DO NOT MOVE TO TASK 1 UNTIL YOU FIX THE PROBLEMS"
   ]
  },
  {
   "cell_type": "markdown",
   "metadata": {},
   "source": [
    "## DO NOT MOVE TO TASK 1 UNTIL YOU FIX THE PROBLEMS"
   ]
  },
  {
   "cell_type": "markdown",
   "metadata": {},
   "source": [
    "## READY?"
   ]
  },
  {
   "cell_type": "markdown",
   "metadata": {},
   "source": [
    "## REALLY READY?"
   ]
  },
  {
   "cell_type": "markdown",
   "metadata": {},
   "source": [
    "# Task 1"
   ]
  },
  {
   "cell_type": "markdown",
   "metadata": {},
   "source": [
    "Launch the ChromeDriver, drive the ChromeDriver to open amazon(i.e. `https://www.amazon.com/`) and read in the source code."
   ]
  },
  {
   "cell_type": "code",
   "execution_count": 149,
   "metadata": {},
   "outputs": [],
   "source": [
    "#Task 1 - import webdriver and open Amazon website\n",
    "\n"
   ]
  },
  {
   "cell_type": "markdown",
   "metadata": {},
   "source": [
    "# Task 2"
   ]
  },
  {
   "cell_type": "markdown",
   "metadata": {},
   "source": [
    "(a) You should see a header `Sign in for the best experience` and there is a button `Sign in securely` under it. Utilise `find_element_by_link_text` to search for it and click on it. Then go back to the homepage.\n",
    "\n",
    "(b) Right below the search bar is a navigator bar that includes \"Today's Deals\", \"Customer Service\" etc. Utilise `find_element_by_partial_link_text` to search for `Today's Deals` and click on it to see what is selling on Amazon. Minimize the window and go back to the homepage afterwards.\n",
    "\n",
    "(c) Maximize the window and refresh it, is there anything different? Particularly the goods recommended to you.\n"
   ]
  },
  {
   "cell_type": "code",
   "execution_count": 156,
   "metadata": {},
   "outputs": [],
   "source": [
    "#2a Click \"Sign in securely\" -- find_element_by_link_text \n"
   ]
  },
  {
   "cell_type": "code",
   "execution_count": 157,
   "metadata": {},
   "outputs": [],
   "source": [
    "# Go back to the homepage\n"
   ]
  },
  {
   "cell_type": "code",
   "execution_count": 96,
   "metadata": {},
   "outputs": [],
   "source": [
    "#2b Click \"Today's Deals\" -- find_element_by_partial_link_text\n"
   ]
  },
  {
   "cell_type": "code",
   "execution_count": 97,
   "metadata": {},
   "outputs": [],
   "source": [
    "# Minimize the window\n"
   ]
  },
  {
   "cell_type": "code",
   "execution_count": 98,
   "metadata": {},
   "outputs": [],
   "source": [
    "# Go back to the homepage\n"
   ]
  },
  {
   "cell_type": "code",
   "execution_count": 99,
   "metadata": {},
   "outputs": [],
   "source": [
    "#2c Maximize the window\n"
   ]
  },
  {
   "cell_type": "code",
   "execution_count": 102,
   "metadata": {},
   "outputs": [],
   "source": [
    "# Refresh\n"
   ]
  },
  {
   "cell_type": "markdown",
   "metadata": {},
   "source": [
    "# Task 3"
   ]
  },
  {
   "cell_type": "markdown",
   "metadata": {},
   "source": [
    "(a) Use `find_element_by_name` and locate the search bar, input `hand sanitizer`.\n",
    "\n",
    "(b) Replace `hand sanitizer` with `Mask`. Utilise `send_keys` to load subsequent slide.\n",
    "\n",
    "(c) On the top-right corner you can show a dropdown menu of options to sort the products searched. Utilise `find_element_by_id` and `find_element_by_link_text` to load the page so the products are sorted by price from low to high.\n",
    "\n",
    "(d) Utilise `find_element_by_xpath` to filter by the brand \"3M\".\n"
   ]
  },
  {
   "cell_type": "code",
   "execution_count": 158,
   "metadata": {},
   "outputs": [],
   "source": [
    "#3a Locate the search bar and input -- find_element_by_name\n"
   ]
  },
  {
   "cell_type": "code",
   "execution_count": 159,
   "metadata": {},
   "outputs": [],
   "source": [
    "#3b Replace \"hand sanitizer\" with \"Mask\"\n"
   ]
  },
  {
   "cell_type": "code",
   "execution_count": 160,
   "metadata": {},
   "outputs": [],
   "source": [
    "# (Import Keys if you haven't) Press \"Enter\" to search for \"Mask\"\n"
   ]
  },
  {
   "cell_type": "code",
   "execution_count": 166,
   "metadata": {},
   "outputs": [],
   "source": [
    "#3d Sort Low to high\n",
    "# Step:1 Locate the dropdown menu\n",
    "\n",
    "\n",
    "# Step:2 Click \"Low to High\"\n",
    "\n"
   ]
  },
  {
   "cell_type": "code",
   "execution_count": 108,
   "metadata": {},
   "outputs": [],
   "source": [
    "#3d Filter by \"3M\" -- find_element_by_xpath\n",
    "#Step 1: Click the \"See more\" button, find_element_by_link_text\n",
    "\n",
    "\n",
    "#Step 2: Click the \"3M\" button, find_element_by_xpath\n",
    "\n"
   ]
  }
 ],
 "metadata": {
  "interpreter": {
   "hash": "ee5d90573a850bb683ee21ca49f7e46b5c385c42b8e158b0adc8485023ce0a36"
  },
  "kernelspec": {
   "display_name": "Python 3.8.11 64-bit ('isom3400': conda)",
   "name": "python3"
  },
  "language_info": {
   "codemirror_mode": {
    "name": "ipython",
    "version": 3
   },
   "file_extension": ".py",
   "mimetype": "text/x-python",
   "name": "python",
   "nbconvert_exporter": "python",
   "pygments_lexer": "ipython3",
   "version": "3.8.11"
  }
 },
 "nbformat": 4,
 "nbformat_minor": 4
}
