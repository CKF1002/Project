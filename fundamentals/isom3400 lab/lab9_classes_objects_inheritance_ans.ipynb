{
 "cells": [
  {
   "cell_type": "markdown",
   "metadata": {},
   "source": [
    "# Lab 9: Classes, Objects & Inheritance"
   ]
  },
  {
   "cell_type": "markdown",
   "metadata": {},
   "source": [
    "# Task 1 (covered last week)"
   ]
  },
  {
   "cell_type": "markdown",
   "metadata": {},
   "source": [
    "Define a function **sphone_info** that takes in following arguments:\n",
    "1. sphone_name: Smartphone's name, String\n",
    "2. sphone_brand: Smartphone's brand, String\n",
    "3. sphone_os: Operating system, String\n",
    "4. sphone_year: When the smartphone is released, int\n",
    "\n",
    "Such that when the fuction is called,e.g. `sphone_info(\"iPhone 12 Pro Max\", \"Apple\", \"iOS\", 2020)`, the smartphone's information will be printed out.\n"
   ]
  },
  {
   "cell_type": "code",
   "execution_count": null,
   "metadata": {},
   "outputs": [],
   "source": [
    "def sphone_info(sphone_name,sphone_brand, sphone_os ,sphone_year):\n",
    "    print(\"Name:\\t{}\\nBrand:\\t{}\\nOS:\\t{}\\nYear:\\t{}\".format(sphone_name,sphone_brand, sphone_os ,sphone_year))\n",
    "\n",
    "sphone_info(\"iPhone 12 Pro Max\", \"Apple\", \"iOS\", 2020)"
   ]
  },
  {
   "cell_type": "markdown",
   "metadata": {},
   "source": [
    "# Task 2"
   ]
  },
  {
   "cell_type": "markdown",
   "metadata": {},
   "source": [
    "Create a class **SPHONE**, then\n",
    "\n",
    "(a) Add one more function **sphone_initialize** such that\n",
    "\n",
    "- After an object is created, all 4 attributes/ properties (name, brand, os and year) are initialized by calling this function\n",
    "\n",
    "(b) Integrate the function **sphone_info** created in Task 1 into the class. Modify the function such that:\n",
    "\n",
    "- The function does not need to take in any argument and still be able to print out the object's attributes\n",
    "\n",
    "(c) If you do not call **sphone_info**, is it possible to print out the object's attributes? (hint:__dict__)\n",
    "\n",
    "Afterwards, create an object `i12promax = SPHONE()` and `i12promax.sphone_initialize(\"iPhone 12 Pro Max\", \"Apple\", \"iOS\", 2020)` to verify your work.\n",
    "\n"
   ]
  },
  {
   "cell_type": "code",
   "execution_count": 39,
   "metadata": {},
   "outputs": [],
   "source": [
    "class SPHONE2:\n",
    "    #Task 2 a)\n",
    "    def sphone_initialize(self, name, brand, os, year):\n",
    "        self.sp_name = name\n",
    "        self.sp_brand = brand\n",
    "        self.sp_os = os\n",
    "        self.sp_year = year\n",
    "        print(\"An object is created through function 'sphone_initialize'!\")\n",
    "    \n",
    "    #Task 2 b)\n",
    "    def sphone_info(self):\n",
    "        print(\"Name:\\t{}\\nBrand:\\t{}\\nOS:\\t{}\\nYear:\\t{}\".format(self.sp_name,self.sp_brand, self.sp_os ,self.sp_year))\n",
    "        print(\"End of 'sphone_info'!\")"
   ]
  },
  {
   "cell_type": "code",
   "execution_count": 40,
   "metadata": {},
   "outputs": [],
   "source": [
    "i12promax2 = SPHONE2()"
   ]
  },
  {
   "cell_type": "code",
   "execution_count": null,
   "metadata": {},
   "outputs": [],
   "source": [
    "# What if the arguments are input like this? -> Task 3\n",
    "i12promax2t = SPHONE2(\"iPhone 12 Pro Max\", \"Apple\", \"iOS\", 2020)"
   ]
  },
  {
   "cell_type": "code",
   "execution_count": 41,
   "metadata": {},
   "outputs": [
    {
     "name": "stdout",
     "output_type": "stream",
     "text": [
      "An object is created through function 'sphone_initialize'!\n"
     ]
    }
   ],
   "source": [
    "i12promax2.sphone_initialize(\"iPhone 12 Pro Max\", \"Apple\", \"iOS\", 2020)"
   ]
  },
  {
   "cell_type": "code",
   "execution_count": 42,
   "metadata": {},
   "outputs": [
    {
     "name": "stdout",
     "output_type": "stream",
     "text": [
      "Name:\tiPhone 12 Pro Max\n",
      "Brand:\tApple\n",
      "OS:\tiOS\n",
      "Year:\t2020\n",
      "End of 'sphone_info'!\n"
     ]
    }
   ],
   "source": [
    "#Task 2 c) Originally, we can call sphone_info to print the attributes\n",
    "i12promax2.sphone_info()"
   ]
  },
  {
   "cell_type": "code",
   "execution_count": null,
   "metadata": {},
   "outputs": [],
   "source": [
    "# (c)\n",
    "# Simply\n",
    "i12promax2.sp_name"
   ]
  },
  {
   "cell_type": "code",
   "execution_count": null,
   "metadata": {},
   "outputs": [],
   "source": [
    "print(\"Name:\\t{}\\nBrand:\\t{}\\nOS:\\t{}\\nYear:\\t{}\"\n",
    "      .format(i12promax2.sp_name,i12promax2.sp_brand, i12promax2.sp_os ,i12promax2.sp_year))"
   ]
  },
  {
   "cell_type": "code",
   "execution_count": 43,
   "metadata": {},
   "outputs": [
    {
     "data": {
      "text/plain": [
       "{'sp_name': 'iPhone 12 Pro Max',\n",
       " 'sp_brand': 'Apple',\n",
       " 'sp_os': 'iOS',\n",
       " 'sp_year': 2020}"
      ]
     },
     "execution_count": 43,
     "metadata": {},
     "output_type": "execute_result"
    }
   ],
   "source": [
    "#Hint: .__dict__\n",
    "\n",
    "i12promax2.__dict__"
   ]
  },
  {
   "cell_type": "markdown",
   "metadata": {},
   "source": [
    "# Task 3"
   ]
  },
  {
   "cell_type": "markdown",
   "metadata": {},
   "source": [
    "Modify **SPHONE** such that\n",
    "\n",
    "1. All 4 attributes/ properties (name, brand, os and year) are initialized upon the creation of an object\n",
    "\n",
    "Afterwards, create an object `i12mini = SPHONE(\"iPhone 12 Mini\", \"Apple\", \"iOS\", 2020)` and verify your work.\n",
    "\n"
   ]
  },
  {
   "cell_type": "code",
   "execution_count": 44,
   "metadata": {},
   "outputs": [],
   "source": [
    "#Create a class by constructor: __init__\n",
    "\n",
    "class SPHONE3:\n",
    "    def __init__(self, name, brand, os, year):\n",
    "        self.sp_name = name\n",
    "        self.sp_brand = brand\n",
    "        self.sp_os = os\n",
    "        self.sp_year = year\n",
    "        print(\"An object is created through __init__!\")\n",
    "    \n",
    "    def sphone_info(self):\n",
    "        print(\"Name:\\t{}\\nBrand:\\t{}\\nOS:\\t{}\\nYear:\\t{}\".format(self.sp_name,self.sp_brand, self.sp_os ,self.sp_year))\n",
    "        print(\"End of 'sphone_info'!\")"
   ]
  },
  {
   "cell_type": "code",
   "execution_count": 45,
   "metadata": {},
   "outputs": [
    {
     "name": "stdout",
     "output_type": "stream",
     "text": [
      "An object is created through __init__!\n"
     ]
    }
   ],
   "source": [
    "i12mini3 = SPHONE3(\"iPhone 12 Mini\", \"Apple\", \"iOS\", 2020)"
   ]
  },
  {
   "cell_type": "code",
   "execution_count": 46,
   "metadata": {},
   "outputs": [
    {
     "name": "stdout",
     "output_type": "stream",
     "text": [
      "Name:\tiPhone 12 Mini\n",
      "Brand:\tApple\n",
      "OS:\tiOS\n",
      "Year:\t2020\n",
      "End of 'sphone_info'!\n"
     ]
    }
   ],
   "source": [
    "i12mini3.sphone_info()"
   ]
  },
  {
   "cell_type": "markdown",
   "metadata": {},
   "source": [
    "# Task 4"
   ]
  },
  {
   "cell_type": "markdown",
   "metadata": {},
   "source": [
    "Keep the constructor remains unchanged, update **SPHONE** as instructed below:\n",
    "\n",
    "(a) Define a function **add_price** that sets the smartphone's price\n",
    "\n",
    "(b) Update **sphone_info** and include the price of the smartphone\n",
    "\n",
    "(c) Define a function **compare_sphone** that compares prices of two smartphones, and print out which one is more expensive\n",
    "\n",
    "Verify your work with `i12 = SPHONE(\"iPhone 12\", \"Apple\", \"iOS\", 2020)` with price `6799` and `xperia1II = SPHONE(\"Xperia 1 II\", \"Sony\", \"Android\", 2020)` with price `7999`.\n",
    "\n"
   ]
  },
  {
   "cell_type": "code",
   "execution_count": 47,
   "metadata": {},
   "outputs": [],
   "source": [
    "class SPHONE4:\n",
    "    def __init__(self, name, brand, os, year):\n",
    "        self.sp_name = name\n",
    "        self.sp_brand = brand\n",
    "        self.sp_os = os\n",
    "        self.sp_year = year\n",
    "        print(\"An object is created through __init__!\")\n",
    "    \n",
    "    #Task 4 a)\n",
    "    def add_price(self, price):\n",
    "        self.sp_price = price\n",
    "    \n",
    "    #Task 4 b)\n",
    "    def sphone_info(self):\n",
    "        print(\"Name:\\t{}\\nBrand:\\t{}\\nOS:\\t{}\\nPrice:\\t{}\\nYear:\\t{}\".format(self.sp_name,self.sp_brand, self.sp_os , self.sp_price, self.sp_year))\n",
    "        print(\"End of 'sphone_info'!\")\n",
    "    \n",
    "    #Task 4 c)\n",
    "    def compare_sphone(self, sphone_obj):\n",
    "        if self.sp_price > sphone_obj.sp_price:\n",
    "            print(\"{} is more expensive!\".format(self.sp_name))\n",
    "        elif self.sp_price < sphone_obj.sp_price:\n",
    "            print(\"{} is more expensive!\".format(sphone_obj.sp_name))\n",
    "        else:\n",
    "            print(\"They are equally expensive!\")\n",
    "            "
   ]
  },
  {
   "cell_type": "code",
   "execution_count": 48,
   "metadata": {},
   "outputs": [
    {
     "name": "stdout",
     "output_type": "stream",
     "text": [
      "An object is created through __init__!\n"
     ]
    }
   ],
   "source": [
    "i124 = SPHONE4(\"iPhone 12\", \"Apple\", \"iOS\", 2020)"
   ]
  },
  {
   "cell_type": "code",
   "execution_count": 49,
   "metadata": {},
   "outputs": [
    {
     "ename": "AttributeError",
     "evalue": "'SPHONE4' object has no attribute 'sp_price'",
     "output_type": "error",
     "traceback": [
      "\u001b[1;31m---------------------------------------------------------------------------\u001b[0m",
      "\u001b[1;31mAttributeError\u001b[0m                            Traceback (most recent call last)",
      "\u001b[1;32m<ipython-input-49-0c1c28481952>\u001b[0m in \u001b[0;36m<module>\u001b[1;34m\u001b[0m\n\u001b[0;32m      1\u001b[0m \u001b[1;31m# If price is not set\u001b[0m\u001b[1;33m\u001b[0m\u001b[1;33m\u001b[0m\u001b[1;33m\u001b[0m\u001b[0m\n\u001b[1;32m----> 2\u001b[1;33m \u001b[0mi124\u001b[0m\u001b[1;33m.\u001b[0m\u001b[0msphone_info\u001b[0m\u001b[1;33m(\u001b[0m\u001b[1;33m)\u001b[0m\u001b[1;33m\u001b[0m\u001b[1;33m\u001b[0m\u001b[0m\n\u001b[0m",
      "\u001b[1;32m<ipython-input-47-aca66fdfe321>\u001b[0m in \u001b[0;36msphone_info\u001b[1;34m(self)\u001b[0m\n\u001b[0;32m     13\u001b[0m     \u001b[1;31m#Task 4 b)\u001b[0m\u001b[1;33m\u001b[0m\u001b[1;33m\u001b[0m\u001b[1;33m\u001b[0m\u001b[0m\n\u001b[0;32m     14\u001b[0m     \u001b[1;32mdef\u001b[0m \u001b[0msphone_info\u001b[0m\u001b[1;33m(\u001b[0m\u001b[0mself\u001b[0m\u001b[1;33m)\u001b[0m\u001b[1;33m:\u001b[0m\u001b[1;33m\u001b[0m\u001b[1;33m\u001b[0m\u001b[0m\n\u001b[1;32m---> 15\u001b[1;33m         \u001b[0mprint\u001b[0m\u001b[1;33m(\u001b[0m\u001b[1;34m\"Name:\\t{}\\nBrand:\\t{}\\nOS:\\t{}\\nPrice:\\t{}\\nYear:\\t{}\"\u001b[0m\u001b[1;33m.\u001b[0m\u001b[0mformat\u001b[0m\u001b[1;33m(\u001b[0m\u001b[0mself\u001b[0m\u001b[1;33m.\u001b[0m\u001b[0msp_name\u001b[0m\u001b[1;33m,\u001b[0m\u001b[0mself\u001b[0m\u001b[1;33m.\u001b[0m\u001b[0msp_brand\u001b[0m\u001b[1;33m,\u001b[0m \u001b[0mself\u001b[0m\u001b[1;33m.\u001b[0m\u001b[0msp_os\u001b[0m \u001b[1;33m,\u001b[0m \u001b[0mself\u001b[0m\u001b[1;33m.\u001b[0m\u001b[0msp_price\u001b[0m\u001b[1;33m,\u001b[0m \u001b[0mself\u001b[0m\u001b[1;33m.\u001b[0m\u001b[0msp_year\u001b[0m\u001b[1;33m)\u001b[0m\u001b[1;33m)\u001b[0m\u001b[1;33m\u001b[0m\u001b[1;33m\u001b[0m\u001b[0m\n\u001b[0m\u001b[0;32m     16\u001b[0m         \u001b[0mprint\u001b[0m\u001b[1;33m(\u001b[0m\u001b[1;34m\"End of 'sphone_info'!\"\u001b[0m\u001b[1;33m)\u001b[0m\u001b[1;33m\u001b[0m\u001b[1;33m\u001b[0m\u001b[0m\n\u001b[0;32m     17\u001b[0m \u001b[1;33m\u001b[0m\u001b[0m\n",
      "\u001b[1;31mAttributeError\u001b[0m: 'SPHONE4' object has no attribute 'sp_price'"
     ]
    }
   ],
   "source": [
    "# If price is not set\n",
    "i124.sphone_info()\n"
   ]
  },
  {
   "cell_type": "code",
   "execution_count": 50,
   "metadata": {},
   "outputs": [],
   "source": [
    "#Create object xperia1II and set price\n",
    "i124.add_price(6799)\n"
   ]
  },
  {
   "cell_type": "code",
   "execution_count": 51,
   "metadata": {},
   "outputs": [
    {
     "name": "stdout",
     "output_type": "stream",
     "text": [
      "Name:\tiPhone 12\n",
      "Brand:\tApple\n",
      "OS:\tiOS\n",
      "Price:\t6799\n",
      "Year:\t2020\n",
      "End of 'sphone_info'!\n"
     ]
    }
   ],
   "source": [
    "#Now you can print out the info\n",
    "i124.sphone_info()"
   ]
  },
  {
   "cell_type": "code",
   "execution_count": null,
   "metadata": {},
   "outputs": [],
   "source": [
    "#Define xperial1II4\n",
    "xperia1II4 = SPHONE4(\"Xperia 1 II\", \"Sony\", \"Android\", 2020)\n",
    "xperia1II4.add_price(7999)\n",
    "xperia1II4.sphone_info()\n"
   ]
  },
  {
   "cell_type": "code",
   "execution_count": null,
   "metadata": {},
   "outputs": [],
   "source": [
    "#Call the function compare_sphone\n",
    "i124.compare_sphone(xperia1II4)\n"
   ]
  },
  {
   "cell_type": "code",
   "execution_count": null,
   "metadata": {},
   "outputs": [],
   "source": [
    "# Fine if you use xperia instead\n",
    "xperia1II4.compare_sphone(i124)\n"
   ]
  },
  {
   "cell_type": "markdown",
   "metadata": {},
   "source": [
    "# Task 5"
   ]
  },
  {
   "cell_type": "markdown",
   "metadata": {},
   "source": [
    "Update the class you created in Task 3 with a destructor, print out `Object deleted!` in the destructor.\n",
    "\n",
    "Verify your work with `i12pro = SPHONE(\"iPhone 12 Pro\", \"Apple\", \"iOS\", 2020)`\n",
    "\n"
   ]
  },
  {
   "cell_type": "code",
   "execution_count": null,
   "metadata": {},
   "outputs": [],
   "source": [
    "# Without destructor, you still can delete it\n",
    "i12pro5 = SPHONE4(\"iPhone 12 Pro\", \"Apple\", \"iOS\", 2020)\n",
    "i12pro5.add_price(8499)\n",
    "i12pro5.sphone_info()"
   ]
  },
  {
   "cell_type": "code",
   "execution_count": null,
   "metadata": {},
   "outputs": [],
   "source": [
    "del i12pro5"
   ]
  },
  {
   "cell_type": "code",
   "execution_count": null,
   "metadata": {},
   "outputs": [],
   "source": [
    "# Not working now\n",
    "i12pro5.sphone_info()"
   ]
  },
  {
   "cell_type": "code",
   "execution_count": null,
   "metadata": {},
   "outputs": [],
   "source": [
    "class SPHONE5:\n",
    "    def __init__(self, name, brand, os, year):\n",
    "        self.sp_name = name\n",
    "        self.sp_brand = brand\n",
    "        self.sp_os = os\n",
    "        self.sp_year = year\n",
    "        print(\"An object is created through __init__!\")\n",
    "    \n",
    "    def add_price(self, price):\n",
    "        self.sp_price = price\n",
    "    \n",
    "    def sphone_info(self):\n",
    "        print(\"Name:\\t{}\\nBrand:\\t{}\\nOS:\\t{}\\nPrice:\\t{}\\nYear:\\t{}\".format(self.sp_name,self.sp_brand, self.sp_os , self.sp_price, self.sp_year))\n",
    "        print(\"End of 'sphone_info'!\")\n",
    "    \n",
    "    def compare_sphone(self, sphone_obj):\n",
    "        if self.sp_price > sphone_obj.sp_price:\n",
    "            print(\"{} is more expensive!\".format(self.sp_name))\n",
    "        elif self.sp_price < sphone_obj.sp_price:\n",
    "            print(\"{} is more expensive!\".format(sphone_obj.sp_name))\n",
    "        else:\n",
    "            print(\"They are equally expensive!\")\n",
    "    \n",
    "    #Define destructor below\n",
    "    def __del__(self):\n",
    "        print(\"Object deleted!\")"
   ]
  },
  {
   "cell_type": "code",
   "execution_count": null,
   "metadata": {},
   "outputs": [],
   "source": [
    "i12pro5t = SPHONE5(\"iPhone 12 Pro\", \"Apple\", \"iOS\", 2020)\n",
    "i12pro5t.add_price(8499)\n",
    "i12pro5t.sphone_info()"
   ]
  },
  {
   "cell_type": "code",
   "execution_count": null,
   "metadata": {},
   "outputs": [],
   "source": [
    "del i12pro5t"
   ]
  },
  {
   "cell_type": "code",
   "execution_count": null,
   "metadata": {},
   "outputs": [],
   "source": [
    "i12pro5t"
   ]
  },
  {
   "cell_type": "markdown",
   "metadata": {},
   "source": [
    "# Task 6 (inheritance)"
   ]
  },
  {
   "cell_type": "markdown",
   "metadata": {},
   "source": [
    "Create a class, named **Student**\n",
    "- With a constructor, which can take **first_name** and **last_name** (e.g., James KWOK)\n",
    "- With an empty destructor, which can print “**Bye**” when the destructor is being executed\n",
    "- With a function that can print “I am a student.” when the object is being printed.\n",
    "-Go to the main program area and create an object, named **student1**\n",
    "-Print the object\n"
   ]
  },
  {
   "cell_type": "code",
   "execution_count": 35,
   "metadata": {},
   "outputs": [
    {
     "name": "stdout",
     "output_type": "stream",
     "text": [
      "I am a student.\n"
     ]
    }
   ],
   "source": [
    "class Student(object):\n",
    "    def __init__(self, fname, lname):\n",
    "        self.fname = fname\n",
    "        self.lname = lname\n",
    "    \n",
    "    def __del__(self):\n",
    "        pass\n",
    "                    \n",
    "    def __str__(self):\n",
    "        return \"I am a student.\"\n",
    "\n",
    "student1 = Student(\"James\", \"Kwok\")\n",
    "print(student1)"
   ]
  },
  {
   "cell_type": "code",
   "execution_count": 36,
   "metadata": {},
   "outputs": [],
   "source": [
    "del student1"
   ]
  },
  {
   "cell_type": "markdown",
   "metadata": {},
   "source": [
    "Create a new class, named **HKUST_Student**\n",
    "- Inherit from the **Student** class (done in Task 1)\n",
    "- Create a constructor, which takes SID (e.g., 20210000)\n",
    "- Create a function that can print “**I am a HKUST student.**” when the object is being printed.\n",
    "- Create a function, named **show_info()**, which can output the following. (Use **f-strings** for the implementation)\n",
    "\n",
    "![image.png](data:image/png;base64,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)\n",
    "\n",
    "- Go to the main program area and create an object, named **HKUST_student1** with the following information.\n",
    "      Last name: KWOK\n",
    "      First name: James \n",
    "      Student ID: 20210000\n",
    "- Print the object\n",
    "- Call the show_info() function.\n",
    "\n"
   ]
  },
  {
   "cell_type": "code",
   "execution_count": 30,
   "metadata": {},
   "outputs": [
    {
     "name": "stdout",
     "output_type": "stream",
     "text": [
      "Bye\n",
      "I am a HKUST student.\n"
     ]
    }
   ],
   "source": [
    "class HKUSTstudent(Student):\n",
    "    def __init__(self, fname, lname, SID):\n",
    "        Student.__init__(self, fname, lname)\n",
    "        self.SID = SID\n",
    "  \n",
    "    def show_info(self):\n",
    "        print(f\"My name is: {self.fname} {self.lname}\")\n",
    "        print(f\"My Student ID is: {self.SID}\")\n",
    "        \n",
    "    def __str__(self):\n",
    "        return \"I am a HKUST student.\"    \n",
    "\n",
    "\n",
    "hkust_student1 = HKUSTstudent(\"James\", \"Kwok\", 20210000)\n",
    "print(hkust_student1)\n"
   ]
  },
  {
   "cell_type": "code",
   "execution_count": 28,
   "metadata": {},
   "outputs": [
    {
     "name": "stdout",
     "output_type": "stream",
     "text": [
      "My name is: James Kwok\n",
      "My Student ID is: 20210000\n"
     ]
    }
   ],
   "source": [
    "hkust_student1.show_info()"
   ]
  },
  {
   "cell_type": "markdown",
   "metadata": {},
   "source": [
    "# Take-home Exercise"
   ]
  },
  {
   "cell_type": "markdown",
   "metadata": {},
   "source": [
    "# Task 7"
   ]
  },
  {
   "cell_type": "markdown",
   "metadata": {},
   "source": [
    "Each HKUST student needs to enroll courses. For example, a student enrolled  ISOM3230 and ISOM3400. \n",
    "- Redesign the class , HKUSTstudent so that it allows its object to record enrolled courses. \n",
    "- Also when the show_info() is executed, the function will show the following. \n",
    "\n",
    "\n",
    "![image.png](data:image/png;base64,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)"
   ]
  },
  {
   "cell_type": "code",
   "execution_count": null,
   "metadata": {},
   "outputs": [],
   "source": [
    "class HKUSTstudent(Student):\n",
    "    def enrolled(self, course_list):\n",
    "        self.enrolled_course = course_list\n",
    "        \n",
    "    def __init__(self, fname, lname, SID):\n",
    "        Student.__init__(self, fname, lname)\n",
    "        self.SID = SID\n",
    "    \n",
    "    def __del__(self):\n",
    "        pass\n",
    "    \n",
    "    def show_info(self):\n",
    "        print(f\"My name is: {self.fname} {self.lname}\")\n",
    "        print(f\"My Student ID is: {self.SID}\")\n",
    "        print(\"Here are the enrolled course:\")\n",
    "        for course in self.enrolled_course:\n",
    "            print(f\"\\t{course}\")\n",
    "    \n",
    "    def __str__(self):\n",
    "        return \"I am a HKUST student.\"    \n",
    "\n",
    "\n",
    "hkust_student1 = HKUSTstudent(\"James\", \"Kwok\", 20210000)\n",
    "hkust_student1.enrolled([\"ISOM3400\", \"ISOM3230\"])\n",
    "print(hkust_student1)\n",
    "hkust_student1.show_info()\n"
   ]
  }
 ],
 "metadata": {
  "kernelspec": {
   "display_name": "Python 3",
   "language": "python",
   "name": "python3"
  },
  "language_info": {
   "codemirror_mode": {
    "name": "ipython",
    "version": 3
   },
   "file_extension": ".py",
   "mimetype": "text/x-python",
   "name": "python",
   "nbconvert_exporter": "python",
   "pygments_lexer": "ipython3",
   "version": "3.8.8"
  }
 },
 "nbformat": 4,
 "nbformat_minor": 4
}
