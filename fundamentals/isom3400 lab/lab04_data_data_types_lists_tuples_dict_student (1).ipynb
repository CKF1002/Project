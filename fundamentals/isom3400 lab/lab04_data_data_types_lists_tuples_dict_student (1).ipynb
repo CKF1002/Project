{
 "cells": [
  {
   "cell_type": "markdown",
   "metadata": {},
   "source": [
    "# Lab 3: Data and Data Types, Lists, Tuples and Dictionaries"
   ]
  },
  {
   "cell_type": "markdown",
   "metadata": {},
   "source": [
    "# Task 0"
   ]
  },
  {
   "cell_type": "markdown",
   "metadata": {},
   "source": [
    "Declare following variables:\n",
    "\n",
    "(a) Variable **a** with value **10**\n",
    "\n",
    "(b) Variable **b** with value **10.0**\n",
    "\n",
    "(c) Variable **c** with value **HKUST**\n",
    "\n",
    "(d) Variable **d** with boolean value **True**\n",
    "\n",
    "What are the types of the variables? Prove your answer with code."
   ]
  },
  {
   "cell_type": "code",
   "execution_count": null,
   "metadata": {},
   "outputs": [],
   "source": []
  },
  {
   "cell_type": "markdown",
   "metadata": {},
   "source": [
    "# Task 1"
   ]
  },
  {
   "cell_type": "markdown",
   "metadata": {},
   "source": [
    "(a) Create an empty list with name list_1\n",
    "\n",
    "(b) Create an empty tuples tuple_1\n",
    "\n",
    "(c) Create an empty dictionary dict_1"
   ]
  },
  {
   "cell_type": "code",
   "execution_count": null,
   "metadata": {},
   "outputs": [],
   "source": []
  },
  {
   "cell_type": "markdown",
   "metadata": {},
   "source": [
    "# Task 2"
   ]
  },
  {
   "cell_type": "markdown",
   "metadata": {},
   "source": [
    "(a) Create a list named list_2 with following values:\n",
    "- \"string\", 1234, 1234.0, True\n",
    "\n",
    "(b) Create a tuple named tuple_2 with the following values:\n",
    "- \"string\", 1234, 1234.0, True\n",
    "\n",
    "(c) Create a dictionary named dict_2 with the following values:\n",
    "- 'apple': 'green', 'banana': 'yellow', 'cherry': 'red', 'x': 'ten', 520: False, 1314: 'True'"
   ]
  },
  {
   "cell_type": "code",
   "execution_count": null,
   "metadata": {},
   "outputs": [],
   "source": []
  },
  {
   "cell_type": "markdown",
   "metadata": {},
   "source": [
    "# Task 3 & 4"
   ]
  },
  {
   "cell_type": "markdown",
   "metadata": {},
   "source": [
    "For the list and tuple you just created in Task 2,\n",
    "\n",
    "(a) Access the second element using positive index\n",
    "\n",
    "(b) Access the last element using negative index\n",
    "\n",
    "(c) Acess all the elements except the last one with a mix of positive and negative indexes"
   ]
  },
  {
   "cell_type": "code",
   "execution_count": null,
   "metadata": {},
   "outputs": [],
   "source": []
  },
  {
   "cell_type": "code",
   "execution_count": null,
   "metadata": {},
   "outputs": [],
   "source": []
  },
  {
   "cell_type": "markdown",
   "metadata": {},
   "source": [
    "# Task 5"
   ]
  },
  {
   "cell_type": "markdown",
   "metadata": {},
   "source": [
    "Consider the following list:\n",
    "- list_prime = [2, 3, 5, 7, 11, 13, 17]\n",
    "\n",
    "Use a for-loop to print out the forth power of each element."
   ]
  },
  {
   "cell_type": "code",
   "execution_count": null,
   "metadata": {},
   "outputs": [],
   "source": []
  },
  {
   "cell_type": "markdown",
   "metadata": {},
   "source": [
    "# Task 6"
   ]
  },
  {
   "cell_type": "markdown",
   "metadata": {},
   "source": [
    "Consider the following dictionaries:\n",
    "\n",
    "- dict_ustStu = {'intelligent': 'ofcourse', 'hard-working': 'nodoubt', 'smart': 'agree', 'brilliant': 'yup'}\n",
    "\n",
    "Can you print out the following output using a for-loop?"
   ]
  },
  {
   "cell_type": "code",
   "execution_count": 1,
   "metadata": {},
   "outputs": [
    {
     "name": "stdout",
     "output_type": "stream",
     "text": [
      "Are UST students intelligent?\n",
      "ofcourse!\n",
      "Are UST students hard-working?\n",
      "nodoubt!\n",
      "Are UST students smart?\n",
      "agree!\n",
      "Are UST students brilliant?\n",
      "yup!\n"
     ]
    }
   ],
   "source": []
  },
  {
   "cell_type": "code",
   "execution_count": null,
   "metadata": {},
   "outputs": [],
   "source": []
  },
  {
   "cell_type": "markdown",
   "metadata": {},
   "source": [
    "# Task 7\n",
    "\n",
    "Assume that you are a product manager, and you just received the summarized sales report of 2019 from the marketing department. The report shows the total revenue of this product by month as following. You try to answer the following questions based on the report. Please write codes that would answer these questions. \n",
    "\n",
    "Sales report by month (in unit of 1K): `[2.5, 7.2, 3.3, 5.0, 14.8, 23.3, 34.2, 12.9, 9.7, 10.1, 5.5, 12.9]`\n",
    "\n",
    "1. What is the total sales in 2019?\n",
    "2. What is the highest monthly sales in the 12 months? And what is the lowest monthly sales?\n",
    "3. What is the average sales per month? \n",
    "\n"
   ]
  },
  {
   "cell_type": "code",
   "execution_count": null,
   "metadata": {},
   "outputs": [],
   "source": []
  },
  {
   "cell_type": "markdown",
   "metadata": {},
   "source": [
    "# Task 8\n",
    "\n",
    "Given the following list:\n",
    "\n",
    "```\n",
    "months = ['Jan', 'Feb', 'Mar', 'Apr', 'May', 'Jun', 'Jul', 'Aug', 'Sep', 'Oct', 'Nov', 'Dec']\n",
    "```\n",
    "\n",
    "1. Try to slice `months` to create a list of the summer months, i.e., `['Jul', 'Aug', 'Sept']`, and assign it a new name `summer`.\n",
    "2. Slice `months` again to create a list of the winter months, i.e., `['Nov', 'Dec', 'Jan', 'Feb']` , and assign the result a name `winter`. \n"
   ]
  },
  {
   "cell_type": "code",
   "execution_count": null,
   "metadata": {},
   "outputs": [],
   "source": []
  }
 ],
 "metadata": {
  "kernelspec": {
   "display_name": "Python 3",
   "language": "python",
   "name": "python3"
  },
  "language_info": {
   "codemirror_mode": {
    "name": "ipython",
    "version": 3
   },
   "file_extension": ".py",
   "mimetype": "text/x-python",
   "name": "python",
   "nbconvert_exporter": "python",
   "pygments_lexer": "ipython3",
   "version": "3.7.6"
  }
 },
 "nbformat": 4,
 "nbformat_minor": 4
}
