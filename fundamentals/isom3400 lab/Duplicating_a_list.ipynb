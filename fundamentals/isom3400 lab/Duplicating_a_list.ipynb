{
  "nbformat": 4,
  "nbformat_minor": 0,
  "metadata": {
    "colab": {
      "name": "Duplicating a list.ipynb",
      "provenance": []
    },
    "kernelspec": {
      "name": "python3",
      "display_name": "Python 3"
    },
    "language_info": {
      "name": "python"
    }
  },
  "cells": [
    {
      "cell_type": "markdown",
      "metadata": {
        "id": "ol8cjRH9_T1I"
      },
      "source": [
        "# To duplicate a list\n",
        "In Lab06 / Task5, we duplicate the first sublist and set it as a default maximum list. (i.e. current_maximum = numbers_to_compare[i][:])\n",
        "\n",
        "Is it same as current_maximum = numbers_to_compare[i] ? (without [:])\n",
        "\n",
        "\n",
        "See the examples below:"
      ]
    },
    {
      "cell_type": "code",
      "metadata": {
        "colab": {
          "base_uri": "https://localhost:8080/"
        },
        "id": "8d-OAgsW9_O5",
        "outputId": "9865b737-fa80-4857-fc0e-3e1e60f172cf"
      },
      "source": [
        "list_1 = [1,2,3,4,5,6]\n",
        "dup_list = list_1\n",
        "dup_list"
      ],
      "execution_count": null,
      "outputs": [
        {
          "output_type": "execute_result",
          "data": {
            "text/plain": [
              "[1, 2, 3, 4, 5, 6]"
            ]
          },
          "metadata": {},
          "execution_count": 1
        }
      ]
    },
    {
      "cell_type": "code",
      "metadata": {
        "colab": {
          "base_uri": "https://localhost:8080/"
        },
        "id": "dlGKr81l-ua0",
        "outputId": "81b2ee8f-94a3-48b2-aab3-859b6b410a93"
      },
      "source": [
        "list_1.append(7)\n",
        "dup_list"
      ],
      "execution_count": null,
      "outputs": [
        {
          "output_type": "execute_result",
          "data": {
            "text/plain": [
              "[1, 2, 3, 4, 5, 6, 7]"
            ]
          },
          "metadata": {},
          "execution_count": 2
        }
      ]
    },
    {
      "cell_type": "code",
      "metadata": {
        "colab": {
          "base_uri": "https://localhost:8080/"
        },
        "id": "h1ud1ydl-5ws",
        "outputId": "978dc532-7bd7-4dad-e145-c3bf693adf56"
      },
      "source": [
        "dup_list.append(8)\n",
        "list_1"
      ],
      "execution_count": null,
      "outputs": [
        {
          "output_type": "execute_result",
          "data": {
            "text/plain": [
              "[1, 2, 3, 4, 5, 6, 7, 8]"
            ]
          },
          "metadata": {},
          "execution_count": 3
        }
      ]
    },
    {
      "cell_type": "markdown",
      "metadata": {
        "id": "yh3e86R7ATho"
      },
      "source": [
        "Any changes applied to list_1 or dup_list affect the content of each other."
      ]
    },
    {
      "cell_type": "markdown",
      "metadata": {
        "id": "V2xKvRghFyrb"
      },
      "source": [
        "Now try the approach with [:]"
      ]
    },
    {
      "cell_type": "code",
      "metadata": {
        "colab": {
          "base_uri": "https://localhost:8080/"
        },
        "id": "byhxM_-EAhz_",
        "outputId": "922d34f7-02f2-40c4-d0ad-1937fa2f15bd"
      },
      "source": [
        "list_2 = [1,2,3,4,5,6]\n",
        "dup_list = list_2[:]\n",
        "dup_list"
      ],
      "execution_count": 1,
      "outputs": [
        {
          "output_type": "execute_result",
          "data": {
            "text/plain": [
              "[1, 2, 3, 4, 5, 6]"
            ]
          },
          "metadata": {},
          "execution_count": 1
        }
      ]
    },
    {
      "cell_type": "code",
      "metadata": {
        "colab": {
          "base_uri": "https://localhost:8080/"
        },
        "id": "77l0SuPdAtj4",
        "outputId": "7440540d-ec5f-4e06-c3fe-bdbe908ee8ce"
      },
      "source": [
        "list_2.append(7)\n",
        "dup_list"
      ],
      "execution_count": 2,
      "outputs": [
        {
          "output_type": "execute_result",
          "data": {
            "text/plain": [
              "[1, 2, 3, 4, 5, 6]"
            ]
          },
          "metadata": {},
          "execution_count": 2
        }
      ]
    },
    {
      "cell_type": "code",
      "metadata": {
        "colab": {
          "base_uri": "https://localhost:8080/"
        },
        "id": "vBtSmNm6Axvd",
        "outputId": "a7bc0bfa-f9dc-4991-804d-7eac88ebf348"
      },
      "source": [
        "dup_list.append(8)\n",
        "list_2"
      ],
      "execution_count": 3,
      "outputs": [
        {
          "output_type": "execute_result",
          "data": {
            "text/plain": [
              "[1, 2, 3, 4, 5, 6, 7]"
            ]
          },
          "metadata": {},
          "execution_count": 3
        }
      ]
    },
    {
      "cell_type": "code",
      "metadata": {
        "colab": {
          "base_uri": "https://localhost:8080/"
        },
        "id": "6z54g6HDA2YB",
        "outputId": "3c7dc735-f66e-4622-e356-d9d6025cd0b2"
      },
      "source": [
        "print(list_2)\n",
        "print(dup_list)"
      ],
      "execution_count": 4,
      "outputs": [
        {
          "output_type": "stream",
          "name": "stdout",
          "text": [
            "[1, 2, 3, 4, 5, 6, 7]\n",
            "[1, 2, 3, 4, 5, 6, 8]\n"
          ]
        }
      ]
    },
    {
      "cell_type": "markdown",
      "metadata": {
        "id": "2Ebo6xFyF4zn"
      },
      "source": [
        "In this approach, we copied everything inside list_2 to dup_list. And the 2 lists does not affect each other. "
      ]
    },
    {
      "cell_type": "markdown",
      "metadata": {
        "id": "mkWcOwqkGghT"
      },
      "source": [
        "Conclusion: For Task5, we should use the second approach. (i.e. [:]) Or the varying list,  currant_maximum would change the content of the sublist. "
      ]
    }
  ]
}