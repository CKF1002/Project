{
 "cells": [
  {
   "cell_type": "markdown",
   "metadata": {
    "colab_type": "text",
    "id": "IJXZu7lms8iG"
   },
   "source": [
    "# Lab 3:  print() & Variables"
   ]
  },
  {
   "cell_type": "markdown",
   "metadata": {
    "colab_type": "text",
    "id": "bFnKmgOWUGaM"
   },
   "source": [
    "# Task 1"
   ]
  },
  {
   "cell_type": "markdown",
   "metadata": {},
   "source": [
    "(a) Create variables x and y, and assign the values 20, 25 respectively.\n",
    "\n",
    "\n",
    "(b) Use print() to print out the values of variables x and y.\n",
    "\n",
    "Topic(s) covered: variables, print()"
   ]
  },
  {
   "cell_type": "code",
   "execution_count": 1,
   "metadata": {
    "colab": {},
    "colab_type": "code",
    "id": "-bpyQCNntnXp"
   },
   "outputs": [
    {
     "name": "stdout",
     "output_type": "stream",
     "text": [
      "20 25\n"
     ]
    }
   ],
   "source": [
    "x = 20\n",
    "y = 25\n",
    "print(x, y)"
   ]
  },
  {
   "cell_type": "code",
   "execution_count": 2,
   "metadata": {},
   "outputs": [
    {
     "name": "stdout",
     "output_type": "stream",
     "text": [
      "20 25\n"
     ]
    }
   ],
   "source": [
    "x,y = 20,25\n",
    "print(x,y)"
   ]
  },
  {
   "cell_type": "markdown",
   "metadata": {
    "colab_type": "text",
    "id": "hiqC2b582lJG"
   },
   "source": [
    "# Task 2"
   ]
  },
  {
   "cell_type": "markdown",
   "metadata": {
    "colab": {},
    "colab_type": "code",
    "id": "cYMJSgvzcots"
   },
   "source": [
    "Print the string as shown in the next cell using:\n",
    "\n",
    "String here:<p>\n",
    "Good grade courses<p>\n",
    "A lot of friends<p>\n",
    "A Lifelong partner<p>\n",
    "Having no regrets<p>\n",
    "You guess it right<p>\n",
    "I am from HKUST<p>\n",
    "and I love HKUST!<p>\n",
    "\n",
    "(a) Only one print function.\n",
    "\n",
    "(b) At least one print function, without using \"\\n\"\n",
    "\n",
    "(c) Only one print function, without using \"\\n\"\n",
    "\n",
    "Topic(s) covered: print()"
   ]
  },
  {
   "cell_type": "code",
   "execution_count": 3,
   "metadata": {
    "scrolled": true
   },
   "outputs": [
    {
     "name": "stdout",
     "output_type": "stream",
     "text": [
      "Good grade courses, \n",
      "\tA lot of friends, \n",
      "\t\tA Lifelong partner, \n",
      "\t\tHaving no regrets, \n",
      "\tYou guess it right, \n",
      "I am from HKUST\n",
      "\t\t\t and I love HKUST!\n"
     ]
    }
   ],
   "source": [
    "print(\"Good grade courses, \\n\\tA lot of friends, \\n\\t\\tA Lifelong partner, \\n\\t\\tHaving no regrets, \\n\\tYou guess it right, \\nI am from HKUST\\n\\t\\t\\t and I love HKUST!\")"
   ]
  },
  {
   "cell_type": "code",
   "execution_count": 4,
   "metadata": {},
   "outputs": [
    {
     "name": "stdout",
     "output_type": "stream",
     "text": [
      "Good grade courses, \n",
      "\tA lot of friends, \n",
      "\t\tA Lifelong partner, \n",
      "\t\tHaving no regrets, \n",
      "\tYou guess it right, \n",
      "I am from HKUST\n",
      "\t\t\t and I love HKUST!\n"
     ]
    }
   ],
   "source": [
    "print(\"Good grade courses, \")\n",
    "print(\"\\tA lot of friends, \")\n",
    "print(\"\\t\\tA Lifelong partner, \")\n",
    "print(\"\\t\\tHaving no regrets, \")\n",
    "print(\"\\tYou guess it right, \")\n",
    "print(\"I am from HKUST\")\n",
    "print(\"\\t\\t\\t and I love HKUST!\")"
   ]
  },
  {
   "cell_type": "code",
   "execution_count": 5,
   "metadata": {},
   "outputs": [
    {
     "name": "stdout",
     "output_type": "stream",
     "text": [
      "Good grade courses, \n",
      "\tA lot of friends, \n",
      "\t\tA Lifelong partner, \n",
      "\t\tHaving no regrets, \n",
      "\tYou guess it right, \n",
      "I am from HKUST\n",
      "\t\t\t and I love HKUST!\n"
     ]
    }
   ],
   "source": [
    "print(\"\"\"Good grade courses, \n",
    "\tA lot of friends, \n",
    "\t\tA Lifelong partner, \n",
    "\t\tHaving no regrets, \n",
    "\tYou guess it right, \n",
    "I am from HKUST\n",
    "\t\t\t and I love HKUST!\"\"\")"
   ]
  },
  {
   "cell_type": "markdown",
   "metadata": {},
   "source": [
    "# Task 3"
   ]
  },
  {
   "cell_type": "markdown",
   "metadata": {},
   "source": [
    "Print out the following string:\n",
    "\n",
    "Good morning, I am hungry.\n",
    "\n",
    "Topic(s) covered: print()"
   ]
  },
  {
   "cell_type": "code",
   "execution_count": 6,
   "metadata": {},
   "outputs": [
    {
     "name": "stdout",
     "output_type": "stream",
     "text": [
      "Good morning, I am hungry.\n"
     ]
    }
   ],
   "source": [
    "print(\"Good morning, I am hungry.\")"
   ]
  },
  {
   "cell_type": "markdown",
   "metadata": {},
   "source": [
    "# Task 4"
   ]
  },
  {
   "cell_type": "markdown",
   "metadata": {},
   "source": [
    "Print out the following string:\n",
    "\n",
    "Where to grab a lunch? I am on a diet so I want a \"Chicken Salad\".\n",
    "\n",
    "Topic(s) covered: print()"
   ]
  },
  {
   "cell_type": "code",
   "execution_count": 7,
   "metadata": {},
   "outputs": [
    {
     "name": "stdout",
     "output_type": "stream",
     "text": [
      "Where to grab a lunch? I am on a diet so I want a \"Chicken Salad\".\n"
     ]
    }
   ],
   "source": [
    "print('Where to grab a lunch? I am on a diet so I want a \"Chicken Salad\".')"
   ]
  },
  {
   "cell_type": "markdown",
   "metadata": {},
   "source": [
    "# Task 5"
   ]
  },
  {
   "cell_type": "markdown",
   "metadata": {},
   "source": [
    "Print out the following string as shown in the next cell: (this is single quote)\n",
    "\n",
    "String here:<p>\n",
    "What...<p>\n",
    "You have class<p>\n",
    "What class is it?<p>\n",
    "'ISOM 3400'...I see!\n",
    "\n",
    "Hint: sep\n",
    "    \n",
    "Topic(s) covered: print()"
   ]
  },
  {
   "cell_type": "code",
   "execution_count": 8,
   "metadata": {},
   "outputs": [
    {
     "name": "stdout",
     "output_type": "stream",
     "text": [
      "What...!? You have class!? What class is it?\n",
      "'ISOM 3400'...I see!\n"
     ]
    }
   ],
   "source": [
    "print(\"What...\", \"You have class\", \"What class is it?\", sep = \"!? \")\n",
    "print(\"'ISOM 3400'...I see!\")"
   ]
  },
  {
   "cell_type": "markdown",
   "metadata": {},
   "source": [
    "# Task 6"
   ]
  },
  {
   "cell_type": "markdown",
   "metadata": {},
   "source": [
    "Print out the following string: (mix of single and double quote)\n",
    "\n",
    "The semester just begins...relax! Listen, if you skip \"3400\", I will buy you a 'Mocha'. I am heading to the cafe now. Deal?\n",
    "\n",
    "Topic(s) covered: print()"
   ]
  },
  {
   "cell_type": "code",
   "execution_count": 9,
   "metadata": {},
   "outputs": [
    {
     "name": "stdout",
     "output_type": "stream",
     "text": [
      "The semester just begins...relax! Listen, if you skip \"3400\", I will buy you a 'Mocha'. I am heading to the cafe now. Deal?\n"
     ]
    }
   ],
   "source": [
    "print(\"The semester just begins...relax! Listen, if you skip \\\"3400\\\", I will buy you a 'Mocha'. I am heading to the cafe now. Deal?\")"
   ]
  },
  {
   "cell_type": "code",
   "execution_count": 10,
   "metadata": {},
   "outputs": [
    {
     "name": "stdout",
     "output_type": "stream",
     "text": [
      "The semester just begins...relax! Listen, if you skip \"3400\", I will buy you a 'Mocha'. I am heading to the cafe now. Deal?\n"
     ]
    }
   ],
   "source": [
    "print('The semester just begins...relax! Listen, if you skip \"3400\", I will buy you a \\'Mocha\\'. I am heading to the cafe now. Deal?')"
   ]
  },
  {
   "cell_type": "markdown",
   "metadata": {},
   "source": [
    "# Variables"
   ]
  },
  {
   "cell_type": "markdown",
   "metadata": {},
   "source": [
    "# Task 7"
   ]
  },
  {
   "cell_type": "markdown",
   "metadata": {},
   "source": [
    "Declare two variables:\n",
    "\n",
    "(a) A variable **a** with value **10**\n",
    "\n",
    "(b) A variable **b** with value **10.0**\n",
    "\n",
    "Topic(s) covered: Variables"
   ]
  },
  {
   "cell_type": "code",
   "execution_count": 4,
   "metadata": {},
   "outputs": [],
   "source": [
    "a = 10\n",
    "b = 10.0"
   ]
  },
  {
   "cell_type": "markdown",
   "metadata": {},
   "source": [
    "# Task 8"
   ]
  },
  {
   "cell_type": "markdown",
   "metadata": {},
   "source": [
    "After running the code in Task 7 on Google Colab, move the mouse cursor on the variable \"**a**\". What is the type of **a**?\n",
    "\n",
    "Topic(s) covered: Variables"
   ]
  },
  {
   "cell_type": "markdown",
   "metadata": {},
   "source": [
    "a is an integer variable"
   ]
  },
  {
   "cell_type": "markdown",
   "metadata": {},
   "source": [
    "# Task 9"
   ]
  },
  {
   "cell_type": "markdown",
   "metadata": {},
   "source": [
    "Similarly, what is the type of **b**?\n",
    "\n",
    "Topic(s) covered: Variables"
   ]
  },
  {
   "cell_type": "markdown",
   "metadata": {},
   "source": [
    "Floating variable"
   ]
  },
  {
   "cell_type": "markdown",
   "metadata": {},
   "source": [
    "# Task 10"
   ]
  },
  {
   "cell_type": "markdown",
   "metadata": {},
   "source": [
    "Run the code in the following cell. What is the type of **a** now?\n",
    "\n",
    "Topic(s) covered: Variables"
   ]
  },
  {
   "cell_type": "code",
   "execution_count": 5,
   "metadata": {},
   "outputs": [],
   "source": [
    "# Just run it\n",
    "a = 15.0"
   ]
  },
  {
   "cell_type": "markdown",
   "metadata": {},
   "source": [
    "Floating"
   ]
  },
  {
   "cell_type": "markdown",
   "metadata": {
    "colab_type": "text",
    "id": "xds0ht89UGao"
   },
   "source": [
    "# Arithmetic Operators\n",
    "\n",
    "| Symbol | Task Performed |\n",
    "|----|---|\n",
    "| +  | Addition |\n",
    "| -  | Subtraction |\n",
    "| /  | division |\n",
    "| %  | mod |\n",
    "| *  | multiplication |\n",
    "| //  | floor division |\n",
    "| **  | to the power of |"
   ]
  },
  {
   "cell_type": "markdown",
   "metadata": {},
   "source": [
    "# Task 11"
   ]
  },
  {
   "cell_type": "markdown",
   "metadata": {},
   "source": [
    "Given a sphere with radius 7, calculate the volume.You can search the equation online.<p>\n",
    "Treat pi as 3.14<p>\n",
    "Topic(s) covered: variables, data types, operators"
   ]
  },
  {
   "cell_type": "code",
   "execution_count": 13,
   "metadata": {},
   "outputs": [
    {
     "name": "stdout",
     "output_type": "stream",
     "text": [
      "The volume of the sphere is: 1436.0266666666666\n"
     ]
    }
   ],
   "source": [
    "pi = 3.14\n",
    "radius = 7\n",
    "volume = 4/3*pi*radius**3\n",
    "print(\"The volume of the sphere is:\", volume)"
   ]
  },
  {
   "cell_type": "code",
   "execution_count": null,
   "metadata": {},
   "outputs": [],
   "source": []
  }
 ],
 "metadata": {
  "colab": {
   "collapsed_sections": [],
   "name": "lab2a_data_data_types_and_operators_student.ipynb",
   "provenance": [],
   "toc_visible": true
  },
  "kernelspec": {
   "display_name": "Python 3",
   "language": "python",
   "name": "python3"
  },
  "language_info": {
   "codemirror_mode": {
    "name": "ipython",
    "version": 3
   },
   "file_extension": ".py",
   "mimetype": "text/x-python",
   "name": "python",
   "nbconvert_exporter": "python",
   "pygments_lexer": "ipython3",
   "version": "3.8.8"
  }
 },
 "nbformat": 4,
 "nbformat_minor": 1
}
