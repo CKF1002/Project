{
 "cells": [
  {
   "cell_type": "markdown",
   "metadata": {},
   "source": [
    "# Lab 6: if-then-else"
   ]
  },
  {
   "cell_type": "markdown",
   "metadata": {},
   "source": [
    "# Task 1"
   ]
  },
  {
   "cell_type": "markdown",
   "metadata": {},
   "source": [
    "Deisgn an application that satisfies following requirements:\n",
    "\n",
    "1. Ask an user for an integer input, the integer range should be between 0 and 100. Store the value in a variable `score`\n",
    "2. Create a string variable `grade`. Initialize empty string (`\"\"`) as value.\n",
    "3. Assign the `grade` according to the following rules:\n",
    "    - 90+ -> A\n",
    "    - 80+ -> B\n",
    "    - 70+ -> C\n",
    "    - 60+ -> D\n",
    "    - 50+ -> E\n",
    "    - < 50 -> F\n",
    "    \n",
    "    \n",
    "4. Print a message: `The letter grade for score xx is X.`\n"
   ]
  },
  {
   "cell_type": "code",
   "execution_count": null,
   "metadata": {},
   "outputs": [],
   "source": []
  },
  {
   "cell_type": "markdown",
   "metadata": {},
   "source": [
    "# Task 2"
   ]
  },
  {
   "cell_type": "markdown",
   "metadata": {},
   "source": [
    "Write a program to check the validity of email input by an user.\n",
    "\n",
    "- 1 character \"@\"\n",
    "- \"@\" should not be the first character\n",
    "- At least 1 character \".\"\n",
    "- Minimum length 6 characters\n",
    "- Maximum length 20 characters\n",
    "\n",
    "If the user input a invalid email, your program should print a warning message such as : \n",
    "- invalid length\n",
    "- \"@\" is required\n",
    "- at least 1 \".\" is required, etc.\n"
   ]
  },
  {
   "cell_type": "code",
   "execution_count": null,
   "metadata": {},
   "outputs": [],
   "source": []
  },
  {
   "cell_type": "markdown",
   "metadata": {},
   "source": [
    "# Task 3"
   ]
  },
  {
   "cell_type": "markdown",
   "metadata": {},
   "source": [
    "Consider the following list:\n",
    ">randNum = [64, 187, 22, 138, 141, 145, 67, 74, 58, 11, 158, 25, 3, 60, 20, 103, 33, 122, 190, 82, 176, 186, 151, 185, 85, 92, 72, 81, 45, 185, 123, 87, 94, 11, 121, 112, 89, 154, 108, 164, 192, 110, 147, 143, 109, 199, 56, 128, 136, 28, 167]\n",
    "\n",
    "Extract number(s) that is(are) divisible by 3 and 7, store it(them) into a new list **list_3** and print it out. Complete this task\n",
    "\n",
    "(a) using comprehension \n",
    "\n",
    "(b) without using comprehension\n"
   ]
  },
  {
   "cell_type": "code",
   "execution_count": null,
   "metadata": {},
   "outputs": [],
   "source": [
    "randNum = [64, 187, 22, 138, 141, 145, 67, 74, 58, 11, 158, 25, 3, 60, 20, 103, 33, 122, 190, 82, 176, 186, 151, 185, 85, 92, 72, 81, 45, 185, 123, 87, 94, 11, 121, 112, 89, 154, 108, 164, 192, 110, 147, 143, 109, 199, 56, 128, 136, 28, 167]"
   ]
  },
  {
   "cell_type": "code",
   "execution_count": null,
   "metadata": {},
   "outputs": [],
   "source": []
  },
  {
   "cell_type": "code",
   "execution_count": null,
   "metadata": {},
   "outputs": [],
   "source": []
  },
  {
   "cell_type": "markdown",
   "metadata": {},
   "source": [
    "# Task 4"
   ]
  },
  {
   "cell_type": "markdown",
   "metadata": {},
   "source": [
    "Write a programme that satisfies the following requirements:\n",
    "\n",
    "- Ask for a numerical input from user.\n",
    "- If the input is an integer, print a message \"INTEGER!\". Otherwise print out the decimal part of the input.\n"
   ]
  },
  {
   "cell_type": "code",
   "execution_count": null,
   "metadata": {},
   "outputs": [],
   "source": []
  },
  {
   "cell_type": "markdown",
   "metadata": {},
   "source": [
    "# Task 5"
   ]
  },
  {
   "cell_type": "markdown",
   "metadata": {},
   "source": [
    "Suppose we have a list of equal-length numeric lists. For example,\n",
    "\n",
    "```\n",
    "numbers_to_compare = [[2, 5, 3, -9, 7.5, 100], [3, -2.5, 1, 0, 8, 100], [5, 2, -3.2, 10, 1.4, 100]]\n",
    "\n",
    "```\n",
    "\n",
    "The number of the sublists could be arbitrary, not restricted to 3. \n",
    "The number of elements in each sublist could also be arbitrary, not restricted to 6.\n",
    "\n",
    "Please write a small program that can compare numbers in the sublists one by one, and save the comparison result in a new list called `compare_result`, such that:\n",
    "\n",
    "+ Assign the identity of the sublist that has the maximum number at the corresponing positions to `compare_result`; \n",
    "+ When some numbers at the corresponing positions tie, assign 0 to `compare_result`.\n",
    "\n",
    "\n",
    "Sample output:\n",
    "\n",
    "```\n",
    "[3, 1, 1, 3, 2, 0]\n",
    "```\n"
   ]
  },
  {
   "cell_type": "code",
   "execution_count": null,
   "metadata": {},
   "outputs": [],
   "source": []
  }
 ],
 "metadata": {
  "kernelspec": {
   "display_name": "Python 3",
   "language": "python",
   "name": "python3"
  },
  "language_info": {
   "codemirror_mode": {
    "name": "ipython",
    "version": 3
   },
   "file_extension": ".py",
   "mimetype": "text/x-python",
   "name": "python",
   "nbconvert_exporter": "python",
   "pygments_lexer": "ipython3",
   "version": "3.8.8"
  }
 },
 "nbformat": 4,
 "nbformat_minor": 4
}
