{
 "cells": [
  {
   "cell_type": "markdown",
   "metadata": {},
   "source": [
    "# Lab 4: Data and Data Types, Lists, Tuples and Dictionaries"
   ]
  },
  {
   "cell_type": "markdown",
   "metadata": {},
   "source": [
    "# Task 0"
   ]
  },
  {
   "cell_type": "markdown",
   "metadata": {},
   "source": [
    "Declare following variables:\n",
    "\n",
    "(a) Variable **a** with value **10**\n",
    "\n",
    "(b) Variable **b** with value **10.0**\n",
    "\n",
    "(c) Variable **c** with value **HKUST**\n",
    "\n",
    "(d) Variable **d** with boolean value **True**\n",
    "\n",
    "What are the types of the variables? Prove your answer with code."
   ]
  },
  {
   "cell_type": "code",
   "execution_count": 1,
   "metadata": {},
   "outputs": [
    {
     "name": "stdout",
     "output_type": "stream",
     "text": [
      "Type of a is:  <class 'int'>\n",
      "Type of b is:  <class 'float'>\n",
      "Type of c is:  <class 'str'>\n",
      "Type of d is:  <class 'bool'>\n"
     ]
    }
   ],
   "source": [
    "a = 10\n",
    "b = 10.0\n",
    "c = \"HKUST\"\n",
    "d = True\n",
    "\n",
    "print(\"Type of a is: \", type(a))\n",
    "print(\"Type of b is: \", type(b))\n",
    "print(\"Type of c is: \", type(c))\n",
    "print(\"Type of d is: \", type(d))"
   ]
  },
  {
   "cell_type": "markdown",
   "metadata": {},
   "source": [
    "# Task 1"
   ]
  },
  {
   "cell_type": "markdown",
   "metadata": {},
   "source": [
    "(a) Create an empty list with name list_1\n",
    "\n",
    "(b) Create an empty tuples tuple_1\n",
    "\n",
    "(c) Create an empty dictionary dict_1"
   ]
  },
  {
   "cell_type": "code",
   "execution_count": 2,
   "metadata": {},
   "outputs": [
    {
     "name": "stdout",
     "output_type": "stream",
     "text": [
      "Type of list_1a is: <class 'list'>\n",
      "Type of tuples_1a is: <class 'tuple'>\n",
      "Type of dict_1a is: <class 'dict'>\n"
     ]
    }
   ],
   "source": [
    "list_1a = []\n",
    "tuple_1a = ()\n",
    "dict_1a = {}\n",
    "\n",
    "print(\"Type of list_1a is:\", type(list_1a))\n",
    "print(\"Type of tuples_1a is:\", type(tuple_1a))\n",
    "print(\"Type of dict_1a is:\", type(dict_1a))"
   ]
  },
  {
   "cell_type": "code",
   "execution_count": 3,
   "metadata": {},
   "outputs": [
    {
     "name": "stdout",
     "output_type": "stream",
     "text": [
      "Type of list_1b is: <class 'list'>\n",
      "Type of tuples_1b is: <class 'tuple'>\n",
      "Type of dict_1b is: <class 'dict'>\n"
     ]
    }
   ],
   "source": [
    "# Another way\n",
    "list_1b = list()\n",
    "tuple_1b = tuple()\n",
    "dict_1b = dict()\n",
    "\n",
    "print(\"Type of list_1b is:\", type(list_1b))\n",
    "print(\"Type of tuples_1b is:\", type(tuple_1b))\n",
    "print(\"Type of dict_1b is:\", type(dict_1b))"
   ]
  },
  {
   "cell_type": "markdown",
   "metadata": {},
   "source": [
    "# Task 2"
   ]
  },
  {
   "cell_type": "markdown",
   "metadata": {},
   "source": [
    "(a) Create a list named list_2 with following values:\n",
    "- \"string\", 1234, 1234.0, True\n",
    "\n",
    "(b) Create a tuple named tuple_2 with the following values:\n",
    "- \"string\", 1234, 1234.0, True\n",
    "\n",
    "(c) Create a dictionary named dict_2 with the following values:\n",
    "- 'apple': 'green', 'banana': 'yellow', 'cherry': 'red', 'x': 'ten', 520: False, 1314: 'True'"
   ]
  },
  {
   "cell_type": "code",
   "execution_count": 4,
   "metadata": {},
   "outputs": [
    {
     "name": "stdout",
     "output_type": "stream",
     "text": [
      "Type of list_2a is: <class 'list'>\n",
      "Type of tuples_2a is: <class 'tuple'>\n",
      "Type of dict_2a is: <class 'dict'>\n"
     ]
    }
   ],
   "source": [
    "list_2a = [\"string\", 1234, 1234.0, True]\n",
    "tuple_2a = (\"string\", 1234, 1234.0, True)\n",
    "dict_2a = {'apple': 'green', 'banana': 'yellow', 'cherry': 'red', 'x': 'ten', 520: False, 1314: 'True'}\n",
    "\n",
    "print(\"Type of list_2a is:\", type(list_2a))\n",
    "print(\"Type of tuples_2a is:\", type(tuple_2a))\n",
    "print(\"Type of dict_2a is:\", type(dict_2a))"
   ]
  },
  {
   "cell_type": "code",
   "execution_count": 5,
   "metadata": {},
   "outputs": [
    {
     "name": "stdout",
     "output_type": "stream",
     "text": [
      "Type of list_2b is: <class 'list'>\n",
      "Type of tuples_2b is: <class 'tuple'>\n",
      "Type of dict_2b is: <class 'dict'>\n"
     ]
    }
   ],
   "source": [
    "list_2b = list((\"string\", 1234, 1234.0, True))\n",
    "tuple_2b = tuple([\"string\", 1234, 1234.0, True])\n",
    "dict_2b = dict([('apple','green'), ('banana', 'yellow'), ('cherry', 'red'), ('x', 'ten'), (520, False), (1314, 'True')])\n",
    "\n",
    "print(\"Type of list_2b is:\", type(list_2b))\n",
    "print(\"Type of tuples_2b is:\", type(tuple_2b))\n",
    "print(\"Type of dict_2b is:\", type(dict_2b))"
   ]
  },
  {
   "cell_type": "markdown",
   "metadata": {},
   "source": [
    "# Task 3 & 4"
   ]
  },
  {
   "cell_type": "markdown",
   "metadata": {},
   "source": [
    "For the list and tuple you just created in Task 2,\n",
    "\n",
    "(a) Access the second element using positive index\n",
    "\n",
    "(b) Access the last element using negative index\n",
    "\n",
    "(c) Acess all the elements except the last one with a mix of positive and negative indexes"
   ]
  },
  {
   "cell_type": "code",
   "execution_count": 6,
   "metadata": {},
   "outputs": [
    {
     "name": "stdout",
     "output_type": "stream",
     "text": [
      "1234\n",
      "True\n",
      "['string', 1234, 1234.0]\n"
     ]
    }
   ],
   "source": [
    "# List\n",
    "print(list_2a[1])\n",
    "\n",
    "print(list_2a[-1])\n",
    "\n",
    "print(list_2a[0:-1])"
   ]
  },
  {
   "cell_type": "code",
   "execution_count": 7,
   "metadata": {},
   "outputs": [
    {
     "name": "stdout",
     "output_type": "stream",
     "text": [
      "1234\n",
      "True\n",
      "('string', 1234, 1234.0)\n"
     ]
    }
   ],
   "source": [
    "# Tuple\n",
    "print(tuple_2a[1])\n",
    "\n",
    "print(tuple_2a[-1])\n",
    "\n",
    "print(tuple_2a[0:-1])"
   ]
  },
  {
   "cell_type": "markdown",
   "metadata": {},
   "source": [
    "# Task 5"
   ]
  },
  {
   "cell_type": "markdown",
   "metadata": {},
   "source": [
    "Consider the following list:\n",
    "- list_prime = [2, 3, 5, 7, 11, 13, 17]\n",
    "\n",
    "Use a for-loop to print out the forth power of each element."
   ]
  },
  {
   "cell_type": "code",
   "execution_count": 8,
   "metadata": {},
   "outputs": [
    {
     "name": "stdout",
     "output_type": "stream",
     "text": [
      "16\n",
      "81\n",
      "625\n",
      "2401\n",
      "14641\n",
      "28561\n",
      "83521\n"
     ]
    }
   ],
   "source": [
    "list_prime = [2, 3, 5, 7, 11, 13, 17]\n",
    "\n",
    "for i in list_prime:\n",
    "    print(i**4)"
   ]
  },
  {
   "cell_type": "markdown",
   "metadata": {},
   "source": [
    "# Task 6"
   ]
  },
  {
   "cell_type": "markdown",
   "metadata": {},
   "source": [
    "Consider the following dictionaries:\n",
    "\n",
    "- dict_ustStu = {'intelligent': 'ofcourse', 'hard-working': 'nodoubt', 'smart': 'agree', 'brilliant': 'yup'}\n",
    "\n",
    "Can you print out the following output using a for-loop?"
   ]
  },
  {
   "cell_type": "code",
   "execution_count": 9,
   "metadata": {},
   "outputs": [
    {
     "name": "stdout",
     "output_type": "stream",
     "text": [
      "Are UST students intelligent?\n",
      "ofcourse!\n",
      "Are UST students hard-working?\n",
      "nodoubt!\n",
      "Are UST students smart?\n",
      "agree!\n",
      "Are UST students brilliant?\n",
      "yup!\n"
     ]
    }
   ],
   "source": [
    "dict_ustStu = {'intelligent': 'ofcourse', 'hard-working': 'nodoubt', 'smart': 'agree', 'brilliant': 'yup'}\n",
    "\n",
    "for i in dict_ustStu:\n",
    "    print(\"Are UST students \" + i + \"?\")\n",
    "    print(dict_ustStu[i] + \"!\")"
   ]
  },
  {
   "cell_type": "markdown",
   "metadata": {},
   "source": [
    "# Task 7\n",
    "\n",
    "Assume that you are a product manager, and you just received the summarized sales report of 2019 from the marketing department. The report shows the total revenue of this product by month as following. You try to answer the following questions based on the report. Please write codes that would answer these questions. \n",
    "\n",
    "Sales report by month (in unit of 1K): `[2.5, 7.2, 3.3, 5.0, 14.8, 23.3, 34.2, 12.9, 9.7, 10.1, 5.5, 12.9]`\n",
    "\n",
    "1. What is the total sales in 2019?\n",
    "2. What is the highest monthly sales in the 12 months? And what is the lowest monthly sales?\n",
    "3. What is the average sales per month? \n",
    "\n"
   ]
  },
  {
   "cell_type": "code",
   "execution_count": 10,
   "metadata": {},
   "outputs": [
    {
     "data": {
      "text/plain": [
       "11.783333333333333"
      ]
     },
     "execution_count": 10,
     "metadata": {},
     "output_type": "execute_result"
    }
   ],
   "source": [
    "sales = [2.5, 7.2, 3.3, 5.0, 14.8, 23.3, 34.2, 12.9, 9.7, 10.1, 5.5, 12.9]\n",
    "sum(sales)\n",
    "max(sales)\n",
    "min(sales)\n",
    "sum(sales)/len(sales)"
   ]
  },
  {
   "cell_type": "markdown",
   "metadata": {},
   "source": [
    "# Task 8\n",
    "\n",
    "Given the following list:\n",
    "\n",
    "```\n",
    "months = ['Jan', 'Feb', 'Mar', 'Apr', 'May', 'Jun', 'Jul', 'Aug', 'Sep', 'Oct', 'Nov', 'Dec']\n",
    "```\n",
    "\n",
    "1. Try to slice `months` to create a list of the summer months, i.e., `['Jul', 'Aug', 'Sept']`, and assign it a new name `summer`.\n",
    "2. Slice `months` again to create a list of the winter months, i.e., `['Nov', 'Dec', 'Jan', 'Feb']` , and assign the result a name `winter`. \n"
   ]
  },
  {
   "cell_type": "code",
   "execution_count": 11,
   "metadata": {},
   "outputs": [],
   "source": [
    "months = ['Jan', 'Feb', 'Mar', 'Apr', 'May', 'Jun', 'Jul', 'Aug', 'Sep', 'Oct', 'Nov', 'Dec']\n",
    "summer = months[6:9]\n",
    "winter = months[-2:]+months[:2]"
   ]
  }
 ],
 "metadata": {
  "kernelspec": {
   "display_name": "Python 3",
   "language": "python",
   "name": "python3"
  },
  "language_info": {
   "codemirror_mode": {
    "name": "ipython",
    "version": 3
   },
   "file_extension": ".py",
   "mimetype": "text/x-python",
   "name": "python",
   "nbconvert_exporter": "python",
   "pygments_lexer": "ipython3",
   "version": "3.8.8"
  }
 },
 "nbformat": 4,
 "nbformat_minor": 4
}
