{
  "nbformat": 4,
  "nbformat_minor": 0,
  "metadata": {
    "kernelspec": {
      "display_name": "Python 3",
      "language": "python",
      "name": "python3"
    },
    "language_info": {
      "codemirror_mode": {
        "name": "ipython",
        "version": 3
      },
      "file_extension": ".py",
      "mimetype": "text/x-python",
      "name": "python",
      "nbconvert_exporter": "python",
      "pygments_lexer": "ipython3",
      "version": "3.8.8"
    },
    "colab": {
      "name": "lab06_if_student_ans.ipynb",
      "provenance": []
    }
  },
  "cells": [
    {
      "cell_type": "markdown",
      "metadata": {
        "id": "qhTwqjtuA0M1"
      },
      "source": [
        "# Lab 6: if-then-else"
      ]
    },
    {
      "cell_type": "markdown",
      "metadata": {
        "id": "zHu3C9rGA0M3"
      },
      "source": [
        "# Task 1"
      ]
    },
    {
      "cell_type": "markdown",
      "metadata": {
        "id": "WMdfVismA0M4"
      },
      "source": [
        "Deisgn an application that satisfies following requirements:\n",
        "\n",
        "1. Ask an user for an integer input, the integer range should be between 0 and 100. Store the value in a variable `score`\n",
        "2. Create a string variable `grade`. Initialize empty string (`\"\"`) as value.\n",
        "3. Assign the `grade` according to the following rules:\n",
        "    - 90+ -> A\n",
        "    - 80+ -> B\n",
        "    - 70+ -> C\n",
        "    - 60+ -> D\n",
        "    - 50+ -> E\n",
        "    - < 50 -> F\n",
        "    \n",
        "    \n",
        "4. Print a message: `The letter grade for score xx is X.`\n"
      ]
    },
    {
      "cell_type": "code",
      "metadata": {
        "id": "0eSrKLLSA0M5",
        "colab": {
          "base_uri": "https://localhost:8080/"
        },
        "outputId": "5b26a89c-16c8-459e-a83f-00c2667c3a16"
      },
      "source": [
        "score = int(float(input(\"Please input a number between 0 and 100: \")))\n",
        "grade = \"\"\n",
        "\n",
        "if score >= 90:\n",
        "    grade = \"A\"\n",
        "elif score >= 80:\n",
        "    grade = \"B\"\n",
        "elif score >= 70:\n",
        "    grade = \"C\"\n",
        "elif score >= 60:\n",
        "    grade = \"D\"\n",
        "elif score >= 50:\n",
        "    grade = \"E\"\n",
        "else:\n",
        "    grade = \"F\"\n",
        "\n",
        "print('The letter grade for score' , score , 'is' , grade)"
      ],
      "execution_count": null,
      "outputs": [
        {
          "output_type": "stream",
          "name": "stdout",
          "text": [
            "Please input a number between 0 and 100: 45.56\n",
            "The letter grade for score 45 is F\n"
          ]
        }
      ]
    },
    {
      "cell_type": "markdown",
      "metadata": {
        "id": "Y1GgjT9UA0M6"
      },
      "source": [
        "# Task 2"
      ]
    },
    {
      "cell_type": "markdown",
      "metadata": {
        "id": "pUISHIE7A0M6"
      },
      "source": [
        "Write a program to check the validity of email input by an user.\n",
        "\n",
        "- 1 character \"@\"\n",
        "- \"@\" should not be the first character\n",
        "- At least 1 character \".\"\n",
        "- Minimum length 6 characters\n",
        "- Maximum length 20 characters\n",
        "\n",
        "If the user input a invalid email, your program should print a warning message such as : \n",
        "- invalid length\n",
        "- \"@\" is required\n",
        "- at least 1 \".\" is required, etc.\n"
      ]
    },
    {
      "cell_type": "code",
      "metadata": {
        "colab": {
          "base_uri": "https://localhost:8080/"
        },
        "id": "cfMoDVYOA0M7",
        "outputId": "0dde306b-c312-4b4d-b820-8086432e4328"
      },
      "source": [
        "# Version 1, can you spot out an issue in this program?\n",
        "email = input(\"email:\")\n",
        "message = \"Error message: \"\n",
        "\n",
        "if (len(email) < 6 or len(email) > 20):\n",
        "    message += \"Invalid length\"\n",
        "#   message = message + \"Invalid length\"    \n",
        "elif \"@\" not in email[1:]:\n",
        "    message += \"\\\"@\\\" is required\"\n",
        "elif \"@\" == email[0]:\n",
        "    message += \"\\\"@\\\" should not be the first character\"\n",
        "elif \".\" not in email[1:]:\n",
        "    message += \"\\\".\\\" is required\"\n",
        "    \n",
        "if len(message) > 0:\n",
        "    print(message)\n",
        "\n",
        "#only one mistake could be found, because only one clause in an if-elif statement would be executed.    \n",
        "\n"
      ],
      "execution_count": null,
      "outputs": [
        {
          "output_type": "stream",
          "name": "stdout",
          "text": [
            "email:ray\n",
            "Error message: Invalid length\n"
          ]
        }
      ]
    },
    {
      "cell_type": "code",
      "metadata": {
        "id": "e7Gnu4D6A0M7",
        "colab": {
          "base_uri": "https://localhost:8080/"
        },
        "outputId": "54cf3dc5-c3bf-40da-d444-8a6e0ec70f91"
      },
      "source": [
        "# Version 2\n",
        "email = input (\"email:\")\n",
        "message = \"Error: \"\n",
        "\n",
        "if (len(email) < 6 or len(email) > 20):\n",
        "    message += \"Invalid length\\n\"              # += to link up the message and the default value\n",
        "\n",
        "if \"@\" not in email[1:]:\n",
        "    message += \"\\\"@\\\" is required\\n\"\n",
        "\n",
        "if \"@\" == email[0]:\n",
        "    message += \"\\\"@\\\" should not be the first character\\n\"\n",
        "\n",
        "if  \".\" not in email[1:]:\n",
        "    message += \"\\\".\\\" is required\\n\"\n",
        "    \n",
        "if len(message) > 0:\n",
        "    print(message)\n",
        "\n",
        "#multiple mistakes could be found by this approach"
      ],
      "execution_count": null,
      "outputs": [
        {
          "output_type": "stream",
          "name": "stdout",
          "text": [
            "email:ust\n",
            "Invalid length\n",
            "\"@\" is required\n",
            "\".\" is required\n",
            "\n"
          ]
        }
      ]
    },
    {
      "cell_type": "code",
      "metadata": {
        "colab": {
          "base_uri": "https://localhost:8080/"
        },
        "id": "NYWWvPkaZplp",
        "outputId": "4fece69b-3766-492c-f9fb-d5aeb5995410"
      },
      "source": [
        "# +=\n",
        "count = 0\n",
        "#the effect of += is samem as the expression: count = count + 1\n",
        "count += 1\n",
        "count"
      ],
      "execution_count": null,
      "outputs": [
        {
          "output_type": "execute_result",
          "data": {
            "text/plain": [
              "1"
            ]
          },
          "metadata": {},
          "execution_count": 11
        }
      ]
    },
    {
      "cell_type": "markdown",
      "metadata": {
        "id": "ZfwCzAJNA0M8"
      },
      "source": [
        "# Task 3"
      ]
    },
    {
      "cell_type": "markdown",
      "metadata": {
        "id": "X3f4IHYWA0M8"
      },
      "source": [
        "Consider the following list:\n",
        ">randNum = [64, 187, 22, 138, 141, 145, 67, 74, 58, 11, 158, 25, 3, 60, 20, 103, 33, 122, 190, 82, 176, 186, 151, 185, 85, 92, 72, 81, 45, 185, 123, 87, 94, 11, 121, 112, 89, 154, 108, 164, 192, 110, 147, 143, 109, 199, 56, 128, 136, 28, 167]\n",
        "\n",
        "Extract number(s) that is(are) divisible by 3 and 7, store it(them) into a new list **list_3** and print it out. Complete this task\n",
        "\n",
        "(a) using comprehension \n",
        "\n",
        "(b) without using comprehension\n"
      ]
    },
    {
      "cell_type": "code",
      "metadata": {
        "id": "34tnv83DA0M9"
      },
      "source": [
        "randNum = [64, 187, 22, 138, 141, 145, 67, 74, 58, 11, 158, 25, 3, 60, 20, 103, 33, 122, 190, 82, 176, 186, 151, 185, 85, 92, 72, 81, 45, 185, 123, 87, 94, 11, 121, 112, 89, 154, 108, 164, 192, 110, 147, 143, 109, 199, 56, 128, 136, 28, 167]"
      ],
      "execution_count": null,
      "outputs": []
    },
    {
      "cell_type": "code",
      "metadata": {
        "colab": {
          "base_uri": "https://localhost:8080/"
        },
        "id": "E6ynPg84tz_r",
        "outputId": "28217df1-f1ae-408f-dfea-8df83ac0f831"
      },
      "source": [
        "list_3 = [i for i in randNum if i % 3 == 0 if i% 7 == 0]\n",
        "list_3"
      ],
      "execution_count": null,
      "outputs": [
        {
          "output_type": "execute_result",
          "data": {
            "text/plain": [
              "[147]"
            ]
          },
          "metadata": {},
          "execution_count": 27
        }
      ]
    },
    {
      "cell_type": "code",
      "metadata": {
        "id": "JnUA-2ROA0M-"
      },
      "source": [
        "list_3b1 = []\n",
        "\n",
        "for i in randNum:\n",
        "    if i % 3 == 0:\n",
        "        if i % 7 == 0:\n",
        "            list_3b1.append(i)\n",
        "\n",
        "print(list_3b1)"
      ],
      "execution_count": null,
      "outputs": []
    },
    {
      "cell_type": "code",
      "metadata": {
        "id": "gHAittbTA0M-"
      },
      "source": [
        "# Make use of \"and\" operator\n",
        "list_3b2 = []\n",
        "\n",
        "for i in randNum:\n",
        "    if i % 3 == 0 and i % 7 == 0:\n",
        "        list_3b2.append(i)\n",
        "\n",
        "print(list_3b2)"
      ],
      "execution_count": null,
      "outputs": []
    },
    {
      "cell_type": "markdown",
      "metadata": {
        "id": "gdctkPLxA0M-"
      },
      "source": [
        "# Task 4"
      ]
    },
    {
      "cell_type": "markdown",
      "metadata": {
        "id": "v-OZOzwLA0M-"
      },
      "source": [
        "Write a programme that satisfies the following requirements:\n",
        "\n",
        "- Ask for a numerical input from user.\n",
        "- If the input is an integer, print a message \"INTEGER!\". Otherwise print out the decimal part of the input.\n"
      ]
    },
    {
      "cell_type": "code",
      "metadata": {
        "colab": {
          "base_uri": "https://localhost:8080/"
        },
        "id": "KkcJ8v0AA0M_",
        "outputId": "6196cc5d-1672-4c75-dade-8a32145ee240"
      },
      "source": [
        "value = float(input(\"Enter a numerical value: \"))\n",
        "\n",
        "if value - int(value) == 0:\n",
        "    print(\"INTEGER!\")\n",
        "else:\n",
        "    print(value - int(value))\n",
        "\n"
      ],
      "execution_count": null,
      "outputs": [
        {
          "output_type": "stream",
          "name": "stdout",
          "text": [
            "Enter a numerical value: 10.1\n",
            "0.09999999999999964\n"
          ]
        }
      ]
    },
    {
      "cell_type": "markdown",
      "metadata": {
        "id": "Ssdu37vEA0M_"
      },
      "source": [
        "# Task 5"
      ]
    },
    {
      "cell_type": "markdown",
      "metadata": {
        "id": "NWrppQH6A0M_"
      },
      "source": [
        "Suppose we have a list of equal-length numeric lists. For example,\n",
        "\n",
        "```\n",
        "numbers_to_compare = [[2, 5, 3, -9, 7.5, 100], [3, -2.5, 1, 0, 8, 100], [5, 2, -3.2, 10, 1.4, 100]]\n",
        "\n",
        "```\n",
        "\n",
        "The number of the sublists could be arbitrary, not restricted to 3. \n",
        "The number of elements in each sublist could also be arbitrary, not restricted to 6.\n",
        "\n",
        "Please write a small program that can compare numbers in the sublists one by one, and save the comparison result in a new list called `compare_result`, such that:\n",
        "\n",
        "+ Assign the identity of the sublist that has the maximum number at the corresponing positions to `compare_result`; \n",
        "+ When some numbers at the corresponing positions tie, assign 0 to `compare_result`.\n",
        "\n",
        "\n",
        "Sample output:\n",
        "\n",
        "```\n",
        "[3, 1, 1, 3, 2, 0]\n",
        "```\n"
      ]
    },
    {
      "cell_type": "code",
      "metadata": {
        "id": "oYiKcUiKA0M_",
        "colab": {
          "base_uri": "https://localhost:8080/"
        },
        "outputId": "58c8f2e6-9fa8-4749-ad1e-37ff2b1b7ce9"
      },
      "source": [
        "numbers_to_compare = [[2, 5, 3, -9, 7.5, 100], [3, -2.5, 1, 0, 8, 100], [5, 2, -3.2, 10, 1.4, 100]]\n",
        "\n",
        "for i in range(len(numbers_to_compare)):\n",
        "    if i == 0:\n",
        "        current_maximum = numbers_to_compare[i][:]             # initialization, this line of code copy the content of sublist 1 to current_maximum\n",
        "        sublist_length = len(numbers_to_compare[i])\n",
        "        compare_result = [i+1]* len(numbers_to_compare[i] )    # compare_result = [1,1,1,1,1,1] ([1]*6 --> [1,1,1,1,1,1])\n",
        "    else:\n",
        "        for j in range(sublist_length):\n",
        "            if numbers_to_compare[i][j] > current_maximum[j]:\n",
        "                compare_result[j] = i + 1                      #compare_result = [2,1,1,1,1,1]\n",
        "                current_maximum[j] = numbers_to_compare[i][j]\n",
        "            elif numbers_to_compare[i][j] == current_maximum[j]:\n",
        "                compare_result[j] = 0\n",
        "\n",
        "                \n",
        "print(compare_result)\n",
        "print(current_maximum)"
      ],
      "execution_count": null,
      "outputs": [
        {
          "output_type": "stream",
          "name": "stdout",
          "text": [
            "[3, 1, 1, 3, 2, 0]\n",
            "[5, 5, 3, 10, 8, 100]\n"
          ]
        }
      ]
    }
  ]
}