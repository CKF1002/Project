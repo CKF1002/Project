{
 "cells": [
  {
   "cell_type": "markdown",
   "id": "bc97ccfe",
   "metadata": {},
   "source": [
    "**A = above**\n",
    "\n",
    "**B = below**\n",
    "\n",
    "**M = Markdown cell**\n",
    "\n",
    "**DD = delete cell**"
   ]
  },
  {
   "cell_type": "code",
   "execution_count": 1,
   "id": "7dca5331",
   "metadata": {},
   "outputs": [
    {
     "data": {
      "text/plain": [
       "3.2"
      ]
     },
     "execution_count": 1,
     "metadata": {},
     "output_type": "execute_result"
    }
   ],
   "source": [
    "1.2+2"
   ]
  },
  {
   "cell_type": "code",
   "execution_count": 2,
   "id": "e474c9dd",
   "metadata": {},
   "outputs": [
    {
     "data": {
      "text/plain": [
       "1.0"
      ]
     },
     "execution_count": 2,
     "metadata": {},
     "output_type": "execute_result"
    }
   ],
   "source": [
    "#arithmetic operators\n",
    "\n",
    "5*2\n",
    "5**4\n",
    "5/5 # must be float"
   ]
  },
  {
   "cell_type": "code",
   "execution_count": 2,
   "id": "fb743038",
   "metadata": {},
   "outputs": [
    {
     "data": {
      "text/plain": [
       "5.0"
      ]
     },
     "execution_count": 2,
     "metadata": {},
     "output_type": "execute_result"
    }
   ],
   "source": [
    "15/3"
   ]
  },
  {
   "cell_type": "code",
   "execution_count": 3,
   "id": "ad3f9fc0",
   "metadata": {},
   "outputs": [
    {
     "data": {
      "text/plain": [
       "5"
      ]
     },
     "execution_count": 3,
     "metadata": {},
     "output_type": "execute_result"
    }
   ],
   "source": [
    "17//3 #quotient"
   ]
  },
  {
   "cell_type": "code",
   "execution_count": 4,
   "id": "d293322c",
   "metadata": {},
   "outputs": [
    {
     "data": {
      "text/plain": [
       "2"
      ]
     },
     "execution_count": 4,
     "metadata": {},
     "output_type": "execute_result"
    }
   ],
   "source": [
    "17%3 #remainder"
   ]
  },
  {
   "cell_type": "code",
   "execution_count": 5,
   "id": "a5134816",
   "metadata": {},
   "outputs": [
    {
     "data": {
      "text/plain": [
       "False"
      ]
     },
     "execution_count": 5,
     "metadata": {},
     "output_type": "execute_result"
    }
   ],
   "source": [
    "#comparison operators\n",
    "3>=5"
   ]
  },
  {
   "cell_type": "markdown",
   "id": "5c115391",
   "metadata": {},
   "source": [
    "The table summarizes comparision operators:\n",
    "\n",
    "| Operator | Meaning |\n",
    "|----|---|\n",
    "| == | **Equal to** - `True` if both operands are equal |\n",
    "| !=  | **Not equal** to - `True` if operands are not equal |\n",
    "| < | **Less than** - `True` if left operand is less than the right |\n",
    "| > | **Greater than** - `True` if left operand is greater than the right |\n",
    "| <=  | **Less than or equal to** - `True` if left operand is less than or equal to the right |\n",
    "| >=  | **Greater than or equal to** - `True` if left operand is greater than or equal to the right |\n",
    "\n"
   ]
  },
  {
   "cell_type": "code",
   "execution_count": 6,
   "id": "ac9249f0",
   "metadata": {},
   "outputs": [
    {
     "data": {
      "text/plain": [
       "True"
      ]
     },
     "execution_count": 6,
     "metadata": {},
     "output_type": "execute_result"
    }
   ],
   "source": [
    "# chained in the mathematically obvious way\n",
    "# it can only be written as 2 < 5 and 5 <= 5.0 in other languages\n",
    "2 < 5 <= 5.0  "
   ]
  },
  {
   "cell_type": "code",
   "execution_count": 8,
   "id": "e1bf02d8",
   "metadata": {},
   "outputs": [
    {
     "data": {
      "text/plain": [
       "False"
      ]
     },
     "execution_count": 8,
     "metadata": {},
     "output_type": "execute_result"
    }
   ],
   "source": [
    "5<2<=6"
   ]
  },
  {
   "cell_type": "code",
   "execution_count": 9,
   "id": "42650770",
   "metadata": {},
   "outputs": [
    {
     "data": {
      "text/plain": [
       "False"
      ]
     },
     "execution_count": 9,
     "metadata": {},
     "output_type": "execute_result"
    }
   ],
   "source": [
    "not True"
   ]
  },
  {
   "cell_type": "code",
   "execution_count": 10,
   "id": "641c80bb",
   "metadata": {},
   "outputs": [
    {
     "data": {
      "text/plain": [
       "False"
      ]
     },
     "execution_count": 10,
     "metadata": {},
     "output_type": "execute_result"
    }
   ],
   "source": [
    "False or False"
   ]
  },
  {
   "cell_type": "code",
   "execution_count": 11,
   "id": "35ba5a38",
   "metadata": {},
   "outputs": [
    {
     "data": {
      "text/plain": [
       "False"
      ]
     },
     "execution_count": 11,
     "metadata": {},
     "output_type": "execute_result"
    }
   ],
   "source": [
    "True and False #you cannot be true and false at the same time "
   ]
  },
  {
   "cell_type": "code",
   "execution_count": 12,
   "id": "c4eae603",
   "metadata": {},
   "outputs": [
    {
     "data": {
      "text/plain": [
       "False"
      ]
     },
     "execution_count": 12,
     "metadata": {},
     "output_type": "execute_result"
    }
   ],
   "source": [
    "False and False"
   ]
  },
  {
   "cell_type": "code",
   "execution_count": 14,
   "id": "5743acaa",
   "metadata": {},
   "outputs": [
    {
     "data": {
      "text/plain": [
       "True"
      ]
     },
     "execution_count": 14,
     "metadata": {},
     "output_type": "execute_result"
    }
   ],
   "source": [
    "True or False #either true or false, you are correct "
   ]
  },
  {
   "cell_type": "code",
   "execution_count": 15,
   "id": "0da124d2",
   "metadata": {},
   "outputs": [
    {
     "data": {
      "text/plain": [
       "True"
      ]
     },
     "execution_count": 15,
     "metadata": {},
     "output_type": "execute_result"
    }
   ],
   "source": [
    "2<5 and not False"
   ]
  },
  {
   "cell_type": "code",
   "execution_count": 4,
   "id": "0fc31f4c",
   "metadata": {},
   "outputs": [
    {
     "data": {
      "text/plain": [
       "True"
      ]
     },
     "execution_count": 4,
     "metadata": {},
     "output_type": "execute_result"
    }
   ],
   "source": [
    "2 != 5 and 5 < 4.0 or 5 < 1024 "
   ]
  },
  {
   "cell_type": "code",
   "execution_count": 3,
   "id": "eb4324b2",
   "metadata": {},
   "outputs": [
    {
     "data": {
      "text/plain": [
       "False"
      ]
     },
     "execution_count": 3,
     "metadata": {},
     "output_type": "execute_result"
    }
   ],
   "source": [
    "5<5.0"
   ]
  },
  {
   "cell_type": "markdown",
   "id": "87f39f7b",
   "metadata": {},
   "source": [
    "Logical operators in Python are summarized as follows. The order indicates the relative levels of precedence (ordered by descending priority):\n",
    "\n",
    "\n",
    "|Operator|Meaning|\n",
    "|:-- |:-- |\n",
    "|not|True if operand is false (complements the operand)|\n",
    "|and|True if both the operands are true|\n",
    "|or|True if either of the operands is true|\n"
   ]
  },
  {
   "cell_type": "code",
   "execution_count": 5,
   "id": "7328ae7e",
   "metadata": {},
   "outputs": [
    {
     "name": "stdout",
     "output_type": "stream",
     "text": [
      "3800000000000000.0\n"
     ]
    }
   ],
   "source": [
    "print(3.8e15)"
   ]
  },
  {
   "cell_type": "code",
   "execution_count": 21,
   "id": "11e3093e",
   "metadata": {},
   "outputs": [
    {
     "data": {
      "text/plain": [
       "int"
      ]
     },
     "execution_count": 21,
     "metadata": {},
     "output_type": "execute_result"
    }
   ],
   "source": [
    "type(-3)"
   ]
  },
  {
   "cell_type": "markdown",
   "id": "23bd2a12",
   "metadata": {},
   "source": [
    "\n",
    "<img src=\"https://drive.google.com/uc?id=19zYct-z0nt46oiV3bF-bavFnc-8Pj_yy\" />\n",
    "\n",
    "\n"
   ]
  },
  {
   "cell_type": "code",
   "execution_count": 22,
   "id": "da72010e",
   "metadata": {},
   "outputs": [
    {
     "data": {
      "text/plain": [
       "3.0"
      ]
     },
     "execution_count": 22,
     "metadata": {},
     "output_type": "execute_result"
    }
   ],
   "source": [
    "# %= +=\n",
    "x=15\n",
    "x/=5; x"
   ]
  },
  {
   "cell_type": "code",
   "execution_count": 23,
   "id": "6f494d8d",
   "metadata": {},
   "outputs": [
    {
     "data": {
      "text/plain": [
       "1802276420528"
      ]
     },
     "execution_count": 23,
     "metadata": {},
     "output_type": "execute_result"
    }
   ],
   "source": [
    "id(x)"
   ]
  },
  {
   "cell_type": "code",
   "execution_count": null,
   "id": "e75cf67e",
   "metadata": {},
   "outputs": [],
   "source": [
    "#naming variables\n",
    "\n",
    "#cannot start with number"
   ]
  },
  {
   "cell_type": "code",
   "execution_count": 24,
   "id": "d9cd627b",
   "metadata": {},
   "outputs": [
    {
     "name": "stdout",
     "output_type": "stream",
     "text": [
      "['False', 'None', 'True', 'and', 'as', 'assert', 'async', 'await', 'break', 'class', 'continue', 'def', 'del', 'elif', 'else', 'except', 'finally', 'for', 'from', 'global', 'if', 'import', 'in', 'is', 'lambda', 'nonlocal', 'not', 'or', 'pass', 'raise', 'return', 'try', 'while', 'with', 'yield']\n"
     ]
    }
   ],
   "source": [
    "import keyword\n",
    "print(keyword.kwlist)"
   ]
  },
  {
   "cell_type": "code",
   "execution_count": 26,
   "id": "dc9182f5",
   "metadata": {},
   "outputs": [
    {
     "data": {
      "text/plain": [
       "0.5"
      ]
     },
     "execution_count": 26,
     "metadata": {},
     "output_type": "execute_result"
    }
   ],
   "source": [
    "#func. f(x)\n",
    "abs(-0.5)"
   ]
  },
  {
   "cell_type": "code",
   "execution_count": 27,
   "id": "7b0e5b84",
   "metadata": {},
   "outputs": [
    {
     "data": {
      "text/plain": [
       "0.235"
      ]
     },
     "execution_count": 27,
     "metadata": {},
     "output_type": "execute_result"
    }
   ],
   "source": [
    "round(0.234798,3)"
   ]
  },
  {
   "cell_type": "code",
   "execution_count": 28,
   "id": "0b44852e",
   "metadata": {},
   "outputs": [
    {
     "data": {
      "text/plain": [
       "9"
      ]
     },
     "execution_count": 28,
     "metadata": {},
     "output_type": "execute_result"
    }
   ],
   "source": [
    "max(1, 3, 5, 7, 9)"
   ]
  },
  {
   "cell_type": "code",
   "execution_count": 29,
   "id": "11fcb115",
   "metadata": {},
   "outputs": [
    {
     "data": {
      "text/plain": [
       "8"
      ]
     },
     "execution_count": 29,
     "metadata": {},
     "output_type": "execute_result"
    }
   ],
   "source": [
    "pow(2, 3)"
   ]
  },
  {
   "cell_type": "code",
   "execution_count": 30,
   "id": "672c2a05",
   "metadata": {},
   "outputs": [
    {
     "data": {
      "text/plain": [
       "(4, 1)"
      ]
     },
     "execution_count": 30,
     "metadata": {},
     "output_type": "execute_result"
    }
   ],
   "source": [
    "divmod(9,2) #(quotient, remainder)"
   ]
  },
  {
   "cell_type": "code",
   "execution_count": 31,
   "id": "108f1db2",
   "metadata": {},
   "outputs": [
    {
     "name": "stdout",
     "output_type": "stream",
     "text": [
      "Help on built-in function max in module builtins:\n",
      "\n",
      "max(...)\n",
      "    max(iterable, *[, default=obj, key=func]) -> value\n",
      "    max(arg1, arg2, *args, *[, key=func]) -> value\n",
      "    \n",
      "    With a single iterable argument, return its biggest item. The\n",
      "    default keyword-only argument specifies an object to return if\n",
      "    the provided iterable is empty.\n",
      "    With two or more arguments, return the largest argument.\n",
      "\n"
     ]
    }
   ],
   "source": [
    "help(max) "
   ]
  },
  {
   "cell_type": "markdown",
   "id": "da11590e",
   "metadata": {},
   "source": [
    "## Escape Sequences\n",
    "\n",
    "An  <font color='royalblue'><b>*escape sequence*</b></font> (of characters) can be used to denote a special character which cannot be typed easily on a keyboard or one which has been reserved for other purposes.\n",
    "\n",
    "Some common escape sequences include:\n",
    "\n",
    "|Sequence|Meaning|\n",
    "|:-- |:-- |\n",
    "|`\\\\`|literal backslash|\n",
    "|`\\'`|single quote|\n",
    "|`\\\"`|double quote|\n",
    "|`\\t`|tab|\n",
    "|`\\n`|newline|"
   ]
  },
  {
   "cell_type": "code",
   "execution_count": 32,
   "id": "e08564e8",
   "metadata": {},
   "outputs": [
    {
     "name": "stdout",
     "output_type": "stream",
     "text": [
      "I don't think \"a\" is equal to \"A\" in 'Python'\n"
     ]
    }
   ],
   "source": [
    "print(\"I don\\'t think \\\"a\\\" is equal to \\\"A\\\" in \\'Python\\'\")"
   ]
  },
  {
   "cell_type": "code",
   "execution_count": 33,
   "id": "218d5997",
   "metadata": {},
   "outputs": [
    {
     "data": {
      "text/plain": [
       "'I don\\'t think \"a\" is equal to \"A\" in \\'Python\\''"
      ]
     },
     "execution_count": 33,
     "metadata": {},
     "output_type": "execute_result"
    }
   ],
   "source": [
    "\"I don\\'t think \\\"a\\\" is equal to \\\"A\\\" in \\'Python\\'\""
   ]
  },
  {
   "cell_type": "code",
   "execution_count": 7,
   "id": "1fc06d08",
   "metadata": {},
   "outputs": [
    {
     "name": "stdout",
     "output_type": "stream",
     "text": [
      "What is your name? a\n",
      "What is your name? a\n",
      "What is your name? a\n"
     ]
    }
   ],
   "source": [
    "name = input(\"What is your name? \")\n",
    "name2 = input(\"What is your name? \")\n",
    "name3 =input(\"What is your name? \")\n",
    "#input default str"
   ]
  },
  {
   "cell_type": "code",
   "execution_count": 39,
   "id": "484bef77",
   "metadata": {},
   "outputs": [
    {
     "name": "stdout",
     "output_type": "stream",
     "text": [
      "ada is ben at cat years old.\n"
     ]
    }
   ],
   "source": [
    "print(name, 'is', name2, 'at', name3, 'years old.')"
   ]
  },
  {
   "cell_type": "code",
   "execution_count": 8,
   "id": "1ee43daa",
   "metadata": {
    "scrolled": true
   },
   "outputs": [
    {
     "name": "stdout",
     "output_type": "stream",
     "text": [
      "a-is-a\t"
     ]
    }
   ],
   "source": [
    "print(name, 'is', name2, sep='-', end='\\t')\n"
   ]
  },
  {
   "cell_type": "code",
   "execution_count": 41,
   "id": "83f36391",
   "metadata": {},
   "outputs": [
    {
     "data": {
      "text/plain": [
       "'Python Programming for Business Analtytics'"
      ]
     },
     "execution_count": 41,
     "metadata": {},
     "output_type": "execute_result"
    }
   ],
   "source": [
    "course = 'Python Programming'\n",
    "course + ' for Business Analtytics'"
   ]
  },
  {
   "cell_type": "code",
   "execution_count": 11,
   "id": "fa99ce22",
   "metadata": {},
   "outputs": [
    {
     "ename": "TypeError",
     "evalue": "unsupported operand type(s) for ** or pow(): 'str' and 'int'",
     "output_type": "error",
     "traceback": [
      "\u001b[1;31m---------------------------------------------------------------------------\u001b[0m",
      "\u001b[1;31mTypeError\u001b[0m                                 Traceback (most recent call last)",
      "\u001b[1;32m<ipython-input-11-c7e8758b6a91>\u001b[0m in \u001b[0;36m<module>\u001b[1;34m\u001b[0m\n\u001b[1;32m----> 1\u001b[1;33m \u001b[1;34m'a'\u001b[0m \u001b[1;33m**\u001b[0m \u001b[1;36m2\u001b[0m\u001b[1;33m\u001b[0m\u001b[1;33m\u001b[0m\u001b[0m\n\u001b[0m",
      "\u001b[1;31mTypeError\u001b[0m: unsupported operand type(s) for ** or pow(): 'str' and 'int'"
     ]
    }
   ],
   "source": [
    "'a' ** 2"
   ]
  },
  {
   "cell_type": "code",
   "execution_count": 9,
   "id": "69efec07",
   "metadata": {},
   "outputs": [
    {
     "ename": "NameError",
     "evalue": "name 'course' is not defined",
     "output_type": "error",
     "traceback": [
      "\u001b[1;31m---------------------------------------------------------------------------\u001b[0m",
      "\u001b[1;31mNameError\u001b[0m                                 Traceback (most recent call last)",
      "\u001b[1;32m<ipython-input-9-b071580031e6>\u001b[0m in \u001b[0;36m<module>\u001b[1;34m\u001b[0m\n\u001b[1;32m----> 1\u001b[1;33m \u001b[0mcourse\u001b[0m \u001b[1;33m/\u001b[0m \u001b[1;36m2\u001b[0m \u001b[1;31m#wont work\u001b[0m\u001b[1;33m\u001b[0m\u001b[1;33m\u001b[0m\u001b[0m\n\u001b[0m",
      "\u001b[1;31mNameError\u001b[0m: name 'course' is not defined"
     ]
    }
   ],
   "source": [
    "course / 2 #wont work"
   ]
  },
  {
   "cell_type": "code",
   "execution_count": null,
   "id": "be14b6ff",
   "metadata": {},
   "outputs": [],
   "source": [
    "course - 2 #wont work"
   ]
  },
  {
   "cell_type": "code",
   "execution_count": 44,
   "id": "d2f0f88f",
   "metadata": {},
   "outputs": [
    {
     "data": {
      "text/plain": [
       "True"
      ]
     },
     "execution_count": 44,
     "metadata": {},
     "output_type": "execute_result"
    }
   ],
   "source": [
    "'a' not in 'Apple'"
   ]
  },
  {
   "cell_type": "code",
   "execution_count": 45,
   "id": "42f5bdfa",
   "metadata": {},
   "outputs": [
    {
     "data": {
      "text/plain": [
       "False"
      ]
     },
     "execution_count": 45,
     "metadata": {},
     "output_type": "execute_result"
    }
   ],
   "source": [
    "'api' == 'Api'"
   ]
  },
  {
   "cell_type": "code",
   "execution_count": 13,
   "id": "0111f432",
   "metadata": {
    "scrolled": true
   },
   "outputs": [
    {
     "data": {
      "text/plain": [
       "True"
      ]
     },
     "execution_count": 13,
     "metadata": {},
     "output_type": "execute_result"
    }
   ],
   "source": [
    "'px' > 'az'"
   ]
  },
  {
   "cell_type": "markdown",
   "id": "f3e5ea5a",
   "metadata": {},
   "source": [
    "\n",
    "-  The comparison operators (e.g., `==`, `>`, `<=`) compare strings ***lexicographically***, the way in which sequences are ordering  based on the <b>*alphabetical order*</b> of their component characters:\n",
    "\n",
    "   - In alphabetical ordering, digits come before letters and capital letters come before lowercase letters.\n",
    "     - i.e., digits (as characters) < uppercase letters < lowercase letters.\n",
    "   - Compare the leftmost characters first, and generate `True` or `False` if their values differ, or continue until a difference is observed."
   ]
  },
  {
   "cell_type": "code",
   "execution_count": 47,
   "id": "07a7f61b",
   "metadata": {},
   "outputs": [
    {
     "data": {
      "text/plain": [
       "True"
      ]
     },
     "execution_count": 47,
     "metadata": {},
     "output_type": "execute_result"
    }
   ],
   "source": [
    "'z'>'a'"
   ]
  },
  {
   "cell_type": "code",
   "execution_count": 14,
   "id": "20f13e92",
   "metadata": {},
   "outputs": [
    {
     "ename": "TypeError",
     "evalue": "'>' not supported between instances of 'int' and 'str'",
     "output_type": "error",
     "traceback": [
      "\u001b[1;31m---------------------------------------------------------------------------\u001b[0m",
      "\u001b[1;31mTypeError\u001b[0m                                 Traceback (most recent call last)",
      "\u001b[1;32m<ipython-input-14-358f4a753f95>\u001b[0m in \u001b[0;36m<module>\u001b[1;34m\u001b[0m\n\u001b[1;32m----> 1\u001b[1;33m \u001b[1;36m4\u001b[0m \u001b[1;33m>\u001b[0m \u001b[1;34m'a'\u001b[0m\u001b[1;33m\u001b[0m\u001b[1;33m\u001b[0m\u001b[0m\n\u001b[0m",
      "\u001b[1;31mTypeError\u001b[0m: '>' not supported between instances of 'int' and 'str'"
     ]
    }
   ],
   "source": [
    "4 > 'a'"
   ]
  },
  {
   "cell_type": "code",
   "execution_count": 51,
   "id": "ac027c3a",
   "metadata": {},
   "outputs": [
    {
     "data": {
      "text/plain": [
       "3"
      ]
     },
     "execution_count": 51,
     "metadata": {},
     "output_type": "execute_result"
    }
   ],
   "source": [
    "len('api')"
   ]
  },
  {
   "cell_type": "code",
   "execution_count": 54,
   "id": "81b68afc",
   "metadata": {},
   "outputs": [
    {
     "data": {
      "text/plain": [
       "'g'"
      ]
     },
     "execution_count": 54,
     "metadata": {},
     "output_type": "execute_result"
    }
   ],
   "source": [
    "course[-1] #last character"
   ]
  },
  {
   "cell_type": "code",
   "execution_count": 16,
   "id": "3379109e",
   "metadata": {},
   "outputs": [
    {
     "data": {
      "text/plain": [
       "'p'"
      ]
     },
     "execution_count": 16,
     "metadata": {},
     "output_type": "execute_result"
    }
   ],
   "source": [
    "'python programming'[-3*6] #-18"
   ]
  },
  {
   "cell_type": "markdown",
   "id": "8f8992cd",
   "metadata": {},
   "source": [
    "<img src=\"https://drive.google.com/uc?export=download&id=1EHN00tdfvArl7ci6ulNN2KS9_Or3yzWa\" width=600></img>"
   ]
  }
 ],
 "metadata": {
  "kernelspec": {
   "display_name": "Python 3",
   "language": "python",
   "name": "python3"
  },
  "language_info": {
   "codemirror_mode": {
    "name": "ipython",
    "version": 3
   },
   "file_extension": ".py",
   "mimetype": "text/x-python",
   "name": "python",
   "nbconvert_exporter": "python",
   "pygments_lexer": "ipython3",
   "version": "3.8.8"
  }
 },
 "nbformat": 4,
 "nbformat_minor": 5
}
