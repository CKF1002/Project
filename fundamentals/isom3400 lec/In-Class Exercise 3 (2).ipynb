{
 "cells": [
  {
   "cell_type": "markdown",
   "metadata": {
    "colab_type": "text",
    "id": "LPRYsq_O1sly"
   },
   "source": [
    "## Section 1: Warm-up Questions"
   ]
  },
  {
   "cell_type": "markdown",
   "metadata": {},
   "source": [
    "**Question 1. Element-wise text concatenation** \n",
    "\n",
    "Suppose you are given two lists, with their elements at the corresponding position representing the first name and the last name of the same person:\n",
    "\n",
    "```python\n",
    "first_names = ['Alice', 'Bob', 'Carol', 'David']\n",
    "last_names = ['Alligator', 'Bear', 'Chimpanzee', 'Deer']\n",
    "```\n",
    "\n",
    "Write a lambda expression, name it `concat_names`, and call it with the two lists above to form a list of full names. The expected output is as follows:\n",
    "\n",
    "\n",
    "```python\n",
    "['Alice Alligator', 'Bob Bear', 'Carol Chimpanzee', 'David Deer']\n",
    "```"
   ]
  },
  {
   "cell_type": "code",
   "execution_count": 8,
   "metadata": {},
   "outputs": [],
   "source": [
    "first_names = ['Alice','Bob','Carol','David']\n",
    "last_names = ['Alligator','Bear','Chimpanzee','Deer']\n",
    "\n",
    "# Write your code below\n",
    "\n"
   ]
  },
  {
   "cell_type": "markdown",
   "metadata": {
    "colab_type": "text",
    "id": "gO5fbOf_5Mr2"
   },
   "source": [
    "---\n",
    "\n",
    "**Question 2. Use of `lambda`s as function arguments** \n",
    "\n",
    "Given a nested list representing gradebooks of different courses:\n",
    "\n",
    "```python\n",
    "gradebooks = [[['Troy', 92], ['Alice', 95]], [['James', 89], ['Charles', 100], ['Bryn', 59]]]\n",
    "```\n",
    "\n",
    "- Using the builtin `sorted()` function, write code to sort courses by course mean. The expected output is\n",
    "```python\n",
    "[[['James', 89], ['Charles', 100], ['Bryn', 59]], [['Troy', 92], ['Alice', 95]]]\n",
    "```\n",
    "- Using the builtin `sorted()` function, write code to sort students of each course by score in descending order. The expected output is\n",
    "```python\n",
    "[[['Alice', 95], ['Troy', 92]], [['Charles', 100], ['James', 89], ['Bryn', 59]]]\n",
    "```"
   ]
  },
  {
   "cell_type": "code",
   "execution_count": 0,
   "metadata": {
    "colab": {},
    "colab_type": "code",
    "id": "Yn0q5mhE7h2y"
   },
   "outputs": [],
   "source": [
    "gradebooks = [[['Troy', 92], ['Alice', 95]], [['James', 89], ['Charles', 100], ['Bryn', 59]]]\n",
    "\n",
    "# Write your code below\n",
    "\n",
    "\n",
    "\n"
   ]
  },
  {
   "cell_type": "markdown",
   "metadata": {
    "colab_type": "text",
    "id": "LOvK79aiEbfh"
   },
   "source": [
    "\n",
    "---\n",
    "\n",
    "\n",
    "## Section 2\n",
    "\n",
    "\n",
    "For each question below, please write the corresponding code and then run the code to show the output. \n",
    "\n",
    "\n",
    "\n"
   ]
  },
  {
   "cell_type": "markdown",
   "metadata": {
    "colab_type": "text",
    "id": "PzusxNtL12fu"
   },
   "source": [
    "\n",
    "**Question 1**\n",
    "\n",
    "Many programming languages implement a function called `sum()`, which returns the sum of an arbitrary sequence of numbers.\n",
    "\n",
    "Define a function `mySum` that allows us to sum up any number of numeric values. For example:\n",
    "\n",
    "- We should be able to call `mySum(1, 12, 89, 5)` with 4 arguments or `mySum(*range(100))` with 100 arguments. \n",
    "- Calling `mySum()` with no arguments returns zero.\n",
    "\n",
    "The built-in function `sum()` is not allowed to use in the function body."
   ]
  },
  {
   "cell_type": "code",
   "execution_count": 0,
   "metadata": {
    "colab": {},
    "colab_type": "code",
    "id": "LJIylDFMOF2a"
   },
   "outputs": [],
   "source": [
    "# Write your function definition below\n"
   ]
  },
  {
   "cell_type": "markdown",
   "metadata": {
    "colab_type": "text",
    "id": "heHERBTxOva-"
   },
   "source": [
    "---\n",
    "\n",
    "**Question 2**\n",
    "\n",
    "Parallel processing of multiple sequences is a powerful functionality for data analysis. \n",
    "\n",
    "Define a function `mySumParallel(seqs)` that applies `mySum()` defined in **Question 1** to an arbitrary collection of sequences of numeric values in parallel. This function returns a list of sums of all sequences in the passed-in collection.\n",
    "\n",
    "For example, calling `mySumParallel(collection)` where `collection = [[1, 12, 89, 5], range(100), range(2, 9, 3)]` returns `[107, 4950, 15]`.\n",
    "\n"
   ]
  },
  {
   "cell_type": "code",
   "execution_count": 0,
   "metadata": {
    "colab": {},
    "colab_type": "code",
    "id": "awki1rUvOgz3"
   },
   "outputs": [],
   "source": [
    "collection = [[1, 12, 89, 5], range(100), range(2, 9, 3)]\n",
    "\n",
    "# Write your function definition below\n",
    "\n"
   ]
  },
  {
   "cell_type": "markdown",
   "metadata": {
    "colab_type": "text",
    "id": "9KX718YvSJrp"
   },
   "source": [
    "---\n",
    "\n",
    "**Question 3**\n",
    "\n",
    "Further define a function `myParallel(aggfunc, seqs)` that allows any aggregation function to be applied to an arbitrary collection of sequences of numeric values.\n",
    "\n",
    "For example, calling `myParallel(mySum, collection)` yields `[107, 4950, 15]`, while calling `myParallel(max, collection)` yields `[89, 99, 8]`."
   ]
  },
  {
   "cell_type": "code",
   "execution_count": 0,
   "metadata": {
    "colab": {},
    "colab_type": "code",
    "id": "uXdszPh8SoeT"
   },
   "outputs": [],
   "source": [
    "# Write your function definition below\n",
    "\n",
    "\n"
   ]
  },
  {
   "cell_type": "markdown",
   "metadata": {
    "colab_type": "text",
    "id": "lAb1IBpm7zSF"
   },
   "source": [
    "---\n",
    "\n",
    "**Question 4. Matrix Construction** \n",
    "\n",
    "\n",
    "In mathematics, a matrix is a 2-dimensional (tabular) array of numbers or symbols arranged in rows and columns. The following is the notation of a 3 by 2 matrix (3 rows and 2 columns) containing the numbers from 1 to 6:\n",
    "\n",
    "\\begin{align}\n",
    "\\\\\n",
    "matrixA & =\n",
    " \\begin{pmatrix}\n",
    "  1 & 2  \\\\\n",
    "  3 & 4  \\\\\n",
    "  5 & 6 \\\\\n",
    " \\end{pmatrix}\n",
    "\\end{align}\n",
    "\n",
    "In Python, we can represent this 2-dimensional array with the nested list\n",
    "\n",
    "```python\n",
    "matrixA = [[1, 2], [3, 4], [5, 6]]\n",
    "```\n",
    "where the number of first-level elements represent the number of rows and the number of second-level elements represent the number of columns.\n",
    "\n",
    " \n",
    "Write a function `create_matrix` that takes a sequence of integers and two additional numbers that specify the shape of the matrix (i.e., the number of rows and columns, respectively) to create a nested list representing the matrix filled by these integers row-wise.\n",
    "  \n",
    "  For example, calling `create_matrix(*range(4, 19), rows=3, cols=5)` returns a nested list representing the following 3 (rows) by 5 (columns) matrix:\n",
    "\\begin{align}\n",
    "\\\\\n",
    " \\begin{pmatrix}\n",
    "  4 & 5 & 6 & 7 & 8 \\\\\n",
    "  9 & 10 & 11 & 12 & 13  \\\\\n",
    "  14 & 15 & 16 & 17 & 18 \\\\\n",
    " \\end{pmatrix}\n",
    "\\end{align}    \n",
    "  Also include exception handling so that the function prints an error message if the number of intergers does not match the product of the number of rows and that of columns. For example, calling `create_matrix(2, 3, 14, 15, rows=3, cols=2)` prints \n",
    " ```\n",
    "The number of elememnts does not match the shape of the matrix.\n",
    "``` \n"
   ]
  },
  {
   "cell_type": "code",
   "execution_count": 0,
   "metadata": {
    "colab": {},
    "colab_type": "code",
    "id": "DhNJVHM3C2TJ"
   },
   "outputs": [],
   "source": [
    "# Write your function definition below\n",
    "\n"
   ]
  },
  {
   "cell_type": "markdown",
   "metadata": {},
   "source": [
    "---\n",
    "\n",
    "\n",
    " \n",
    "**Question 5**\n",
    "\n",
    "Suppose a music streaming service uses two lists to maintain a user's favorite songs and the corresponding ratings, respectively:\n",
    "\n",
    "```python\n",
    "songs = ['Back to Black', 'Poker Face', 'Yellow', 'Lolipop', 'All Too Well', 'Delicate', 'Moves Like Jagger']\n",
    "ratings = [9.5, 8, 9, 8, 10, 7.5, 8]\n",
    "```\n",
    "\n",
    "Write a **signle expression** to create a playlist, which orders the user's favorite songs based on their ratings. And if a tie is observed, break the tie by sorting song titles lexicographically.\n",
    "\n",
    "The expected output should look like the following:\n",
    "\n",
    "```python\n",
    "['All Too Well', 'Back to Black', 'Yellow', 'Lolipop', 'Moves Like Jagger', 'Poker Face', 'Delicate']\n",
    "```\n"
   ]
  },
  {
   "cell_type": "code",
   "execution_count": 7,
   "metadata": {},
   "outputs": [],
   "source": [
    "songs = ['Back to Black', 'Poker Face', 'Yellow', 'Lolipop', \n",
    "         'All Too Well', 'Delicate', 'Moves Like Jagger']\n",
    "\n",
    "ratings = [9.5, 8, 9, 8, 10, 7.5, 8]\n",
    "\n",
    "# Write your code below\n",
    "\n",
    "\n"
   ]
  },
  {
   "cell_type": "markdown",
   "metadata": {},
   "source": [
    "**Question 6**\n",
    "\n",
    "Student A wants to select gifts for student B. Student A uses two dictionaries to record two types of ratings for options s/he considers: a dictionary that records the rating of how good a gift would be for student B (on a scale of 1-5), and a dictionary that records the rating of how much student B wants the gift (on a scale of 1-5). The rating of a gift that is not in either of the dictionaries is considered to be 0.\n",
    "\n",
    "Student A wants to select the gifts with the maximal possible combined rating, where the combined rating is the sum of the rating of how good the gift would be for the student and the rating of how much the student wants the gift.\n",
    "\n",
    "For example, the dictionaries can be:\n",
    "\n",
    "```python\n",
    "\n",
    "good_ratings = {\"Python textbook\": 5, \"iPhone\": 1, \"iPad\": 4, \"AirPods\": 4}\n",
    "want_ratings = {\"iPhone\": 5, \"A+ in ISOM3400\": 5, \"Python textbook\": 3, \"AirPods\": 4, \"Xbox\": 5}\n",
    "```\n",
    "\n",
    "Here, the gifts student A wants to select are \"Python textbook\" and \"AirPods\", since the combined rating for them is 5+3=4+4=8, larger than any other one. The combined rating of \"Xbox\" is 5+0=5.\n",
    "\n",
    "\n",
    "Write a function with the signature `select_gifts(good_ratings, want_ratings)` that returns a list\n",
    "of all the gifts which have the highest combined rating of all the gifts, sorted in alphabetical order.\n",
    "\n",
    "\n",
    "For example, for `good_ratings` and `want_ratings` as defined above,\n",
    "`select_gifts(good_ratings, want_ratings)` should return `['AirPods', 'Python textbook']`."
   ]
  },
  {
   "cell_type": "code",
   "execution_count": null,
   "metadata": {},
   "outputs": [],
   "source": [
    "# write your code below\n",
    "\n"
   ]
  }
 ],
 "metadata": {
  "colab": {
   "collapsed_sections": [],
   "name": "4 Functions and Classes exercise.ipynb",
   "provenance": [
    {
     "file_id": "1I7TWy81VCZAXhd6vovMNyNB6cPSbdLZV",
     "timestamp": 1571059405834
    }
   ]
  },
  "kernelspec": {
   "display_name": "Python 3",
   "language": "python",
   "name": "python3"
  },
  "language_info": {
   "codemirror_mode": {
    "name": "ipython",
    "version": 3
   },
   "file_extension": ".py",
   "mimetype": "text/x-python",
   "name": "python",
   "nbconvert_exporter": "python",
   "pygments_lexer": "ipython3",
   "version": "3.8.5"
  }
 },
 "nbformat": 4,
 "nbformat_minor": 1
}
