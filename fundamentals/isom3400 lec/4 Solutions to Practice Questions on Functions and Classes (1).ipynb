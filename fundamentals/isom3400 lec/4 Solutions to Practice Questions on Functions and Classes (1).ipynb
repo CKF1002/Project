{
  "nbformat": 4,
  "nbformat_minor": 0,
  "metadata": {
    "colab": {
      "name": "4 solutions to Extra Exercises on Functions and Classes.ipynb",
      "provenance": [],
      "collapsed_sections": []
    },
    "kernelspec": {
      "display_name": "Python 3",
      "language": "python",
      "name": "python3"
    },
    "language_info": {
      "codemirror_mode": {
        "name": "ipython",
        "version": 3
      },
      "file_extension": ".py",
      "mimetype": "text/x-python",
      "name": "python",
      "nbconvert_exporter": "python",
      "pygments_lexer": "ipython3",
      "version": "3.6.4"
    }
  },
  "cells": [
    {
      "cell_type": "markdown",
      "metadata": {
        "id": "lJWZY1plAqW4"
      },
      "source": [
        "# Extra Exercises on Functions and Classes\n",
        "\n",
        "For each question below, please write the corresponding code, and then run the code to show the output.\n",
        " "
      ]
    },
    {
      "cell_type": "markdown",
      "metadata": {
        "id": "cZJPdCumFhRh"
      },
      "source": [
        "1) Create a function called `func_a`, which prints a message. \n",
        "\n",
        "- Call the function.\n",
        "- Assign the function object to a name `b`, without calling the function.\n",
        "- Now call the function using the name `b`."
      ]
    },
    {
      "cell_type": "code",
      "metadata": {
        "colab": {
          "base_uri": "https://localhost:8080/",
          "height": 35
        },
        "id": "JfKH9ycKFws8",
        "outputId": "a37f2564-7ad4-4ed3-aeca-0c0ca7139425"
      },
      "source": [
        "def func_a(message):\n",
        "    print(message)\n",
        "\n",
        "b = func_a     # the alias can be created by an assignment statement because functions are objects\n",
        "b('Welcome to Python course')    "
      ],
      "execution_count": null,
      "outputs": [
        {
          "output_type": "stream",
          "text": [
            "Welcome to Python course\n"
          ],
          "name": "stdout"
        }
      ]
    },
    {
      "cell_type": "markdown",
      "metadata": {
        "id": "rY3jLQT66i6u"
      },
      "source": [
        "2)  Create a function called `hypotenuse`, which takes two numbers as inputs and prints the square root of the sum of their squares. Call this function with two floats, with two integers, and with one integer and one float sequentially."
      ]
    },
    {
      "cell_type": "code",
      "metadata": {
        "colab": {
          "background_save": true
        },
        "id": "i_yPhIRzVypD",
        "outputId": "9419cdda-fcab-4245-a72a-0e7a6ff99255"
      },
      "source": [
        "import math\n",
        "math.sqrt(3)\n",
        "\n",
        "\n",
        "3**0"
      ],
      "execution_count": null,
      "outputs": [
        {
          "output_type": "stream",
          "text": [
            "1.7320508075688772\n",
            "1.7320508075688772\n"
          ],
          "name": "stdout"
        }
      ]
    },
    {
      "cell_type": "code",
      "metadata": {
        "colab": {
          "base_uri": "https://localhost:8080/",
          "height": 68
        },
        "id": "YIHeZovtFB5-",
        "outputId": "7aeb29f1-62fe-4f4a-ae05-b2ab634fc47c"
      },
      "source": [
        "import math\n",
        "\n",
        "def hypotenuse(x, y):\n",
        "    print(math.sqrt(x**2 + y**2))       # or print((x**2 + y**2)**0.5)\n",
        "\n",
        "hypotenuse(12.3, 45.6)\n",
        "hypotenuse(12, 34)\n",
        "hypotenuse(12, 34.5)"
      ],
      "execution_count": null,
      "outputs": [
        {
          "output_type": "stream",
          "text": [
            "47.22975756871932\n",
            "36.05551275463989\n",
            "36.52738698565776\n"
          ],
          "name": "stdout"
        }
      ]
    },
    {
      "cell_type": "markdown",
      "metadata": {
        "id": "OmPgfLUF6wH1"
      },
      "source": [
        "3) Rewrite the `hypotenuse` function from above so that it returns a value instead of printing it. Add exception handling so that the function returns `None` if it is called with inputs of the wrong type. Call the function with two numbers, with two strings, and with a number and a string sequentially."
      ]
    },
    {
      "cell_type": "code",
      "metadata": {
        "colab": {
          "base_uri": "https://localhost:8080/",
          "height": 69
        },
        "id": "G1P3ZFVTFC4A",
        "outputId": "02fc85d0-49a9-4285-ba22-b60519b1e950"
      },
      "source": [
        "import math\n",
        "\n",
        "def hypotenuse(x, y):\n",
        "    is_int = [isinstance(arg, int) for arg in [x, y]] \n",
        "    is_float = [isinstance(arg, float) for arg in [x, y]]\n",
        "    is_numeric = [a or b for a, b in zip(is_int, is_float)] \n",
        "    if is_numeric[0] and is_numeric[1]:\n",
        "        return math.sqrt(x**2 + y**2)   # or print((x**2 + y**2)**0.5)\n",
        "    else: \n",
        "        return None                     # None can be dropped\n",
        "\n",
        "print(hypotenuse(12, 34))\n",
        "print(hypotenuse(\"12\", \"34\"))\n",
        "print(hypotenuse(12, \"34\"))"
      ],
      "execution_count": null,
      "outputs": [
        {
          "output_type": "stream",
          "text": [
            "36.05551275463989\n",
            "None\n",
            "None\n"
          ],
          "name": "stdout"
        }
      ]
    },
    {
      "cell_type": "code",
      "metadata": {
        "colab": {
          "base_uri": "https://localhost:8080/",
          "height": 69
        },
        "id": "p_nGzdQ3m95l",
        "outputId": "d41d799b-58fe-4778-9c26-7e4de635e390"
      },
      "source": [
        "# for those interested in knowing more\n",
        "# The try statement can implement conditional logics needed for exception handing in an easier way\n",
        "# It captures any exception occurring and test its type in the except clause\n",
        "# https://docs.python.org/3/tutorial/errors.html#handling-exceptions\n",
        "\n",
        "import math\n",
        "\n",
        "def hypotenuse(x, y):\n",
        "    try:\n",
        "        return math.sqrt(x**2 + y**2)\n",
        "    except TypeError:\n",
        "        return None\n",
        "\n",
        "print(hypotenuse(12, 34))\n",
        "print(hypotenuse(\"12\", \"34\"))\n",
        "print(hypotenuse(12, \"34\"))"
      ],
      "execution_count": null,
      "outputs": [
        {
          "output_type": "stream",
          "text": [
            "36.05551275463989\n",
            "None\n",
            "None\n"
          ],
          "name": "stdout"
        }
      ]
    },
    {
      "cell_type": "markdown",
      "metadata": {
        "id": "z2qFugAn7Ml2"
      },
      "source": [
        "4) Write a function called `calculator`. It should take the following arguments: two numbers and an arithmetic operation (which can be addition, subtraction, multiplication or division and is addition by default). Raise exceptions as appropriate if any of the arguments passed to the function are invalid.\n",
        "\n",
        "Call the function with the following sets of arguments, and check that the answer is what you expect:\n",
        "\n",
        "- `2`, `3.0`\n",
        "- `2`, `3.0`, operation is division\n"
      ]
    },
    {
      "cell_type": "code",
      "metadata": {
        "colab": {
          "base_uri": "https://localhost:8080/",
          "height": 35
        },
        "id": "xi9_Be44FDzT",
        "outputId": "d99f7d06-d7ad-48ae-f1bb-533430b2e851"
      },
      "source": [
        "import math\n",
        "\n",
        "def calculator(a, b, operation='ADD', output_format=float):\n",
        "    if operation == 'ADD':\n",
        "        result = a + b\n",
        "    elif operation == 'SUB':\n",
        "        result = a - b\n",
        "    elif operation == 'MUL':\n",
        "        result = a * b\n",
        "    elif operation == 'DIV':\n",
        "        result = a / b\n",
        "    else:\n",
        "        print(\"Operation must be 'ADD', 'SUB', 'MUL' or 'DIV'.\")\n",
        "        return\n",
        "\n",
        "    if output_format == float:\n",
        "        result = float(result)\n",
        "    elif output_format == int:\n",
        "        result = math.round(result)\n",
        "    else:\n",
        "        print(\"Format must be float or int.\")\n",
        "        return\n",
        "\n",
        "    return result\n",
        "\n",
        "calculator(2, 3.0, 'DIV') \n",
        "calculator(2, 3.0, output_format=2)"
      ],
      "execution_count": null,
      "outputs": [
        {
          "output_type": "stream",
          "text": [
            "Format must be float or int.\n"
          ],
          "name": "stdout"
        }
      ]
    },
    {
      "cell_type": "markdown",
      "metadata": {
        "id": "5EUvQDke-QrA"
      },
      "source": [
        "5) Rewrite the `calculator` function from above so that it takes any number of numeric arguments as well as the same optional keyword argument. The function should apply the operation to the first two numbers, and then apply it again to the result and the next number, and so on. \n",
        "\n",
        "For example, if the numbers are `6`, `4`, `9` and `1` and the operation is subtraction the function should return `6 - 4 - 9 - 1`. If only one number is entered, it should be returned unmodified. If no numbers are entered, raise an exception."
      ]
    },
    {
      "cell_type": "code",
      "metadata": {
        "colab": {
          "base_uri": "https://localhost:8080/",
          "height": 35
        },
        "id": "NlHjH0-kFM8C",
        "outputId": "58500ca8-5fa1-4b53-8cb3-e53ea14e873c"
      },
      "source": [
        "import math\n",
        "\n",
        "def calculator(*numbers, operation='ADD', output_format=float):    # operation and output_format are then forced to take keyword arguments\n",
        "    if not numbers:\n",
        "        print(\"At least one number must be entered.\")\n",
        "        return\n",
        "\n",
        "    result = numbers[0]\n",
        "\n",
        "    for n in numbers[1:]:\n",
        "        if operation == 'ADD':\n",
        "           result += n\n",
        "        elif operation == 'SUB':\n",
        "           result -= n\n",
        "        elif operation == 'MUL':\n",
        "           result *= n\n",
        "        elif operation == 'DIV':\n",
        "           result /= n\n",
        "        else: \n",
        "           print(\"Operation must be 'ADD', 'SUB', 'MUL' or 'DIV'.\")\n",
        "           return\n",
        "\n",
        "    if output_format == float:\n",
        "        result = float(result)\n",
        "    elif output_format == int:\n",
        "        result = math.round(result)\n",
        "    else:\n",
        "        print(\"Format must be float or int.\")\n",
        "        return\n",
        "\n",
        "    return result\n",
        "\n",
        "calculator(6, 4, 9, 1) \n",
        "calculator(6, operation='SUB')\n",
        "calculator(6, 4, 9, 1, output_format=2)"
      ],
      "execution_count": null,
      "outputs": [
        {
          "output_type": "stream",
          "text": [
            "Format must be float or int.\n"
          ],
          "name": "stdout"
        }
      ]
    },
    {
      "cell_type": "markdown",
      "metadata": {
        "id": "qLTp2bL0FOXj"
      },
      "source": [
        "6) Define the following functions as `lambda`s, and assign them to names:\n",
        "\n",
        "- Take one argument; return its square\n",
        "- Take two arguments; return the square root of the sums of their squares\n",
        "- Take any number of arguments; return their average\n",
        "- Take a string argument; return a string which contains the unique letters in the input string (in any order)"
      ]
    },
    {
      "cell_type": "code",
      "metadata": {
        "colab": {
          "base_uri": "https://localhost:8080/",
          "height": 34
        },
        "id": "bU3TulaWsYgo",
        "outputId": "755ebdbc-ce87-4e59-a0ba-5832e6ebb8b6"
      },
      "source": [
        "lambda x: x**2\n",
        "lambda x, y: (x**2 + y**2)**0.5\n",
        "lambda *x: sum(x)/len(x)\n",
        "f = lambda x: list({item: None for item in x })    # f = lambda x: set(x)\n",
        "f('python python programming')"
      ],
      "execution_count": null,
      "outputs": [
        {
          "output_type": "execute_result",
          "data": {
            "text/plain": [
              "{' ', 'a', 'g', 'h', 'i', 'm', 'n', 'o', 'p', 'r', 't', 'y'}"
            ]
          },
          "metadata": {
            "tags": []
          },
          "execution_count": 2
        }
      ]
    },
    {
      "cell_type": "markdown",
      "metadata": {
        "id": "-rx1TWEIAqW5"
      },
      "source": [
        "7) Define a function that could convert temperature from fahrenheit to celsius, round it to two decimal points, and return the converted temperature. \n",
        "\n",
        "After defining the function, call it to convert `101.5` fahrenheit to celsius, the result should be: `38.61`"
      ]
    },
    {
      "cell_type": "code",
      "metadata": {
        "id": "CioCxVfSH0l-"
      },
      "source": [
        "def fahr_to_cel(temp):  \n",
        "    return round((temp-32)*5/9,2)\n",
        "    \n",
        "fahr_to_cel(101.5)"
      ],
      "execution_count": null,
      "outputs": []
    },
    {
      "cell_type": "markdown",
      "metadata": {
        "id": "ekZ3mnacAqW7"
      },
      "source": [
        "8) Define your own min and max function, such that when users call the function with a series of numbers and whether they want mininum or maximum of these numbers. Set the default value to be `'max'`, but users can choose to input `'min'` when calling the function. The function will return the desired mininum or maximum number out of the numbers. If a user provides neither `'max'` nor `'min'` when calling the function, print `Wrong call!`. \n",
        "\n",
        "For example, calling `min_max(5, 2, 2, 0, -6, -22, 77)` returns `77`."
      ]
    },
    {
      "cell_type": "code",
      "metadata": {
        "id": "RvftHWXxH1Rg"
      },
      "source": [
        "def min_max(*numbers, action='max'):\n",
        "    if not numbers:\n",
        "       print(\"At least one number must be entered.\")\n",
        "       return\n",
        "       \n",
        "    if action == 'max':\n",
        "        return max(numbers)\n",
        "    elif action == 'min':\n",
        "        return min(numbers)\n",
        "    else:\n",
        "        print('Wrong call!')\n",
        "\n",
        "min_max(5, 2, 2, 0, -6, -22, 77)  \n",
        "min_max(5, 2, 2, 0, -6, -22, 77, action = 'min')\n",
        "min_max(5, 2, 2, 0, -6, -22, 77, action ='x')"
      ],
      "execution_count": null,
      "outputs": []
    },
    {
      "cell_type": "markdown",
      "metadata": {
        "id": "eYX2pwt3AqW8"
      },
      "source": [
        "9) Define a function that will return a list of $n$ numbers, such that except for the first two numbers, which are set to be 1 and 1, the rest of the numbers are sum of the previous two numbers. For example, such a list will be `1, 1, 2, 3, 5, 8, 13 ,21, 34...` (when $n = 9$) "
      ]
    },
    {
      "cell_type": "code",
      "metadata": {
        "id": "t1Iv4qHIIauM"
      },
      "source": [
        "def fib(n):\n",
        "    ls = [1, 1]\n",
        "    if n == 1:\n",
        "        print([1])\n",
        "    else: \n",
        "        for i in range(2, n):\n",
        "            ls.append(ls[i-2]+ls[i-1])\n",
        "        print(ls)\n",
        "\n",
        "fib(9)"
      ],
      "execution_count": null,
      "outputs": []
    },
    {
      "cell_type": "markdown",
      "metadata": {
        "id": "SfA2DSP1AqW9"
      },
      "source": [
        "10) Define a function that can draw a horizontal histogram based on any number of integers (between 0 to 9) inputted. For example, providing the following numbers as the arguments: `4, 6, 4, 7, 0, 5, 7, 5, 3, 4, 4, 3, 2, 1, 3, 4, 5, 6, 7, 9` prints out a histogram based on the frequency of each integer in sorted order as follows:\n",
        "\n",
        "```python\n",
        "0\n",
        "1\n",
        "2\n",
        "333\n",
        "44444\n",
        "555\n",
        "66\n",
        "777\n",
        "9\n",
        "```"
      ]
    },
    {
      "cell_type": "code",
      "metadata": {
        "id": "bAVEGVulvJ-o"
      },
      "source": [
        "def hist(*ls):   \n",
        "    \n",
        "    dic_count = {i:ls.count(i) for i in ls}  # create a dictionary to find counts and remove duplicates.  \n",
        "    ls_hist = []\n",
        "    \n",
        "    for i, j in dic_count.items():     # Use string multiply function to generate each line of integers. \n",
        "        ls_hist.append(str(i)*j)\n",
        "    \n",
        "    for i in sorted(ls_hist):  \n",
        "        print(i)\n",
        "    \n",
        "hist(4, 6, 4, 7, 0, 5, 7, 5, 3, 4, 4, 3, 2, 1, 3, 4, 5, 6, 7, 9)"
      ],
      "execution_count": null,
      "outputs": []
    },
    {
      "cell_type": "markdown",
      "metadata": {
        "id": "L3S8I_rYAqW-"
      },
      "source": [
        "11) Define a function that accepts a sequence of numbers, and then raise all numbers to a designated power (usually by 2, which is the default), then return a new list as the output. \n",
        "\n",
        "After defining the function, call it with these numbers: `1, 3, 5`, raised to the power of 2; and then to the power of 3 for each element. So the printout would be `[1, 9, 25]` for power 2, and `[1, 27, 125]` for power 3 (i.e., call the function twice). "
      ]
    },
    {
      "cell_type": "code",
      "metadata": {
        "colab": {
          "base_uri": "https://localhost:8080/",
          "height": 35
        },
        "id": "S9e0GnlIwCSw",
        "outputId": "54b40ea3-5f51-47f3-89cf-528a7dfb82c3"
      },
      "source": [
        "def powern(*numbers, power=2): \n",
        "    z = [pow(i, power) for i in numbers]    # the output expression can also be i ** power\n",
        "    return z\n",
        "\n",
        "powern(1, 3, 5)\n",
        "powern(1, 3, 5, power=3)"
      ],
      "execution_count": null,
      "outputs": [
        {
          "output_type": "execute_result",
          "data": {
            "text/plain": [
              "[1, 27, 125]"
            ]
          },
          "metadata": {
            "tags": []
          },
          "execution_count": 28
        }
      ]
    },
    {
      "cell_type": "markdown",
      "metadata": {
        "id": "6EzgC8LVAqW_"
      },
      "source": [
        "## Questions 12-15 are about an McDonald's order function"
      ]
    },
    {
      "cell_type": "markdown",
      "metadata": {
        "id": "WU7FICisAqW_"
      },
      "source": [
        "Please see **function** below that can take some simple McDonald's orders. Assume that each other has a required argument order_id (integers starting from 1), and about 35% the orders at UST have the following three items: a fish burger, coke, and medium size fries, which can be set as default arguments. Other items on each order vary a lot. But note that some extra items are single items, such as harsh browns, or twist cone, while other extra items may have different flavor options, such as corn pie and apple pie for pies. \n",
        "\n",
        "Given the definition of the function below, try to make a few orders by calling this function with different arguments in the following questions. "
      ]
    },
    {
      "cell_type": "code",
      "metadata": {
        "id": "2qOSOE3iAqXA"
      },
      "source": [
        "def order(order_id, *extra, burger=\"fish\", drink=\"coke\", fries = \"M\", **others): \n",
        "    print(\"Order \"+ str(order_id)+ \":\", burger, \"burger;\", drink+\";\", fries, 'fries', extra, others)"
      ],
      "execution_count": null,
      "outputs": []
    },
    {
      "cell_type": "markdown",
      "metadata": {
        "id": "PBC-sRZjAqXD"
      },
      "source": [
        "12) Order ID 1 contains the following food: a fish burger, coke, a medium size fries, and a strawberry sundae. The printout should be: \n",
        "\n",
        "`Order 1: fish burger; coke; M fries () {'Sundae': 'strawberry'}`"
      ]
    },
    {
      "cell_type": "code",
      "metadata": {
        "colab": {
          "base_uri": "https://localhost:8080/",
          "height": 35
        },
        "id": "y_47rHu4w1YZ",
        "outputId": "c87e9e8e-b04d-47cb-8f01-24bb9771009d"
      },
      "source": [
        "order(1, Sundae='strawberry')"
      ],
      "execution_count": null,
      "outputs": [
        {
          "output_type": "stream",
          "text": [
            "Order 1: fish burger; coke; M fries () {'Sundae': 'strawberry'}\n"
          ],
          "name": "stdout"
        }
      ]
    },
    {
      "cell_type": "markdown",
      "metadata": {
        "id": "WKYS-A4AAqXE"
      },
      "source": [
        "13) Order ID 2 contains the following food: a chicken burger, coke, a small size fries, a twist cone, an apple pie, and a strawberry shake. The printout should be \n",
        "\n",
        "`Order 2: chicken burger; coke; S fries ('twist cone',) {'Pie': 'apple', 'Shake': 'strawberry'}`"
      ]
    },
    {
      "cell_type": "code",
      "metadata": {
        "colab": {
          "base_uri": "https://localhost:8080/",
          "height": 35
        },
        "id": "OHj9Zn4txblW",
        "outputId": "41d50085-5be4-48b2-8890-e62c0acce50e"
      },
      "source": [
        "order(2, 'twist cone', burger='chicken', fries='S', Pie='apple', Shake='strawberry')"
      ],
      "execution_count": null,
      "outputs": [
        {
          "output_type": "stream",
          "text": [
            "Order 2: chicken burger; coke; S fries ('twist cone',) {'Pie': 'apple', 'Shake': 'strawberry'}\n"
          ],
          "name": "stdout"
        }
      ]
    },
    {
      "cell_type": "code",
      "metadata": {
        "colab": {
          "base_uri": "https://localhost:8080/",
          "height": 35
        },
        "id": "JV64y4ddxwgG",
        "outputId": "c751ed5d-3fe8-473d-aeeb-d2f990dc69ab"
      },
      "source": [
        "# a second solution\n",
        "kwargs = {'burger': 'chicken', 'fries': 'S', 'Pie': 'apple', 'Shake': 'strawberry'}\n",
        "order(2, 'twist cone', **kwargs)"
      ],
      "execution_count": null,
      "outputs": [
        {
          "output_type": "stream",
          "text": [
            "Order 2: chicken burger; coke; S fries ('twist cone',) {'Pie': 'apple', 'Shake': 'strawberry'}\n"
          ],
          "name": "stdout"
        }
      ]
    },
    {
      "cell_type": "markdown",
      "metadata": {
        "id": "nrczLG5RAqXF"
      },
      "source": [
        "14) Order ID 3 contains the following food: orange juice, a fish burger, harsh browns, a twist cone, and a corn pie. The printout should be \n",
        "\n",
        "`Order 3: fish burger; Orange juice; None fries ('harshbrown', 'twist cone') {'Pie': 'corn'}`"
      ]
    },
    {
      "cell_type": "code",
      "metadata": {
        "colab": {
          "base_uri": "https://localhost:8080/",
          "height": 35
        },
        "id": "dV-5qBFqygUE",
        "outputId": "67563ed8-72d5-4784-dffc-cf81407d0971"
      },
      "source": [
        "kwargs = {'fries': None, 'drink': 'Orange juice', 'Pie': 'corn'}\n",
        "order(3, 'harshbrown', 'twist cone', **kwargs)"
      ],
      "execution_count": null,
      "outputs": [
        {
          "output_type": "stream",
          "text": [
            "Order 3: fish burger; Orange juice; None fries ('harshbrown', 'twist cone') {'Pie': 'corn'}\n"
          ],
          "name": "stdout"
        }
      ]
    },
    {
      "cell_type": "markdown",
      "metadata": {
        "id": "mCVeX479AqXG"
      },
      "source": [
        "15) Now define a class called `Ordered_Item`, which has 3 data attributes: `name`, `price`, and `quantity`, and 1 function attribute `print_item` which prints this ordered item's name, price, quantity, and total. \n",
        "\n",
        "After defining the class, use the following code to call the function, and you should get output as follows: \n",
        "\n",
        "```python\n",
        "item1 = Ordered_Item(\"fish burger\", 11.25, 2)\n",
        "item1.print_item()\n",
        "```\n",
        "`fish burger $11.25 Quantity: 2 Total = $22.5`"
      ]
    },
    {
      "cell_type": "code",
      "metadata": {
        "colab": {
          "base_uri": "https://localhost:8080/",
          "height": 35
        },
        "id": "yGaP-0ehAqXH",
        "outputId": "e1a1c9d5-c48c-464e-b83a-a7e5e89b69de"
      },
      "source": [
        "class Ordered_Item():     \n",
        "    \n",
        "    def __init__(self, name, price, quantity): \n",
        "        self.item_name = name        \n",
        "        self.item_price = round(float(price), 2)\n",
        "        self.item_quantity = int(quantity)\n",
        "        \n",
        "    def print_item(self):   \n",
        "        print(self.item_name, \"$\"+str(self.item_price), \"Quantity:\", self.item_quantity, \"Total = $\" + str(self.item_price*self.item_quantity))\n",
        "\n",
        "item1 = Ordered_Item(\"fish burger\", 11.25, 2)\n",
        "item1.print_item()        "
      ],
      "execution_count": null,
      "outputs": [
        {
          "output_type": "stream",
          "text": [
            "fish burger $11.25 Quantity: 2 Total = $22.5\n"
          ],
          "name": "stdout"
        }
      ]
    },
    {
      "cell_type": "markdown",
      "metadata": {
        "id": "MOgffr7bA1-e"
      },
      "source": [
        "16) **Yang Hui Triangle**. Define a function `YangHuiTriangle(n)` that will print a yang hui triangle with n levels (n=6 in the example below):\n",
        "\n",
        "```python\n",
        "[1]\n",
        "[1, 1]\n",
        "[1, 2, 1]\n",
        "[1, 3, 3, 1]\n",
        "[1, 4, 6, 4, 1]\n",
        "[1, 5, 10, 10, 5, 1]\n",
        "[1, 6, 15, 20, 15, 6, 1]\n",
        "```\n",
        "\n",
        "\n",
        "Observe the triangle carefully and you will notice three things: \n",
        "\n",
        "- the numbers in the first two lines are given, rather than derived from any algorithem; \n",
        "- starting the third line, each number is the sum of two numbers in the line above, e.g. line6: `[1, 5, 10, 10, 5, 1]`:\n",
        "    - the second element 5 is the sum of the previous line's elements 1 and 4;\n",
        "    - the third element 10 is the sum of the previous line's elements 4 and 6;\n",
        "    - the fourth element *10* is the sum of the previous line's elements 6 and 4, etc.\n",
        "- the first and the last number on each line are set to be 1.\n",
        "\n",
        "If the input argument `n` is not positive integer, print a message \n",
        "\n",
        "```\n",
        "A positive integer n is required for YangHuiTriangle\n",
        "```"
      ]
    },
    {
      "cell_type": "code",
      "metadata": {
        "colab": {
          "base_uri": "https://localhost:8080/",
          "height": 139
        },
        "id": "LNl_FU0bA038",
        "outputId": "3e36ae48-27ea-4a77-8cbc-2aba12494dc2"
      },
      "source": [
        "def YangHuiTriangle(n):\n",
        "    triangle = []\n",
        "\n",
        "    if n < 1 or type(n) != int:\n",
        "       print(\"A positive integer n is required for YangHuiTriangle\")\n",
        "       return    \n",
        "        \n",
        "    if n >= 1:\n",
        "       triangle.extend([[1], [1, 1]])  \n",
        "     \n",
        "    if n >= 2:\n",
        "       for n in range(2, n+1):\n",
        "           ls = [1]\n",
        "           # use the zip function to generate pairs of succesive numbers\n",
        "           for item1, item2 in zip(triangle[n-1][:-1], triangle[n-1][1:]):  \n",
        "               ls.append(item1 + item2)                                     \n",
        "           ls.append(1)   \n",
        "           triangle.append(ls)      \n",
        "           \n",
        "    print(*triangle, sep='\\n')\n",
        "\n",
        "            \n",
        "YangHuiTriangle(6)    "
      ],
      "execution_count": null,
      "outputs": [
        {
          "output_type": "stream",
          "text": [
            "[1]\n",
            "[1, 1]\n",
            "[1, 2, 1]\n",
            "[1, 3, 3, 1]\n",
            "[1, 4, 6, 4, 1]\n",
            "[1, 5, 10, 10, 5, 1]\n",
            "[1, 6, 15, 20, 15, 6, 1]\n"
          ],
          "name": "stdout"
        }
      ]
    },
    {
      "cell_type": "code",
      "metadata": {
        "colab": {
          "base_uri": "https://localhost:8080/",
          "height": 139
        },
        "id": "nI7zB7ra_ldg",
        "outputId": "bee1e524-a4a1-4115-a7a6-b969724a97e9"
      },
      "source": [
        "def YangHuiTriangle(n):\n",
        "    triangle = []\n",
        "\n",
        "    if n < 1 or type(n) != int:\n",
        "       print(\"A positive integer n is required for YangHuiTriangle\")\n",
        "       return    \n",
        "        \n",
        "    if n >= 1:\n",
        "       triangle.extend([[1], [1, 1]])  \n",
        "     \n",
        "    if n >= 2:\n",
        "       for n in range(2, n+1):\n",
        "           ls = [1]\n",
        "           # do manual indexing\n",
        "           for index in range(1, n):\n",
        "               ls.append(triangle[n-1][index-1]+triangle[n-1][index])\n",
        "           ls.append(1)   \n",
        "           triangle.append(ls)      \n",
        "           \n",
        "    print(*triangle, sep='\\n')\n",
        "\n",
        "            \n",
        "YangHuiTriangle(6)    "
      ],
      "execution_count": null,
      "outputs": [
        {
          "output_type": "stream",
          "text": [
            "[1]\n",
            "[1, 1]\n",
            "[1, 2, 1]\n",
            "[1, 3, 3, 1]\n",
            "[1, 4, 6, 4, 1]\n",
            "[1, 5, 10, 10, 5, 1]\n",
            "[1, 6, 15, 20, 15, 6, 1]\n"
          ],
          "name": "stdout"
        }
      ]
    },
    {
      "cell_type": "markdown",
      "metadata": {
        "id": "GsACNgOTAJo-"
      },
      "source": [
        "17) Write a function `matrixConstructor` which can take up to 5 integer arguments: `m` (required), `n` (required), `args` (1 to 3 element(s)) to construct a $m \\times n$ matrix (nested list).\n",
        "\n",
        "The elements used to construct the matrix are generated based on args.\n",
        "- If no input for `args`, print a message \n",
        "```\n",
        "matrixConstructor expected to take at lease 1 'args' arguments, got 0\n",
        "```\n",
        "- If only 1 integer is provided to `args`, the sequence of integers starts from 0 and ends with integer-1 with step = 1, i.e. `range(args)`.\n",
        "\n",
        "- If 2 integers are provided to `args`, the sequence of integers starts from the first integer in `args` to the second integer in `args` - 1 with step = 1, i.e. `range(arg1, arg2)`.\n",
        "\n",
        "- Otherwise, the sequence of integers starts from the first integer in `args` to the second integer in `args` -1 with step = the third integer, i.e. `range(arg1, arg2, arg3)`.\n"
      ]
    },
    {
      "cell_type": "code",
      "metadata": {
        "colab": {
          "base_uri": "https://localhost:8080/",
          "height": 168
        },
        "id": "zWwIyi_xBLmK",
        "outputId": "458e21e8-c689-4252-b250-b8515b12170a"
      },
      "source": [
        "def matrixConstructor(m, n, *args):\n",
        "    if not args:\n",
        "       print(\"matrixConstructor expected to take at lease 1 'args' arguments, got 0\")\n",
        "       return\n",
        "    \n",
        "    if len(args) == 1: numbers = range(args[0])\n",
        "    elif len(args) == 2: numbers = range(args[0], args[1])\n",
        "    elif len(args) == 3: numbers = range(args[0], args[1], args[2])\n",
        "    else: print(\"Too many arguments for 'args'.\")\n",
        "\n",
        "    result = [] \n",
        "    for row in range(m):\n",
        "        item = []\n",
        "        for column in range(n):\n",
        "            item.append(numbers[row*n+column]) \n",
        "        result.append(item)\n",
        "\n",
        "    return result          \n",
        "\n",
        "print(*matrixConstructor(4, 3, 12), sep='\\n')  \n",
        "print()   \n",
        "print(*matrixConstructor(4, 3, 10, 22), sep='\\n')       "
      ],
      "execution_count": null,
      "outputs": [
        {
          "output_type": "stream",
          "text": [
            "[0, 1, 2]\n",
            "[3, 4, 5]\n",
            "[6, 7, 8]\n",
            "[9, 10, 11]\n",
            "\n",
            "[10, 11, 12]\n",
            "[13, 14, 15]\n",
            "[16, 17, 18]\n",
            "[19, 20, 21]\n"
          ],
          "name": "stdout"
        }
      ]
    },
    {
      "cell_type": "markdown",
      "metadata": {
        "id": "QvsoefPdLB0W"
      },
      "source": [
        "\n",
        "## Read and run the following code and answer questions 18-19:\n"
      ]
    },
    {
      "cell_type": "code",
      "metadata": {
        "id": "zab3GYG4LFDp"
      },
      "source": [
        "import datetime     # we will use this for date objects\n",
        "\n",
        "class Person:\n",
        "\n",
        "    def __init__(self, name, surname, birthdate, address, telephone, email):\n",
        "        self.name = name\n",
        "        self.surname = surname\n",
        "        self.birthdate = birthdate\n",
        "        self.address = address\n",
        "        self.telephone = telephone\n",
        "        self.email = email\n",
        "\n",
        "    def age(self):\n",
        "        today = datetime.date.today()             # return a date object\n",
        "        age = today.year - self.birthdate.year     \n",
        "\n",
        "        if today < datetime.date(today.year, self.birthdate.month, self.birthdate.day):\n",
        "            age -= 1\n",
        "\n",
        "        return age\n",
        "\n",
        "person = Person(\n",
        "    \"Jane\",\n",
        "    \"Doe\",\n",
        "    datetime.date(1992, 3, 12),          # create a date object by providing year, month, and day\n",
        "    \"No. 12 Short Street, Greenville\",\n",
        "    \"555 456 0987\",\n",
        "    \"jane.doe@example.com\"\n",
        ")"
      ],
      "execution_count": null,
      "outputs": []
    },
    {
      "cell_type": "markdown",
      "metadata": {
        "id": "iu0UFUWwMOBS"
      },
      "source": [
        "18)  Explain what the following variables refer to, and their scope (in which namespace):\n",
        "\n",
        "- `Person`\n",
        "- `person`\n",
        "- `surname`\n",
        "- `self`\n",
        "- `age` (the function name)\n",
        "- `age` (the variable used inside the function)\n",
        "- `self.email`\n",
        "- `person.email`"
      ]
    },
    {
      "cell_type": "markdown",
      "metadata": {
        "id": "FymC7uTirYaJ"
      },
      "source": [
        "Answers:\n",
        "\n",
        "1. `Person` is a name in the global namespace and referring to a class object.\n",
        "\n",
        "2. `person` is a name in the global namespace and referring to an instance of the `Person` class.\n",
        "\n",
        "3. `surname` is a parameter of the `__init__` function. It is used as a name in the local namespace and referring to one of the passed-in argument objects when `__init__` is called.\n",
        "\n",
        "4. For each function attribute of the `Person` class, `self` is the parameter that expects the passing in of the instance object on which the corresponding method is called with the `.` operator. It is used as a name in the local namespace and referrring to the instance object. The parameter used for this purpose is always given the same name `self` by convention.\n",
        "\n",
        "5. `age` is a function attribute of the `Person` class. It is a name in the class namespace.\n",
        "\n",
        "6. `age` (the variable used inside the function) is a name living in the local namespace that hosts the execution of the `age` function.\n",
        "\n",
        "7. `self.email` is an attribute reference expression. It's the way in which we can refer to attributes and methods of an instance object. We use the name `self` to refer to an instance object inside one of the object's own methods – wherever the variable `self` is defined, we can use `self.email`, `self.age()`, etc.\n",
        "\n",
        "8. `person.email` is another example of the same thing. In the global namespace, our `person` instance is referred to by the name `person`. Wherever `person` is defined, we can use `person.email`, `person.age()`, etc. to refer to its different attributes and methods."
      ]
    },
    {
      "cell_type": "markdown",
      "metadata": {
        "id": "EybxwIQiM-2E"
      },
      "source": [
        "19) Rewrite the `Person` class so that a person's age is calculated for the first time when a new person instance is created, and recalculated (when it is requested) if the day has changed since the last time that it was calculated.\n",
        "\n",
        "Hint: define a function attribute `recalculate_age` and use an instance attribute `age_last_recalculated` to record the last time the age was calculated."
      ]
    },
    {
      "cell_type": "code",
      "metadata": {
        "colab": {
          "base_uri": "https://localhost:8080/",
          "height": 34
        },
        "id": "SW6tJ2dKxdqj",
        "outputId": "8e1ca9e0-f46e-4750-ea7d-242b1206fbc1"
      },
      "source": [
        "import datetime\n",
        "\n",
        "class Person:\n",
        "\n",
        "    def __init__(self, name, surname, birthdate, address, telephone, email):\n",
        "        self.name = name\n",
        "        self.surname = surname\n",
        "        self.birthdate = birthdate\n",
        "        self.address = address\n",
        "        self.telephone = telephone\n",
        "        self.email = email\n",
        "        self.age = None\n",
        "        self.age_last_recalculated = None\n",
        "        self.recalculate_age()\n",
        "\n",
        "    def recalculate_age(self):\n",
        "        today = datetime.date.today()              # return a date object representing today\n",
        "        age = today.year - self.birthdate.year     # calculate the difference in value of the year attribute between two date objects\n",
        "\n",
        "        if today < datetime.date(today.year, self.birthdate.month, self.birthdate.day):   # if the year's birthday hasn't come yet\n",
        "            age -= 1                                                                      # subtract 1 year\n",
        "\n",
        "        self.age = age\n",
        "        self.age_last_recalculated = today\n",
        "\n",
        "    def age(self):                                 # for requesting recalculation\n",
        "        if (datetime.date.today() > self.age_last_recalculated): self.recalculate_age()\n",
        "\n",
        "        return self.age\n",
        "\n",
        "person = Person(\n",
        "    \"Jane\",\n",
        "    \"Doe\",\n",
        "    datetime.date(1992, 3, 12),          # create a date object by providing year, month, and day\n",
        "    \"No. 12 Short Street, Greenville\",\n",
        "    \"555 456 0987\",\n",
        "    \"jane.doe@example.com\"\n",
        ")\n",
        "\n",
        "person.age, person.age_last_recalculated        "
      ],
      "execution_count": null,
      "outputs": [
        {
          "output_type": "execute_result",
          "data": {
            "text/plain": [
              "(27, datetime.date(2019, 10, 18))"
            ]
          },
          "metadata": {
            "tags": []
          },
          "execution_count": 4
        }
      ]
    },
    {
      "cell_type": "markdown",
      "metadata": {
        "id": "OMt5lCulOBcV"
      },
      "source": [
        "20) Explain the differences between the attributes `name`, `surname` and `profession`, and what values they can have in different instances of this class:\n",
        "\n",
        "```python\n",
        "class Smith:\n",
        "    surname = \"Smith\"\n",
        "    profession = \"smith\"\n",
        "\n",
        "    def __init__(self, name, profession=None):\n",
        "        self.name = name\n",
        "        if profession is not None:\n",
        "            self.profession = profession\n",
        "```            "
      ]
    },
    {
      "cell_type": "markdown",
      "metadata": {
        "id": "aC9gxinq0ifY"
      },
      "source": [
        "Answers:\n",
        "\n",
        "`name` is always an instance attribute which is set in the `__init__` function, and each instance object can have a different `name` value. `surname` is always a class attribute, and cannot be overridden in the initializer/constructor – every instance will have a `surname` value of `Smith`. `profession` is a class attribute, but it can be optionally masked by an instance attribute in the initializer/constructor. Each instance will have a `profession` value of `smith` unless the optional `profession` parameter (`profession=None`) of the `__init__` function takes a non-`None` argument when the instance is initialized."
      ]
    },
    {
      "cell_type": "markdown",
      "metadata": {
        "id": "eeIW4NWZOhdF"
      },
      "source": [
        "21) Create a class called `Numbers`, which has a single class attribute called `MULTIPLIER`, and an initializer which has the parameters `x` and `y` (these should all be numbers).\n",
        "\n",
        "- Write a function attribute called `add` which returns the sum of the attributes `x` and `y`.\n",
        "- Write a function attribute called `multiply`, which has a single number parameter `a` and returns the product of `a` and `MULTIPLIER`.\n",
        "- Write a function attribute called `subtract`, which has two number parameters, `b` and `c`, and returns `b - c`.\n"
      ]
    },
    {
      "cell_type": "code",
      "metadata": {
        "colab": {
          "base_uri": "https://localhost:8080/",
          "height": 67
        },
        "id": "bGetRMrU2bag",
        "outputId": "f74f6b17-2a0a-4da5-9e7f-cc54bebfaa74"
      },
      "source": [
        "class Numbers:\n",
        "    MULTIPLIER = 3.5\n",
        "\n",
        "    def __init__(self, x, y):\n",
        "        self.x = x\n",
        "        self.y = y\n",
        "\n",
        "    def add(self):\n",
        "        return self.x + self.y\n",
        "\n",
        "    def multiply(self, a):\n",
        "        return self.MULTIPLIER * a\n",
        "\n",
        "    def subtract(b, c):\n",
        "        return b - c\n",
        "      \n",
        "numbers = Numbers(3, 10)\n",
        "print(numbers.add())\n",
        "print(numbers.multiply(100))\n",
        "print(Numbers.subtract(2, 5))      "
      ],
      "execution_count": null,
      "outputs": [
        {
          "output_type": "stream",
          "text": [
            "13\n",
            "350.0\n",
            "-3\n"
          ],
          "name": "stdout"
        }
      ]
    }
  ]
}