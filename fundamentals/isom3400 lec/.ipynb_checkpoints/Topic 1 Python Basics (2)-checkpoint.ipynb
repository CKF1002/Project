{
 "cells": [
  {
   "cell_type": "markdown",
   "metadata": {
    "id": "PR8puyJoMSOF"
   },
   "source": [
    "[What’s Markdown?](https://www.markdownguide.org/getting-started)\n",
    "\n",
    "[Basic Syntax](https://www.markdownguide.org/basic-syntax/)"
   ]
  },
  {
   "cell_type": "markdown",
   "metadata": {
    "id": "8lGOtXRFPzth"
   },
   "source": [
    "\n",
    "\n",
    "At their base, programs written in Python are composed of <b>*expressions*</b>, which are \"phrases\" of code Python ***evaluates to produce values***. \n",
    "\n",
    "- Expressions often contains <b>*operators*</b>, a set of special symbols that carry out computations. \n",
    "\n",
    "---\n",
    "\n",
    "# Using Python as a Calculator\n",
    "\n",
    "\n",
    "\n",
    "\n",
    " \n",
    "\n",
    "The <font color='royalblue'><b>*arithmetic operators*</b></font> `+`, `-`, `*`, `/`, and `**` perform addition, subtraction, multiplication, division, and exponentiation:"
   ]
  },
  {
   "cell_type": "code",
   "execution_count": null,
   "metadata": {},
   "outputs": [],
   "source": [
    "1.2 + 2 + 2"
   ]
  },
  {
   "cell_type": "code",
   "execution_count": null,
   "metadata": {
    "id": "QsLURoqWQAzT"
   },
   "outputs": [],
   "source": [
    "5 * 2"
   ]
  },
  {
   "cell_type": "code",
   "execution_count": null,
   "metadata": {},
   "outputs": [],
   "source": [
    "5 ** 2        # 5 squared"
   ]
  },
  {
   "cell_type": "markdown",
   "metadata": {
    "id": "_51XgM37MSOM"
   },
   "source": [
    "<div class=\"alert alert-info\">\n",
    " In computer science, a literal is a notation for representing a fixed value in source code.</div>"
   ]
  },
  {
   "cell_type": "markdown",
   "metadata": {
    "id": "XCmg3g_rfYbW"
   },
   "source": [
    "Parentheses (`()`) can be used for grouping:"
   ]
  },
  {
   "cell_type": "code",
   "execution_count": null,
   "metadata": {
    "id": "avNCWAiGP_Qq"
   },
   "outputs": [],
   "source": [
    "(15 - 10) * 2 / 5"
   ]
  },
  {
   "cell_type": "markdown",
   "metadata": {
    "id": "wPt_dVQ6QVmq"
   },
   "source": [
    "The `//` operator performs <font color='royalblue'><b>*integer or floored division*</b></font> that keeps only the integer part of the result, while the `%` operator calculates the remainder:"
   ]
  },
  {
   "cell_type": "code",
   "execution_count": null,
   "metadata": {
    "id": "SXxA-pIwTvYL"
   },
   "outputs": [],
   "source": [
    "5 * 3 + 2"
   ]
  },
  {
   "cell_type": "code",
   "execution_count": null,
   "metadata": {},
   "outputs": [],
   "source": [
    "17 / 3    # always return a result with a fractional part"
   ]
  },
  {
   "cell_type": "code",
   "execution_count": null,
   "metadata": {},
   "outputs": [],
   "source": [
    "17 // 3   # discard the fractional part"
   ]
  },
  {
   "cell_type": "code",
   "execution_count": null,
   "metadata": {},
   "outputs": [],
   "source": [
    "17 % 3    # return the remainder of the division"
   ]
  },
  {
   "cell_type": "markdown",
   "metadata": {
    "id": "Ykk2x7UuQxgK"
   },
   "source": [
    "---\n",
    "# Comparing Values\n",
    "\n",
    "<font color='royalblue'><b>*Comparison (relational) operators*</b></font> are used to compare values on either sides of them. It returns either of the two <font color='royalblue'><b>*Boolean*</b></font> values, `True` and `False`.\n",
    "\n"
   ]
  },
  {
   "cell_type": "code",
   "execution_count": null,
   "metadata": {},
   "outputs": [],
   "source": [
    "2 <= 5"
   ]
  },
  {
   "cell_type": "code",
   "execution_count": null,
   "metadata": {
    "id": "vmzrggo7WSjN"
   },
   "outputs": [],
   "source": [
    "# chained in the mathematically obvious way\n",
    "# it can only be written as 2 < 5 and 5 <= 5.0 in other languages\n",
    "2 < 5 <= 5.0  "
   ]
  },
  {
   "cell_type": "markdown",
   "metadata": {
    "id": "KanNkLafVKso"
   },
   "source": [
    "The table summarizes comparision operators:\n",
    "\n",
    "| Operator | Meaning |\n",
    "|----|---|\n",
    "| == | Equal to - `True` if both operands are equal |\n",
    "| !=  | Not equal to - `True` if operands are not equal |\n",
    "| < | Less than - `True` if left operand is less than the right |\n",
    "| > | Greater than - `True` if left operand is greater than the right |\n",
    "| <=  | Less than or equal to - `True` if left operand is less than or equal to the right |\n",
    "| >=  | Greater than or equal to - `True` if left operand is greater than or equal to the right |\n",
    "\n"
   ]
  },
  {
   "cell_type": "markdown",
   "metadata": {
    "id": "y5nz76vPkgP0"
   },
   "source": [
    "---\n",
    "\n",
    "\n",
    "## Boolean Values: `True` and `False`\n",
    "\n",
    "\n",
    "In computer science, the **Boolean data type** (`bool` for short in Python) is a data type that can only take on two truth values, `True` or `False`, intended to represent the truth values of logic and Boolean algebra.\n",
    "\n",
    "\n",
    " \n",
    " <img src=\"https://raw.githubusercontent.com/justinjiajia/img/master/python/truefalse.png\" width=\"300\" /> "
   ]
  },
  {
   "cell_type": "code",
   "execution_count": null,
   "metadata": {},
   "outputs": [],
   "source": [
    "True           # reserved keywords; in bold"
   ]
  },
  {
   "cell_type": "code",
   "execution_count": null,
   "metadata": {
    "cell_style": "split",
    "id": "kREZmZddkgP1"
   },
   "outputs": [],
   "source": [
    "False"
   ]
  },
  {
   "cell_type": "markdown",
   "metadata": {
    "id": "2vmnOtMUWmA0"
   },
   "source": [
    "----\n",
    "\n",
    "# Logical Operators\n",
    "\n",
    "<font color='royalblue'><b>*Logical (Boolean) operators*</b></font> `and`, `or` and `not` perform Boolean logic upon two Boolean expressions and return Boolean results (`True` or `False`).\n"
   ]
  },
  {
   "cell_type": "code",
   "execution_count": null,
   "metadata": {},
   "outputs": [],
   "source": [
    "not True                         # only require one operand"
   ]
  },
  {
   "cell_type": "code",
   "execution_count": null,
   "metadata": {},
   "outputs": [],
   "source": [
    "False or False"
   ]
  },
  {
   "cell_type": "code",
   "execution_count": null,
   "metadata": {},
   "outputs": [],
   "source": [
    "2 < 5 and not False"
   ]
  },
  {
   "cell_type": "code",
   "execution_count": null,
   "metadata": {
    "id": "7HFvKyHUXjn0"
   },
   "outputs": [],
   "source": [
    "2 < 5 and 5 < 5.0 or 5 < 1024"
   ]
  },
  {
   "cell_type": "markdown",
   "metadata": {
    "id": "bz1ePYtCXu98"
   },
   "source": [
    "Logical operators in Python are summarized as follows. The order indicates the relative levels of precedence (ordered by descending priority):\n",
    "\n",
    "\n",
    "|Operator|Meaning|\n",
    "|:-- |:-- |\n",
    "|not|True if operand is false (complements the operand)|\n",
    "|and|True if both the operands are true|\n",
    "|or|True if either of the operands is true|\n"
   ]
  },
  {
   "cell_type": "markdown",
   "metadata": {
    "id": "MXNENMdEgh03"
   },
   "source": [
    "---\n",
    "# Objects and Their Types\n",
    "\n",
    "Everything in Python is an object, and every object has  an <font color='royalblue'><b>*identity*</b></font>, a <font color='royalblue'><b>*type*</b></font>, and a <font color='royalblue'><b>*value*</b></font>.\n",
    "\n"
   ]
  },
  {
   "cell_type": "markdown",
   "metadata": {
    "id": "NWgo3f5KhMKX"
   },
   "source": [
    "The built-in function `type()` returns an object's type:"
   ]
  },
  {
   "cell_type": "code",
   "execution_count": null,
   "metadata": {},
   "outputs": [],
   "source": [
    "type(True)"
   ]
  },
  {
   "cell_type": "code",
   "execution_count": null,
   "metadata": {},
   "outputs": [],
   "source": [
    "25"
   ]
  },
  {
   "cell_type": "code",
   "execution_count": null,
   "metadata": {},
   "outputs": [],
   "source": [
    "type(5**2) "
   ]
  },
  {
   "cell_type": "code",
   "execution_count": null,
   "metadata": {},
   "outputs": [],
   "source": [
    "type(2.0)  # with a decimal point"
   ]
  },
  {
   "cell_type": "code",
   "execution_count": null,
   "metadata": {},
   "outputs": [],
   "source": [
    "type(3.8e15)  # with an exponent; base 10"
   ]
  },
  {
   "cell_type": "code",
   "execution_count": null,
   "metadata": {},
   "outputs": [],
   "source": [
    "15 / 5"
   ]
  },
  {
   "cell_type": "code",
   "execution_count": null,
   "metadata": {},
   "outputs": [],
   "source": [
    "type(15 / 5)"
   ]
  },
  {
   "cell_type": "code",
   "execution_count": null,
   "metadata": {},
   "outputs": [],
   "source": [
    "17 // 5"
   ]
  },
  {
   "cell_type": "code",
   "execution_count": null,
   "metadata": {},
   "outputs": [],
   "source": [
    "type(17 // 3)"
   ]
  },
  {
   "cell_type": "code",
   "execution_count": null,
   "metadata": {},
   "outputs": [],
   "source": [
    "17 % 3"
   ]
  },
  {
   "cell_type": "code",
   "execution_count": null,
   "metadata": {},
   "outputs": [],
   "source": [
    "type(17 % 3)"
   ]
  },
  {
   "cell_type": "markdown",
   "metadata": {
    "id": "P3HvJKbIh3qI"
   },
   "source": [
    " ---\n",
    " \n",
    " <img src=\"https://drive.google.com/uc?export=download&id=1Piv8HYgP4AZOFq-l4NE01w03SJHiB9nQ\" width=\"250\"></img>\n",
    " \n",
    " In a computer's memory, everything is **bits**:\n",
    " \n",
    "   <img src=\"https://raw.githubusercontent.com/justinjiajia/img/master/python/code.jpg\" width=\"450\" /> \n",
    "  \n",
    "\n",
    "\n",
    "\n",
    "What a type does is two things:\n",
    "\n",
    "- First, it tells a program, you should be reading these sequences in chunks of, let's say, 32 bits.\n",
    "\n",
    "- Second, it tells what a sequence of bits represent.\n",
    "   - Does `11101000 10110010 10010011` represent \"貓\" or 15250067?\n",
    "\n",
    "\n",
    "\n",
    "<img src=\"https://drive.google.com/uc?id=19zYct-z0nt46oiV3bF-bavFnc-8Pj_yy\" />"
   ]
  },
  {
   "cell_type": "markdown",
   "metadata": {
    "id": "5tYQ9MsV_Uxa"
   },
   "source": [
    "\n",
    "\n",
    "\n",
    "An object's  <font color='royalblue'><b>*type*</b></font> determines:\n",
    "\n",
    "- A domain of possible values, e.g.:\n",
    "\n",
    "    - `True` and `False` have type `bool` (short for Boolean values);\n",
    "    - The integer numbers (e.g., `1`, `2`, `-34`, `1024`) have type `int`;\n",
    "    - The numbers with a decimal point or an exponent (or both) (e.g., `2.0`, `3.2`, `.3`, `3.8e15`) have type `float` (short for floating-point numbers).\n",
    "    \n",
    "- A set of possible operations that can be performed on these values (e.g., common integer arithmetic operations are `+`, `-`, `*`, and `/`).\n",
    "\n"
   ]
  },
  {
   "cell_type": "markdown",
   "metadata": {
    "id": "6IvwVp2AzfmM"
   },
   "source": [
    "---\n",
    "# Variables\n",
    "\n",
    "One of the most powerful features of a programming language is the ability to manipulate  <font color='royalblue'><b>*variables*</b></font>. In Python, a variable is a name that refers to an object.\n",
    "\n",
    "Using the equal sign (`=`), an assignment statement defines a variable by\n",
    "\n",
    "- Evaluating the expression on the right of `=` to construct a new or retrieve an existing object;\n",
    "\n",
    "- Binding a name on the left of `=` to the object."
   ]
  },
  {
   "cell_type": "code",
   "execution_count": null,
   "metadata": {
    "id": "SBENOmJyze4n"
   },
   "outputs": [],
   "source": [
    "width = 10"
   ]
  },
  {
   "cell_type": "markdown",
   "metadata": {
    "id": "wLgxlKXn_9dn"
   },
   "source": [
    "\n",
    "\n",
    "<img src=\"https://drive.google.com/uc?export=downlad&id=1uheGvQwd1QKA31079wrb00oz69TPBphp\" width=120 />\n",
    "\n",
    "\n",
    "\n"
   ]
  },
  {
   "cell_type": "code",
   "execution_count": null,
   "metadata": {
    "id": "KFRBAU07z1dP"
   },
   "outputs": [],
   "source": [
    "height = 12"
   ]
  },
  {
   "cell_type": "markdown",
   "metadata": {
    "id": "bF5DNkdIATfY"
   },
   "source": [
    "<img src=\"https://drive.google.com/uc?export=download&id=1noQk14W8DapSobdMD42fhPbgNd-v405K\" width=125></img>"
   ]
  },
  {
   "cell_type": "markdown",
   "metadata": {
    "id": "AKut-oZOAnJP"
   },
   "source": [
    "When we enter a name in Python, it gives us back the object bound to it:"
   ]
  },
  {
   "cell_type": "code",
   "execution_count": null,
   "metadata": {},
   "outputs": [],
   "source": [
    "width"
   ]
  },
  {
   "cell_type": "code",
   "execution_count": null,
   "metadata": {},
   "outputs": [],
   "source": [
    "height"
   ]
  },
  {
   "cell_type": "code",
   "execution_count": null,
   "metadata": {},
   "outputs": [],
   "source": [
    "area = width * height"
   ]
  },
  {
   "cell_type": "markdown",
   "metadata": {
    "id": "tlLM4RJLBC9g"
   },
   "source": [
    "<img src=\"https://drive.google.com/uc?export=download&id=1dVjPAGUcdzucr4NvTkYjgQThUallxHDA\" width=300></img>"
   ]
  },
  {
   "cell_type": "code",
   "execution_count": null,
   "metadata": {},
   "outputs": [],
   "source": [
    "area"
   ]
  },
  {
   "cell_type": "code",
   "execution_count": null,
   "metadata": {
    "id": "QikJF5GOBe99"
   },
   "outputs": [],
   "source": [
    "width = width + 5 "
   ]
  },
  {
   "cell_type": "markdown",
   "metadata": {
    "id": "irIEx66tBiM5"
   },
   "source": [
    "<img src=\"https://drive.google.com/uc?export=download&id=1P52qb9mI3ZYKExxKmqmmohINoIg6E80L\" width=185></img>"
   ]
  },
  {
   "cell_type": "code",
   "execution_count": null,
   "metadata": {},
   "outputs": [],
   "source": [
    "width"
   ]
  },
  {
   "cell_type": "markdown",
   "metadata": {
    "id": "On_EWQlKB8iD"
   },
   "source": [
    "---\n",
    "\n",
    "## Compound/Augmented Assignment Operators\n",
    "\n",
    "`width = width + 5` examplifies a very common operation. Python provides a shorthand operator, `+=`, to express it more cleanly in \n"
   ]
  },
  {
   "cell_type": "code",
   "execution_count": null,
   "metadata": {},
   "outputs": [],
   "source": [
    "width += 5\n",
    "width"
   ]
  },
  {
   "cell_type": "markdown",
   "metadata": {
    "id": "0-4_9z7MTpob"
   },
   "source": [
    "Similar operators (<font color='royalblue'><b>*compound/augmented assignment operators*</b></font>) include `-=`, `*=`,  `%=`, and so on:"
   ]
  },
  {
   "cell_type": "code",
   "execution_count": null,
   "metadata": {},
   "outputs": [],
   "source": [
    "width /= 5; width"
   ]
  },
  {
   "cell_type": "markdown",
   "metadata": {
    "id": "cbUTtUiiCrMD"
   },
   "source": [
    "Multiple names can be bound to the same object:"
   ]
  },
  {
   "cell_type": "code",
   "execution_count": null,
   "metadata": {
    "id": "OxzqciUtkgQJ"
   },
   "outputs": [],
   "source": [
    "i = 5"
   ]
  },
  {
   "cell_type": "code",
   "execution_count": null,
   "metadata": {
    "id": "F1aX1dJ1kgQJ"
   },
   "outputs": [],
   "source": [
    "j = 5"
   ]
  },
  {
   "cell_type": "code",
   "execution_count": null,
   "metadata": {},
   "outputs": [],
   "source": [
    "id(i)"
   ]
  },
  {
   "cell_type": "code",
   "execution_count": null,
   "metadata": {},
   "outputs": [],
   "source": [
    "id(j)"
   ]
  },
  {
   "cell_type": "markdown",
   "metadata": {
    "id": "mwLhoijQ8c0e"
   },
   "source": [
    "\n",
    "<img src=\"https://drive.google.com/uc?export=download&id=1p05AgnyGy0PpSEK1wOC62lwC-QVzOq6l\" width=\"100\"/></img>"
   ]
  },
  {
   "cell_type": "markdown",
   "metadata": {
    "id": "Qslo51uDECLy"
   },
   "source": [
    "To see this, we can use the `id()` function to return an integer representing the identity of the object:"
   ]
  },
  {
   "cell_type": "code",
   "execution_count": null,
   "metadata": {},
   "outputs": [],
   "source": [
    "id(i)"
   ]
  },
  {
   "cell_type": "code",
   "execution_count": null,
   "metadata": {},
   "outputs": [],
   "source": [
    "id(j)"
   ]
  },
  {
   "cell_type": "markdown",
   "metadata": {
    "id": "O7ONE_IvCyxZ"
   },
   "source": [
    "**<font color='steelblue' > Question </font>**: What is the value of `j` after evaluating `i += 7`?"
   ]
  },
  {
   "cell_type": "code",
   "execution_count": null,
   "metadata": {},
   "outputs": [],
   "source": []
  },
  {
   "cell_type": "markdown",
   "metadata": {
    "id": "p3cs5dftIv8n"
   },
   "source": [
    "---\n",
    "\n",
    "## Naming Conventions\n",
    "\n",
    "Python has some rules to follow when forming a variable name:\n",
    "\n",
    "- Can contain both letters (uppercase or lowercase), digits (but cannot start with a number), and the underscore character (_).\n",
    "\n",
    "- Python's keywords cannot be used as variable names, because the Python interpreter uses them to recognize the structure of the program."
   ]
  },
  {
   "cell_type": "code",
   "execution_count": null,
   "metadata": {
    "id": "ShlXtEoPkgQO",
    "outputId": "e44cde0e-0fc3-4aff-cb36-6cdcde921a3a"
   },
   "outputs": [
    {
     "ename": "SyntaxError",
     "evalue": "cannot assign to True (<ipython-input-51-da5279a5acf3>, line 1)",
     "output_type": "error",
     "traceback": [
      "\u001b[1;36m  File \u001b[1;32m\"<ipython-input-51-da5279a5acf3>\"\u001b[1;36m, line \u001b[1;32m1\u001b[0m\n\u001b[1;33m    True = 49.2\u001b[0m\n\u001b[1;37m    ^\u001b[0m\n\u001b[1;31mSyntaxError\u001b[0m\u001b[1;31m:\u001b[0m cannot assign to True\n"
     ]
    }
   ],
   "source": [
    "True = 49.2"
   ]
  },
  {
   "cell_type": "code",
   "execution_count": 1,
   "metadata": {
    "colab": {
     "base_uri": "https://localhost:8080/"
    },
    "executionInfo": {
     "elapsed": 1733,
     "status": "ok",
     "timestamp": 1614242149336,
     "user": {
      "displayName": "Kwan Veronica",
      "photoUrl": "",
      "userId": "02730144426697756961"
     },
     "user_tz": -480
    },
    "id": "_tnr7Se7IzzC",
    "outputId": "7ada1683-1eb6-4900-f110-e905768749a4"
   },
   "outputs": [
    {
     "name": "stdout",
     "output_type": "stream",
     "text": [
      "['False', 'None', 'True', 'and', 'as', 'assert', 'async', 'await', 'break', 'class', 'continue', 'def', 'del', 'elif', 'else', 'except', 'finally', 'for', 'from', 'global', 'if', 'import', 'in', 'is', 'lambda', 'nonlocal', 'not', 'or', 'pass', 'raise', 'return', 'try', 'while', 'with', 'yield']\n"
     ]
    }
   ],
   "source": [
    "import keyword\n",
    "print(keyword.kwlist)"
   ]
  },
  {
   "cell_type": "markdown",
   "metadata": {
    "id": "i4CtL_zIJBGl"
   },
   "source": [
    "A good coding style requires a variable name to be  ***descriptive***  and  ***mnemonic***."
   ]
  },
  {
   "cell_type": "code",
   "execution_count": null,
   "metadata": {
    "id": "cufjK1xrkgQP"
   },
   "outputs": [],
   "source": [
    "course_code = \"ISOM3400\"\n",
    "course_credit = 3              \n",
    "is_elective = True            "
   ]
  },
  {
   "cell_type": "markdown",
   "metadata": {
    "id": "M9I_J0oShEYH"
   },
   "source": [
    "----\n",
    "# Functions"
   ]
  },
  {
   "cell_type": "markdown",
   "metadata": {
    "id": "Xro--X1T3eTI"
   },
   "source": [
    "> Programming = Data + Function"
   ]
  },
  {
   "cell_type": "markdown",
   "metadata": {
    "id": "u6HfueVZjpKJ"
   },
   "source": [
    "A function is a machine which turns input objects (called the arguments) into an output object (called the return value), according to a definite rule (defined somewhere for this function).\n",
    "\n"
   ]
  },
  {
   "cell_type": "markdown",
   "metadata": {
    "id": "JrxKY81ZKC29"
   },
   "source": [
    "\n",
    "\n",
    "We can  draw an analogy of a programming function to a mathematical function. \n",
    "\n",
    "\n",
    "\n",
    "Consider $f(a,b)=a^2+b^2$:\n",
    "\n",
    "- A function definition usually associates a name (i.e., $f$) with a sequence of statements that performs a computation (i.e., $a^2+b^2$).\n",
    "\n",
    "- Once a function is defined, we can \"call\" it by name with necessary inputs provided (i.e., $f(3,5)$).\n",
    "\n",
    "- When a function is called or invoked, Python goes back and looks up its definition, executes the code inside the function definition (i.e., $3^2+5^2$), and return an output (i.e., $34$)."
   ]
  },
  {
   "cell_type": "markdown",
   "metadata": {
    "id": "MZQ6tHCEkisI"
   },
   "source": [
    "Python provides a number of [built-in functions](https://docs.python.org/3/library/functions.html) that we can use without needs to provide the function definition as well as import an external module:"
   ]
  },
  {
   "cell_type": "code",
   "execution_count": null,
   "metadata": {},
   "outputs": [],
   "source": [
    "abs(-5.11)"
   ]
  },
  {
   "cell_type": "code",
   "execution_count": null,
   "metadata": {},
   "outputs": [],
   "source": [
    "round(4.55892, 2)"
   ]
  },
  {
   "cell_type": "code",
   "execution_count": null,
   "metadata": {},
   "outputs": [],
   "source": [
    "max(1, 2, 3, 4, 5)"
   ]
  },
  {
   "cell_type": "code",
   "execution_count": null,
   "metadata": {},
   "outputs": [],
   "source": [
    "min(1, 2, 3, 4, 5)"
   ]
  },
  {
   "cell_type": "code",
   "execution_count": null,
   "metadata": {},
   "outputs": [],
   "source": [
    "pow(2, 3)"
   ]
  },
  {
   "cell_type": "code",
   "execution_count": null,
   "metadata": {},
   "outputs": [],
   "source": [
    "divmod(9, 2)"
   ]
  },
  {
   "cell_type": "markdown",
   "metadata": {
    "id": "V2Rzriz9lTba"
   },
   "source": [
    "Typing a function's name without `()` echos \"the value\" or more precisely the <font color=\"royalblue\">**string representation**</font> of the function:"
   ]
  },
  {
   "cell_type": "code",
   "execution_count": null,
   "metadata": {
    "id": "qBN9YyLJlT7p",
    "outputId": "7be3acf1-89b9-4f0d-8912-d5b7f8e6ea5f"
   },
   "outputs": [
    {
     "data": {
      "text/plain": [
       "<function max>"
      ]
     },
     "execution_count": 7,
     "metadata": {
      "tags": []
     },
     "output_type": "execute_result"
    }
   ],
   "source": [
    "max"
   ]
  },
  {
   "cell_type": "markdown",
   "metadata": {
    "id": "MGbmYUX6k6cy"
   },
   "source": [
    "If the usage of a function is unknown, we can call `help()` to print help for the function:"
   ]
  },
  {
   "cell_type": "code",
   "execution_count": null,
   "metadata": {
    "colab": {
     "base_uri": "https://localhost:8080/",
     "height": 202
    },
    "id": "ToI27i89k53w",
    "outputId": "518d7698-0ada-48d0-db1b-843e5d114569"
   },
   "outputs": [
    {
     "name": "stdout",
     "output_type": "stream",
     "text": [
      "Help on built-in function max in module builtins:\n",
      "\n",
      "max(...)\n",
      "    max(iterable, *[, default=obj, key=func]) -> value\n",
      "    max(arg1, arg2, *args, *[, key=func]) -> value\n",
      "    \n",
      "    With a single iterable argument, return its biggest item. The\n",
      "    default keyword-only argument specifies an object to return if\n",
      "    the provided iterable is empty.\n",
      "    With two or more arguments, return the largest argument.\n",
      "\n"
     ]
    }
   ],
   "source": [
    "help(max)"
   ]
  },
  {
   "cell_type": "markdown",
   "metadata": {
    "id": "QNvvdDDqiwVD"
   },
   "source": [
    "---\n",
    "# Strings\n",
    "\n",
    "Besides numbers and Booleans, Python can also manipulate strings, which are sequences of characters.\n",
    "\n",
    "Strings are constructed by enclosing string literals in single quotes (`'`) or double quotes (`\"`):"
   ]
  },
  {
   "cell_type": "code",
   "execution_count": null,
   "metadata": {},
   "outputs": [],
   "source": [
    "'Welcome to Python Programming'"
   ]
  },
  {
   "cell_type": "code",
   "execution_count": null,
   "metadata": {},
   "outputs": [],
   "source": [
    "\"Welcome to Python Programming\""
   ]
  },
  {
   "cell_type": "markdown",
   "metadata": {
    "id": "F1eHBZnWjbw-"
   },
   "source": [
    " Single quoted strings can contain double quotes, and vice versa"
   ]
  },
  {
   "cell_type": "code",
   "execution_count": null,
   "metadata": {
    "id": "Ba1AIO3ijbBV"
   },
   "outputs": [],
   "source": [
    "\"Programming isn't hard.\""
   ]
  },
  {
   "cell_type": "code",
   "execution_count": null,
   "metadata": {
    "id": "9H-jsam6jx62"
   },
   "outputs": [],
   "source": [
    "'\"Yes\", they said.'"
   ]
  },
  {
   "cell_type": "markdown",
   "metadata": {
    "id": "c6pInT4pjLMw"
   },
   "source": [
    "What if we have to use single (double) quotes literally in a single(double)-quoted string? Escape their special behaviors with backslashes (`\\`):"
   ]
  },
  {
   "cell_type": "code",
   "execution_count": null,
   "metadata": {},
   "outputs": [],
   "source": [
    "'\"No, it isn\\'t\", they said' "
   ]
  },
  {
   "cell_type": "markdown",
   "metadata": {
    "id": "LpMpaBA_oE7M"
   },
   "source": [
    "When we press the <kbd class=\"\">Enter</kbd> key, a <b>*newline character*</b> (`\\n`) is generated to signify the end of a line. Typically, Python uses newlines to delineate statements. \n",
    "\n",
    "We can make a string literal span multiple lines by including a backslash character `\\` at the end of each line to escape the newline (`\\n`):\n"
   ]
  },
  {
   "cell_type": "code",
   "execution_count": null,
   "metadata": {},
   "outputs": [],
   "source": [
    "'Python Programming \\\n",
    "for Business Analytics'"
   ]
  },
  {
   "cell_type": "markdown",
   "metadata": {
    "id": "j5cdIus6oRVt"
   },
   "source": [
    "String literals inside triple quotes, `\"\"\"` or `'''`, can span multiple lines of text. Newlines (`\\n`) are automatically included in the string literal."
   ]
  },
  {
   "cell_type": "code",
   "execution_count": null,
   "metadata": {},
   "outputs": [],
   "source": [
    "'''Python Programming\n",
    "for Business Analytics'''"
   ]
  },
  {
   "cell_type": "markdown",
   "metadata": {
    "id": "F0xQ03GJozSo"
   },
   "source": [
    "`print()` is used to display the actual string represented by a string literal:"
   ]
  },
  {
   "cell_type": "code",
   "execution_count": null,
   "metadata": {},
   "outputs": [],
   "source": [
    "print('ISOM3400\\nPython Programming\\nfor Business Analytics')"
   ]
  },
  {
   "cell_type": "markdown",
   "metadata": {
    "id": "3-m8yOGEkIrs"
   },
   "source": [
    "## Escape Sequences\n",
    "\n",
    "An  <font color='royalblue'><b>*escape sequence*</b></font> (of characters) can be used to denote a special character which cannot be typed easily on a keyboard or one which has been reserved for other purposes.\n",
    "\n",
    "Some common escape sequences include:\n",
    "\n",
    "|Sequence|Meaning|\n",
    "|:-- |:-- |\n",
    "|`\\\\`|literal backslash|\n",
    "|`\\'`|single quote|\n",
    "|`\\\"`|double quote|\n",
    "|`\\t`|tab|\n",
    "|`\\n`|newline|"
   ]
  },
  {
   "cell_type": "markdown",
   "metadata": {
    "id": "FEdpi9m0qKLV"
   },
   "source": [
    "**<font color='steelblue' > Question </font>**: How to print the following using escape sequences:\n",
    "\n",
    "`I don't think \"a\" is equal to \"A\" in 'Python'`"
   ]
  },
  {
   "cell_type": "code",
   "execution_count": null,
   "metadata": {},
   "outputs": [],
   "source": []
  },
  {
   "cell_type": "markdown",
   "metadata": {
    "id": "UXt5nK-HGIZF"
   },
   "source": [
    "## Accepting User Inputs\n",
    "\n",
    "Programs often need to obtain data from the user, usually by way of input from the keyboard. The simplest way to accomplish this in Python is with `input()`.\n",
    "\n",
    "`input(prompt)` prompts for and returns input as a string. We can assign what is returned into a variable, to be used later. "
   ]
  },
  {
   "cell_type": "code",
   "execution_count": null,
   "metadata": {},
   "outputs": [],
   "source": [
    "name = input(\"What is your name? \")\n",
    "age =  input(\"What is your age? \")      \n",
    "gender = input(\"What is your gender? \")"
   ]
  },
  {
   "cell_type": "code",
   "execution_count": null,
   "metadata": {},
   "outputs": [],
   "source": [
    "age"
   ]
  },
  {
   "cell_type": "code",
   "execution_count": null,
   "metadata": {},
   "outputs": [],
   "source": [
    "type(age)"
   ]
  },
  {
   "cell_type": "markdown",
   "metadata": {
    "id": "NP3gQO8siTNR"
   },
   "source": [
    "To display the contents of these variables, pass them as a comma-separated list of argument to `print()`. By default, `print()` separates the content of each argument by a single space and appends a newline to the end of the output:"
   ]
  },
  {
   "cell_type": "code",
   "execution_count": null,
   "metadata": {},
   "outputs": [],
   "source": [
    "print(name, 'is', gender, 'at', age, 'years old.')"
   ]
  },
  {
   "cell_type": "code",
   "execution_count": null,
   "metadata": {
    "colab": {
     "base_uri": "https://localhost:8080/",
     "height": 218
    },
    "id": "i664F9yR4XG1",
    "outputId": "b4e080e7-a61c-4a1a-86c2-e96f31c73bbe"
   },
   "outputs": [
    {
     "name": "stdout",
     "output_type": "stream",
     "text": [
      "Help on built-in function print in module builtins:\n",
      "\n",
      "print(...)\n",
      "    print(value, ..., sep=' ', end='\\n', file=sys.stdout, flush=False)\n",
      "    \n",
      "    Prints the values to a stream, or to sys.stdout by default.\n",
      "    Optional keyword arguments:\n",
      "    file:  a file-like object (stream); defaults to the current sys.stdout.\n",
      "    sep:   string inserted between values, default a space.\n",
      "    end:   string appended after the last value, default a newline.\n",
      "    flush: whether to forcibly flush the stream.\n",
      "\n"
     ]
    }
   ],
   "source": [
    "help(print)"
   ]
  },
  {
   "cell_type": "code",
   "execution_count": null,
   "metadata": {},
   "outputs": [],
   "source": [
    "print(name, 'is', gender, sep='-', end='\\t')\n",
    "print('at', age, 'years old.', sep='-')"
   ]
  },
  {
   "cell_type": "markdown",
   "metadata": {
    "id": "MzJ4RGl1lMwa"
   },
   "source": [
    "## String Operations\n",
    "\n",
    "In Python, strings have type `str`, which is a special kind of <font color=\"royalblue\"><b>*sequence types*</b></font> (later). String objects support several operations and built-in functions.\n",
    "\n",
    "- The operators `+` and `*` works with strings:"
   ]
  },
  {
   "cell_type": "code",
   "execution_count": null,
   "metadata": {
    "id": "v8RTOGqalwQW"
   },
   "outputs": [],
   "source": [
    "course = 'Python Programming'"
   ]
  },
  {
   "cell_type": "code",
   "execution_count": null,
   "metadata": {},
   "outputs": [],
   "source": [
    "course + ' for Business Analtytics'"
   ]
  },
  {
   "cell_type": "code",
   "execution_count": null,
   "metadata": {},
   "outputs": [],
   "source": [
    "course * 2"
   ]
  },
  {
   "cell_type": "markdown",
   "metadata": {
    "id": "pUWnWqHPl3ll"
   },
   "source": [
    "- `-` and `/`, however, are incompatible with the `str` type:"
   ]
  },
  {
   "cell_type": "code",
   "execution_count": null,
   "metadata": {
    "colab": {
     "base_uri": "https://localhost:8080/",
     "height": 162
    },
    "id": "q_e3MmS8l3Bb",
    "outputId": "67b19f52-dc81-4a06-eaee-5a872feb075d"
   },
   "outputs": [
    {
     "ename": "TypeError",
     "evalue": "unsupported operand type(s) for -: 'str' and 'str'",
     "output_type": "error",
     "traceback": [
      "\u001b[1;31m---------------------------------------------------------------------------\u001b[0m",
      "\u001b[1;31mTypeError\u001b[0m                                 Traceback (most recent call last)",
      "\u001b[1;32m<ipython-input-33-9f3c505dd770>\u001b[0m in \u001b[0;36m<module>\u001b[1;34m\u001b[0m\n\u001b[1;32m----> 1\u001b[1;33m \u001b[0mcourse\u001b[0m \u001b[1;33m-\u001b[0m \u001b[1;34m'Programming'\u001b[0m\u001b[1;33m\u001b[0m\u001b[1;33m\u001b[0m\u001b[0m\n\u001b[0m",
      "\u001b[1;31mTypeError\u001b[0m: unsupported operand type(s) for -: 'str' and 'str'"
     ]
    }
   ],
   "source": [
    "course - 'Programming'"
   ]
  },
  {
   "cell_type": "code",
   "execution_count": null,
   "metadata": {
    "colab": {
     "base_uri": "https://localhost:8080/",
     "height": 162
    },
    "id": "fXm_QmKGmCnj",
    "outputId": "4a7e1b7a-ee06-4a69-8fd2-c83520a7f586"
   },
   "outputs": [
    {
     "ename": "TypeError",
     "evalue": "unsupported operand type(s) for /: 'str' and 'int'",
     "output_type": "error",
     "traceback": [
      "\u001b[1;31m---------------------------------------------------------------------------\u001b[0m",
      "\u001b[1;31mTypeError\u001b[0m                                 Traceback (most recent call last)",
      "\u001b[1;32m<ipython-input-34-44ec5a0e38f1>\u001b[0m in \u001b[0;36m<module>\u001b[1;34m\u001b[0m\n\u001b[1;32m----> 1\u001b[1;33m \u001b[0mcourse\u001b[0m \u001b[1;33m/\u001b[0m \u001b[1;36m2\u001b[0m\u001b[1;33m\u001b[0m\u001b[1;33m\u001b[0m\u001b[0m\n\u001b[0m",
      "\u001b[1;31mTypeError\u001b[0m: unsupported operand type(s) for /: 'str' and 'int'"
     ]
    }
   ],
   "source": [
    "course / 2"
   ]
  },
  {
   "cell_type": "markdown",
   "metadata": {
    "id": "Tth7Ic6ymM1y"
   },
   "source": [
    "- The  <font color=\"royalblue\"><b>*membership operators*</b></font> `in` and `not in` take two strings and return True if the first appears as a substring in the second:"
   ]
  },
  {
   "cell_type": "code",
   "execution_count": null,
   "metadata": {
    "id": "7a2vrvYhmjfl",
    "outputId": "6e223c61-8833-4efd-c546-d71b3259bc30"
   },
   "outputs": [
    {
     "data": {
      "text/plain": [
       "False"
      ]
     },
     "execution_count": 36,
     "metadata": {
      "tags": []
     },
     "output_type": "execute_result"
    }
   ],
   "source": [
    "'nan' not in 'banana'"
   ]
  },
  {
   "cell_type": "code",
   "execution_count": null,
   "metadata": {
    "id": "5Hb9ckxummUb",
    "outputId": "d9aa8c9c-296d-4b51-c7a9-4868e00ac0a1"
   },
   "outputs": [
    {
     "data": {
      "text/plain": [
       "False"
      ]
     },
     "execution_count": 37,
     "metadata": {
      "tags": []
     },
     "output_type": "execute_result"
    }
   ],
   "source": [
    "'p' in 'Python Programming'"
   ]
  },
  {
   "cell_type": "markdown",
   "metadata": {
    "id": "T2IBxjwtmx48"
   },
   "source": [
    "\n",
    "-  The comparison operators (e.g., `==`, `>`, `<=`) compare strings ***lexicographically***, the way in which sequences are ordering  based on the <b>*alphabetical order*</b> of their component characters:\n",
    "\n",
    "   - In alphabetical ordering, digits come before letters and capital letters come before lowercase letters.\n",
    "     - i.e., digits (as characters) < uppercase letters < lowercase letters.\n",
    "   - Compare the leftmost characters first, and generate `True` or `False` if their values differ, or continue until a difference is observed."
   ]
  },
  {
   "cell_type": "code",
   "execution_count": null,
   "metadata": {},
   "outputs": [],
   "source": [
    "'Python Programming' == 'python programming'"
   ]
  },
  {
   "cell_type": "code",
   "execution_count": null,
   "metadata": {},
   "outputs": [],
   "source": [
    "'Python Programming' < 'python programming'"
   ]
  },
  {
   "cell_type": "code",
   "execution_count": null,
   "metadata": {},
   "outputs": [],
   "source": [
    "'python programming' < 'python cookbook'"
   ]
  },
  {
   "cell_type": "code",
   "execution_count": null,
   "metadata": {},
   "outputs": [],
   "source": [
    "'9999' < 'A'"
   ]
  },
  {
   "cell_type": "markdown",
   "metadata": {
    "id": "MM1HpZt5pIw8"
   },
   "source": [
    "- `len()` returns the number of characters in a string:"
   ]
  },
  {
   "cell_type": "code",
   "execution_count": null,
   "metadata": {
    "id": "jIagmUnFpNnz",
    "outputId": "43db0873-7541-4338-a158-c73875e4d09f"
   },
   "outputs": [
    {
     "data": {
      "text/plain": [
       "18"
      ]
     },
     "execution_count": 41,
     "metadata": {
      "tags": []
     },
     "output_type": "execute_result"
    }
   ],
   "source": [
    "len(course)"
   ]
  },
  {
   "cell_type": "code",
   "execution_count": null,
   "metadata": {
    "colab": {
     "base_uri": "https://localhost:8080/",
     "height": 162
    },
    "id": "CfSuSowBpPre",
    "outputId": "e3ef9c4e-e04e-45d2-c4e9-a8925f04ec21"
   },
   "outputs": [
    {
     "ename": "TypeError",
     "evalue": "object of type 'bool' has no len()",
     "output_type": "error",
     "traceback": [
      "\u001b[1;31m---------------------------------------------------------------------------\u001b[0m",
      "\u001b[1;31mTypeError\u001b[0m                                 Traceback (most recent call last)",
      "\u001b[1;32m<ipython-input-43-8c3be77e04f4>\u001b[0m in \u001b[0;36m<module>\u001b[1;34m\u001b[0m\n\u001b[1;32m----> 1\u001b[1;33m \u001b[0mlen\u001b[0m\u001b[1;33m(\u001b[0m\u001b[1;32mTrue\u001b[0m\u001b[1;33m)\u001b[0m\u001b[1;33m\u001b[0m\u001b[1;33m\u001b[0m\u001b[0m\n\u001b[0m",
      "\u001b[1;31mTypeError\u001b[0m: object of type 'bool' has no len()"
     ]
    }
   ],
   "source": [
    "len(True)"
   ]
  },
  {
   "cell_type": "markdown",
   "metadata": {
    "id": "0DV0Hf6HrG_m"
   },
   "source": [
    "## String Indexing\n",
    "\n",
    "A string is a sequence of characters, and is ***reducible*** to the component characters.\n",
    "\n",
    "The characters in a string are indexed by integers (representing positions in the sequence), and can be individually accessed by using the indexing operator (`[]` that encloses an integer).\n",
    "\n",
    "The index set contains the integers 0, 1, …, and `len()-1` (<font color=\"royalblue\"><b>*0-based indexing*</b></font>).\n"
   ]
  },
  {
   "cell_type": "markdown",
   "metadata": {
    "id": "t1sYWRLgA8VZ"
   },
   "source": [
    "<img src=\"https://drive.google.com/uc?export=download&id=1EHN00tdfvArl7ci6ulNN2KS9_Or3yzWa\" width=600></img>"
   ]
  },
  {
   "cell_type": "code",
   "execution_count": null,
   "metadata": {},
   "outputs": [],
   "source": [
    "course[2]"
   ]
  },
  {
   "cell_type": "markdown",
   "metadata": {
    "id": "diwyoAAKCxL6"
   },
   "source": [
    "Strings can also be  <font color=\"salmon\">***back indexed***</font> using negative integers. Negative indexing counts backward from the end of a sequence and starts from `-1`.\n",
    "- i.e., `-1` refers to the last character, `-2` the second-to-last character, and so on"
   ]
  },
  {
   "cell_type": "code",
   "execution_count": null,
   "metadata": {},
   "outputs": [],
   "source": [
    "course[-3*6]"
   ]
  },
  {
   "cell_type": "markdown",
   "metadata": {
    "id": "ndtCWb1sQMGI"
   },
   "source": [
    "Out of range indexing will incur an error:"
   ]
  },
  {
   "cell_type": "code",
   "execution_count": null,
   "metadata": {
    "colab": {
     "base_uri": "https://localhost:8080/",
     "height": 162
    },
    "id": "lTu2bU9QQb-n",
    "outputId": "1eceec60-8d9b-4703-d6a2-dfd9fdef5bd8"
   },
   "outputs": [
    {
     "ename": "IndexError",
     "evalue": "string index out of range",
     "output_type": "error",
     "traceback": [
      "\u001b[1;31m---------------------------------------------------------------------------\u001b[0m",
      "\u001b[1;31mIndexError\u001b[0m                                Traceback (most recent call last)",
      "\u001b[1;32m<ipython-input-46-dbd31bb88304>\u001b[0m in \u001b[0;36m<module>\u001b[1;34m\u001b[0m\n\u001b[1;32m----> 1\u001b[1;33m \u001b[0mcourse\u001b[0m\u001b[1;33m[\u001b[0m\u001b[1;36m18\u001b[0m\u001b[1;33m]\u001b[0m\u001b[1;33m\u001b[0m\u001b[1;33m\u001b[0m\u001b[0m\n\u001b[0m",
      "\u001b[1;31mIndexError\u001b[0m: string index out of range"
     ]
    }
   ],
   "source": [
    "course[18]"
   ]
  },
  {
   "cell_type": "markdown",
   "metadata": {
    "id": "5fE62rTfO9Jt"
   },
   "source": [
    "---\n",
    "\n",
    "## String Slicing\n",
    "\n",
    "\n",
    "<img src=\"https://blog.tecladocode.com/content/images/size/w1000/2019/04/citric-citrus-color-997725.jpg\" width=400 />\n",
    "<Br>\n",
    "    \n",
    "Slicing is an operation that extracts a segment of a string (called a **slice**).\n",
    "\n",
    "The slicing operator `[i:j]` returns the part of the sequence from the element indexed by `i` to the element indexed by `j`, including the first but excluding the last:"
   ]
  },
  {
   "cell_type": "code",
   "execution_count": null,
   "metadata": {},
   "outputs": [],
   "source": [
    "course[0:6]"
   ]
  },
  {
   "cell_type": "code",
   "execution_count": null,
   "metadata": {},
   "outputs": [],
   "source": [
    "course[-18:-12]"
   ]
  },
  {
   "cell_type": "code",
   "execution_count": null,
   "metadata": {},
   "outputs": [],
   "source": [
    "course[0:-12]"
   ]
  },
  {
   "cell_type": "code",
   "execution_count": null,
   "metadata": {},
   "outputs": [],
   "source": [
    "course[-11:18] "
   ]
  },
  {
   "cell_type": "markdown",
   "metadata": {
    "id": "SFsh-4VFV0Rj"
   },
   "source": [
    "If the 1st argument is omitted, the slice starts at the beginning of the string; if the 2nd argument is omitted, the slice goes to the end of the string:"
   ]
  },
  {
   "cell_type": "code",
   "execution_count": null,
   "metadata": {},
   "outputs": [],
   "source": [
    "course[-11:]"
   ]
  },
  {
   "cell_type": "code",
   "execution_count": null,
   "metadata": {},
   "outputs": [],
   "source": [
    "course[:-12]"
   ]
  },
  {
   "cell_type": "code",
   "execution_count": null,
   "metadata": {},
   "outputs": [],
   "source": [
    "course[:]"
   ]
  },
  {
   "cell_type": "markdown",
   "metadata": {
    "id": "moEM01K1WHCE"
   },
   "source": [
    "---\n",
    "\n",
    "## Optional: Extended Slicing\n",
    "\n",
    "Strings support extended slicing with a third step argument supplied in the operator `[]` as in `[i:j:k]`. \n",
    "\n",
    "\n",
    "`[i:j:k]` first extracts the element indexed by $i$,  and counts either forward or backward (depending on the sign of $k$) with step size $|k|$ to find the second element. This search repeats until it goes beyond the element indexed by $j-1$."
   ]
  },
  {
   "cell_type": "code",
   "execution_count": null,
   "metadata": {
    "id": "AKoFqx4UWWVS"
   },
   "outputs": [],
   "source": [
    "course[-11:18:2] "
   ]
  },
  {
   "cell_type": "code",
   "execution_count": null,
   "metadata": {
    "id": "GDcbwosBW-Cr"
   },
   "outputs": [],
   "source": [
    "# Because the step size is negative, \n",
    "# the character referred to by the 1st argument should succeed that referred to by the 2nd \n",
    "course[17:0:-1] "
   ]
  },
  {
   "cell_type": "code",
   "execution_count": null,
   "metadata": {
    "id": "iwX9D3htd01N"
   },
   "outputs": [],
   "source": [
    "course[-13::-2]"
   ]
  },
  {
   "cell_type": "code",
   "execution_count": null,
   "metadata": {
    "id": "8xiWyJNWfIpN"
   },
   "outputs": [],
   "source": [
    "course[::-3]"
   ]
  },
  {
   "cell_type": "markdown",
   "metadata": {
    "id": "uvVMv0Mwe3sc"
   },
   "source": [
    "---\n",
    "\n",
    "## Strings are Immutable\n",
    "\n",
    "Strings in Python is  <font color=\"salmon\">***immutable***</font>. That is, the value of string objects cannot change:"
   ]
  },
  {
   "cell_type": "code",
   "execution_count": null,
   "metadata": {
    "colab": {
     "base_uri": "https://localhost:8080/",
     "height": 162
    },
    "id": "BD3Abf4xhtM4",
    "outputId": "386afd6c-a60e-452a-d5d9-a38032e29c24"
   },
   "outputs": [
    {
     "ename": "TypeError",
     "evalue": "ignored",
     "output_type": "error",
     "traceback": [
      "\u001b[0;31m---------------------------------------------------------------------------\u001b[0m",
      "\u001b[0;31mTypeError\u001b[0m                                 Traceback (most recent call last)",
      "\u001b[0;32m<ipython-input-8-c18cc7006df3>\u001b[0m in \u001b[0;36m<module>\u001b[0;34m()\u001b[0m\n\u001b[0;32m----> 1\u001b[0;31m \u001b[0mcourse\u001b[0m\u001b[0;34m[\u001b[0m\u001b[0;36m7\u001b[0m\u001b[0;34m]\u001b[0m \u001b[0;34m=\u001b[0m \u001b[0;34m'p'\u001b[0m  \u001b[0;31m# Modifying characters isn't allowed.\u001b[0m\u001b[0;34m\u001b[0m\u001b[0;34m\u001b[0m\u001b[0m\n\u001b[0m",
      "\u001b[0;31mTypeError\u001b[0m: 'str' object does not support item assignment"
     ]
    }
   ],
   "source": [
    "course[7] = 'p'  # Modifying characters isn't allowed."
   ]
  },
  {
   "cell_type": "markdown",
   "metadata": {
    "id": "Rj09Me6XhvyW"
   },
   "source": [
    "However, this does not mean that we can't change the value of a variable (more precisely, the object that a name refers to). We can assign the variable a new string:"
   ]
  },
  {
   "cell_type": "code",
   "execution_count": null,
   "metadata": {
    "id": "xuucYPjOh_ZG"
   },
   "outputs": [],
   "source": [
    "course = 'ISOM 3400'"
   ]
  },
  {
   "cell_type": "markdown",
   "metadata": {
    "id": "zXE6tyWoh90n"
   },
   "source": [
    "<img src=\"https://drive.google.com/uc?export=download&id=1jh0OdfUOwEy8EUT96aPUfVvmBAG_v5gZ\" width=700></img>\n",
    "\n",
    "An object's <font color=\"royalblue\"><b>*mutability*</b></font> is determined by its type. Numbers and Booleans are also immutable (we will see some mutable data types later)."
   ]
  },
  {
   "cell_type": "markdown",
   "metadata": {
    "id": "e7hSEzRM1xBw"
   },
   "source": [
    "## String Formatting\n",
    "\n",
    "\n",
    "`print() ` supports ouput formatting that is rudimentary at best.  In many cases, we'll need more precise control over the appearance of data destined for display. \n",
    "\n",
    "Python provides several ways to format output string data.  "
   ]
  },
  {
   "cell_type": "code",
   "execution_count": null,
   "metadata": {
    "id": "WhDJ3QT9yqBh"
   },
   "outputs": [],
   "source": [
    "shares = 3.2; stock = 'Apple'; price = 443.05"
   ]
  },
  {
   "cell_type": "code",
   "execution_count": null,
   "metadata": {
    "id": "WMnTWYah6tME",
    "outputId": "7f3f10bf-d5fe-4026-9912-b6f82dfc2bad"
   },
   "outputs": [
    {
     "data": {
      "text/plain": [
       "'purchase 3 shares of Apple at $ 443 per share'"
      ]
     },
     "execution_count": 55,
     "metadata": {
      "tags": []
     },
     "output_type": "execute_result"
    }
   ],
   "source": [
    "'purchase %d shares of %s at $ %.0f per share' % (shares, stock, price)"
   ]
  },
  {
   "cell_type": "code",
   "execution_count": null,
   "metadata": {
    "id": "W2pmGLPW7DRe",
    "outputId": "1d6a98bf-cea8-4e52-d36a-454ffd6217c8"
   },
   "outputs": [
    {
     "data": {
      "text/plain": [
       "'purchase 3.2 shares of Apple at $ 443.1 per share'"
      ]
     },
     "execution_count": 56,
     "metadata": {
      "tags": []
     },
     "output_type": "execute_result"
    }
   ],
   "source": [
    "'purchase {} shares of {} at $ {:.1f} per share'.format(shares, stock, price)"
   ]
  },
  {
   "cell_type": "markdown",
   "metadata": {
    "id": "u0m6hhSg7YU7"
   },
   "source": [
    "### \"Old Style\": The `%` Operator\n",
    "\n",
    "Using `%`, known as the ***interpolation operator***, with a string lets us do simple positional formatting easily. \n",
    "\n",
    "It takes the  <font color=\"salmon\">***conversion specifiers***</font> (starting with `%`) on the left and the values on the right, producing a formatted string:"
   ]
  },
  {
   "cell_type": "markdown",
   "metadata": {
    "id": "7xZkTDYU4v-h"
   },
   "source": [
    "<img src=\"https://drive.google.com/uc?export=download&id=1h2heHfSZQ69Xtihh2NaMfQZatLS4Hl1Z\" width=550/>\n",
    "\n",
    "- In addition to representing the string interpolation operation, the `%` character also denotes the conversion specifiers, e.g., `%d`, `%s`, and `%.0f`, and the replacement fields in a format string.\n",
    "- Each value is converted to a string value with the specified format and inserted into the format string in place of the corresponding replacement field (matched by position)."
   ]
  },
  {
   "cell_type": "markdown",
   "metadata": {
    "id": "QaC72Tn46WXl"
   },
   "source": [
    "---\n",
    "\n",
    "#### Optional: Conversion Specifiers\n"
   ]
  },
  {
   "cell_type": "markdown",
   "metadata": {
    "id": "tLvJZgEE6YKM"
   },
   "source": [
    "A conversion specifier contains 2 (% and a letter specifying conversion type; required) or more (optional) characters (allowing for more fine-grained control over how values are printed) to determine how values are formatted when they’re inserted:\n",
    "\n",
    "The constructs of a conversion specifier is structured as follows:\n",
    "\n",
    "`%[<flags>][<width>][.<precision>]<type>`\n",
    "\n",
    "\n",
    "|Component|Meaning|Possible Values|\n",
    "|:-- |:-- |:--|\n",
    "|`%`|Introduces the conversion specifier|\n",
    "|`<type>`|Indicates the type of conversion to be performed|`d` for decimal integers <br>`f` for floating point numbers <br>`e` for exponential numbers <br> `s` for strings\n",
    "|`.<precision>`|Determines the length and precision of floating point, exponential,  <br>or string outputs|\n",
    "|`<width>`|Specifies the minimum width of the formatted result|\n",
    "|`<flags>`|Indicates one or more flags that exert finer control over formatting|`0` for padding of values<br>`-` for justification of values\n",
    "\n",
    "\n",
    "<br>\n",
    "\n",
    "<div class=\"alert alert-info\">More details on format specifications can be found <a href=\"https://docs.python.org/3/library/stdtypes.html#printf-style-string-formatting\">here</a>.</div>\n",
    "\n"
   ]
  },
  {
   "cell_type": "code",
   "execution_count": null,
   "metadata": {
    "id": "yfazLbxRC6UU"
   },
   "outputs": [],
   "source": [
    "'purchase %d shares of %s at $ %f per share' % (shares, stock, price)  # The default precision of 'f' is 6."
   ]
  },
  {
   "cell_type": "code",
   "execution_count": null,
   "metadata": {
    "id": "SD1hR-pSJmHA"
   },
   "outputs": [],
   "source": [
    "'purchase %06d shares of %.3s at $ %.0f per share' % (shares, stock, price)"
   ]
  },
  {
   "cell_type": "code",
   "execution_count": null,
   "metadata": {
    "id": "43W_wADzJmHC"
   },
   "outputs": [],
   "source": [
    "'purchase %-6d shares of %-10s at $ %.2e per share' % (shares, stock, price)"
   ]
  },
  {
   "cell_type": "markdown",
   "metadata": {
    "id": "lK2w-VQABHbZ"
   },
   "source": [
    "To insert a literal `%` character into the output, specify two consecutive `%` characters in the format string:"
   ]
  },
  {
   "cell_type": "code",
   "execution_count": null,
   "metadata": {
    "id": "QdAMo1B9HHhI",
    "outputId": "b9c80037-319f-489e-adca-8aa773588012"
   },
   "outputs": [
    {
     "data": {
      "text/plain": [
       "\"Google's stock is trading 18% off of 52-week highs\""
      ]
     },
     "execution_count": 57,
     "metadata": {
      "tags": []
     },
     "output_type": "execute_result"
    }
   ],
   "source": [
    "\"%s's stock is trading %.0f%% off of %d-week highs\" % ('Google', 0.1845 * 100, 52.5)"
   ]
  },
  {
   "cell_type": "markdown",
   "metadata": {
    "id": "Amq06mGJIxHy"
   },
   "source": [
    "\n",
    "---\n",
    "\n",
    "### \"New Style\": `str.format()`\n",
    "\n",
    "\n",
    " This \"new style\" string formatting gets rid of the `%` operator special syntax and makes the syntax for string formatting more regular. Formatting is now handled by calling `.format()` on a string object.\n",
    " \n",
    "We can do simple positional formatting, just like we could with \"old style\" formatting, with replacement fields denoted by `{}`:"
   ]
  },
  {
   "cell_type": "code",
   "execution_count": null,
   "metadata": {
    "id": "xeYfahm4Iwdb"
   },
   "outputs": [],
   "source": [
    "'purchase {} shares of {} at $ {} per share'.format(shares, stock, price)"
   ]
  },
  {
   "cell_type": "markdown",
   "metadata": {
    "id": "MbhsALN3WJDa"
   },
   "source": [
    "The syntax allows for rearranging the order of display (and interpolating values into multiple places) by referring to the positions of the arguments (base-0 indexing):"
   ]
  },
  {
   "cell_type": "code",
   "execution_count": null,
   "metadata": {
    "id": "0D1owWVKWIXq"
   },
   "outputs": [],
   "source": [
    "'purchase {2} shares of {0} at $ {1} per share'.format('Google', 203.83, 11.4)"
   ]
  },
  {
   "cell_type": "code",
   "execution_count": null,
   "metadata": {
    "id": "sa1b5XRZdDmr"
   },
   "outputs": [],
   "source": [
    "'{1}    {0:.1f}    {1}    {0:.0f}'.format(price, stock)"
   ]
  },
  {
   "cell_type": "markdown",
   "metadata": {
    "id": "53y_8cFmVY4c"
   },
   "source": [
    "We can also refer to the value substitutions by name and use them in any order:"
   ]
  },
  {
   "cell_type": "code",
   "execution_count": null,
   "metadata": {
    "id": "_7Gawa7PJOqO"
   },
   "outputs": [],
   "source": [
    "'purchase {shares} shares of {stock} at $ {price} per share'.format(stock='Google', price=203.83, shares=11.4)"
   ]
  },
  {
   "cell_type": "markdown",
   "metadata": {
    "id": "lYmP0xZza9xy"
   },
   "source": [
    "---\n",
    "\n",
    "#### Optional: Format Specifications\n",
    "\n",
    "The new style of string formatting also allows us to specify how individual values are presented in the format string. The structure of a format specification is shown as follows:\n",
    "\n",
    "\n",
    "` [[<fill>]<align>][<sign>][#][0][<width>][<grouping_option>][.<precision>][<type>]`\n",
    "\n",
    "```\n",
    "fill            :  <any character>\n",
    "align           :  \"<\" | \">\" | \"=\" | \"^\"\n",
    "sign            :  \"+\" | \"-\" | \" \"\n",
    "width           :  digit+\n",
    "grouping_option :  \"_\" | \",\"\n",
    "precision       :  digit+\n",
    "type            :  \"b\" | \"c\" | \"d\" | \"e\" | \"E\" | \"f\" | \"F\" | \"g\" | \"G\" | \"n\" | \"o\" | \"s\" | \"x\" | \"X\" | \"%\"\n",
    "```\n",
    "\n",
    "\n",
    "A format specficiation is introduced by a colon `:` that optionally follows the name or position of the argument to be assigned to the replacement field:"
   ]
  },
  {
   "cell_type": "code",
   "execution_count": null,
   "metadata": {
    "id": "syLyVOpLf40K"
   },
   "outputs": [],
   "source": [
    "'purchase {2:.0f} shares of {0:_^12} at $ {1:+} per share'.format('Google', 203.83, 11.4)"
   ]
  },
  {
   "cell_type": "code",
   "execution_count": null,
   "metadata": {
    "colab": {
     "base_uri": "https://localhost:8080/",
     "height": 35
    },
    "executionInfo": {
     "elapsed": 682,
     "status": "ok",
     "timestamp": 1569400904416,
     "user": {
      "displayName": "Jia Jia",
      "photoUrl": "https://lh3.googleusercontent.com/a-/AAuE7mDmMGOrgBsXPA9SAmja5GwsLrWIE2dOBXsuhOBkQQ=s64",
      "userId": "00290786141877693274"
     },
     "user_tz": -480
    },
    "id": "oJg3VYQvh30g",
    "outputId": "a8611b3c-a71c-49f1-c158-01451cb65b00"
   },
   "outputs": [
    {
     "data": {
      "text/plain": [
       "\"Googleeeeeee's stock is trading 18.4% off of 52-week highs\""
      ]
     },
     "execution_count": 5,
     "metadata": {
      "tags": []
     },
     "output_type": "execute_result"
    }
   ],
   "source": [
    "\"{:e<12}'s stock is trading {:.1%} off of {:.0f}-week highs\".format('Google', 0.1845, 52.5)"
   ]
  },
  {
   "cell_type": "markdown",
   "metadata": {
    "id": "qmT_lGX9JOH_"
   },
   "source": [
    "<div class=\"alert alert-info\">More details on the new-style string formatting syntax can be found <a href=\"https://docs.python.org/3/library/string.html#format-string-syntax\">here</a>.</div>"
   ]
  },
  {
   "cell_type": "markdown",
   "metadata": {
    "id": "-y3szpkbksKJ"
   },
   "source": [
    "The eligible presentation types are dependent on the type of the value to format. Contrary to the old stype of string formatting, there's no conversion from one type to another: "
   ]
  },
  {
   "cell_type": "code",
   "execution_count": null,
   "metadata": {
    "id": "HaWN1FGPlgcF"
   },
   "outputs": [],
   "source": [
    "\"{:e<12}'s stock is trading {:s} off of {:d}-week highs\".format('Google', 0.1845, 52.5)"
   ]
  },
  {
   "cell_type": "markdown",
   "metadata": {
    "id": "j2ss7sSGxdhb"
   },
   "source": [
    "If we want to present a floating point number as an integer,   `int()` should be used to convert the floating point number to an integer before formatting."
   ]
  },
  {
   "cell_type": "markdown",
   "metadata": {
    "id": "jqxjuXfZmDAp"
   },
   "source": [
    "---\n",
    "# Type Conversion\n",
    "\n",
    "\n",
    "Built-in functions like `str()`,  `int()`, `bool()`, and `float()` will try to convert anything to their respective types:"
   ]
  },
  {
   "cell_type": "code",
   "execution_count": null,
   "metadata": {
    "colab": {
     "base_uri": "https://localhost:8080/",
     "height": 162
    },
    "id": "Qo02se6s4HpG",
    "outputId": "93daa00d-af8e-48b0-a1d7-2434efa90dbc",
    "scrolled": true
   },
   "outputs": [
    {
     "ename": "TypeError",
     "evalue": "ignored",
     "output_type": "error",
     "traceback": [
      "\u001b[0;31m---------------------------------------------------------------------------\u001b[0m",
      "\u001b[0;31mTypeError\u001b[0m                                 Traceback (most recent call last)",
      "\u001b[0;32m<ipython-input-65-92e19d165eda>\u001b[0m in \u001b[0;36m<module>\u001b[0;34m()\u001b[0m\n\u001b[0;32m----> 1\u001b[0;31m \u001b[0;36m3\u001b[0m \u001b[0;34m+\u001b[0m \u001b[0;34m'0.4'\u001b[0m  \u001b[0;31m# add or concatenate?\u001b[0m\u001b[0;34m\u001b[0m\u001b[0;34m\u001b[0m\u001b[0m\n\u001b[0m",
      "\u001b[0;31mTypeError\u001b[0m: unsupported operand type(s) for +: 'int' and 'str'"
     ]
    }
   ],
   "source": [
    "3 + '0.4'  # add or concatenate? "
   ]
  },
  {
   "cell_type": "code",
   "execution_count": null,
   "metadata": {},
   "outputs": [],
   "source": [
    "int(\"3\") + 4               # Now the ambiguity is cleared up"
   ]
  },
  {
   "cell_type": "code",
   "execution_count": null,
   "metadata": {},
   "outputs": [],
   "source": [
    "'3.' + str(4)"
   ]
  },
  {
   "cell_type": "code",
   "execution_count": null,
   "metadata": {},
   "outputs": [],
   "source": [
    "'3.%d' % 4"
   ]
  },
  {
   "cell_type": "code",
   "execution_count": null,
   "metadata": {},
   "outputs": [],
   "source": [
    "float('3.%d' % 4)"
   ]
  },
  {
   "cell_type": "code",
   "execution_count": null,
   "metadata": {},
   "outputs": [],
   "source": [
    "int(float(\"3.4\"))"
   ]
  },
  {
   "cell_type": "code",
   "execution_count": null,
   "metadata": {},
   "outputs": [],
   "source": [
    "bool(0)"
   ]
  },
  {
   "cell_type": "code",
   "execution_count": null,
   "metadata": {},
   "outputs": [],
   "source": [
    "bool(-3.4)"
   ]
  },
  {
   "cell_type": "code",
   "execution_count": null,
   "metadata": {},
   "outputs": [],
   "source": [
    "bool(\"\")                   # An empty string is falsy"
   ]
  },
  {
   "cell_type": "code",
   "execution_count": null,
   "metadata": {},
   "outputs": [],
   "source": [
    "bool(\"False\")              # A non-empty string counts as True"
   ]
  },
  {
   "cell_type": "code",
   "execution_count": null,
   "metadata": {},
   "outputs": [],
   "source": [
    "int('I have $3.8 in my pocket')  # nonsensical conversion"
   ]
  },
  {
   "cell_type": "markdown",
   "metadata": {
    "id": "qtIERvN0VEYy"
   },
   "source": [
    "---\n",
    "# Methods\n",
    "\n",
    "A method is an <font color=\"salmon\">***object-oriented***</font> programming term, and refers to a function that is attached to and act upon a specific object (thereby considered an attribute of the object).\n",
    "\n",
    "Like functions, methods are triggered with a call expression. \n",
    "\n",
    "A method call requires the <font color=\"royalblue\"><b>*attribute reference*</b></font> notation, i.e., a dot (`.`) between the invocation target and the method name:"
   ]
  },
  {
   "cell_type": "code",
   "execution_count": null,
   "metadata": {},
   "outputs": [],
   "source": [
    "course = 'Python Programming'"
   ]
  },
  {
   "cell_type": "code",
   "execution_count": null,
   "metadata": {},
   "outputs": [],
   "source": [
    "course.lower()           # produces a new string"
   ]
  },
  {
   "cell_type": "code",
   "execution_count": null,
   "metadata": {},
   "outputs": [],
   "source": [
    "(12.3).is_integer()      # E.g., 12.3 is not; try (12).is_integer()"
   ]
  },
  {
   "cell_type": "markdown",
   "metadata": {
    "id": "F5-PW7ZapFJj"
   },
   "source": [
    " Any name following a dot can be called an **attribute**.\n",
    " \n",
    " \n",
    " As a rule of thumb, Python's toolset is  <font color=\"salmon\">***layered***</font>:\n",
    "\n",
    "- Generic operations that span multiple types show up as built-in functions or expressions (e.g., `len(x)`,  `x[0]`);\n",
    "\n",
    "- Type-specific operations are implemented as method calls."
   ]
  },
  {
   "cell_type": "markdown",
   "metadata": {
    "id": "zbBoEpy5W0bo"
   },
   "source": [
    "---\n",
    "\n",
    "## Examples of Built-in String Methods\n",
    "\n",
    "Here present some commonly used string methods in Python:\n",
    "- `str.find(sub[, start[, end]])` searches the target string for a given substring and returns index of the first occurrence of `sub` in `str` (at or after index `start` and before index `end`):"
   ]
  },
  {
   "cell_type": "code",
   "execution_count": null,
   "metadata": {
    "id": "w8g7v8mbXMpX"
   },
   "outputs": [],
   "source": [
    "('ISOM 3400' * 2).find('ISOM', 3)"
   ]
  },
  {
   "cell_type": "code",
   "execution_count": null,
   "metadata": {
    "id": "1D5xBDzOXQYW"
   },
   "outputs": [],
   "source": [
    "('ISOM 3400' * 2).find('ISOM', 0, 3)"
   ]
  },
  {
   "cell_type": "markdown",
   "metadata": {
    "id": "TTYgrmPkXU_-"
   },
   "source": [
    "- `str.count(sub[, start[, end]])` returns the total number of non-overlapping occurrences of `sub` in `str`:"
   ]
  },
  {
   "cell_type": "code",
   "execution_count": null,
   "metadata": {
    "id": "e8E3ZZmGXgA-"
   },
   "outputs": [],
   "source": [
    "('ISOM 3400' * 2).count('ISOM', 2)"
   ]
  },
  {
   "cell_type": "code",
   "execution_count": null,
   "metadata": {
    "id": "1Se8onstXiDe"
   },
   "outputs": [],
   "source": [
    "'abababa'.count('aba')"
   ]
  },
  {
   "cell_type": "markdown",
   "metadata": {
    "id": "WBHyDQt9XoJD"
   },
   "source": [
    "---\n",
    "\n",
    "## Getting Help on Methods\n",
    "\n",
    "We can use the built-in function `dir(object)` to retrieve a list of all the attributes (including methods, which are <font color=\"royalblue\"><b>*function attributes*</b></font>) available for any object passed to it:"
   ]
  },
  {
   "cell_type": "code",
   "execution_count": 4,
   "metadata": {
    "colab": {
     "base_uri": "https://localhost:8080/"
    },
    "executionInfo": {
     "elapsed": 618,
     "status": "ok",
     "timestamp": 1614242206229,
     "user": {
      "displayName": "Kwan Veronica",
      "photoUrl": "",
      "userId": "02730144426697756961"
     },
     "user_tz": -480
    },
    "id": "g-Qrmd_zYE8N",
    "outputId": "38bab8ab-74ce-4519-af35-67e4a7bbf9f3"
   },
   "outputs": [
    {
     "name": "stdout",
     "output_type": "stream",
     "text": [
      "['__add__', '__class__', '__contains__', '__delattr__', '__dir__', '__doc__', '__eq__', '__format__', '__ge__', '__getattribute__', '__getitem__', '__getnewargs__', '__gt__', '__hash__', '__init__', '__init_subclass__', '__iter__', '__le__', '__len__', '__lt__', '__mod__', '__mul__', '__ne__', '__new__', '__reduce__', '__reduce_ex__', '__repr__', '__rmod__', '__rmul__', '__setattr__', '__sizeof__', '__str__', '__subclasshook__', 'capitalize', 'casefold', 'center', 'count', 'encode', 'endswith', 'expandtabs', 'find', 'format', 'format_map', 'index', 'isalnum', 'isalpha', 'isascii', 'isdecimal', 'isdigit', 'isidentifier', 'islower', 'isnumeric', 'isprintable', 'isspace', 'istitle', 'isupper', 'join', 'ljust', 'lower', 'lstrip', 'maketrans', 'partition', 'replace', 'rfind', 'rindex', 'rjust', 'rpartition', 'rsplit', 'rstrip', 'split', 'splitlines', 'startswith', 'strip', 'swapcase', 'title', 'translate', 'upper', 'zfill']\n"
     ]
    }
   ],
   "source": [
    "print(dir(course))"
   ]
  },
  {
   "cell_type": "markdown",
   "metadata": {
    "id": "Z6FSGhkpYQBh"
   },
   "source": [
    "To learn about each method, we can pass them to the `help()` function:"
   ]
  },
  {
   "cell_type": "code",
   "execution_count": null,
   "metadata": {
    "colab": {
     "base_uri": "https://localhost:8080/",
     "height": 202
    },
    "id": "-E5dE4XYYPVK",
    "outputId": "71aabbc5-44f3-451f-8417-41c646dca868"
   },
   "outputs": [
    {
     "name": "stdout",
     "output_type": "stream",
     "text": [
      "Help on built-in function split:\n",
      "\n",
      "split(...) method of builtins.str instance\n",
      "    S.split(sep=None, maxsplit=-1) -> list of strings\n",
      "    \n",
      "    Return a list of the words in S, using sep as the\n",
      "    delimiter string.  If maxsplit is given, at most maxsplit\n",
      "    splits are done. If sep is not specified or is None, any\n",
      "    whitespace string is a separator and empty strings are\n",
      "    removed from the result.\n",
      "\n"
     ]
    }
   ],
   "source": [
    "help(course.split)"
   ]
  },
  {
   "cell_type": "markdown",
   "metadata": {
    "id": "_A1EVluSYfRd"
   },
   "source": [
    "Again, typing a method's name without adding `()` echos the string representation of the method:"
   ]
  },
  {
   "cell_type": "code",
   "execution_count": null,
   "metadata": {
    "id": "FndDveaeYj33",
    "outputId": "2162f3de-5922-4744-efa8-677eb2aaa274"
   },
   "outputs": [
    {
     "data": {
      "text/plain": [
       "<function str.split(sep=None, maxsplit=-1)>"
      ]
     },
     "execution_count": 29,
     "metadata": {
      "tags": []
     },
     "output_type": "execute_result"
    }
   ],
   "source": [
    "course.split"
   ]
  },
  {
   "cell_type": "markdown",
   "metadata": {
    "id": "KmMYRvsjKOgV"
   },
   "source": [
    "---\n",
    "# Namespaces\n",
    "\n",
    "A <font color=\"royalblue\"><b>*namespace*</b></font> is a <font color=\"royalblue\"><b>*mapping from names to objects*</b></font> in a specific programming context, and can be conceptualized as an \"invisible dictionary\".\n",
    "\n",
    "The built-in function `dir()`,  when called without arguments,\n",
    "returns the list of all the names (functions and variables) belonging to the namespace from where it is called. \n",
    "\n"
   ]
  },
  {
   "cell_type": "code",
   "execution_count": null,
   "metadata": {
    "id": "eLtxL5ERkgRD"
   },
   "outputs": [],
   "source": [
    "a_trial_variable = 'will be deleted soon'"
   ]
  },
  {
   "cell_type": "code",
   "execution_count": null,
   "metadata": {
    "id": "1iBiLVbUkgRD",
    "outputId": "10f2f91d-04b1-487c-8e4c-f39ece22850e"
   },
   "outputs": [
    {
     "name": "stdout",
     "output_type": "stream",
     "text": [
      "['In', 'Out', '_', '__', '___', '__builtin__', '__builtins__', '__doc__', '__loader__', '__name__', '__package__', '__spec__', '_dh', '_i', '_i1', '_i2', '_ih', '_ii', '_iii', '_oh', 'a_trial_variable', 'exit', 'get_ipython', 'quit']\n"
     ]
    }
   ],
   "source": [
    "print(dir())"
   ]
  },
  {
   "cell_type": "markdown",
   "metadata": {
    "id": "Es2CpRk1pfA3"
   },
   "source": [
    "Deleting a name using [the `del` statement](https://docs.python.org/3/reference/simple_stmts.html#del) removes the name from the namespace:"
   ]
  },
  {
   "cell_type": "code",
   "execution_count": null,
   "metadata": {
    "id": "GUQ9DH8rpjgH"
   },
   "outputs": [],
   "source": [
    "del a_trial_variable"
   ]
  },
  {
   "cell_type": "code",
   "execution_count": null,
   "metadata": {
    "id": "euHag_VlqBiV",
    "outputId": "b713fd70-7452-4153-d78d-16059d8e0e1d"
   },
   "outputs": [
    {
     "name": "stdout",
     "output_type": "stream",
     "text": [
      "['In', 'Out', '_', '__', '___', '__builtin__', '__builtins__', '__doc__', '__loader__', '__name__', '__package__', '__spec__', '_dh', '_i', '_i1', '_i2', '_i3', '_i4', '_ih', '_ii', '_iii', '_oh', 'exit', 'get_ipython', 'quit']\n"
     ]
    }
   ],
   "source": [
    "print(dir())"
   ]
  },
  {
   "cell_type": "code",
   "execution_count": null,
   "metadata": {
    "id": "eNxfVQDLkgRF",
    "outputId": "976e3d07-e833-473d-cb1f-063c4b167120"
   },
   "outputs": [
    {
     "ename": "NameError",
     "evalue": "name 'a_trial_variable' is not defined",
     "output_type": "error",
     "traceback": [
      "\u001b[1;31m---------------------------------------------------------------------------\u001b[0m",
      "\u001b[1;31mNameError\u001b[0m                                 Traceback (most recent call last)",
      "\u001b[1;32m<ipython-input-9-eb4c8d65befc>\u001b[0m in \u001b[0;36m<module>\u001b[1;34m\u001b[0m\n\u001b[1;32m----> 1\u001b[1;33m \u001b[0ma_trial_variable\u001b[0m\u001b[1;33m\u001b[0m\u001b[1;33m\u001b[0m\u001b[0m\n\u001b[0m",
      "\u001b[1;31mNameError\u001b[0m: name 'a_trial_variable' is not defined"
     ]
    }
   ],
   "source": [
    "a_trial_variable"
   ]
  },
  {
   "cell_type": "markdown",
   "metadata": {
    "id": "UrBXNrXAqJVg"
   },
   "source": [
    "When objects become unreachable, they can be garbage-collected."
   ]
  },
  {
   "cell_type": "markdown",
   "metadata": {
    "id": "7mrijKs8Z4sw"
   },
   "source": [
    "---\n",
    "# Modules\n",
    "\n",
    "Most of the functionality in Python is provided by **modules**, which typically correspond to Python program files (or extensions coded in external languages such as C/C++ and Java) that define names we want to import to use.\n",
    "\n",
    "\n",
    "Let's look at a .py file that contains the following code (you can download it from Canvas):\n",
    "\n",
    "```\n",
    "name = \"ISOM 3400\"\n",
    "array = [1, 2, 3]\n",
    "\n",
    "def foo(arg):\n",
    "    print('arg = {}'.format(arg) )\n",
    "```    \n",
    "\n",
    "It can be read in as a module using [the `import` statement](https://docs.python.org/3/reference/simple_stmts.html#import):\n"
   ]
  },
  {
   "cell_type": "code",
   "execution_count": null,
   "metadata": {
    "id": "9uYDLlgqkgRG"
   },
   "outputs": [],
   "source": [
    "import mod"
   ]
  },
  {
   "cell_type": "code",
   "execution_count": null,
   "metadata": {
    "id": "wiOfpDrQkgRG",
    "outputId": "678d5014-fb36-4b3a-eb8b-b6224978ab8b"
   },
   "outputs": [
    {
     "name": "stdout",
     "output_type": "stream",
     "text": [
      "['In', 'Out', '_', '_6', '_7', '__', '___', '__builtin__', '__builtins__', '__doc__', '__loader__', '__name__', '__package__', '__spec__', '_dh', '_i', '_i1', '_i10', '_i11', '_i2', '_i3', '_i4', '_i5', '_i6', '_i7', '_i8', '_i9', '_ih', '_ii', '_iii', '_oh', 'exit', 'get_ipython', 'mod', 'quit']\n"
     ]
    }
   ],
   "source": [
    "print(dir())"
   ]
  },
  {
   "cell_type": "code",
   "execution_count": null,
   "metadata": {
    "id": "1FpjYPREkgRG",
    "outputId": "ab426b42-c1f0-4043-9d8e-e88f6802c34a"
   },
   "outputs": [
    {
     "data": {
      "text/plain": [
       "<module 'mod' from 'C:\\\\Users\\\\justi\\\\mod.py'>"
      ]
     },
     "execution_count": 12,
     "metadata": {
      "tags": []
     },
     "output_type": "execute_result"
    }
   ],
   "source": [
    "mod"
   ]
  },
  {
   "cell_type": "markdown",
   "metadata": {
    "id": "4z5sXyVgMSSH"
   },
   "source": [
    "\n",
    "The first time a module is imported, Python creates a module object, which is a wrapper of a namespace, and executes the statements in the module file one after another. \n",
    "\n",
    "***Top-level*** assignments create module attributes that populate the new namespace:\n",
    "\n",
    "<br>\n",
    "\n",
    "<img src=\"https://drive.google.com/uc?export=download&id=13n4DxX_E6NG7dRv-GdFIi5gnuDcBs0B3\" width=400 />"
   ]
  },
  {
   "cell_type": "code",
   "execution_count": null,
   "metadata": {
    "id": "-RqJmwcJMSSH",
    "outputId": "d76fa342-6ee4-4487-92c6-0df0c17bb75d",
    "scrolled": true
   },
   "outputs": [
    {
     "data": {
      "text/plain": [
       "['__builtins__',\n",
       " '__cached__',\n",
       " '__doc__',\n",
       " '__file__',\n",
       " '__loader__',\n",
       " '__name__',\n",
       " '__package__',\n",
       " '__spec__',\n",
       " 'array',\n",
       " 'foo',\n",
       " 'name']"
      ]
     },
     "execution_count": 13,
     "metadata": {
      "tags": []
     },
     "output_type": "execute_result"
    }
   ],
   "source": [
    "dir(mod)  "
   ]
  },
  {
   "cell_type": "markdown",
   "metadata": {
    "id": "HohMk_GT7IQ0"
   },
   "source": [
    "These names are now available for use, and the dot notation is used to refer to them:"
   ]
  },
  {
   "cell_type": "code",
   "execution_count": null,
   "metadata": {
    "id": "3ydFDxA6MSSJ",
    "outputId": "210061a8-85e3-4f65-d176-223017a1a3fd"
   },
   "outputs": [
    {
     "data": {
      "text/plain": [
       "[1, 2, 3]"
      ]
     },
     "execution_count": 16,
     "metadata": {
      "tags": []
     },
     "output_type": "execute_result"
    }
   ],
   "source": [
    "mod.array"
   ]
  },
  {
   "cell_type": "markdown",
   "metadata": {
    "id": "vwvr50KNMSSK"
   },
   "source": [
    "\n",
    "\n",
    "<div class=\"alert alert-info\">Normally, module namespaces last until the interpreter quits.</div>"
   ]
  },
  {
   "cell_type": "markdown",
   "metadata": {
    "id": "IYNU-r1sMSSK"
   },
   "source": [
    "\n",
    "Useful modules that form the [standard library](https://docs.python.org/3/library/) include `os`, `sys`, `math`, `random`, `shutil`, and so on."
   ]
  },
  {
   "cell_type": "code",
   "execution_count": null,
   "metadata": {
    "id": "Cqc561sLxEPz"
   },
   "outputs": [],
   "source": [
    "import random"
   ]
  },
  {
   "cell_type": "code",
   "execution_count": null,
   "metadata": {
    "colab": {
     "base_uri": "https://localhost:8080/",
     "height": 35
    },
    "id": "gLR427M20wL5",
    "outputId": "4c78161b-7c6d-4c03-e964-9bf7eb09ccaf"
   },
   "outputs": [
    {
     "data": {
      "text/plain": [
       "<module 'random' from 'C:\\\\ProgramData\\\\Anaconda3\\\\lib\\\\random.py'>"
      ]
     },
     "execution_count": 18,
     "metadata": {
      "tags": []
     },
     "output_type": "execute_result"
    }
   ],
   "source": [
    "random"
   ]
  },
  {
   "cell_type": "code",
   "execution_count": null,
   "metadata": {
    "id": "QzMtHOldMSSL",
    "outputId": "7cc6ffa4-0b9d-463c-9e3c-25dbeefd7211"
   },
   "outputs": [
    {
     "data": {
      "text/plain": [
       "['BPF',\n",
       " 'LOG4',\n",
       " 'NV_MAGICCONST',\n",
       " 'RECIP_BPF',\n",
       " 'Random',\n",
       " 'SG_MAGICCONST',\n",
       " 'SystemRandom',\n",
       " 'TWOPI',\n",
       " '_Sequence',\n",
       " '_Set',\n",
       " '__all__',\n",
       " '__builtins__',\n",
       " '__cached__',\n",
       " '__doc__',\n",
       " '__file__',\n",
       " '__loader__',\n",
       " '__name__',\n",
       " '__package__',\n",
       " '__spec__',\n",
       " '_accumulate',\n",
       " '_acos',\n",
       " '_bisect',\n",
       " '_ceil',\n",
       " '_cos',\n",
       " '_e',\n",
       " '_exp',\n",
       " '_inst',\n",
       " '_log',\n",
       " '_os',\n",
       " '_pi',\n",
       " '_random',\n",
       " '_repeat',\n",
       " '_sha512',\n",
       " '_sin',\n",
       " '_sqrt',\n",
       " '_test',\n",
       " '_test_generator',\n",
       " '_urandom',\n",
       " '_warn',\n",
       " 'betavariate',\n",
       " 'choice',\n",
       " 'choices',\n",
       " 'expovariate',\n",
       " 'gammavariate',\n",
       " 'gauss',\n",
       " 'getrandbits',\n",
       " 'getstate',\n",
       " 'lognormvariate',\n",
       " 'normalvariate',\n",
       " 'paretovariate',\n",
       " 'randint',\n",
       " 'random',\n",
       " 'randrange',\n",
       " 'sample',\n",
       " 'seed',\n",
       " 'setstate',\n",
       " 'shuffle',\n",
       " 'triangular',\n",
       " 'uniform',\n",
       " 'vonmisesvariate',\n",
       " 'weibullvariate']"
      ]
     },
     "execution_count": 19,
     "metadata": {
      "tags": []
     },
     "output_type": "execute_result"
    }
   ],
   "source": [
    "dir(random)  # random.py"
   ]
  },
  {
   "cell_type": "code",
   "execution_count": null,
   "metadata": {
    "id": "ZXUsJ1dE7HWQ",
    "outputId": "5f4bdb97-d7b1-44bb-ea20-07280ff51d28"
   },
   "outputs": [
    {
     "data": {
      "text/plain": [
       "6"
      ]
     },
     "execution_count": 20,
     "metadata": {
      "tags": []
     },
     "output_type": "execute_result"
    }
   ],
   "source": [
    "random.randint(0, 10)"
   ]
  },
  {
   "cell_type": "markdown",
   "metadata": {
    "id": "-TjIpMyO7QTV"
   },
   "source": [
    "Using `help()` gives a description of this function:"
   ]
  },
  {
   "cell_type": "code",
   "execution_count": null,
   "metadata": {
    "id": "gnnxEoo37Wsw",
    "outputId": "8dc35f29-5079-4beb-8178-118fcef5d79b"
   },
   "outputs": [
    {
     "name": "stdout",
     "output_type": "stream",
     "text": [
      "Help on method randint in module random:\n",
      "\n",
      "randint(a, b) method of random.Random instance\n",
      "    Return random integer in range [a, b], including both end points.\n",
      "\n"
     ]
    }
   ],
   "source": [
    "help(random.randint)"
   ]
  },
  {
   "cell_type": "markdown",
   "metadata": {
    "id": "h8XKNCqw7c_A"
   },
   "source": [
    "The module's `__file__` attribute gives the location where the module was found in the file system:"
   ]
  },
  {
   "cell_type": "code",
   "execution_count": null,
   "metadata": {
    "colab": {
     "base_uri": "https://localhost:8080/",
     "height": 35
    },
    "executionInfo": {
     "elapsed": 689,
     "status": "ok",
     "timestamp": 1568614648421,
     "user": {
      "displayName": "Jia Jia",
      "photoUrl": "https://lh3.googleusercontent.com/a-/AAuE7mDmMGOrgBsXPA9SAmja5GwsLrWIE2dOBXsuhOBkQQ=s64",
      "userId": "00290786141877693274"
     },
     "user_tz": -480
    },
    "id": "7sAr-IhR7geW",
    "outputId": "d8c73fd8-86cb-490b-9c66-3e13cd35fb27"
   },
   "outputs": [
    {
     "data": {
      "text/plain": [
       "'C:\\\\ProgramData\\\\Anaconda3\\\\lib\\\\random.py'"
      ]
     },
     "execution_count": 22,
     "metadata": {
      "tags": []
     },
     "output_type": "execute_result"
    }
   ],
   "source": [
    "random.__file__"
   ]
  },
  {
   "cell_type": "markdown",
   "metadata": {
    "id": "wC35N2nM7vJ9"
   },
   "source": [
    "Alternatively, we can import all names in a module to the current namespace using the `from` form of the `import` statement:"
   ]
  },
  {
   "cell_type": "code",
   "execution_count": null,
   "metadata": {
    "id": "dKwMljvF7ywQ"
   },
   "outputs": [],
   "source": [
    "from random import *"
   ]
  },
  {
   "cell_type": "code",
   "execution_count": null,
   "metadata": {
    "id": "hrwhyRplkgRM",
    "outputId": "72a011a8-d418-4305-90d4-13acf1ccb0a9"
   },
   "outputs": [
    {
     "name": "stdout",
     "output_type": "stream",
     "text": [
      "['In', 'Out', 'Random', 'SystemRandom', '_', '_12', '_13', '_14', '_16', '_18', '_19', '_20', '_22', '_6', '_7', '__', '___', '__builtin__', '__builtins__', '__doc__', '__loader__', '__name__', '__package__', '__spec__', '_dh', '_i', '_i1', '_i10', '_i11', '_i12', '_i13', '_i14', '_i15', '_i16', '_i17', '_i18', '_i19', '_i2', '_i20', '_i21', '_i22', '_i23', '_i24', '_i3', '_i4', '_i5', '_i6', '_i7', '_i8', '_i9', '_ih', '_ii', '_iii', '_oh', 'betavariate', 'choice', 'choices', 'exit', 'expovariate', 'gammavariate', 'gauss', 'get_ipython', 'getrandbits', 'getstate', 'lognormvariate', 'mod', 'normalvariate', 'paretovariate', 'quit', 'randint', 'random', 'randrange', 'sample', 'seed', 'setstate', 'shuffle', 'triangular', 'uniform', 'vonmisesvariate', 'weibullvariate']\n"
     ]
    }
   ],
   "source": [
    "print(dir())"
   ]
  },
  {
   "cell_type": "markdown",
   "metadata": {
    "id": "3lHQXYs-8BEa"
   },
   "source": [
    "Using `dir()` finds all names from `random` imported to the current namespace:\n",
    "\n",
    "```\n",
    "['Random', 'SystemRandom', '__annotations__', '__builtins__', '__doc__', '__loader__', '__name__', '__package__', '__spec__', 'age', 'area', 'betavariate', 'choice', 'choices', 'course', 'expovariate', 'gammavariate', 'gauss', 'gender', 'getrandbits', 'getstate', 'height', 'i', 'j', 'keyword', 'lognormvariate', 'mod', 'name', 'normalvariate', 'paretovariate', 'price', 'randint', 'random', 'randrange', 'sample', 'seed', 'setstate', 'shares', 'shuffle', 'stock', 'triangular', 'uniform', 'vonmisesvariate', 'weibullvariate', 'width', 'y1']\n",
    "```\n",
    "Then we don't need to use the prefix every time we use something from it:\n"
   ]
  },
  {
   "cell_type": "code",
   "execution_count": null,
   "metadata": {},
   "outputs": [],
   "source": [
    "randint(0, 10)"
   ]
  },
  {
   "cell_type": "markdown",
   "metadata": {
    "id": "gPc8Ul-c8ouA"
   },
   "source": [
    "However, this should be used with caution, as it would potentially create <b>*name collisions*</b>:"
   ]
  },
  {
   "cell_type": "code",
   "execution_count": null,
   "metadata": {},
   "outputs": [],
   "source": [
    "randint = 2; randint(0, 10)"
   ]
  },
  {
   "cell_type": "markdown",
   "metadata": {
    "id": "fWFSqe9V8xFX"
   },
   "source": [
    "As a third alternative, we can import only a few selected names from a module by explicitly listing them:"
   ]
  },
  {
   "cell_type": "code",
   "execution_count": null,
   "metadata": {
    "id": "i82ePuMB8zdK"
   },
   "outputs": [],
   "source": [
    "from random import randint, sample"
   ]
  },
  {
   "cell_type": "code",
   "execution_count": null,
   "metadata": {
    "id": "lTwfBNKN815J"
   },
   "outputs": [],
   "source": [
    "randint(0, 10)"
   ]
  },
  {
   "cell_type": "code",
   "execution_count": null,
   "metadata": {
    "id": "YUS2ARV684MW"
   },
   "outputs": [],
   "source": [
    "sample(range(100), 20)       #  help(sample)"
   ]
  },
  {
   "cell_type": "markdown",
   "metadata": {
    "id": "TsDOGxpTVtLY"
   },
   "source": [
    "We can use the command below to check the installed packages:"
   ]
  },
  {
   "cell_type": "code",
   "execution_count": null,
   "metadata": {
    "id": "PssDgTr0VsO-"
   },
   "outputs": [],
   "source": [
    "!pip freeze     # packages are listed in a case-insensitive sorted order"
   ]
  },
  {
   "cell_type": "markdown",
   "metadata": {
    "id": "iQrkaF5-Vz1t"
   },
   "source": [
    "<div class=\"alert alert-info\">Any command that works at system command-line tools can be used in Jypyter notebook by prefixing it with the ! character.</div>"
   ]
  },
  {
   "cell_type": "markdown",
   "metadata": {
    "id": "-lkTNHkt6M1y"
   },
   "source": [
    "## Optional: The `__builtins__` Module\n",
    "\n"
   ]
  },
  {
   "cell_type": "code",
   "execution_count": null,
   "metadata": {
    "colab": {
     "base_uri": "https://localhost:8080/",
     "height": 235
    },
    "id": "y2VrKv1KTI2O",
    "outputId": "6ec23c66-e5bb-4168-8031-fdfdb6730c6b"
   },
   "outputs": [
    {
     "name": "stdout",
     "output_type": "stream",
     "text": [
      "Help on built-in function print in module builtins:\n",
      "\n",
      "print(...)\n",
      "    print(value, ..., sep=' ', end='\\n', file=sys.stdout, flush=False)\n",
      "    \n",
      "    Prints the values to a stream, or to sys.stdout by default.\n",
      "    Optional keyword arguments:\n",
      "    file:  a file-like object (stream); defaults to the current sys.stdout.\n",
      "    sep:   string inserted between values, default a space.\n",
      "    end:   string appended after the last value, default a newline.\n",
      "    flush: whether to forcibly flush the stream.\n",
      "\n"
     ]
    }
   ],
   "source": [
    "help(print)"
   ]
  },
  {
   "cell_type": "markdown",
   "metadata": {
    "id": "pRr3f-iwTS1W"
   },
   "source": [
    "All built-in objects are attributes of a preloaded module named `builtins`. \n",
    "\n",
    "The current global namespace (the namespace associated with a module called `__main__`; the statements executed by the ***top-level*** invocation of the interpreter are considered part of the `__main__` module) automatically gets an\n",
    "extra attribute named `__builtins__` that refers to the `builtins` module:"
   ]
  },
  {
   "cell_type": "code",
   "execution_count": null,
   "metadata": {
    "id": "Nm9RTPWxt6h-"
   },
   "outputs": [],
   "source": [
    "__builtins__"
   ]
  },
  {
   "cell_type": "markdown",
   "metadata": {
    "id": "RjfJuWDrvC9S"
   },
   "source": [
    "When we access a name not found in the current global namespace, Python looks for the identifier in the `__builtins__` module, which is a wrapper of its own namespace:"
   ]
  },
  {
   "cell_type": "code",
   "execution_count": null,
   "metadata": {
    "id": "PkvXDIhVvU3b"
   },
   "outputs": [],
   "source": [
    "dir(__builtins__)"
   ]
  },
  {
   "cell_type": "markdown",
   "metadata": {
    "id": "kIn7gGVk9KPZ"
   },
   "source": [
    "Many familiar names such as `abs`, `max`, `round`, and `len` can be found in its namespace"
   ]
  },
  {
   "cell_type": "markdown",
   "metadata": {
    "id": "9xq3jrsO99g9"
   },
   "source": [
    "---\n",
    "\n",
    "# Appendix: Operator Precedence\n",
    "\n",
    "Python evaluates expressions from left to right. The following table summarizes the <font color=\"royalblue\"><b>*operator precedence*</b></font> for all the operators we have seen so far, from highest precedence to lowest precedence:\n",
    "\n",
    "\n",
    "\n",
    "|Operator|Meaning|\n",
    "|:-- |:-- |\n",
    "|`()`|Grouping|\n",
    "|`x[i], x[i:j:k], x(...), x.attr`|Indexing, slicing, call, attribute reference|\n",
    "|`**`|Exponentiation|\n",
    "|`+x, -x`|identity, negatition|\n",
    "|`*, /, //, %`|Multiplication (repetition), division, integer division, remainder (format)|\n",
    "|`+, -`|Addition (concatenation), substraction|\n",
    "|`<, <=, >, >=, ==, !=, in, not in, is, is not`|Comparisons, including membership tests and identity tests|\n",
    "|`not`|Logical negation|\n",
    "|`and`|Logical AND|\n",
    "|`or`|Logical OR|"
   ]
  }
 ],
 "metadata": {
  "colab": {
   "collapsed_sections": [],
   "name": "Topic 1 Python Basics.ipynb",
   "provenance": []
  },
  "kernelspec": {
   "display_name": "Python 3",
   "language": "python",
   "name": "python3"
  },
  "language_info": {
   "codemirror_mode": {
    "name": "ipython",
    "version": 3
   },
   "file_extension": ".py",
   "mimetype": "text/x-python",
   "name": "python",
   "nbconvert_exporter": "python",
   "pygments_lexer": "ipython3",
   "version": "3.8.5"
  }
 },
 "nbformat": 4,
 "nbformat_minor": 1
}
