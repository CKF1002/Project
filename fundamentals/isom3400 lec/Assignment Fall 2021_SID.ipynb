{
 "cells": [
  {
   "cell_type": "markdown",
   "metadata": {
    "id": "Vq4oHro1mb7r"
   },
   "source": [
    "# Assignment (100 pts)\n",
    "\n",
    "## Due Date & Time: 18-Nov-2021 (11:59pm HKT)\n",
    "\n",
    "\n",
    "\n",
    "\n",
    "\n",
    "- [ ] *Honor Pledge: I certify that this assignment is my own work, based on my personal study and/or research, and that I have not copied in part or whole or otherwise plagiarised the work of other students and/or persons.*"
   ]
  },
  {
   "cell_type": "markdown",
   "metadata": {},
   "source": [
    "\n",
    "## Problem 1 (15 pts)\n",
    "\n",
    "\n",
    "Research and development (R&D) project selection typically involves multiple decision criteria which are formulated by different frames of discernment and assessed by different (possibly external) experts.\n",
    "\n",
    "For example, given a set of potential R&D projects, expert 1 is hired to evaluate to what extent each project is considered innovative, expert 2 is delegated to assess the level of knowledge transfer associated with each of these projects, expert 3 is responsible for rating each project along the sustainability dimension, and so on.\n",
    "\n",
    "Suppose that the project selection committee uses different Python dictionaries to record different types of ratings (on a scale of 1-10) for options it considers. \n",
    "\n",
    "For example, the dictionaries can be:\n",
    "\n",
    "```python\n",
    "\n",
    "criterion1 = {\"01\": 5, \"03\": 8, \"10\": 7, \"06\": 8, \"07\": 9.5, \"05\": 10}\n",
    "criterion2 = {\"07\": 9, \"04\": 6.5, \"05\": 8, \"02\": 7.5, \"03\": 9, \"09\": 8, \"06\": 4.5, \"10\": 8.5}\n",
    "criterion3 = {\"02\": 9.5, \"05\": 5.5, \"07\": 8.5, \"01\": 7, \"04\": 9.5, \"03\": 10, \"06\": 4.5, \"08\": 6}\n",
    "criterion4 = {\"10\": 4, \"02\": 7, \"08\": 10, \"05\": 6.5, \"09\": 9}\n",
    "...\n",
    "\n",
    "```\n",
    "\n",
    "where keys are project IDs and values are ratings. If the rating of a project is not present in a dictionary, its rating for that criterion/along that dimension is considered to be 0.\n",
    " \n",
    " \n",
    "The project selection committee wants to select top $n$ projects with highest combined ratings, where the combined rating is the sum of the ratings for all criteria.\n",
    "\n",
    "Here, if the above 4 criteria are all considered, the project with the highest combined rating is project `\"05\"`, since the combined rating is $10+8+5.5+6.5=30$, larger than any other one. \n",
    "\n",
    "\n",
    "Write a function with the signature `select_projects(*criteria, topN=1)`, which can return a list\n",
    "of top $n$ projects which have the $n$ highest combined ratings sorted based on the criteria specified at the point of call. \n",
    "\n",
    "If a tie is found between $n$-th and several remaining projects, include all projects which have combined ratings equal to that of the $n$-th project. Therefore, the list may include more than $n$ projects.\n",
    "\n",
    "\n",
    "Expected outputs: \n",
    "\n",
    "- Calling `select_projects(criterion1, criterion2)` should return `[('07', 18.5)]`;\n",
    "- Calling `select_projects(criterion1, criterion2, criterion3, topN=4)` should return `[('03', 27.0), ('07', 27.0), ('05', 23.5), ('06', 17.0), ('02', 17.0)]` (project `\"02\"` is included because its combined rating equals that of project `\"06\"`);\n",
    "- Calling `select_projects(criterion1, criterion2, criterion3, criterion4, topN=6)` should return `[('05', 30.0), ('03', 27.0), ('07', 27.0), ('02', 24.0), ('10', 19.5), ('06', 17.0), ('09', 17.0)]`.\n",
    "\n"
   ]
  },
  {
   "cell_type": "code",
   "execution_count": null,
   "metadata": {},
   "outputs": [],
   "source": [
    "# starter code\n",
    "\n",
    "criterion1 = {\"01\": 5, \"03\": 8, \"10\": 7, \"06\": 8, \"07\": 9.5, \"05\": 10}\n",
    "criterion2 = {\"07\": 9, \"04\": 6.5, \"05\": 8, \"02\": 7.5, \"03\": 9, \"09\": 8, \"06\": 4.5, \"10\": 8.5}\n",
    "criterion3 = {\"02\": 9.5, \"05\": 5.5, \"07\": 8.5, \"01\": 7, \"04\": 9.5, \"03\": 10, \"06\": 4.5, \"08\": 6}\n",
    "criterion4 = {\"10\": 4, \"02\": 7, \"08\": 10, \"05\": 6.5, \"09\": 9}\n",
    "\n",
    "# write down your code below\n",
    "\n",
    "\n",
    "\n"
   ]
  },
  {
   "cell_type": "markdown",
   "metadata": {
    "id": "v_qVT604owXX"
   },
   "source": [
    "---\n",
    "\n",
    "\n",
    "## Question 2. Data Assignment (10 pts)\n",
    "\n",
    "This problem presents a common data analysis task that assigns data into differet groups based on the grouping defined by a list of integers. \n",
    "\n",
    "Suppose we have a list of students:\n",
    "\n",
    "```python\n",
    "students = ['Tommy', 'Kitty', 'Jessie', 'Chester', 'Curie', 'Darwing', 'Nancy', 'Sue', \n",
    "            'Peter', 'Andrew', 'Karren', 'Charles', 'Nikhil', 'Justin', 'Astha', 'Victor', \n",
    "            'Samuel', 'Olivia', 'Tony']\n",
    "```\n",
    "\n",
    "We are going to assign them into 4 groups. The group identity of each student is specified by the integer at the same index position in a list named `assignment`:\n",
    "\n",
    "```python\n",
    "assignment = [2, 3, 3, 4, 1, 3, 2, 4, 3, 1, 1, 1, 2, 1, 3, 2, 4, 2, 4]\n",
    "```\n",
    "\n",
    "This list represents a grouping rule that assigns `'Tommy'` to group 2, `'Kitty'` to group 3, `'Jessie'` to group 3, and so on.\n",
    "\n",
    "Write a **comprehension** to produce a dictionary whose values are each a list that contains all students assigned to the corresponding group.\n",
    "\n",
    "The expected output is \n",
    "\n",
    "```python \n",
    "{'Group 1': ['Curie', 'Andrew', 'Karren', 'Charles', 'Justin'],\n",
    " 'Group 2': ['Tommy', 'Nancy', 'Nikhil', 'Victor', 'Olivia'],\n",
    " 'Group 3': ['Kitty', 'Jessie', 'Darwing', 'Peter', 'Astha'],\n",
    " 'Group 4': ['Chester', 'Sue', 'Samuel', 'Tony']}\n",
    "```\n",
    "<font color='red'>*Hint:*</font>\n",
    "\n",
    "\n",
    "- <font color='red'>*The keys, i.e., `'Group 1'`, `'Group 2'`, and `'Group 3'`, can be composed by string formatting with the group identity incrementally increasing across iterations.*</font>\n",
    "\n",
    "- <font color='red'>*Use `range()` to create the desired sequence of group identifiers.*</font>\n",
    "\n",
    "\n"
   ]
  },
  {
   "cell_type": "code",
   "execution_count": null,
   "metadata": {},
   "outputs": [],
   "source": [
    "students = ['Tommy', 'Kitty', 'Jessie', 'Chester', 'Curie', 'Darwing', 'Nancy', 'Sue', \n",
    "            'Peter', 'Andrew', 'Karren', 'Charles', 'Nikhil', 'Justin', 'Astha', 'Victor', \n",
    "            'Samuel', 'Olivia', 'Tony']\n",
    "\n",
    "assignment = [2, 3, 3, 4, 1, 3, 2, 4, 3, 1, 1, 1, 2, 1, 3, 2, 4, 2, 4]\n",
    "\n",
    "# write your code below\n",
    "\n",
    "\n",
    "\n"
   ]
  },
  {
   "cell_type": "markdown",
   "metadata": {
    "id": "e3D5qxoFoQIP"
   },
   "source": [
    "---\n",
    "\n",
    "## Question 3. Sorting Nested Data (15 pts)\n",
    "\n",
    "\n",
    "Suppose we use a Python dictionary to store gradebooks of multiple courses.\n",
    "\n",
    "```python\n",
    "\n",
    "gradebooks = {'Course 1': [['Troy', 92], ['Alice', 95]], \n",
    "              'Course 2': [['James', 89], ['Charles', 100], ['Bryn', 59]],\n",
    "              'Course 3': [['Jack', 74], ['Karren', 97], ['Astha', 92], ['Nancy', 96]]}\n",
    "```              \n",
    "Use the builtin `sorted` function with appropriate programming constructs (e.g., `lambda`s, comprehensions, etc.) to complete the following tasks:\n",
    "\n",
    "- Write a **single expression** to create a new list named `gradebooks_a`, with students of each course being sorted by score in descending order. The expected result is:\n",
    "```python\n",
    "[[['Alice', 95], ['Troy', 92]],\n",
    "   [['Charles', 100], ['James', 89], ['Bryn', 59]],\n",
    "   [['Karren', 97], ['Nancy', 96], ['Astha', 92], ['Jack', 74]]]\n",
    "```\n"
   ]
  },
  {
   "cell_type": "code",
   "execution_count": null,
   "metadata": {},
   "outputs": [],
   "source": [
    "gradebooks = {'Course 1': [['Troy', 92], ['Alice', 95]], \n",
    "              'Course 2': [['James', 89], ['Charles', 100], ['Bryn', 59]],\n",
    "              'Course 3': [['Jack', 74], ['Karren', 97], ['Astha', 92], ['Nancy', 96]]}\n",
    "\n",
    "# write your code below\n",
    "\n",
    "\n",
    "\n"
   ]
  },
  {
   "cell_type": "markdown",
   "metadata": {
    "id": "wY84YRMrTm1L"
   },
   "source": [
    "- Based on `gradebooks_a`, write a **single expression** to create a list named `gradebooks_b`, with courses being sorted by number of scores above 90. The expected result is:\n",
    "```python\n",
    "[[['Charles', 100], ['James', 89], ['Bryn', 59]],                # only 1 score above 90\n",
    "   [['Alice', 95], ['Troy', 92]],                                  # 2 scores above 90\n",
    "   [['Karren', 97], ['Nancy', 96], ['Astha', 92], ['Jack', 74]]]   # 3 score above 90\n",
    "``` \n"
   ]
  },
  {
   "cell_type": "code",
   "execution_count": 5,
   "metadata": {
    "id": "brFM_EAUToVQ"
   },
   "outputs": [],
   "source": [
    "# write your code below\n",
    "\n",
    "\n"
   ]
  },
  {
   "cell_type": "markdown",
   "metadata": {
    "id": "EuVWs-NWJw41"
   },
   "source": [
    "---\n",
    "\n",
    "## Problem 4: \"Customers Who Bought This Item Also Bought\" (30 pts)\n",
    "\n",
    "\n",
    "\n",
    "When landing on a product webpage at Amazon.com, customers will find a section called \"Customers Who Bought This Item Also Bought\" for recommending books, CDs, and other products that are commonly co-purchased with the current product, a feature designed to boost cross-selling.\n",
    "\n",
    "![](https://raw.githubusercontent.com/justinjiajia/img/master/python/carousel.png)\n",
    "\n",
    "Here we're going to write Python code to process historical transaction data to implement the feature.\n",
    "\n",
    "Suppose that we are using a Python list to maintain all products purchased in different transactions:\n",
    "\n",
    "```python\n",
    "\n",
    "transactions = [[2, 8, 3, 6, 1, 9], [0, 5, 9], [0, 9], [4, 7, 0, 5, 9], \n",
    "                [8, 3], [1, 6, 3, 8], [9, 0, 5], [3, 8], [5, 7, 0, 4], [3, 1, 2, 6, 0]]\n",
    "```\n",
    "\n",
    "Elements in each sublist represent product IDs co-purchased in a transaction. \n",
    "\n",
    "\n",
    "Our goal is, for each product in this tiny transaction dataset, recommend products that are most frequently purchased together with the current product.\n",
    "\n",
    "Please complete the following tasks based on the problem description.\n",
    "\n",
    " \n",
    "\n"
   ]
  },
  {
   "cell_type": "code",
   "execution_count": 6,
   "metadata": {
    "colab": {
     "base_uri": "https://localhost:8080/",
     "height": 55
    },
    "id": "YnPOkTURmzOw",
    "outputId": "a0610aa2-e8cb-45d4-daa7-0e9d6aa93832"
   },
   "outputs": [],
   "source": [
    "# starter code\n",
    "\n",
    "transactions = [[2, 8, 3, 6, 1, 9], [0, 5, 9], [0, 9], [4, 7, 0, 5, 9], \n",
    "                [8, 3], [1, 6, 3, 8], [9, 0, 5], [3, 8], [5, 7, 0, 4], [3, 1, 2, 6, 0]]\n"
   ]
  },
  {
   "cell_type": "markdown",
   "metadata": {
    "id": "Ua91RTEjUF2m"
   },
   "source": [
    "\n",
    "### Task 1. (10 pts)\n",
    "\n",
    "For each transaction, enumerate all pairs of products that co-occur in the corresponding sublist. For example, processing the sublist `[9, 0, 5]` should produce three pairs `(0, 5)`, `(0, 9)`, and `(5, 9)`.\n",
    "\n",
    "Pay attention to the order of product IDs in each pair. The same product pair (e.g., product 5 and product 9) can have two different representations (i.e., `(5, 9)` and `(9, 5)`). To facilitate the subsequent processing, make sure all pairs each are represented by its ascending representation (e.g., `(0, 5)` rather than `(5, 0)`).\n",
    "\n",
    "Moreover, make sure product pairs created from the same sublist are sorted first by the 1st element and then by the 2nd element. E.g., the list of pairs created from the sublist `[1, 6, 3, 8]` should be presented as `[(1, 3), (1, 6), (1, 8), (3, 6), (3, 8), (6, 8)]`.\n",
    "\n",
    "Produce a Python list, `product_pairs`, whose values each are a list of such pairs.\n",
    "\n",
    "The expected output of `print(product_pairs)` is as follows:\n",
    "\n",
    " \n",
    "```python\n",
    "[[(1, 2), (1, 3), (1, 6), (1, 8), (1, 9), (2, 3), (2, 6), (2, 8), (2, 9), (3, 6), (3, 8), \n",
    "  (3, 9), (6, 8), (6, 9), (8, 9)],\n",
    " [(0, 5), (0, 9), (5, 9)],\n",
    " [(0, 9)],\n",
    " [(0, 4), (0, 5), (0, 7), (0, 9), (4, 5), (4, 7), (4, 9), (5, 7), (5, 9), (7, 9)],\n",
    " [(3, 8)],\n",
    " [(1, 3), (1, 6), (1, 8), (3, 6), (3, 8), (6, 8)],\n",
    " [(0, 5), (0, 9), (5, 9)],\n",
    " [(3, 8)],\n",
    " [(0, 4), (0, 5), (0, 7), (4, 5), (4, 7), (5, 7)],\n",
    " [(0, 1), (0, 2), (0, 3), (0, 6), (1, 2), (1, 3), (1, 6), (2, 3), (2, 6), (3, 6)]]\n",
    " \n",
    "```\n",
    "\n",
    "Full credits will be awarded only if your answer is a comprehension implemention. Loop implementations can only get at most 80% of full marks."
   ]
  },
  {
   "cell_type": "code",
   "execution_count": null,
   "metadata": {},
   "outputs": [],
   "source": [
    "# write your code below\n",
    "\n",
    "\n"
   ]
  },
  {
   "cell_type": "markdown",
   "metadata": {
    "id": "OsfRmKw4UJUG"
   },
   "source": [
    "---\n",
    "\n",
    "### Task 2. (10 pts)\n",
    "\n",
    "\n",
    "\n",
    "Next, we will process `product_pairs` to create a dictionary `cooccurences`, whose keys are product pairs and whose values represent the number of their co-occurrences across transactions.\n",
    "\n",
    "\n",
    "The expected output of `print(cooccurences)` should look like the following (the output formatting can be different):\n",
    "\n",
    "```python\n",
    "{(0, 1): 1, (0, 2): 1, (0, 3): 1, (0, 4): 2, (0, 5): 4, (0, 6): 1, (0, 7): 2, (0, 9): 4, \n",
    " (1, 2): 2, (1, 3): 3, (1, 6): 3, (1, 8): 2, (1, 9): 1,\n",
    " (2, 3): 2, (2, 6): 2, (2, 8): 1, (2, 9): 1, \n",
    " (3, 6): 3, (3, 8): 4, (3, 9): 1,\n",
    " (4, 5): 2, (4, 7): 2, (4, 9): 1, \n",
    " (5, 7): 2, (5, 9): 3, \n",
    " (6, 8): 2, (6, 9): 1,  \n",
    " (7, 9): 1, \n",
    " (8, 9): 1}\n",
    " ```\n",
    " \n",
    "Full credits will be awarded only if the order of keys in your result matches exactly that in the expected output.\n"
   ]
  },
  {
   "cell_type": "code",
   "execution_count": 30,
   "metadata": {
    "id": "ka2HsHrsULmV"
   },
   "outputs": [],
   "source": [
    "# write your code below\n",
    "\n",
    "\n",
    "\n"
   ]
  },
  {
   "cell_type": "markdown",
   "metadata": {},
   "source": [
    "---\n",
    "\n",
    "### Task 3. (10 pts)\n",
    "\n",
    "\n",
    "Process `cooccurences` to output a new dictionary `recommendation` whose entries each are a list of recommended products associated with the number of transactions where they were co-purchased.\n",
    "\n",
    "The expected output is as follows:\n",
    "\n",
    "```python\n",
    "{0: [(5, 4), (9, 4), (4, 2), (7, 2), (1, 1), (2, 1), (3, 1), (6, 1)],\n",
    " 1: [(3, 3), (6, 3), (2, 2), (8, 2), (0, 1), (9, 1)],\n",
    " 2: [(1, 2), (3, 2), (6, 2), (0, 1), (8, 1), (9, 1)],\n",
    " 3: [(8, 4), (1, 3), (6, 3), (2, 2), (0, 1), (9, 1)],\n",
    " 4: [(0, 2), (5, 2), (7, 2), (9, 1)],\n",
    " 5: [(0, 4), (9, 3), (4, 2), (7, 2)],\n",
    " 6: [(1, 3), (3, 3), (2, 2), (8, 2), (0, 1), (9, 1)],\n",
    " 7: [(0, 2), (4, 2), (5, 2), (9, 1)],\n",
    " 9: [(0, 4), (5, 3), (1, 1), (2, 1), (3, 1), (4, 1), (6, 1), (7, 1), (8, 1)],\n",
    " 8: [(3, 4), (1, 2), (6, 2), (2, 1), (9, 1)]}\n",
    "```\n",
    "\n",
    "It means that, e.g., for product `5` (corresponding to the entry `5: [(0, 4), (9, 3), (4, 2), (7, 2)]`), a list of products (i.e., product `0`, `9`, `4`, and `7`), each being represented by a tuple with the 1st element being the ID and the 2nd the number of transactions where it has appeared together with product `5`, are recommended. The recommended products are also sorted in descending order by the the number of cooccurences with product `5` (i.e., the 2nd element of inner tuples)."
   ]
  },
  {
   "cell_type": "markdown",
   "metadata": {},
   "source": [
    "\n",
    "---\n",
    "\n",
    "##  Question 5.  Scraping IMDB Reviews (30 pts)\n",
    "\n",
    "Write code to drive a browser to 1) visit the imdb [review page](https://www.imdb.com/title/tt1856010/reviews) for *House of Cards*, 2) tick the checkbox to hide spoilers, and 3) sort reviews by helpfulness (by calling `.send_keys(\"Helpfulness\")` on the proper Web element). The content then rendered on this page would look like the following:\n",
    "\n",
    "\n",
    "<img src=\"movie_reviews.PNG\"  width=\"500\"  /> \n",
    "\n",
    "<br>\n",
    "\n",
    "Initially, only 25 reviews are presented on the page. You will find a load-more button at the bottom of the page. Clicking it every time will load 25 additional reviews on the fly into the result.\n",
    "\n",
    "\n",
    "\n"
   ]
  },
  {
   "cell_type": "markdown",
   "metadata": {},
   "source": [
    "Write code to simulate the clicking on the load-more button and scrape the data about **at least 50 reviews**.\n",
    "\n",
    "The pieces of information you need to extract for each review include **the title, the review text, the ID of the user who gave it, the review date, and the numerical rating (a number out of 10; some reviews have this piece of information missing)**.\n",
    "\n",
    "You can use different Python lists to maintain different pieces of information about individual reviews.\n",
    "\n",
    "If you print the lists that maintian the information on review titles and ratings, the outputs should look like the following (suppose you scrape data for 50 reviews):\n",
    "\n",
    "\n",
    "Titles:\n",
    "\n",
    "```python\n",
    "['Simply not worth it anymore after Kevin Spacey left...', 'Season 6 Disaster', 'What IDIOTS! Legacy destroyed!', \"There's no reason to watch without Kevin Spacey.\", 'Netflix, masters at watering down content!', 'Season 6 is a terrible watch', '5 Seasons Of Highly Addictive Political Drama And Darkly Funny Satire', 'Kinda used to tv shows ruining everything in the last seasons', 'Nothing without Spacey', 'Pioneering Perfection', 'Disappointing Drivel', 'WTF WAS THAT!? Terrible Season 6', 'No Kevin No Show', 'Stood firm for four seasons, collapsed completely in Season 5', 'Season 6', 'No Spacey no show', 'HOC is nothing without Kevin', 'Season 6 is boring as hell', 'If Television Series Were Ships...', 'An American Twist on a British Classic', 'If not for season 6, it would have been a 9', 'S1-S5 10/10, S6 1/10', 'Seasons 1-5', 'Exceptional Series', 'A must watch series', 'Strangely enough)', \"It's a dud show after Kevin Spacey left\", 'Great start for the earlier seasons only to collapse in the final season', \"The series ended with Spacey's departure\", 'Season 6 ruined it..', \"Netflix's Foray into Original Programming is off to a Promising Start\", 'Excellent!', 'Pretty good, especially the earlier seasons!', 'Season 1 to 5 is great season 6 is total trash', 'Watch season one and two, then stop', 'As good as the original', 'Needs to end', 'Season 6 Review', 'season 6 is really bad damage control season', 'Masterpiece', 'Worse and worse every season..', 'Breathtakingly good show', 'The worst season one could only imagine', 'Why Do So Many People Like this Show?', 'Only first 5 seasons', 'Only season 6.', 'And the Queen of Spades was left standing', 'Solid political melodrama that loses its way towards the end', 'Last season ruins the entire show.', 'Amazing....and then series 6 happened.']\n",
    "```\n",
    "\n",
    "Ratings:\n",
    "\n",
    "```python\n",
    "['6', '1', '1', '7', '2', None, None, '9', '1', '10', '7', '1', '9', '7', '5', '1', '1', '1', '9', '10', '5', '1', '8', '10', '10', '8', '9', '7', '10', '1', '8', '9', '8', '9', '10', '10', '4', '1', '2', '10', '6', '9', '3', '1', '9', '9', '8', '7', '7', '4']\n",
    "```\n",
    "\n",
    "\n",
    "\n",
    " \n",
    "\n",
    "<font color=\"red\">*Hint: use `None` to represent a missing rating.*</font>"
   ]
  },
  {
   "cell_type": "code",
   "execution_count": null,
   "metadata": {},
   "outputs": [],
   "source": [
    "# Load necessary packages and write your code below\n",
    "\n",
    "\n"
   ]
  }
 ],
 "metadata": {
  "colab": {
   "collapsed_sections": [],
   "name": "solution assignment 1 Fall2019.ipynb",
   "provenance": []
  },
  "kernelspec": {
   "display_name": "Python 3",
   "language": "python",
   "name": "python3"
  },
  "language_info": {
   "codemirror_mode": {
    "name": "ipython",
    "version": 3
   },
   "file_extension": ".py",
   "mimetype": "text/x-python",
   "name": "python",
   "nbconvert_exporter": "python",
   "pygments_lexer": "ipython3",
   "version": "3.8.5"
  }
 },
 "nbformat": 4,
 "nbformat_minor": 1
}
