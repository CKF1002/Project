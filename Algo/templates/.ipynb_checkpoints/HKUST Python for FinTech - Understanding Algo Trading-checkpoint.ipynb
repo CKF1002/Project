{
 "cells": [
  {
   "cell_type": "markdown",
   "metadata": {
    "id": "pTe_XbxvIBJD"
   },
   "source": [
    "# Algo Trading Example\n",
    "\n",
    "This example simulates actual trading using the strategy below:\n",
    "1. We define a SMA period.\n",
    "2. If the adjusted close price is above the SMA(SMA period) we enter a long position (we place a buy market order).\n",
    "3. If a long position is in place, and the adjusted close price drops below the SMA(15) we exit the long position (we place a sell market order)."
   ]
  },
  {
   "cell_type": "markdown",
   "metadata": {
    "id": "34yvlIcQqAu-"
   },
   "source": [
    "## 1. Install and import appropriate libraries"
   ]
  },
  {
   "cell_type": "code",
   "execution_count": null,
   "metadata": {
    "id": "3cclNCdPomWW"
   },
   "outputs": [],
   "source": [
    "! pip install pyalgotrade\n",
    "! pip install --upgrade pandas\n",
    "! pip install --upgrade pandas-datareader\n",
    "! pip install yfinance"
   ]
  },
  {
   "cell_type": "code",
   "execution_count": null,
   "metadata": {
    "id": "dif0xyaYo1V1"
   },
   "outputs": [],
   "source": [
    "from __future__ import print_function\n",
    "\n",
    "from pyalgotrade import strategy\n",
    "from pyalgotrade.barfeed import yahoofeed\n",
    "from pyalgotrade.technical import ma\n",
    "\n",
    "import datetime as dt\n",
    "import pandas as pd\n",
    "import pandas_datareader.data as web\n",
    "import yfinance as yf\n",
    "import matplotlib.pyplot as plt"
   ]
  },
  {
   "cell_type": "markdown",
   "metadata": {
    "id": "rPgmqI7buaDr"
   },
   "source": [
    "## 2. Initialize start and end dates and set up data reader"
   ]
  },
  {
   "cell_type": "code",
   "execution_count": null,
   "metadata": {
    "id": "9vlpATD9uM7B"
   },
   "outputs": [],
   "source": [
    "start = dt.datetime(2020, 1, 1)\n",
    "end = dt.datetime(2022, 4, 14)"
   ]
  },
  {
   "cell_type": "code",
   "execution_count": null,
   "metadata": {
    "id": "HBf40GHBuP_O"
   },
   "outputs": [],
   "source": [
    "yf.pdr_override()"
   ]
  },
  {
   "cell_type": "markdown",
   "metadata": {
    "id": "ZHwc0i7nuoXa"
   },
   "source": [
    "## 3. Fetch data and load into CSV file"
   ]
  },
  {
   "cell_type": "code",
   "execution_count": null,
   "metadata": {
    "colab": {
     "base_uri": "https://localhost:8080/",
     "height": 472
    },
    "id": "4FAt8SDuur2W",
    "outputId": "d4e4fd6c-1fc0-4f72-863b-f7cc60bed047"
   },
   "outputs": [],
   "source": [
    "query_str = \"AAPL\"\n",
    "df = web.get_data_yahoo(query_str, start, end)\n",
    "\n",
    "df"
   ]
  },
  {
   "cell_type": "code",
   "execution_count": null,
   "metadata": {
    "id": "XeuHXgCfvRxf"
   },
   "outputs": [],
   "source": [
    "filename = \"{}.csv\".format(query_str)\n",
    "with open(filename, 'w') as csv_file:\n",
    "  df.to_csv(filename)"
   ]
  },
  {
   "cell_type": "markdown",
   "metadata": {
    "id": "5XAPYw_NKfRD"
   },
   "source": [
    "Open the file viewer and click on \"Refresh\" to see the generated CSV."
   ]
  },
  {
   "cell_type": "markdown",
   "metadata": {
    "id": "QOTFhnG6qJYo"
   },
   "source": [
    "## 4. Create Strategy Template"
   ]
  },
  {
   "cell_type": "code",
   "execution_count": null,
   "metadata": {
    "id": "I_SiZDH0o_PA"
   },
   "outputs": [],
   "source": [
    "class StrategyTemplate(strategy.BacktestingStrategy):\n",
    "  def __init__(self, feed, instrument, smaPeriod):        # Initialization for the strategy\n",
    "    super(StrategyTemplate, self).__init__(feed, 1000)\n",
    "    self.__position = None\n",
    "    self.__instrument = instrument\n",
    "    self.setUseAdjustedValues(True)\n",
    "    self.__sma = ma.SMA(feed[instrument].getPriceDataSeries(), smaPeriod)\n",
    "\n",
    "  def onEnterOk(self, position):                          # Actions taken if the program enters a position\n",
    "    execInfo = position.getEntryOrder().getExecutionInfo()\n",
    "    self.info(\"BUY at ${}\".format(execInfo.getPrice()))\n",
    "  \n",
    "  def onEnterCanceled(self, position):                    # Actions taken if the program cancels entering the position\n",
    "      self.__position = None\n",
    "  \n",
    "  def onExitOk(self, position):                           # Actions taken if the program exits a position\n",
    "    execInfo = position.getExitOrder().getExecutionInfo()\n",
    "    self.info(\"SELL at ${}\".format(execInfo.getPrice()))\n",
    "    self.__position  = None\n",
    "\n",
    "  def onExitCancelled(self, position):                    # Actions taken if the program cancels exiting a position\n",
    "    self.__position.exitMarket()\n",
    "  \n",
    "  def onBars(self, bars):                                 # Actions taken after reading each row\n",
    "    if self.__sma[-1] is None:\n",
    "      return\n",
    "\n",
    "    bar = bars[self.__instrument]\n",
    "\n",
    "    if self.__position is None:\n",
    "      if bar.getPrice() > self.__sma[-1]:\n",
    "        self.__position = self.enterLong(self.__instrument, 10, True)\n",
    "    \n",
    "    elif bar.getPrice() < self.__sma[-1] and not self.__position.exitActive():\n",
    "      self.__position.exitMarket()"
   ]
  },
  {
   "cell_type": "markdown",
   "metadata": {
    "id": "Xwd9DeG5Fc4I"
   },
   "source": [
    "## 5. Define Function for Running Strategy"
   ]
  },
  {
   "cell_type": "code",
   "execution_count": null,
   "metadata": {
    "id": "C1fHG3NArr_B"
   },
   "outputs": [],
   "source": [
    "def run_strategy(smaPeriod):\n",
    "  feed = yahoofeed.Feed()\n",
    "  feed.addBarsFromCSV(query_str, filename)\n",
    "\n",
    "  myStrategy = StrategyTemplate(feed, query_str, smaPeriod)\n",
    "  myStrategy.run()\n",
    "  print(\"Final portfolio value: ${}\".format(myStrategy.getBroker().getEquity()))\n",
    "  return myStrategy.getResult()"
   ]
  },
  {
   "cell_type": "markdown",
   "metadata": {
    "id": "LjXTq7CEFs9y"
   },
   "source": [
    "## 6. Run the Strategy"
   ]
  },
  {
   "cell_type": "code",
   "execution_count": null,
   "metadata": {
    "colab": {
     "base_uri": "https://localhost:8080/"
    },
    "id": "_b8ocatQy0pp",
    "outputId": "12715157-82f9-4475-fa2b-6652b5d38da7"
   },
   "outputs": [],
   "source": [
    "strategy_results = []\n",
    "labels = []\n",
    "for i in range(10,30):\n",
    "  strategy_results.append(run_strategy(i))\n",
    "  labels.append(i)"
   ]
  },
  {
   "cell_type": "markdown",
   "metadata": {
    "id": "-D_ut9U1FyAQ"
   },
   "source": [
    "## 7. Display the Results"
   ]
  },
  {
   "cell_type": "code",
   "execution_count": null,
   "metadata": {
    "colab": {
     "base_uri": "https://localhost:8080/",
     "height": 812
    },
    "id": "dYAd6ethDGfH",
    "outputId": "16d41704-4369-4205-e68b-7894f22b39c8"
   },
   "outputs": [],
   "source": [
    "plt.figure(figsize=(20,7))\n",
    "plt.bar(labels, strategy_results)\n",
    "plt.xticks(labels)"
   ]
  }
 ],
 "metadata": {
  "colab": {
   "name": "FCI Algo Trading Example.ipynb",
   "provenance": []
  },
  "kernelspec": {
   "display_name": "Python 3 (ipykernel)",
   "language": "python",
   "name": "python3"
  },
  "language_info": {
   "codemirror_mode": {
    "name": "ipython",
    "version": 3
   },
   "file_extension": ".py",
   "mimetype": "text/x-python",
   "name": "python",
   "nbconvert_exporter": "python",
   "pygments_lexer": "ipython3",
   "version": "3.9.13"
  }
 },
 "nbformat": 4,
 "nbformat_minor": 4
}
