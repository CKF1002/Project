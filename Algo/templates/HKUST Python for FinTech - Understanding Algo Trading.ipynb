{
 "cells": [
  {
   "cell_type": "markdown",
   "metadata": {
    "id": "pTe_XbxvIBJD"
   },
   "source": [
    "# Algo Trading Example\n",
    "\n",
    "This example simulates actual trading using the strategy below:\n",
    "1. We define a SMA period.\n",
    "2. If the adjusted close price is above the SMA(SMA period) we enter a long position (we place a buy market order).\n",
    "3. If a long position is in place, and the adjusted close price drops below the SMA(15) we exit the long position (we place a sell market order)."
   ]
  },
  {
   "cell_type": "markdown",
   "metadata": {
    "id": "34yvlIcQqAu-"
   },
   "source": [
    "## 1. Install and import appropriate libraries"
   ]
  },
  {
   "cell_type": "code",
   "execution_count": 2,
   "metadata": {
    "id": "3cclNCdPomWW"
   },
   "outputs": [
    {
     "name": "stdout",
     "output_type": "stream",
     "text": [
      "Requirement already satisfied: pyalgotrade in c:\\users\\chengkf\\anaconda3\\lib\\site-packages (0.20)\n",
      "Requirement already satisfied: matplotlib in c:\\users\\chengkf\\anaconda3\\lib\\site-packages (from pyalgotrade) (3.5.2)\n",
      "Requirement already satisfied: requests in c:\\users\\chengkf\\anaconda3\\lib\\site-packages (from pyalgotrade) (2.28.1)\n",
      "Requirement already satisfied: retrying in c:\\users\\chengkf\\anaconda3\\lib\\site-packages (from pyalgotrade) (1.3.4)\n",
      "Requirement already satisfied: pytz in c:\\users\\chengkf\\anaconda3\\lib\\site-packages (from pyalgotrade) (2023.3)\n",
      "Requirement already satisfied: python-dateutil in c:\\users\\chengkf\\anaconda3\\lib\\site-packages (from pyalgotrade) (2.8.2)\n",
      "Requirement already satisfied: numpy in c:\\users\\chengkf\\anaconda3\\lib\\site-packages (from pyalgotrade) (1.21.5)\n",
      "Requirement already satisfied: tornado in c:\\users\\chengkf\\anaconda3\\lib\\site-packages (from pyalgotrade) (6.1)\n",
      "Requirement already satisfied: scipy in c:\\users\\chengkf\\anaconda3\\lib\\site-packages (from pyalgotrade) (1.9.1)\n",
      "Requirement already satisfied: ws4py>=0.3.4 in c:\\users\\chengkf\\anaconda3\\lib\\site-packages (from pyalgotrade) (0.5.1)\n",
      "Requirement already satisfied: tweepy in c:\\users\\chengkf\\anaconda3\\lib\\site-packages (from pyalgotrade) (4.13.0)\n",
      "Requirement already satisfied: six in c:\\users\\chengkf\\anaconda3\\lib\\site-packages (from pyalgotrade) (1.16.0)\n",
      "Requirement already satisfied: kiwisolver>=1.0.1 in c:\\users\\chengkf\\anaconda3\\lib\\site-packages (from matplotlib->pyalgotrade) (1.4.2)\n",
      "Requirement already satisfied: cycler>=0.10 in c:\\users\\chengkf\\anaconda3\\lib\\site-packages (from matplotlib->pyalgotrade) (0.11.0)\n",
      "Requirement already satisfied: fonttools>=4.22.0 in c:\\users\\chengkf\\anaconda3\\lib\\site-packages (from matplotlib->pyalgotrade) (4.25.0)\n",
      "Requirement already satisfied: packaging>=20.0 in c:\\users\\chengkf\\anaconda3\\lib\\site-packages (from matplotlib->pyalgotrade) (21.3)\n",
      "Requirement already satisfied: pillow>=6.2.0 in c:\\users\\chengkf\\anaconda3\\lib\\site-packages (from matplotlib->pyalgotrade) (9.2.0)\n",
      "Requirement already satisfied: pyparsing>=2.2.1 in c:\\users\\chengkf\\anaconda3\\lib\\site-packages (from matplotlib->pyalgotrade) (3.0.9)\n",
      "Requirement already satisfied: idna<4,>=2.5 in c:\\users\\chengkf\\anaconda3\\lib\\site-packages (from requests->pyalgotrade) (3.3)\n",
      "Requirement already satisfied: urllib3<1.27,>=1.21.1 in c:\\users\\chengkf\\anaconda3\\lib\\site-packages (from requests->pyalgotrade) (1.26.11)\n",
      "Requirement already satisfied: charset-normalizer<3,>=2 in c:\\users\\chengkf\\anaconda3\\lib\\site-packages (from requests->pyalgotrade) (2.0.4)\n",
      "Requirement already satisfied: certifi>=2017.4.17 in c:\\users\\chengkf\\anaconda3\\lib\\site-packages (from requests->pyalgotrade) (2022.9.14)\n",
      "Requirement already satisfied: requests-oauthlib<2,>=1.2.0 in c:\\users\\chengkf\\anaconda3\\lib\\site-packages (from tweepy->pyalgotrade) (1.3.1)\n",
      "Requirement already satisfied: oauthlib<4,>=3.2.0 in c:\\users\\chengkf\\anaconda3\\lib\\site-packages (from tweepy->pyalgotrade) (3.2.2)\n",
      "Requirement already satisfied: pandas in c:\\users\\chengkf\\anaconda3\\lib\\site-packages (1.5.3)\n",
      "Collecting pandas\n",
      "  Downloading pandas-2.0.0-cp39-cp39-win_amd64.whl (11.3 MB)\n",
      "     --------------------------------------- 11.3/11.3 MB 40.9 MB/s eta 0:00:00\n",
      "Requirement already satisfied: pytz>=2020.1 in c:\\users\\chengkf\\anaconda3\\lib\\site-packages (from pandas) (2023.3)\n",
      "Requirement already satisfied: python-dateutil>=2.8.2 in c:\\users\\chengkf\\anaconda3\\lib\\site-packages (from pandas) (2.8.2)\n",
      "Requirement already satisfied: numpy>=1.20.3 in c:\\users\\chengkf\\anaconda3\\lib\\site-packages (from pandas) (1.21.5)\n",
      "Collecting tzdata>=2022.1\n",
      "  Downloading tzdata-2023.3-py2.py3-none-any.whl (341 kB)\n",
      "     ------------------------------------- 341.8/341.8 kB 20.7 MB/s eta 0:00:00\n",
      "Requirement already satisfied: six>=1.5 in c:\\users\\chengkf\\anaconda3\\lib\\site-packages (from python-dateutil>=2.8.2->pandas) (1.16.0)\n",
      "Installing collected packages: tzdata, pandas\n",
      "  Attempting uninstall: pandas\n",
      "    Found existing installation: pandas 1.5.3\n",
      "    Uninstalling pandas-1.5.3:\n",
      "      Successfully uninstalled pandas-1.5.3\n"
     ]
    },
    {
     "name": "stderr",
     "output_type": "stream",
     "text": [
      "ERROR: Could not install packages due to an OSError: [WinError 5] Access is denied: 'C:\\\\Users\\\\Chengkf\\\\anaconda3\\\\Lib\\\\site-packages\\\\~-ndas\\\\_libs\\\\algos.cp39-win_amd64.pyd'\n",
      "Consider using the `--user` option or check the permissions.\n",
      "\n"
     ]
    },
    {
     "name": "stdout",
     "output_type": "stream",
     "text": [
      "Requirement already satisfied: pandas-datareader in c:\\users\\chengkf\\anaconda3\\lib\\site-packages (0.10.0)\n",
      "Requirement already satisfied: requests>=2.19.0 in c:\\users\\chengkf\\anaconda3\\lib\\site-packages (from pandas-datareader) (2.28.1)\n",
      "Requirement already satisfied: pandas>=0.23 in c:\\users\\chengkf\\anaconda3\\lib\\site-packages (from pandas-datareader) (2.0.0)\n",
      "Requirement already satisfied: lxml in c:\\users\\chengkf\\anaconda3\\lib\\site-packages (from pandas-datareader) (4.9.1)\n",
      "Requirement already satisfied: numpy>=1.20.3 in c:\\users\\chengkf\\anaconda3\\lib\\site-packages (from pandas>=0.23->pandas-datareader) (1.21.5)\n",
      "Requirement already satisfied: pytz>=2020.1 in c:\\users\\chengkf\\anaconda3\\lib\\site-packages (from pandas>=0.23->pandas-datareader) (2023.3)\n",
      "Requirement already satisfied: tzdata>=2022.1 in c:\\users\\chengkf\\anaconda3\\lib\\site-packages (from pandas>=0.23->pandas-datareader) (2023.3)\n",
      "Requirement already satisfied: python-dateutil>=2.8.2 in c:\\users\\chengkf\\anaconda3\\lib\\site-packages (from pandas>=0.23->pandas-datareader) (2.8.2)\n",
      "Requirement already satisfied: urllib3<1.27,>=1.21.1 in c:\\users\\chengkf\\anaconda3\\lib\\site-packages (from requests>=2.19.0->pandas-datareader) (1.26.11)\n",
      "Requirement already satisfied: idna<4,>=2.5 in c:\\users\\chengkf\\anaconda3\\lib\\site-packages (from requests>=2.19.0->pandas-datareader) (3.3)\n",
      "Requirement already satisfied: certifi>=2017.4.17 in c:\\users\\chengkf\\anaconda3\\lib\\site-packages (from requests>=2.19.0->pandas-datareader) (2022.9.14)\n",
      "Requirement already satisfied: charset-normalizer<3,>=2 in c:\\users\\chengkf\\anaconda3\\lib\\site-packages (from requests>=2.19.0->pandas-datareader) (2.0.4)\n",
      "Requirement already satisfied: six>=1.5 in c:\\users\\chengkf\\anaconda3\\lib\\site-packages (from python-dateutil>=2.8.2->pandas>=0.23->pandas-datareader) (1.16.0)\n",
      "Requirement already satisfied: yfinance in c:\\users\\chengkf\\anaconda3\\lib\\site-packages (0.2.14)\n",
      "Requirement already satisfied: appdirs>=1.4.4 in c:\\users\\chengkf\\anaconda3\\lib\\site-packages (from yfinance) (1.4.4)\n",
      "Requirement already satisfied: beautifulsoup4>=4.11.1 in c:\\users\\chengkf\\anaconda3\\lib\\site-packages (from yfinance) (4.11.1)\n",
      "Requirement already satisfied: pandas>=1.3.0 in c:\\users\\chengkf\\anaconda3\\lib\\site-packages (from yfinance) (2.0.0)\n",
      "Requirement already satisfied: cryptography>=3.3.2 in c:\\users\\chengkf\\anaconda3\\lib\\site-packages (from yfinance) (37.0.1)\n",
      "Requirement already satisfied: multitasking>=0.0.7 in c:\\users\\chengkf\\anaconda3\\lib\\site-packages (from yfinance) (0.0.11)\n",
      "Requirement already satisfied: pytz>=2022.5 in c:\\users\\chengkf\\anaconda3\\lib\\site-packages (from yfinance) (2023.3)\n",
      "Requirement already satisfied: lxml>=4.9.1 in c:\\users\\chengkf\\anaconda3\\lib\\site-packages (from yfinance) (4.9.1)\n",
      "Requirement already satisfied: requests>=2.26 in c:\\users\\chengkf\\anaconda3\\lib\\site-packages (from yfinance) (2.28.1)\n",
      "Requirement already satisfied: numpy>=1.16.5 in c:\\users\\chengkf\\anaconda3\\lib\\site-packages (from yfinance) (1.21.5)\n",
      "Requirement already satisfied: frozendict>=2.3.4 in c:\\users\\chengkf\\anaconda3\\lib\\site-packages (from yfinance) (2.3.6)\n",
      "Requirement already satisfied: html5lib>=1.1 in c:\\users\\chengkf\\anaconda3\\lib\\site-packages (from yfinance) (1.1)\n",
      "Requirement already satisfied: soupsieve>1.2 in c:\\users\\chengkf\\anaconda3\\lib\\site-packages (from beautifulsoup4>=4.11.1->yfinance) (2.3.1)\n",
      "Requirement already satisfied: cffi>=1.12 in c:\\users\\chengkf\\anaconda3\\lib\\site-packages (from cryptography>=3.3.2->yfinance) (1.15.1)\n",
      "Requirement already satisfied: webencodings in c:\\users\\chengkf\\anaconda3\\lib\\site-packages (from html5lib>=1.1->yfinance) (0.5.1)\n",
      "Requirement already satisfied: six>=1.9 in c:\\users\\chengkf\\anaconda3\\lib\\site-packages (from html5lib>=1.1->yfinance) (1.16.0)\n",
      "Requirement already satisfied: tzdata>=2022.1 in c:\\users\\chengkf\\anaconda3\\lib\\site-packages (from pandas>=1.3.0->yfinance) (2023.3)\n",
      "Requirement already satisfied: python-dateutil>=2.8.2 in c:\\users\\chengkf\\anaconda3\\lib\\site-packages (from pandas>=1.3.0->yfinance) (2.8.2)\n",
      "Requirement already satisfied: urllib3<1.27,>=1.21.1 in c:\\users\\chengkf\\anaconda3\\lib\\site-packages (from requests>=2.26->yfinance) (1.26.11)\n",
      "Requirement already satisfied: idna<4,>=2.5 in c:\\users\\chengkf\\anaconda3\\lib\\site-packages (from requests>=2.26->yfinance) (3.3)\n",
      "Requirement already satisfied: certifi>=2017.4.17 in c:\\users\\chengkf\\anaconda3\\lib\\site-packages (from requests>=2.26->yfinance) (2022.9.14)\n",
      "Requirement already satisfied: charset-normalizer<3,>=2 in c:\\users\\chengkf\\anaconda3\\lib\\site-packages (from requests>=2.26->yfinance) (2.0.4)\n",
      "Requirement already satisfied: pycparser in c:\\users\\chengkf\\anaconda3\\lib\\site-packages (from cffi>=1.12->cryptography>=3.3.2->yfinance) (2.21)\n"
     ]
    }
   ],
   "source": [
    "! pip install pyalgotrade\n",
    "! pip install --upgrade pandas\n",
    "! pip install --upgrade pandas-datareader\n",
    "! pip install yfinance"
   ]
  },
  {
   "cell_type": "code",
   "execution_count": null,
   "metadata": {
    "id": "dif0xyaYo1V1"
   },
   "outputs": [],
   "source": [
    "from __future__ import print_function\n",
    "\n",
    "from pyalgotrade import strategy\n",
    "from pyalgotrade.barfeed import yahoofeed\n",
    "from pyalgotrade.technical import ma\n",
    "\n",
    "import datetime as dt\n",
    "import pandas as pd\n",
    "import pandas_datareader.data as web\n",
    "import yfinance as yf\n",
    "import matplotlib.pyplot as plt"
   ]
  },
  {
   "cell_type": "markdown",
   "metadata": {
    "id": "rPgmqI7buaDr"
   },
   "source": [
    "## 2. Initialize start and end dates and set up data reader"
   ]
  },
  {
   "cell_type": "code",
   "execution_count": null,
   "metadata": {
    "id": "9vlpATD9uM7B"
   },
   "outputs": [],
   "source": [
    "start = dt.datetime(2020, 1, 1)\n",
    "end = dt.datetime(2022, 4, 14)"
   ]
  },
  {
   "cell_type": "code",
   "execution_count": 1,
   "metadata": {
    "id": "HBf40GHBuP_O"
   },
   "outputs": [
    {
     "ename": "NameError",
     "evalue": "name 'yf' is not defined",
     "output_type": "error",
     "traceback": [
      "\u001b[1;31m---------------------------------------------------------------------------\u001b[0m",
      "\u001b[1;31mNameError\u001b[0m                                 Traceback (most recent call last)",
      "\u001b[1;32m~\\AppData\\Local\\Temp\\ipykernel_9412\\43912633.py\u001b[0m in \u001b[0;36m<module>\u001b[1;34m\u001b[0m\n\u001b[1;32m----> 1\u001b[1;33m \u001b[0myf\u001b[0m\u001b[1;33m.\u001b[0m\u001b[0mpdr_override\u001b[0m\u001b[1;33m(\u001b[0m\u001b[1;33m)\u001b[0m\u001b[1;33m\u001b[0m\u001b[1;33m\u001b[0m\u001b[0m\n\u001b[0m",
      "\u001b[1;31mNameError\u001b[0m: name 'yf' is not defined"
     ]
    }
   ],
   "source": [
    "yf.pdr_override()"
   ]
  },
  {
   "cell_type": "markdown",
   "metadata": {
    "id": "ZHwc0i7nuoXa"
   },
   "source": [
    "## 3. Fetch data and load into CSV file"
   ]
  },
  {
   "cell_type": "code",
   "execution_count": null,
   "metadata": {
    "colab": {
     "base_uri": "https://localhost:8080/",
     "height": 472
    },
    "id": "4FAt8SDuur2W",
    "outputId": "d4e4fd6c-1fc0-4f72-863b-f7cc60bed047"
   },
   "outputs": [],
   "source": [
    "query_str = \"AAPL\"\n",
    "df = web.get_data_yahoo(query_str, start, end)\n",
    "\n",
    "df"
   ]
  },
  {
   "cell_type": "code",
   "execution_count": null,
   "metadata": {
    "id": "XeuHXgCfvRxf"
   },
   "outputs": [],
   "source": [
    "filename = \"{}.csv\".format(query_str)\n",
    "with open(filename, 'w') as csv_file:\n",
    "  df.to_csv(filename)"
   ]
  },
  {
   "cell_type": "markdown",
   "metadata": {
    "id": "5XAPYw_NKfRD"
   },
   "source": [
    "Open the file viewer and click on \"Refresh\" to see the generated CSV."
   ]
  },
  {
   "cell_type": "markdown",
   "metadata": {
    "id": "QOTFhnG6qJYo"
   },
   "source": [
    "## 4. Create Strategy Template"
   ]
  },
  {
   "cell_type": "code",
   "execution_count": null,
   "metadata": {
    "id": "I_SiZDH0o_PA"
   },
   "outputs": [],
   "source": [
    "class StrategyTemplate(strategy.BacktestingStrategy):\n",
    "  def __init__(self, feed, instrument, smaPeriod):        # Initialization for the strategy\n",
    "    super(StrategyTemplate, self).__init__(feed, 1000)\n",
    "    self.__position = None\n",
    "    self.__instrument = instrument\n",
    "    self.setUseAdjustedValues(True)\n",
    "    self.__sma = ma.SMA(feed[instrument].getPriceDataSeries(), smaPeriod)\n",
    "\n",
    "  def onEnterOk(self, position):                          # Actions taken if the program enters a position\n",
    "    execInfo = position.getEntryOrder().getExecutionInfo()\n",
    "    self.info(\"BUY at ${}\".format(execInfo.getPrice()))\n",
    "  \n",
    "  def onEnterCanceled(self, position):                    # Actions taken if the program cancels entering the position\n",
    "      self.__position = None\n",
    "  \n",
    "  def onExitOk(self, position):                           # Actions taken if the program exits a position\n",
    "    execInfo = position.getExitOrder().getExecutionInfo()\n",
    "    self.info(\"SELL at ${}\".format(execInfo.getPrice()))\n",
    "    self.__position  = None\n",
    "\n",
    "  def onExitCancelled(self, position):                    # Actions taken if the program cancels exiting a position\n",
    "    self.__position.exitMarket()\n",
    "  \n",
    "  def onBars(self, bars):                                 # Actions taken after reading each row\n",
    "    if self.__sma[-1] is None:\n",
    "      return\n",
    "\n",
    "    bar = bars[self.__instrument]\n",
    "\n",
    "    if self.__position is None:\n",
    "      if bar.getPrice() > self.__sma[-1]:\n",
    "        self.__position = self.enterLong(self.__instrument, 10, True)\n",
    "    \n",
    "    elif bar.getPrice() < self.__sma[-1] and not self.__position.exitActive():\n",
    "      self.__position.exitMarket()"
   ]
  },
  {
   "cell_type": "markdown",
   "metadata": {
    "id": "Xwd9DeG5Fc4I"
   },
   "source": [
    "## 5. Define Function for Running Strategy"
   ]
  },
  {
   "cell_type": "code",
   "execution_count": null,
   "metadata": {
    "id": "C1fHG3NArr_B"
   },
   "outputs": [],
   "source": [
    "def run_strategy(smaPeriod):\n",
    "  feed = yahoofeed.Feed()\n",
    "  feed.addBarsFromCSV(query_str, filename)\n",
    "\n",
    "  myStrategy = StrategyTemplate(feed, query_str, smaPeriod)\n",
    "  myStrategy.run()\n",
    "  print(\"Final portfolio value: ${}\".format(myStrategy.getBroker().getEquity()))\n",
    "  return myStrategy.getResult()"
   ]
  },
  {
   "cell_type": "markdown",
   "metadata": {
    "id": "LjXTq7CEFs9y"
   },
   "source": [
    "## 6. Run the Strategy"
   ]
  },
  {
   "cell_type": "code",
   "execution_count": null,
   "metadata": {
    "colab": {
     "base_uri": "https://localhost:8080/"
    },
    "id": "_b8ocatQy0pp",
    "outputId": "12715157-82f9-4475-fa2b-6652b5d38da7"
   },
   "outputs": [],
   "source": [
    "strategy_results = []\n",
    "labels = []\n",
    "for i in range(10,30):\n",
    "  strategy_results.append(run_strategy(i))\n",
    "  labels.append(i)"
   ]
  },
  {
   "cell_type": "markdown",
   "metadata": {
    "id": "-D_ut9U1FyAQ"
   },
   "source": [
    "## 7. Display the Results"
   ]
  },
  {
   "cell_type": "code",
   "execution_count": null,
   "metadata": {
    "colab": {
     "base_uri": "https://localhost:8080/",
     "height": 812
    },
    "id": "dYAd6ethDGfH",
    "outputId": "16d41704-4369-4205-e68b-7894f22b39c8"
   },
   "outputs": [],
   "source": [
    "plt.figure(figsize=(20,7))\n",
    "plt.bar(labels, strategy_results)\n",
    "plt.xticks(labels)"
   ]
  }
 ],
 "metadata": {
  "colab": {
   "name": "FCI Algo Trading Example.ipynb",
   "provenance": []
  },
  "kernelspec": {
   "display_name": "Python 3 (ipykernel)",
   "language": "python",
   "name": "python3"
  },
  "language_info": {
   "codemirror_mode": {
    "name": "ipython",
    "version": 3
   },
   "file_extension": ".py",
   "mimetype": "text/x-python",
   "name": "python",
   "nbconvert_exporter": "python",
   "pygments_lexer": "ipython3",
   "version": "3.9.13"
  }
 },
 "nbformat": 4,
 "nbformat_minor": 4
}
