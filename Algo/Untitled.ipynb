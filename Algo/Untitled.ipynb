{
 "cells": [
  {
   "cell_type": "code",
   "execution_count": null,
   "id": "78a98f6b-7d0c-4a0d-9920-7f93d80e1b61",
   "metadata": {},
   "outputs": [],
   "source": [
    "\n",
    "merge join\n",
    "\n",
    "concat append\n",
    "\n",
    "\n"
   ]
  },
  {
   "cell_type": "code",
   "execution_count": null,
   "id": "344e6513-253a-48c9-b9bf-8e1eb9cfbf7b",
   "metadata": {},
   "outputs": [],
   "source": []
  },
  {
   "cell_type": "code",
   "execution_count": null,
   "id": "76fff50a-d743-4865-8595-48a0a39f1f4d",
   "metadata": {},
   "outputs": [],
   "source": []
  },
  {
   "cell_type": "code",
   "execution_count": null,
   "id": "fb96a278-ff65-437c-9ae3-323a9e3508a4",
   "metadata": {},
   "outputs": [],
   "source": []
  },
  {
   "cell_type": "code",
   "execution_count": null,
   "id": "dd6f923c-99e7-4441-ad95-56aaf8b93d16",
   "metadata": {},
   "outputs": [],
   "source": []
  },
  {
   "cell_type": "code",
   "execution_count": null,
   "id": "5c534b7a-239d-4762-bb56-520412332512",
   "metadata": {},
   "outputs": [],
   "source": [
    "dsf"
   ]
  },
  {
   "cell_type": "code",
   "execution_count": null,
   "id": "e5c0ac63-8f51-471e-a747-3104f1fcba92",
   "metadata": {},
   "outputs": [],
   "source": [
    "# sdf"
   ]
  },
  {
   "cell_type": "code",
   "execution_count": null,
   "id": "9df59d75-7946-452b-b25d-bd4aa21ece83",
   "metadata": {},
   "outputs": [],
   "source": [
    "pd.read_cs"
   ]
  },
  {
   "cell_type": "code",
   "execution_count": 10,
   "id": "e4114de7-fd51-49fb-ba7b-7940d75bc3e0",
   "metadata": {},
   "outputs": [
    {
     "data": {
      "text/plain": [
       "'C:\\\\Users\\\\Chengkf\\\\__Python_Code__\\\\Project\\\\Algo'"
      ]
     },
     "execution_count": 10,
     "metadata": {},
     "output_type": "execute_result"
    }
   ],
   "source": [
    "# pwd"
   ]
  }
 ],
 "metadata": {
  "kernelspec": {
   "display_name": "Python 3 (ipykernel)",
   "language": "python",
   "name": "python3"
  },
  "language_info": {
   "codemirror_mode": {
    "name": "ipython",
    "version": 3
   },
   "file_extension": ".py",
   "mimetype": "text/x-python",
   "name": "python",
   "nbconvert_exporter": "python",
   "pygments_lexer": "ipython3",
   "version": "3.9.13"
  }
 },
 "nbformat": 4,
 "nbformat_minor": 5
}
