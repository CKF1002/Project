{
 "cells": [
  {
   "cell_type": "markdown",
   "id": "8ae6d7a0-4416-4560-ac5f-98b8e2b0dc30",
   "metadata": {},
   "source": [
    "1. We define a SMA period.\n",
    "2. If the adjusted close price is above the SMA(SMA period) we enter a long position (we place a buy market order).\n",
    "3. If a long position is in place, and the adjusted close price drops below the SMA(15) we exit the long position (we place a sell market order)."
   ]
  },
  {
   "cell_type": "code",
   "execution_count": null,
   "id": "64c54838-a276-4cfd-a6fc-fcd66a956731",
   "metadata": {},
   "outputs": [],
   "source": [
    "!pip install pyalgotrade\n",
    "#!pip install --upgrade pandas\n",
    "!pip install --upgrade pandas==1.5.3\n",
    "!pip install --upgrade pandas-datareader\n",
    "!pip install yfinance\n"
   ]
  },
  {
   "cell_type": "code",
   "execution_count": null,
   "id": "2301471f-13ab-401b-b9ee-e0402d36a0ca",
   "metadata": {},
   "outputs": [],
   "source": [
    "from __future__ import print_function\n",
    "\n",
    "from pyalgotrade import strategy\n",
    "from pyalgotrade.barfeed import yahoofeed\n",
    "from pyalgotrade.technical import ma\n",
    "\n",
    "import datetime as dt\n",
    "import pandas as pd\n",
    "import pandas_datareader.data as web\n",
    "import yfinance as yf\n",
    "import matplotlib.pyplot as plt\n",
    "\n",
    "print(\n",
    "    f\"Pandas {pd.__version__}\"\n",
    ")"
   ]
  },
  {
   "cell_type": "code",
   "execution_count": null,
   "id": "0cce028f-24f1-44a5-8761-721bbddfe185",
   "metadata": {},
   "outputs": [],
   "source": [
    "start = dt.datetime(2020,1,1)\n",
    "end = dt.datetime(2022,4,21)"
   ]
  },
  {
   "cell_type": "code",
   "execution_count": null,
   "id": "e25de722-687b-4ea7-8109-1a4717076c76",
   "metadata": {},
   "outputs": [],
   "source": [
    "yf.pdr_override()"
   ]
  },
  {
   "cell_type": "code",
   "execution_count": null,
   "id": "360f532a-f01e-43b1-af90-85beafb85ea4",
   "metadata": {},
   "outputs": [],
   "source": [
    "query_str = \"AAPL\"\n",
    "df = web.get_data_yahoo(query_str, start, end)\n",
    "#df['Close']\n",
    "\n",
    "# adj close = adj for the corporate action"
   ]
  },
  {
   "cell_type": "code",
   "execution_count": null,
   "id": "8d316f3e-aeed-4959-8174-b132c1700d3f",
   "metadata": {},
   "outputs": [],
   "source": [
    "filename = \"{}.csv\".format(query_str)\n",
    "#with open(filename, 'w') as csv_file:\n",
    "df.to_csv(filename)"
   ]
  },
  {
   "cell_type": "code",
   "execution_count": null,
   "id": "404a5d61-2d27-42a8-845c-0ce064fbe145",
   "metadata": {},
   "outputs": [],
   "source": [
    "class StrategyTemplate(strategy.BacktestingStrategy):\n",
    "    def __init__(self, feed, instrument, smaPeriod):        # Initialization for the strategy\n",
    "        super(StrategyTemplate, self).__init__(feed, 1000)\n",
    "        self.__position = None\n",
    "        self.__instrument = instrument\n",
    "        self.setUseAdjustedValues(True)\n",
    "        self.__sma = ma.SMA(feed[instrument].getPriceDataSeries(), smaPeriod)\n",
    "\n",
    "    def onEnterOk(self, position):                          # Actions taken if the program enters a position\n",
    "        execInfo = position.getEntryOrder().getExecutionInfo()\n",
    "        self.info(\"BUY at ${}\".format(execInfo.getPrice()))\n",
    "  \n",
    "    def onEnterCanceled(self, position):                    # Actions taken if the program cancels entering the position\n",
    "        self.__position = None\n",
    "  \n",
    "    def onExitOk(self, position):                           # Actions taken if the program exits a position\n",
    "        execInfo = position.getExitOrder().getExecutionInfo()\n",
    "        self.info(\"SELL at ${}\".format(execInfo.getPrice()))\n",
    "        self.__position  = None\n",
    "\n",
    "    def onExitCancelled(self, position):                    # Actions taken if the program cancels exiting a position\n",
    "        self.__position.exitMarket()\n",
    "  \n",
    "    def onBars(self, bars):                                 # Actions taken after reading each row\n",
    "        if self.__sma[-1] is None:\n",
    "            return\n",
    "\n",
    "        bar = bars[self.__instrument]\n",
    "\n",
    "        if self.__position is None:\n",
    "            if bar.getPrice() > self.__sma[-1]:\n",
    "                self.__position = self.enterLong(self.__instrument, 10, True)\n",
    "    \n",
    "        elif bar.getPrice() < self.__sma[-1] and not self.__position.exitActive():\n",
    "            self.__position.exitMarket()"
   ]
  },
  {
   "cell_type": "code",
   "execution_count": null,
   "id": "dde25f9c-326a-49d0-92ab-4010c5ffd3c0",
   "metadata": {},
   "outputs": [],
   "source": [
    "def run_strategy(smaPeriod):\n",
    "    feed = yahoofeed.Feed()\n",
    "    feed.addBarsFromCSV(query_str, filename)\n",
    "\n",
    "    myStrategy = StrategyTemplate(feed, query_str, smaPeriod)\n",
    "    myStrategy.run()\n",
    "    print(\"Final portfolio value: ${}\".format(myStrategy.getBroker().getEquity()))\n",
    "    return myStrategy.getResult()"
   ]
  },
  {
   "cell_type": "code",
   "execution_count": null,
   "id": "189d1abc-3b5d-47a3-a742-6c4fd4dc9280",
   "metadata": {},
   "outputs": [],
   "source": [
    "strategy_results = []\n",
    "labels = []\n",
    "for i in range(10,30):\n",
    "    strategy_results.append(run_strategy(i))\n",
    "    labels.append(i)"
   ]
  },
  {
   "cell_type": "code",
   "execution_count": null,
   "id": "08fcd365-2436-4dc9-9c1e-12ae4e2f16a7",
   "metadata": {},
   "outputs": [],
   "source": [
    "plt.figure(figsize=(20,7))\n",
    "plt.bar(labels, strategy_results)\n",
    "plt.xticks(labels)"
   ]
  }
 ],
 "metadata": {
  "kernelspec": {
   "display_name": "Python 3 (ipykernel)",
   "language": "python",
   "name": "python3"
  },
  "language_info": {
   "codemirror_mode": {
    "name": "ipython",
    "version": 3
   },
   "file_extension": ".py",
   "mimetype": "text/x-python",
   "name": "python",
   "nbconvert_exporter": "python",
   "pygments_lexer": "ipython3",
   "version": "3.9.13"
  }
 },
 "nbformat": 4,
 "nbformat_minor": 5
}
