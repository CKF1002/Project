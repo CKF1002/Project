{
 "cells": [
  {
   "cell_type": "code",
   "execution_count": null,
   "metadata": {},
   "outputs": [],
   "source": [
    "# count time \n",
    "%%timeit # -r 1 -n 1\n",
    "%timeit # single line\n",
    "\n",
    "\n",
    "# def main():\n",
    "    print('Hello World')\n",
    "\n",
    "if __name__ == '__main__':\n",
    "    main()"
   ]
  },
  {
   "cell_type": "code",
   "execution_count": null,
   "metadata": {},
   "outputs": [],
   "source": [
    "# Customer Average Days Late Last 30 days   \n",
    "mean_30d = (\n",
    "    df\n",
    "    .set_index('InvoiceDate') # !important\n",
    "    .sort_index()\n",
    "    .groupby('customerID')\n",
    "    .rolling('30d')['DaysLate'].mean()\n",
    "    .reset_index(name='CustomerDaysLate_30days')\n",
    ")\n",
    "\n",
    "# merge the rolling mean back to original dataframe\n",
    "df = df.merge(mean_30d) \n"
   ]
  },
  {
   "cell_type": "code",
   "execution_count": null,
   "metadata": {},
   "outputs": [],
   "source": [
    "# Schema checking\n",
    "\n"
   ]
  },
  {
   "cell_type": "code",
   "execution_count": null,
   "metadata": {},
   "outputs": [],
   "source": [
    "# fastest \n",
    "\n",
    "df['col'] = np.where(df['col'].values < .5, 0, 1)\n",
    "\n",
    "df.eval(\"A > 30 & B < 30\") # (df['A'] > 30) & (df['B'] < 30)\n",
    "df.eval(\"(A + B) / (C + D)\") # (df['A'] + df['B']) / (df['C'] - df['D'])\n",
    "\n",
    "col_mean = df['A'].mean()\n",
    "df.eval(\"F = A + @col_mean\", inplace=True)\n",
    "\n",
    "df.eval(\"G = A + A.mean()\", inplace=True)\n",
    "\n",
    "new_df = df.query(\"A > 30 and B < 30\")"
   ]
  },
  {
   "cell_type": "code",
   "execution_count": null,
   "metadata": {},
   "outputs": [],
   "source": [
    "# load chunks of dataset so it doesn't used up the RAM\n",
    "\n",
    "df = pd.read_csv(\"abc.csv\", nrows=1000, skiprows=500)"
   ]
  },
  {
   "cell_type": "code",
   "execution_count": null,
   "metadata": {},
   "outputs": [],
   "source": [
    "for chunk in pd.read.csv(\"abc.csv\", chunksize=1000):\n",
    "    #chunk.columns = ['a', 'b']\n",
    "    nRows += len(chunk)\n",
    "\n",
    "df = pd.concat(data, ignore_index=True)"
   ]
  },
  {
   "cell_type": "code",
   "execution_count": null,
   "metadata": {},
   "outputs": [],
   "source": [
    "# generators \n",
    "\n",
    "# debugging\n",
    "# testing\n",
    "# thread\n",
    "# doctest\n",
    "# exception handling"
   ]
  },
  {
   "cell_type": "code",
   "execution_count": null,
   "metadata": {},
   "outputs": [],
   "source": [
    "# assert \n",
    "# % python -0 main.py\n",
    "\n",
    "def assert_(data: dict):\n",
    "    assert data, \"No data found...\""
   ]
  },
  {
   "cell_type": "code",
   "execution_count": null,
   "metadata": {},
   "outputs": [],
   "source": [
    "# exception handling\n",
    "\n",
    "\n",
    "'''Here is the list of default Python exceptions with descriptions:\n",
    "\n",
    "AssertionError: raised when the assert statement fails.\n",
    "EOFError: raised when the input() function meets the end-of-file condition.\n",
    "AttributeError: raised when the attribute assignment or reference fails.\n",
    "TabError: raised when the indentations consist of inconsistent tabs or spaces. \n",
    "ImportError:  importing the module fails. \n",
    "IndexError:  index  is out of range\n",
    "KeyboardInterrupt: user inputs interrupt keys (Ctrl + C or Delete).\n",
    "RuntimeError: an error does not fall into any category. \n",
    "NameError:  variable is not found in the local or global scope. \n",
    "MemoryError: out of memory. \n",
    "ValueError: right type but the wrong value. \n",
    "ZeroDivisionError: \n",
    "SyntaxError: raised by the parser when the Python syntax is wrong. \n",
    "IndentationError: \n",
    "SystemError: raised when the interpreter detects an internal error.\n",
    "'''\n",
    "\n",
    "try:\n",
    "   print(1/0)\n",
    "except ZeroDivisionError:\n",
    "   print(\"You cannot divide a value with zero\")\n",
    "except:\n",
    "   print(\"Something else went wrong\")\n",
    "\n",
    "try:\n",
    "   result = 1/3\n",
    "except ZeroDivisionError as err:\n",
    "   print(err)\n",
    "else:\n",
    "   print(f\"Your answer is {result}\")\n",
    "\n",
    "\n",
    "   def file_editor(path,text):\n",
    "    try:\n",
    "      data = open(path)\n",
    "\n",
    "      try:\n",
    "        data.write(text)\n",
    "\n",
    "      except:\n",
    "        print(\"Unable to write the data. Please add an append: 'a' or write: 'w' parameter to the open() function.\")\n",
    "\n",
    "      finally:\n",
    "        data.close()\n",
    "\n",
    "    except:\n",
    "      print(f\"{path} file is not found!!\")"
   ]
  },
  {
   "cell_type": "code",
   "execution_count": null,
   "metadata": {},
   "outputs": [],
   "source": [
    "# transform\n",
    "\n",
    "sp[['GOOG', 'AMZN', 'APPL']].apply(lambda x: pd.Series([x.min(), x.max()], index=['min', 'max']))\n",
    "\n",
    "sp_l = pd.melt(sp, id_vars='Date', var_name='Symbol', value_name='Price')\n",
    "\n",
    "pd.melt(sp, id_vars='Date', value_vars=[<all the columns you want>], var_name='Symbol', value_name='Price')\n",
    "\n",
    "# pivot_table only takes 3\n",
    "\n",
    "st_agg2 = pd.pivot_table(st, values=['Price', 'Volume'], index='Symbol', aggfunc=['mean', max, np.min]); st_agg2\n",
    "\n",
    "st_agg4 = pd.pivot_table(st, values=['Price', 'Volume'], index='Symbol', \n",
    "                         aggfunc={'Price': [(\"maximum\", max), ('minimum', min)], \n",
    "                                  'Volume': [('difference', lambda x: x.max()-x.min())]})\n",
    "\n",
    "st_grby.agg({'Price':[('difference', lambda x: x.max()-x.min()), ('first', 'first'),  ('last', 'last')],\n",
    "             'Volume': [('total volume', 'sum')]})  "
   ]
  },
  {
   "cell_type": "code",
   "execution_count": null,
   "metadata": {},
   "outputs": [],
   "source": [
    "from multiprocessing import Pool\n",
    "\n",
    "import multiprocessing as mp\n",
    "\n",
    "import random\n",
    "import itertools\n",
    "import time\n",
    "\n",
    "n=50\n",
    "comb = []\n",
    "inputs = []\n",
    "\n",
    "\n",
    "\n",
    "start_time = time.time()\n",
    "\n",
    "\n",
    "\n",
    "end_time = time.time()\n",
    "print(\"--- %s seconds ---\" % (end_time - start_time))\n",
    "\n",
    "\n",
    "for i in range(n):        # Generate n combinations of variable given their constraints\n",
    "    comb = itertools.combinations([np.random.randint(1, 47)], 1)#, np.random.randint(1, 52)], 2)\n",
    "    inputs += comb\n",
    "\n",
    "def strat2_opt(s1):\n",
    "    func = fund(df_PEONY_ALLOCATION_PERCENT, df_PEONY_PRICE, 100000, s1, 0, 0, 0, 0, 0, 0, 0, 0, 0, 0)\n",
    "    return func.strat1_PnL().iloc[0,-1]\n",
    "                        \n",
    "if __name__ == '__main__':\n",
    "    pool = Pool(24)\n",
    "    pool_outputs = pool.starmap(strat2_opt, inputs)\n",
    "    output = pd.DataFrame(inputs, pool_outputs)\n",
    "    \n",
    "\n",
    "output.index.max()"
   ]
  }
 ],
 "metadata": {
  "kernelspec": {
   "display_name": "base",
   "language": "python",
   "name": "python3"
  },
  "language_info": {
   "codemirror_mode": {
    "name": "ipython",
    "version": 3
   },
   "file_extension": ".py",
   "mimetype": "text/x-python",
   "name": "python",
   "nbconvert_exporter": "python",
   "pygments_lexer": "ipython3",
   "version": "3.9.13"
  },
  "orig_nbformat": 4
 },
 "nbformat": 4,
 "nbformat_minor": 2
}
